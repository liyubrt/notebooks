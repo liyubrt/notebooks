{
 "cells": [
  {
   "cell_type": "code",
   "execution_count": 1,
   "metadata": {},
   "outputs": [
    {
     "name": "stderr",
     "output_type": "stream",
     "text": [
      "Internal AWS credentials will be removed from future brt-devkit versions.\n"
     ]
    }
   ],
   "source": [
    "import os\n",
    "from brtdevkit.util.aws import s3"
   ]
  },
  {
   "cell_type": "code",
   "execution_count": 2,
   "metadata": {},
   "outputs": [],
   "source": [
    "s3_client = s3.S3()\n",
    "BRT_DEVKIT_WRITE_S3_BUCKET = 'mesa-states'\n",
    "MODEL_TRAINING_S3_KEY_PREFIX = f\"{os.environ.get('BRT_ENV', 'prod')}/jupiter/model_training\"\n",
    "PACK_PERCEPTION_S3_KEY_PREFIX = f\"{os.environ.get('BRT_ENV', 'prod')}/jupiter/pack_perception\"\n",
    "bucket_name=BRT_DEVKIT_WRITE_S3_BUCKET"
   ]
  },
  {
   "cell_type": "code",
   "execution_count": null,
   "metadata": {},
   "outputs": [],
   "source": [
    "# upload file\n",
    "# key = f\"{MODEL_TRAINING_S3_KEY_PREFIX}/Jupiter_train_v4_53_missing_human_relabeled.tar\"\n",
    "key = f\"{PACK_PERCEPTION_S3_KEY_PREFIX}/Jupiter_train_v4_53_heavy_dust_relabeled.tar\"\n",
    "file_path = \"/home/bluerivertech/li.yu/data/Jupiter_train_v4_53_heavy_dust_relabeled/Jupiter_train_v4_53_heavy_dust_relabeled.tar\"\n",
    "s3_client.upload_file(\n",
    "    bucket_name=bucket_name, key=key, file_path=file_path)\n",
    "# Jupiter_2022_fn_bag1.tar\n",
    "# Jupiter_2022Jan15Feb15_rock_stops.tar\n",
    "# Jupiter_train_v4_53_missing_human_relabeled.tar\n",
    "# Jupiter_train_v4_53_heavy_dust_relabeled.tar"
   ]
  },
  {
   "cell_type": "code",
   "execution_count": 4,
   "metadata": {},
   "outputs": [
    {
     "data": {
      "text/plain": "True"
     },
     "execution_count": 4,
     "metadata": {},
     "output_type": "execute_result"
    }
   ],
   "source": [
    "# download file\n",
    "# run_id = '45_3_6class_ml_pp_seg_lite_cloud_v10_rotate_fix'\n",
    "# name = 'driveable_terrain_model_val_bestmodel.pth'\n",
    "# key = f\"{MODEL_TRAINING_S3_KEY_PREFIX}/{run_id}/{name}\"\n",
    "\n",
    "key = f\"{PACK_PERCEPTION_S3_KEY_PREFIX}/Jupiter_train_v4_53_heavy_dust_relabeled.tar\"\n",
    "\n",
    "target_path = '/data/jupiter/li.yu/data/Jupiter_train_v4_53/Jupiter_train_v4_53_heavy_dust_relabeled/Jupiter_train_v4_53_heavy_dust_relabeled.tar'\n",
    "s3_client.download_file(bucket_name, key, target_path)"
   ]
  },
  {
   "cell_type": "code",
   "execution_count": 2,
   "metadata": {},
   "outputs": [],
   "source": [
    "import torch"
   ]
  },
  {
   "cell_type": "code",
   "execution_count": 3,
   "metadata": {},
   "outputs": [
    {
     "data": {
      "text/plain": "dict"
     },
     "execution_count": 3,
     "metadata": {},
     "output_type": "execute_result"
    }
   ],
   "source": [
    "pth = '/data/jupiter/li.yu/exps/driveable_terrain_model/openimages_v7_nextvit_base_512x640_ft_0211/checkpoint.pth'\n",
    "checkpoint = torch.load(pth, map_location=lambda storage, loc: storage)\n",
    "type(checkpoint)"
   ]
  },
  {
   "cell_type": "code",
   "execution_count": 6,
   "metadata": {},
   "outputs": [
    {
     "data": {
      "text/plain": "odict_keys(['stem.0.conv.weight', 'stem.0.norm.weight', 'stem.0.norm.bias', 'stem.0.norm.running_mean', 'stem.0.norm.running_var', 'stem.0.norm.num_batches_tracked', 'stem.1.conv.weight', 'stem.1.norm.weight', 'stem.1.norm.bias', 'stem.1.norm.running_mean', 'stem.1.norm.running_var', 'stem.1.norm.num_batches_tracked', 'stem.2.conv.weight', 'stem.2.norm.weight', 'stem.2.norm.bias', 'stem.2.norm.running_mean', 'stem.2.norm.running_var', 'stem.2.norm.num_batches_tracked', 'stem.3.conv.weight', 'stem.3.norm.weight', 'stem.3.norm.bias', 'stem.3.norm.running_mean', 'stem.3.norm.running_var', 'stem.3.norm.num_batches_tracked', 'features.0.patch_embed.conv.weight', 'features.0.patch_embed.norm.weight', 'features.0.patch_embed.norm.bias', 'features.0.patch_embed.norm.running_mean', 'features.0.patch_embed.norm.running_var', 'features.0.patch_embed.norm.num_batches_tracked', 'features.0.mhca.group_conv3x3.weight', 'features.0.mhca.norm.weight', 'features.0.mhca.norm.bias', 'features.0.mhca.norm.running_mean', 'features.0.mhca.norm.running_var', 'features.0.mhca.norm.num_batches_tracked', 'features.0.mhca.projection.weight', 'features.0.norm.weight', 'features.0.norm.bias', 'features.0.norm.running_mean', 'features.0.norm.running_var', 'features.0.norm.num_batches_tracked', 'features.0.mlp.conv1.weight', 'features.0.mlp.conv1.bias', 'features.0.mlp.conv2.weight', 'features.0.mlp.conv2.bias', 'features.1.mhca.group_conv3x3.weight', 'features.1.mhca.norm.weight', 'features.1.mhca.norm.bias', 'features.1.mhca.norm.running_mean', 'features.1.mhca.norm.running_var', 'features.1.mhca.norm.num_batches_tracked', 'features.1.mhca.projection.weight', 'features.1.norm.weight', 'features.1.norm.bias', 'features.1.norm.running_mean', 'features.1.norm.running_var', 'features.1.norm.num_batches_tracked', 'features.1.mlp.conv1.weight', 'features.1.mlp.conv1.bias', 'features.1.mlp.conv2.weight', 'features.1.mlp.conv2.bias', 'features.2.mhca.group_conv3x3.weight', 'features.2.mhca.norm.weight', 'features.2.mhca.norm.bias', 'features.2.mhca.norm.running_mean', 'features.2.mhca.norm.running_var', 'features.2.mhca.norm.num_batches_tracked', 'features.2.mhca.projection.weight', 'features.2.norm.weight', 'features.2.norm.bias', 'features.2.norm.running_mean', 'features.2.norm.running_var', 'features.2.norm.num_batches_tracked', 'features.2.mlp.conv1.weight', 'features.2.mlp.conv1.bias', 'features.2.mlp.conv2.weight', 'features.2.mlp.conv2.bias', 'features.3.patch_embed.conv.weight', 'features.3.patch_embed.norm.weight', 'features.3.patch_embed.norm.bias', 'features.3.patch_embed.norm.running_mean', 'features.3.patch_embed.norm.running_var', 'features.3.patch_embed.norm.num_batches_tracked', 'features.3.mhca.group_conv3x3.weight', 'features.3.mhca.norm.weight', 'features.3.mhca.norm.bias', 'features.3.mhca.norm.running_mean', 'features.3.mhca.norm.running_var', 'features.3.mhca.norm.num_batches_tracked', 'features.3.mhca.projection.weight', 'features.3.norm.weight', 'features.3.norm.bias', 'features.3.norm.running_mean', 'features.3.norm.running_var', 'features.3.norm.num_batches_tracked', 'features.3.mlp.conv1.weight', 'features.3.mlp.conv1.bias', 'features.3.mlp.conv2.weight', 'features.3.mlp.conv2.bias', 'features.4.mhca.group_conv3x3.weight', 'features.4.mhca.norm.weight', 'features.4.mhca.norm.bias', 'features.4.mhca.norm.running_mean', 'features.4.mhca.norm.running_var', 'features.4.mhca.norm.num_batches_tracked', 'features.4.mhca.projection.weight', 'features.4.norm.weight', 'features.4.norm.bias', 'features.4.norm.running_mean', 'features.4.norm.running_var', 'features.4.norm.num_batches_tracked', 'features.4.mlp.conv1.weight', 'features.4.mlp.conv1.bias', 'features.4.mlp.conv2.weight', 'features.4.mlp.conv2.bias', 'features.5.mhca.group_conv3x3.weight', 'features.5.mhca.norm.weight', 'features.5.mhca.norm.bias', 'features.5.mhca.norm.running_mean', 'features.5.mhca.norm.running_var', 'features.5.mhca.norm.num_batches_tracked', 'features.5.mhca.projection.weight', 'features.5.norm.weight', 'features.5.norm.bias', 'features.5.norm.running_mean', 'features.5.norm.running_var', 'features.5.norm.num_batches_tracked', 'features.5.mlp.conv1.weight', 'features.5.mlp.conv1.bias', 'features.5.mlp.conv2.weight', 'features.5.mlp.conv2.bias', 'features.6.norm1.weight', 'features.6.norm1.bias', 'features.6.norm1.running_mean', 'features.6.norm1.running_var', 'features.6.norm1.num_batches_tracked', 'features.6.e_mhsa.q.weight', 'features.6.e_mhsa.q.bias', 'features.6.e_mhsa.k.weight', 'features.6.e_mhsa.k.bias', 'features.6.e_mhsa.v.weight', 'features.6.e_mhsa.v.bias', 'features.6.e_mhsa.proj.weight', 'features.6.e_mhsa.proj.bias', 'features.6.e_mhsa.norm.weight', 'features.6.e_mhsa.norm.bias', 'features.6.e_mhsa.norm.running_mean', 'features.6.e_mhsa.norm.running_var', 'features.6.e_mhsa.norm.num_batches_tracked', 'features.6.projection.conv.weight', 'features.6.projection.norm.weight', 'features.6.projection.norm.bias', 'features.6.projection.norm.running_mean', 'features.6.projection.norm.running_var', 'features.6.projection.norm.num_batches_tracked', 'features.6.mhca.group_conv3x3.weight', 'features.6.mhca.norm.weight', 'features.6.mhca.norm.bias', 'features.6.mhca.norm.running_mean', 'features.6.mhca.norm.running_var', 'features.6.mhca.norm.num_batches_tracked', 'features.6.mhca.projection.weight', 'features.6.norm2.weight', 'features.6.norm2.bias', 'features.6.norm2.running_mean', 'features.6.norm2.running_var', 'features.6.norm2.num_batches_tracked', 'features.6.mlp.conv1.weight', 'features.6.mlp.conv1.bias', 'features.6.mlp.conv2.weight', 'features.6.mlp.conv2.bias', 'features.7.patch_embed.conv.weight', 'features.7.patch_embed.norm.weight', 'features.7.patch_embed.norm.bias', 'features.7.patch_embed.norm.running_mean', 'features.7.patch_embed.norm.running_var', 'features.7.patch_embed.norm.num_batches_tracked', 'features.7.mhca.group_conv3x3.weight', 'features.7.mhca.norm.weight', 'features.7.mhca.norm.bias', 'features.7.mhca.norm.running_mean', 'features.7.mhca.norm.running_var', 'features.7.mhca.norm.num_batches_tracked', 'features.7.mhca.projection.weight', 'features.7.norm.weight', 'features.7.norm.bias', 'features.7.norm.running_mean', 'features.7.norm.running_var', 'features.7.norm.num_batches_tracked', 'features.7.mlp.conv1.weight', 'features.7.mlp.conv1.bias', 'features.7.mlp.conv2.weight', 'features.7.mlp.conv2.bias', 'features.8.mhca.group_conv3x3.weight', 'features.8.mhca.norm.weight', 'features.8.mhca.norm.bias', 'features.8.mhca.norm.running_mean', 'features.8.mhca.norm.running_var', 'features.8.mhca.norm.num_batches_tracked', 'features.8.mhca.projection.weight', 'features.8.norm.weight', 'features.8.norm.bias', 'features.8.norm.running_mean', 'features.8.norm.running_var', 'features.8.norm.num_batches_tracked', 'features.8.mlp.conv1.weight', 'features.8.mlp.conv1.bias', 'features.8.mlp.conv2.weight', 'features.8.mlp.conv2.bias', 'features.9.mhca.group_conv3x3.weight', 'features.9.mhca.norm.weight', 'features.9.mhca.norm.bias', 'features.9.mhca.norm.running_mean', 'features.9.mhca.norm.running_var', 'features.9.mhca.norm.num_batches_tracked', 'features.9.mhca.projection.weight', 'features.9.norm.weight', 'features.9.norm.bias', 'features.9.norm.running_mean', 'features.9.norm.running_var', 'features.9.norm.num_batches_tracked', 'features.9.mlp.conv1.weight', 'features.9.mlp.conv1.bias', 'features.9.mlp.conv2.weight', 'features.9.mlp.conv2.bias', 'features.10.mhca.group_conv3x3.weight', 'features.10.mhca.norm.weight', 'features.10.mhca.norm.bias', 'features.10.mhca.norm.running_mean', 'features.10.mhca.norm.running_var', 'features.10.mhca.norm.num_batches_tracked', 'features.10.mhca.projection.weight', 'features.10.norm.weight', 'features.10.norm.bias', 'features.10.norm.running_mean', 'features.10.norm.running_var', 'features.10.norm.num_batches_tracked', 'features.10.mlp.conv1.weight', 'features.10.mlp.conv1.bias', 'features.10.mlp.conv2.weight', 'features.10.mlp.conv2.bias', 'features.11.norm1.weight', 'features.11.norm1.bias', 'features.11.norm1.running_mean', 'features.11.norm1.running_var', 'features.11.norm1.num_batches_tracked', 'features.11.e_mhsa.q.weight', 'features.11.e_mhsa.q.bias', 'features.11.e_mhsa.k.weight', 'features.11.e_mhsa.k.bias', 'features.11.e_mhsa.v.weight', 'features.11.e_mhsa.v.bias', 'features.11.e_mhsa.proj.weight', 'features.11.e_mhsa.proj.bias', 'features.11.e_mhsa.norm.weight', 'features.11.e_mhsa.norm.bias', 'features.11.e_mhsa.norm.running_mean', 'features.11.e_mhsa.norm.running_var', 'features.11.e_mhsa.norm.num_batches_tracked', 'features.11.projection.conv.weight', 'features.11.projection.norm.weight', 'features.11.projection.norm.bias', 'features.11.projection.norm.running_mean', 'features.11.projection.norm.running_var', 'features.11.projection.norm.num_batches_tracked', 'features.11.mhca.group_conv3x3.weight', 'features.11.mhca.norm.weight', 'features.11.mhca.norm.bias', 'features.11.mhca.norm.running_mean', 'features.11.mhca.norm.running_var', 'features.11.mhca.norm.num_batches_tracked', 'features.11.mhca.projection.weight', 'features.11.norm2.weight', 'features.11.norm2.bias', 'features.11.norm2.running_mean', 'features.11.norm2.running_var', 'features.11.norm2.num_batches_tracked', 'features.11.mlp.conv1.weight', 'features.11.mlp.conv1.bias', 'features.11.mlp.conv2.weight', 'features.11.mlp.conv2.bias', 'features.12.patch_embed.conv.weight', 'features.12.patch_embed.norm.weight', 'features.12.patch_embed.norm.bias', 'features.12.patch_embed.norm.running_mean', 'features.12.patch_embed.norm.running_var', 'features.12.patch_embed.norm.num_batches_tracked', 'features.12.mhca.group_conv3x3.weight', 'features.12.mhca.norm.weight', 'features.12.mhca.norm.bias', 'features.12.mhca.norm.running_mean', 'features.12.mhca.norm.running_var', 'features.12.mhca.norm.num_batches_tracked', 'features.12.mhca.projection.weight', 'features.12.norm.weight', 'features.12.norm.bias', 'features.12.norm.running_mean', 'features.12.norm.running_var', 'features.12.norm.num_batches_tracked', 'features.12.mlp.conv1.weight', 'features.12.mlp.conv1.bias', 'features.12.mlp.conv2.weight', 'features.12.mlp.conv2.bias', 'features.13.mhca.group_conv3x3.weight', 'features.13.mhca.norm.weight', 'features.13.mhca.norm.bias', 'features.13.mhca.norm.running_mean', 'features.13.mhca.norm.running_var', 'features.13.mhca.norm.num_batches_tracked', 'features.13.mhca.projection.weight', 'features.13.norm.weight', 'features.13.norm.bias', 'features.13.norm.running_mean', 'features.13.norm.running_var', 'features.13.norm.num_batches_tracked', 'features.13.mlp.conv1.weight', 'features.13.mlp.conv1.bias', 'features.13.mlp.conv2.weight', 'features.13.mlp.conv2.bias', 'features.14.mhca.group_conv3x3.weight', 'features.14.mhca.norm.weight', 'features.14.mhca.norm.bias', 'features.14.mhca.norm.running_mean', 'features.14.mhca.norm.running_var', 'features.14.mhca.norm.num_batches_tracked', 'features.14.mhca.projection.weight', 'features.14.norm.weight', 'features.14.norm.bias', 'features.14.norm.running_mean', 'features.14.norm.running_var', 'features.14.norm.num_batches_tracked', 'features.14.mlp.conv1.weight', 'features.14.mlp.conv1.bias', 'features.14.mlp.conv2.weight', 'features.14.mlp.conv2.bias', 'features.15.mhca.group_conv3x3.weight', 'features.15.mhca.norm.weight', 'features.15.mhca.norm.bias', 'features.15.mhca.norm.running_mean', 'features.15.mhca.norm.running_var', 'features.15.mhca.norm.num_batches_tracked', 'features.15.mhca.projection.weight', 'features.15.norm.weight', 'features.15.norm.bias', 'features.15.norm.running_mean', 'features.15.norm.running_var', 'features.15.norm.num_batches_tracked', 'features.15.mlp.conv1.weight', 'features.15.mlp.conv1.bias', 'features.15.mlp.conv2.weight', 'features.15.mlp.conv2.bias', 'features.16.norm1.weight', 'features.16.norm1.bias', 'features.16.norm1.running_mean', 'features.16.norm1.running_var', 'features.16.norm1.num_batches_tracked', 'features.16.e_mhsa.q.weight', 'features.16.e_mhsa.q.bias', 'features.16.e_mhsa.k.weight', 'features.16.e_mhsa.k.bias', 'features.16.e_mhsa.v.weight', 'features.16.e_mhsa.v.bias', 'features.16.e_mhsa.proj.weight', 'features.16.e_mhsa.proj.bias', 'features.16.e_mhsa.norm.weight', 'features.16.e_mhsa.norm.bias', 'features.16.e_mhsa.norm.running_mean', 'features.16.e_mhsa.norm.running_var', 'features.16.e_mhsa.norm.num_batches_tracked', 'features.16.projection.conv.weight', 'features.16.projection.norm.weight', 'features.16.projection.norm.bias', 'features.16.projection.norm.running_mean', 'features.16.projection.norm.running_var', 'features.16.projection.norm.num_batches_tracked', 'features.16.mhca.group_conv3x3.weight', 'features.16.mhca.norm.weight', 'features.16.mhca.norm.bias', 'features.16.mhca.norm.running_mean', 'features.16.mhca.norm.running_var', 'features.16.mhca.norm.num_batches_tracked', 'features.16.mhca.projection.weight', 'features.16.norm2.weight', 'features.16.norm2.bias', 'features.16.norm2.running_mean', 'features.16.norm2.running_var', 'features.16.norm2.num_batches_tracked', 'features.16.mlp.conv1.weight', 'features.16.mlp.conv1.bias', 'features.16.mlp.conv2.weight', 'features.16.mlp.conv2.bias', 'features.17.patch_embed.conv.weight', 'features.17.patch_embed.norm.weight', 'features.17.patch_embed.norm.bias', 'features.17.patch_embed.norm.running_mean', 'features.17.patch_embed.norm.running_var', 'features.17.patch_embed.norm.num_batches_tracked', 'features.17.mhca.group_conv3x3.weight', 'features.17.mhca.norm.weight', 'features.17.mhca.norm.bias', 'features.17.mhca.norm.running_mean', 'features.17.mhca.norm.running_var', 'features.17.mhca.norm.num_batches_tracked', 'features.17.mhca.projection.weight', 'features.17.norm.weight', 'features.17.norm.bias', 'features.17.norm.running_mean', 'features.17.norm.running_var', 'features.17.norm.num_batches_tracked', 'features.17.mlp.conv1.weight', 'features.17.mlp.conv1.bias', 'features.17.mlp.conv2.weight', 'features.17.mlp.conv2.bias', 'features.18.mhca.group_conv3x3.weight', 'features.18.mhca.norm.weight', 'features.18.mhca.norm.bias', 'features.18.mhca.norm.running_mean', 'features.18.mhca.norm.running_var', 'features.18.mhca.norm.num_batches_tracked', 'features.18.mhca.projection.weight', 'features.18.norm.weight', 'features.18.norm.bias', 'features.18.norm.running_mean', 'features.18.norm.running_var', 'features.18.norm.num_batches_tracked', 'features.18.mlp.conv1.weight', 'features.18.mlp.conv1.bias', 'features.18.mlp.conv2.weight', 'features.18.mlp.conv2.bias', 'features.19.mhca.group_conv3x3.weight', 'features.19.mhca.norm.weight', 'features.19.mhca.norm.bias', 'features.19.mhca.norm.running_mean', 'features.19.mhca.norm.running_var', 'features.19.mhca.norm.num_batches_tracked', 'features.19.mhca.projection.weight', 'features.19.norm.weight', 'features.19.norm.bias', 'features.19.norm.running_mean', 'features.19.norm.running_var', 'features.19.norm.num_batches_tracked', 'features.19.mlp.conv1.weight', 'features.19.mlp.conv1.bias', 'features.19.mlp.conv2.weight', 'features.19.mlp.conv2.bias', 'features.20.mhca.group_conv3x3.weight', 'features.20.mhca.norm.weight', 'features.20.mhca.norm.bias', 'features.20.mhca.norm.running_mean', 'features.20.mhca.norm.running_var', 'features.20.mhca.norm.num_batches_tracked', 'features.20.mhca.projection.weight', 'features.20.norm.weight', 'features.20.norm.bias', 'features.20.norm.running_mean', 'features.20.norm.running_var', 'features.20.norm.num_batches_tracked', 'features.20.mlp.conv1.weight', 'features.20.mlp.conv1.bias', 'features.20.mlp.conv2.weight', 'features.20.mlp.conv2.bias', 'features.21.norm1.weight', 'features.21.norm1.bias', 'features.21.norm1.running_mean', 'features.21.norm1.running_var', 'features.21.norm1.num_batches_tracked', 'features.21.e_mhsa.q.weight', 'features.21.e_mhsa.q.bias', 'features.21.e_mhsa.k.weight', 'features.21.e_mhsa.k.bias', 'features.21.e_mhsa.v.weight', 'features.21.e_mhsa.v.bias', 'features.21.e_mhsa.proj.weight', 'features.21.e_mhsa.proj.bias', 'features.21.e_mhsa.norm.weight', 'features.21.e_mhsa.norm.bias', 'features.21.e_mhsa.norm.running_mean', 'features.21.e_mhsa.norm.running_var', 'features.21.e_mhsa.norm.num_batches_tracked', 'features.21.projection.conv.weight', 'features.21.projection.norm.weight', 'features.21.projection.norm.bias', 'features.21.projection.norm.running_mean', 'features.21.projection.norm.running_var', 'features.21.projection.norm.num_batches_tracked', 'features.21.mhca.group_conv3x3.weight', 'features.21.mhca.norm.weight', 'features.21.mhca.norm.bias', 'features.21.mhca.norm.running_mean', 'features.21.mhca.norm.running_var', 'features.21.mhca.norm.num_batches_tracked', 'features.21.mhca.projection.weight', 'features.21.norm2.weight', 'features.21.norm2.bias', 'features.21.norm2.running_mean', 'features.21.norm2.running_var', 'features.21.norm2.num_batches_tracked', 'features.21.mlp.conv1.weight', 'features.21.mlp.conv1.bias', 'features.21.mlp.conv2.weight', 'features.21.mlp.conv2.bias', 'features.22.patch_embed.conv.weight', 'features.22.patch_embed.norm.weight', 'features.22.patch_embed.norm.bias', 'features.22.patch_embed.norm.running_mean', 'features.22.patch_embed.norm.running_var', 'features.22.patch_embed.norm.num_batches_tracked', 'features.22.mhca.group_conv3x3.weight', 'features.22.mhca.norm.weight', 'features.22.mhca.norm.bias', 'features.22.mhca.norm.running_mean', 'features.22.mhca.norm.running_var', 'features.22.mhca.norm.num_batches_tracked', 'features.22.mhca.projection.weight', 'features.22.norm.weight', 'features.22.norm.bias', 'features.22.norm.running_mean', 'features.22.norm.running_var', 'features.22.norm.num_batches_tracked', 'features.22.mlp.conv1.weight', 'features.22.mlp.conv1.bias', 'features.22.mlp.conv2.weight', 'features.22.mlp.conv2.bias', 'features.23.mhca.group_conv3x3.weight', 'features.23.mhca.norm.weight', 'features.23.mhca.norm.bias', 'features.23.mhca.norm.running_mean', 'features.23.mhca.norm.running_var', 'features.23.mhca.norm.num_batches_tracked', 'features.23.mhca.projection.weight', 'features.23.norm.weight', 'features.23.norm.bias', 'features.23.norm.running_mean', 'features.23.norm.running_var', 'features.23.norm.num_batches_tracked', 'features.23.mlp.conv1.weight', 'features.23.mlp.conv1.bias', 'features.23.mlp.conv2.weight', 'features.23.mlp.conv2.bias', 'features.24.mhca.group_conv3x3.weight', 'features.24.mhca.norm.weight', 'features.24.mhca.norm.bias', 'features.24.mhca.norm.running_mean', 'features.24.mhca.norm.running_var', 'features.24.mhca.norm.num_batches_tracked', 'features.24.mhca.projection.weight', 'features.24.norm.weight', 'features.24.norm.bias', 'features.24.norm.running_mean', 'features.24.norm.running_var', 'features.24.norm.num_batches_tracked', 'features.24.mlp.conv1.weight', 'features.24.mlp.conv1.bias', 'features.24.mlp.conv2.weight', 'features.24.mlp.conv2.bias', 'features.25.mhca.group_conv3x3.weight', 'features.25.mhca.norm.weight', 'features.25.mhca.norm.bias', 'features.25.mhca.norm.running_mean', 'features.25.mhca.norm.running_var', 'features.25.mhca.norm.num_batches_tracked', 'features.25.mhca.projection.weight', 'features.25.norm.weight', 'features.25.norm.bias', 'features.25.norm.running_mean', 'features.25.norm.running_var', 'features.25.norm.num_batches_tracked', 'features.25.mlp.conv1.weight', 'features.25.mlp.conv1.bias', 'features.25.mlp.conv2.weight', 'features.25.mlp.conv2.bias', 'features.26.norm1.weight', 'features.26.norm1.bias', 'features.26.norm1.running_mean', 'features.26.norm1.running_var', 'features.26.norm1.num_batches_tracked', 'features.26.e_mhsa.q.weight', 'features.26.e_mhsa.q.bias', 'features.26.e_mhsa.k.weight', 'features.26.e_mhsa.k.bias', 'features.26.e_mhsa.v.weight', 'features.26.e_mhsa.v.bias', 'features.26.e_mhsa.proj.weight', 'features.26.e_mhsa.proj.bias', 'features.26.e_mhsa.norm.weight', 'features.26.e_mhsa.norm.bias', 'features.26.e_mhsa.norm.running_mean', 'features.26.e_mhsa.norm.running_var', 'features.26.e_mhsa.norm.num_batches_tracked', 'features.26.projection.conv.weight', 'features.26.projection.norm.weight', 'features.26.projection.norm.bias', 'features.26.projection.norm.running_mean', 'features.26.projection.norm.running_var', 'features.26.projection.norm.num_batches_tracked', 'features.26.mhca.group_conv3x3.weight', 'features.26.mhca.norm.weight', 'features.26.mhca.norm.bias', 'features.26.mhca.norm.running_mean', 'features.26.mhca.norm.running_var', 'features.26.mhca.norm.num_batches_tracked', 'features.26.mhca.projection.weight', 'features.26.norm2.weight', 'features.26.norm2.bias', 'features.26.norm2.running_mean', 'features.26.norm2.running_var', 'features.26.norm2.num_batches_tracked', 'features.26.mlp.conv1.weight', 'features.26.mlp.conv1.bias', 'features.26.mlp.conv2.weight', 'features.26.mlp.conv2.bias', 'features.27.patch_embed.conv.weight', 'features.27.patch_embed.norm.weight', 'features.27.patch_embed.norm.bias', 'features.27.patch_embed.norm.running_mean', 'features.27.patch_embed.norm.running_var', 'features.27.patch_embed.norm.num_batches_tracked', 'features.27.mhca.group_conv3x3.weight', 'features.27.mhca.norm.weight', 'features.27.mhca.norm.bias', 'features.27.mhca.norm.running_mean', 'features.27.mhca.norm.running_var', 'features.27.mhca.norm.num_batches_tracked', 'features.27.mhca.projection.weight', 'features.27.norm.weight', 'features.27.norm.bias', 'features.27.norm.running_mean', 'features.27.norm.running_var', 'features.27.norm.num_batches_tracked', 'features.27.mlp.conv1.weight', 'features.27.mlp.conv1.bias', 'features.27.mlp.conv2.weight', 'features.27.mlp.conv2.bias', 'features.28.mhca.group_conv3x3.weight', 'features.28.mhca.norm.weight', 'features.28.mhca.norm.bias', 'features.28.mhca.norm.running_mean', 'features.28.mhca.norm.running_var', 'features.28.mhca.norm.num_batches_tracked', 'features.28.mhca.projection.weight', 'features.28.norm.weight', 'features.28.norm.bias', 'features.28.norm.running_mean', 'features.28.norm.running_var', 'features.28.norm.num_batches_tracked', 'features.28.mlp.conv1.weight', 'features.28.mlp.conv1.bias', 'features.28.mlp.conv2.weight', 'features.28.mlp.conv2.bias', 'features.29.norm1.weight', 'features.29.norm1.bias', 'features.29.norm1.running_mean', 'features.29.norm1.running_var', 'features.29.norm1.num_batches_tracked', 'features.29.e_mhsa.q.weight', 'features.29.e_mhsa.q.bias', 'features.29.e_mhsa.k.weight', 'features.29.e_mhsa.k.bias', 'features.29.e_mhsa.v.weight', 'features.29.e_mhsa.v.bias', 'features.29.e_mhsa.proj.weight', 'features.29.e_mhsa.proj.bias', 'features.29.projection.conv.weight', 'features.29.projection.norm.weight', 'features.29.projection.norm.bias', 'features.29.projection.norm.running_mean', 'features.29.projection.norm.running_var', 'features.29.projection.norm.num_batches_tracked', 'features.29.mhca.group_conv3x3.weight', 'features.29.mhca.norm.weight', 'features.29.mhca.norm.bias', 'features.29.mhca.norm.running_mean', 'features.29.mhca.norm.running_var', 'features.29.mhca.norm.num_batches_tracked', 'features.29.mhca.projection.weight', 'features.29.norm2.weight', 'features.29.norm2.bias', 'features.29.norm2.running_mean', 'features.29.norm2.running_var', 'features.29.norm2.num_batches_tracked', 'features.29.mlp.conv1.weight', 'features.29.mlp.conv1.bias', 'features.29.mlp.conv2.weight', 'features.29.mlp.conv2.bias', 'norm.weight', 'norm.bias', 'norm.running_mean', 'norm.running_var', 'norm.num_batches_tracked', 'proj_head.0.weight', 'proj_head.0.bias'])"
     },
     "execution_count": 6,
     "metadata": {},
     "output_type": "execute_result"
    }
   ],
   "source": [
    "keys = checkpoint['model'].keys()\n",
    "keys"
   ]
  }
 ],
 "metadata": {
  "kernelspec": {
   "display_name": "Python 3.8.18 64-bit ('pytorchlightning': conda)",
   "name": "python388jvsc74a57bd01eceddbeeb55f686303d64ef8e05e300429be7c506c9f9cad24a6dfe5f27b555"
  },
  "language_info": {
   "codemirror_mode": {
    "name": "ipython",
    "version": 3
   },
   "file_extension": ".py",
   "mimetype": "text/x-python",
   "name": "python",
   "nbconvert_exporter": "python",
   "pygments_lexer": "ipython3",
   "version": "3.8.8"
  },
  "metadata": {
   "interpreter": {
    "hash": "1eceddbeeb55f686303d64ef8e05e300429be7c506c9f9cad24a6dfe5f27b555"
   }
  },
  "orig_nbformat": 2
 },
 "nbformat": 4,
 "nbformat_minor": 2
}
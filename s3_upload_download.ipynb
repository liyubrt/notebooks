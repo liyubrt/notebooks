{
 "cells": [
  {
   "cell_type": "markdown",
   "metadata": {},
   "source": [
    "## S3 upload and download"
   ]
  },
  {
   "cell_type": "code",
   "execution_count": 1,
   "metadata": {},
   "outputs": [
    {
     "name": "stderr",
     "output_type": "stream",
     "text": [
      "Internal AWS credentials will be removed from future brt-devkit versions.\n"
     ]
    }
   ],
   "source": [
    "import os\n",
    "from brtdevkit.util.aws import s3"
   ]
  },
  {
   "cell_type": "code",
   "execution_count": 2,
   "metadata": {},
   "outputs": [],
   "source": [
    "s3_client = s3.S3()\n",
    "BRT_DEVKIT_WRITE_S3_BUCKET = 'mesa-states'\n",
    "MODEL_TRAINING_S3_KEY_PREFIX = f\"{os.environ.get('BRT_ENV', 'prod')}/jupiter/model_training\"\n",
    "PACK_PERCEPTION_S3_KEY_PREFIX = f\"{os.environ.get('BRT_ENV', 'prod')}/jupiter/pack_perception\"\n",
    "bucket_name=BRT_DEVKIT_WRITE_S3_BUCKET"
   ]
  },
  {
   "cell_type": "code",
   "execution_count": null,
   "metadata": {},
   "outputs": [],
   "source": [
    "# upload file\n",
    "# key = f\"{MODEL_TRAINING_S3_KEY_PREFIX}/Jupiter_train_v4_53_missing_human_relabeled.tar\"\n",
    "key = f\"{PACK_PERCEPTION_S3_KEY_PREFIX}/Jupiter_train_v4_53_heavy_dust_relabeled.tar\"\n",
    "file_path = \"/home/bluerivertech/li.yu/data/Jupiter_train_v4_53_heavy_dust_relabeled/Jupiter_train_v4_53_heavy_dust_relabeled.tar\"\n",
    "s3_client.upload_file(\n",
    "    bucket_name=bucket_name, key=key, file_path=file_path)\n",
    "# Jupiter_2022_fn_bag1.tar\n",
    "# Jupiter_2022Jan15Feb15_rock_stops.tar\n",
    "# Jupiter_train_v4_53_missing_human_relabeled.tar\n",
    "# Jupiter_train_v4_53_heavy_dust_relabeled.tar"
   ]
  },
  {
   "cell_type": "code",
   "execution_count": 4,
   "metadata": {},
   "outputs": [
    {
     "data": {
      "text/plain": "True"
     },
     "execution_count": 4,
     "metadata": {},
     "output_type": "execute_result"
    }
   ],
   "source": [
    "# download file\n",
    "# run_id = '45_3_6class_ml_pp_seg_lite_cloud_v10_rotate_fix'\n",
    "# name = 'driveable_terrain_model_val_bestmodel.pth'\n",
    "# key = f\"{MODEL_TRAINING_S3_KEY_PREFIX}/{run_id}/{name}\"\n",
    "\n",
    "key = f\"{PACK_PERCEPTION_S3_KEY_PREFIX}/Jupiter_train_v4_53_heavy_dust_relabeled.tar\"\n",
    "\n",
    "target_path = '/data/jupiter/li.yu/data/Jupiter_train_v4_53/Jupiter_train_v4_53_heavy_dust_relabeled/Jupiter_train_v4_53_heavy_dust_relabeled.tar'\n",
    "s3_client.download_file(bucket_name, key, target_path)"
   ]
  },
  {
   "cell_type": "markdown",
   "metadata": {},
   "source": [
    "## Resave pretrained weights"
   ]
  },
  {
   "cell_type": "code",
   "execution_count": 1,
   "metadata": {},
   "outputs": [],
   "source": [
    "import torch\n",
    "from collections import OrderedDict\n",
    "\n",
    "# d = torch.load('/mnt/sandbox1/ben.cline/data/20240110/fpn_80k_nextvit_small_1n1k6m_pretrained.pth', map_location=lambda storage, loc: storage)\n",
    "# print(d.keys())\n",
    "# ori_keys = d['state_dict'].keys()"
   ]
  },
  {
   "cell_type": "code",
   "execution_count": 2,
   "metadata": {},
   "outputs": [
    {
     "name": "stdout",
     "output_type": "stream",
     "text": [
      "dict_keys(['state_dict'])\n"
     ]
    }
   ],
   "source": [
    "# supervised pretraining lite12 model\n",
    "checkpoint_dir = '/data/jupiter/li.yu/exps/driveable_terrain_model/'\n",
    "model = 'openimages_v7_brtlite12_0211'\n",
    "checkpoint = 'checkpoint_best'  # checkpoint or checkpoint_best\n",
    "input_dict = torch.load(os.path.join(checkpoint_dir, model, f'{checkpoint}.pth'), map_location=lambda storage, loc: storage)\n",
    "output_dict = OrderedDict()\n",
    "for k, v in input_dict['model'].items():\n",
    "    output_dict[k] = v\n",
    "output_dict = {'state_dict': output_dict}\n",
    "print(output_dict.keys())\n",
    "torch.save(output_dict, os.path.join(checkpoint_dir, model, f'{checkpoint}_brt_compatible.pth'))"
   ]
  },
  {
   "cell_type": "code",
   "execution_count": 3,
   "metadata": {},
   "outputs": [
    {
     "name": "stdout",
     "output_type": "stream",
     "text": [
      "dict_keys(['state_dict'])\n"
     ]
    }
   ],
   "source": [
    "# supervised pretraining\n",
    "checkpoint_dir = '/data/jupiter/li.yu/exps/driveable_terrain_model/'\n",
    "model = 'openimages_v7_nextvit_small_structuralreparam_0311'\n",
    "checkpoint = 'checkpoint'  # checkpoint or checkpoint_best\n",
    "input_dict = torch.load(os.path.join(checkpoint_dir, model, f'{checkpoint}.pth'), map_location=lambda storage, loc: storage)\n",
    "output_dict = OrderedDict()\n",
    "for k, v in input_dict['model'].items():\n",
    "    output_dict['backbone.' + k] = v\n",
    "output_dict = {'state_dict': output_dict}\n",
    "print(output_dict.keys())\n",
    "\n",
    "# check difference between open source weights and OpenImages pretrained weights\n",
    "# print(set(output_dict['state_dict'].keys()) - set(ori_keys))\n",
    "\n",
    "torch.save(output_dict, os.path.join(checkpoint_dir, model, f'{checkpoint}_brt_compatible.pth'))"
   ]
  },
  {
   "cell_type": "code",
   "execution_count": 2,
   "metadata": {},
   "outputs": [
    {
     "name": "stdout",
     "output_type": "stream",
     "text": [
      "dict_keys(['state_dict'])\n"
     ]
    }
   ],
   "source": [
    "# self-supervised pretraining\n",
    "checkpoint_dir = '/data/jupiter/li.yu/exps/driveable_terrain_model/'\n",
    "# model = 'brt1m_spark_nextvit_small_0307'\n",
    "# model = 'openimages_v7_spark_nextvit_small_0226'\n",
    "model = 'train600k_spark_nextvit_small_0329'\n",
    "checkpoint = 'nextvit_small_pretrained_timm_style'  # checkpoint or checkpoint_best\n",
    "input_dict = torch.load(os.path.join(checkpoint_dir, model, f'{checkpoint}.pth'), map_location=lambda storage, loc: storage)\n",
    "output_dict = OrderedDict()\n",
    "for k, v in input_dict.items():\n",
    "    output_dict['backbone.' + k] = v\n",
    "output_dict = {'state_dict': output_dict}\n",
    "print(output_dict.keys())\n",
    "\n",
    "# # check difference between open source weights and OpenImages pretrained weights\n",
    "# print(set(output_dict['state_dict'].keys()) - set(ori_keys))\n",
    "\n",
    "torch.save(output_dict, os.path.join(checkpoint_dir, model, f'{checkpoint}_brt_compatible.pth'))"
   ]
  },
  {
   "cell_type": "markdown",
   "metadata": {},
   "source": [
    "## Resave trained weights for kore"
   ]
  },
  {
   "cell_type": "code",
   "execution_count": 1,
   "metadata": {},
   "outputs": [],
   "source": [
    "import torch\n",
    "from collections import OrderedDict"
   ]
  },
  {
   "cell_type": "code",
   "execution_count": 2,
   "metadata": {},
   "outputs": [
    {
     "name": "stdout",
     "output_type": "stream",
     "text": [
      "dict_keys(['epoch', 'state_dict', 'optimizer', 'scheduler'])\n"
     ]
    }
   ],
   "source": [
    "checkpoint_dir1 = '/mnt/sandbox1/ben.cline/output/bc_sandbox_2024/'\n",
    "checkpoint_dir2 = '/data/jupiter/li.yu/exps/driveable_terrain_model/'\n",
    "# model = 'ds_v8_1_nextvit_small_openimages_with_rev1_train_human_test_using_random_val_mhc_20_epochs_finetune_rev1_lr'\n",
    "# model = 'ds_v8_1_nextvit_small_openimages_using_random_val_50k_rev1_rev2_lying_down_sitting_100_100'\n",
    "# model = 'ds_v8_1_nextvit_small_openimages_using_random_val_50k_rev1_rev2_lying_down_sitting_2x_lower_airborne_birds_lower_msl_d'\n",
    "# model = 'ds_v8_1_nextvit_small_openimages_using_random_val_50k_rev1_rev2_lying_down_sitting_2x_lower_airborne_birds_lower_msl_d_2h'\n",
    "model = 'all_rev2_rev1_lying_down_sitting_headlights_round_2_25_ep_prod_weights_10_lo_10_tr'\n",
    "model = '9_2_unofficial_50k_rev1_rev2_lying_down_sitting_headlights_25_ep_prod_weights_10_lo_100_tr_2'\n",
    "# checkpoint = 'bc_sandbox_2024_val_bestmodel_master_6'  \n",
    "checkpoint = 'bc_sandbox_2024_val_bestmodel'  \n",
    "input_dict = torch.load(os.path.join(checkpoint_dir1, model, f'{checkpoint}.pth'), map_location=lambda storage, loc: storage)\n",
    "print(input_dict.keys())"
   ]
  },
  {
   "cell_type": "code",
   "execution_count": 4,
   "metadata": {},
   "outputs": [
    {
     "name": "stdout",
     "output_type": "stream",
     "text": [
      "/data/jupiter/li.yu/exps/driveable_terrain_model/9_2_unofficial_50k_rev1_rev2_lying_down_sitting_headlights_25_ep_prod_weights_10_lo_100_tr_2/bc_sandbox_2024_val_bestmodel_brtkore_compatible.pth\n"
     ]
    }
   ],
   "source": [
    "output_dict = OrderedDict()\n",
    "output_dict['epoch'] = input_dict['epoch']\n",
    "output_dict['state_dict'] = OrderedDict()\n",
    "for k,v in input_dict['state_dict'].items():\n",
    "    if k.startswith('scale_'):\n",
    "        output_dict['state_dict']['head.'+k] = v\n",
    "    else:\n",
    "        output_dict['state_dict'][k] = v\n",
    "\n",
    "os.makedirs(os.path.join(checkpoint_dir2, model), exist_ok=True)\n",
    "saved_path = os.path.join(checkpoint_dir2, model, f'{checkpoint}_brtkore_compatible.pth')\n",
    "torch.save(output_dict, saved_path)\n",
    "print(saved_path)"
   ]
  },
  {
   "cell_type": "code",
   "execution_count": 5,
   "metadata": {},
   "outputs": [],
   "source": []
  }
 ],
 "metadata": {
  "kernelspec": {
   "display_name": "Python 3.8.8 64-bit",
   "name": "python388jvsc74a57bd01eceddbeeb55f686303d64ef8e05e300429be7c506c9f9cad24a6dfe5f27b555"
  },
  "language_info": {
   "codemirror_mode": {
    "name": "ipython",
    "version": 3
   },
   "file_extension": ".py",
   "mimetype": "text/x-python",
   "name": "python",
   "nbconvert_exporter": "python",
   "pygments_lexer": "ipython3",
   "version": "3.8.8"
  },
  "metadata": {
   "interpreter": {
    "hash": "1eceddbeeb55f686303d64ef8e05e300429be7c506c9f9cad24a6dfe5f27b555"
   }
  },
  "orig_nbformat": 2
 },
 "nbformat": 4,
 "nbformat_minor": 2
}
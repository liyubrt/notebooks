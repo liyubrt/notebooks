{
 "cells": [
  {
   "cell_type": "code",
   "execution_count": 1,
   "metadata": {},
   "outputs": [
    {
     "name": "stderr",
     "output_type": "stream",
     "text": [
      "Internal AWS credentials will be removed from future brt-devkit versions.\n"
     ]
    }
   ],
   "source": [
    "import os\n",
    "from brtdevkit.util.aws import s3"
   ]
  },
  {
   "cell_type": "code",
   "execution_count": 2,
   "metadata": {},
   "outputs": [],
   "source": [
    "s3_client = s3.S3()\n",
    "BRT_DEVKIT_WRITE_S3_BUCKET = 'mesa-states'\n",
    "MODEL_TRAINING_S3_KEY_PREFIX = f\"{os.environ.get('BRT_ENV', 'prod')}/jupiter/model_training\"\n",
    "PACK_PERCEPTION_S3_KEY_PREFIX = f\"{os.environ.get('BRT_ENV', 'prod')}/jupiter/pack_perception\"\n",
    "bucket_name=BRT_DEVKIT_WRITE_S3_BUCKET"
   ]
  },
  {
   "cell_type": "code",
   "execution_count": null,
   "metadata": {},
   "outputs": [],
   "source": [
    "# upload file\n",
    "# key = f\"{MODEL_TRAINING_S3_KEY_PREFIX}/Jupiter_train_v4_53_missing_human_relabeled.tar\"\n",
    "key = f\"{PACK_PERCEPTION_S3_KEY_PREFIX}/Jupiter_train_v4_53_heavy_dust_relabeled.tar\"\n",
    "file_path = \"/home/bluerivertech/li.yu/data/Jupiter_train_v4_53_heavy_dust_relabeled/Jupiter_train_v4_53_heavy_dust_relabeled.tar\"\n",
    "s3_client.upload_file(\n",
    "    bucket_name=bucket_name, key=key, file_path=file_path)\n",
    "# Jupiter_2022_fn_bag1.tar\n",
    "# Jupiter_2022Jan15Feb15_rock_stops.tar\n",
    "# Jupiter_train_v4_53_missing_human_relabeled.tar\n",
    "# Jupiter_train_v4_53_heavy_dust_relabeled.tar"
   ]
  },
  {
   "cell_type": "code",
   "execution_count": 4,
   "metadata": {},
   "outputs": [
    {
     "data": {
      "text/plain": "True"
     },
     "execution_count": 4,
     "metadata": {},
     "output_type": "execute_result"
    }
   ],
   "source": [
    "# download file\n",
    "# run_id = '45_3_6class_ml_pp_seg_lite_cloud_v10_rotate_fix'\n",
    "# name = 'driveable_terrain_model_val_bestmodel.pth'\n",
    "# key = f\"{MODEL_TRAINING_S3_KEY_PREFIX}/{run_id}/{name}\"\n",
    "\n",
    "key = f\"{PACK_PERCEPTION_S3_KEY_PREFIX}/Jupiter_train_v4_53_heavy_dust_relabeled.tar\"\n",
    "\n",
    "target_path = '/data/jupiter/li.yu/data/Jupiter_train_v4_53/Jupiter_train_v4_53_heavy_dust_relabeled/Jupiter_train_v4_53_heavy_dust_relabeled.tar'\n",
    "s3_client.download_file(bucket_name, key, target_path)"
   ]
  },
  {
   "cell_type": "code",
   "execution_count": null,
   "metadata": {},
   "outputs": [],
   "source": []
  }
 ],
 "metadata": {
  "kernelspec": {
   "display_name": "Python 3.8.10 64-bit",
   "name": "python3810jvsc74a57bd0086b207c4b176459976fbd848c46aaef8d683e58303c49649f931f4f7fdf75bf"
  },
  "language_info": {
   "codemirror_mode": {
    "name": "ipython",
    "version": 3
   },
   "file_extension": ".py",
   "mimetype": "text/x-python",
   "name": "python",
   "nbconvert_exporter": "python",
   "pygments_lexer": "ipython3",
   "version": "3.8.10"
  },
  "metadata": {
   "interpreter": {
    "hash": "086b207c4b176459976fbd848c46aaef8d683e58303c49649f931f4f7fdf75bf"
   }
  },
  "orig_nbformat": 2
 },
 "nbformat": 4,
 "nbformat_minor": 2
}
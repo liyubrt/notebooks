{
 "cells": [
  {
   "cell_type": "code",
   "execution_count": 1,
   "metadata": {},
   "outputs": [],
   "source": [
    "import os\n",
    "import cv2\n",
    "import json\n",
    "import shutil\n",
    "import random\n",
    "import pickle\n",
    "import numpy as np\n",
    "import pandas as pd\n",
    "from collections import defaultdict\n",
    "from tqdm import tqdm\n",
    "from pprint import pprint\n",
    "import matplotlib.pyplot as plt"
   ]
  },
  {
   "cell_type": "code",
   "execution_count": 2,
   "metadata": {},
   "outputs": [],
   "source": [
    "def normalize_image(image, hdr_mode=False, normalization_policy='percentile'):\n",
    "    if image.dtype == np.uint8:\n",
    "        normalization_policy = \"default\"\n",
    "    if normalization_policy.startswith(\"percentile\") and hdr_mode:\n",
    "        if image.dtype != np.float32 and image.dtype != np.uint32:\n",
    "            raise ValueError('HDR image type is {} instead of float32 or uint32'.format(image.dtype))\n",
    "        percentile_normalization_lower_bound = 0.1\n",
    "        percentile_normalization_upper_bound = 99.5\n",
    "\n",
    "        if normalization_policy == \"percentile\":\n",
    "            lower_bound = np.array([np.percentile(image[..., i],\n",
    "                                                  percentile_normalization_lower_bound,\n",
    "                                                  interpolation='lower')\n",
    "                                    for i in range(3)])\n",
    "            upper_bound = np.array([np.percentile(image[..., i],\n",
    "                                                  percentile_normalization_upper_bound,\n",
    "                                                  interpolation='lower')\n",
    "                                    for i in range(3)])\n",
    "        elif normalization_policy == \"percentile_vpu\":\n",
    "            r, g, b = image[..., 0], image[..., 1], image[..., 2]\n",
    "            brightness = (3 * r + b + 4 * g) / 8\n",
    "            lower_bound = np.percentile(brightness, percentile_normalization_lower_bound,\n",
    "                                        interpolation='lower')\n",
    "            upper_bound = np.percentile(brightness, percentile_normalization_upper_bound,\n",
    "                                        interpolation='lower')\n",
    "\n",
    "        image = (image.astype(np.float32) - lower_bound) / (upper_bound - lower_bound)\n",
    "        image = np.clip(image, 0.0, 1.0)\n",
    "    elif normalization_policy == \"3sigma\" and hdr_mode:\n",
    "        if image.dtype != np.float32 and image.dtype != np.uint32:\n",
    "            raise ValueError('HDR image type is {} instead of float32 or uint32'.format(image.dtype))\n",
    "        sigma_size = 3\n",
    "        min_variance = 1200\n",
    "        r, g, b = image[...,0], image[...,1], image[...,2]\n",
    "        brightness = (3 * r + b + 4 * g) / 8\n",
    "        mean, sigma = np.mean(brightness), np.std(brightness)\n",
    "        brightness_min, brightness_max = np.min(brightness), np.max(brightness)\n",
    "        if (sigma * sigma_size) > mean:\n",
    "            lmin = brightness_min\n",
    "            lmax = min(brightness_max, mean * sigma_size)\n",
    "            if (lmax - lmin) < min_variance:\n",
    "                lmax = lmin + min_variance\n",
    "            lower_bound = lmin\n",
    "            upper_bound = lmax\n",
    "        else:\n",
    "            mean_var = mean - sigma_size * sigma\n",
    "            output_min = max(brightness_min, mean_var)\n",
    "            mean_var = mean + sigma_size * sigma\n",
    "            output_max = min(brightness_max, mean_var)\n",
    "            if (output_max - output_min) < min_variance:\n",
    "                output_min = mean - min_variance / 2.0\n",
    "                output_min = 0 if output_min < 0 else output_min\n",
    "                output_max = output_min + min_variance\n",
    "            lower_bound = output_min\n",
    "            upper_bound = output_max\n",
    "        image = (image.astype(np.float32) - lower_bound) / (upper_bound - lower_bound)\n",
    "        image = np.clip(image, 0.0, 1.0)\n",
    "    elif normalization_policy == 'tonemap' and hdr_mode:\n",
    "        if image.dtype != np.float32 and image.dtype != np.uint32:\n",
    "            raise ValueError('HDR image type is {} instead of float32 or uint32'.format(image.dtype))\n",
    "        alpha = 0.5\n",
    "        r, g, b = image[...,0], image[...,1], image[...,2]\n",
    "        L_in = 0.27 * r + 0.67 * g + 0.06 * b\n",
    "        Lw = np.exp(np.mean(np.log(L_in + 1e-6)))\n",
    "        n = alpha * L_in / Lw\n",
    "        L_out = n / (1 + n) * (1 + n / (n.max() ** 2))\n",
    "        image = np.clip(image.astype(np.float32) * (L_out / L_in)[..., None], 0.0, 1.0)\n",
    "    elif normalization_policy == \"none\" and hdr_mode:\n",
    "        lower_bound = 0.0\n",
    "        upper_bound = 2**20 - 1\n",
    "        image = (image.astype(np.float32) - lower_bound) / (upper_bound - lower_bound)\n",
    "        image = np.clip(image, 0.0, 1.0)\n",
    "    elif normalization_policy == \"default\" or not hdr_mode:\n",
    "        assert np.max(image) <= 255 and np.min(image) >= 0, \\\n",
    "            \"Image with linear model should be in range [0,255]\"\n",
    "        lower_bound = 0.0\n",
    "        upper_bound = 255.0\n",
    "        image = (image.astype(np.float32) - lower_bound) / (upper_bound - lower_bound)\n",
    "        image = np.clip(image, 0.0, 1.0)\n",
    "    else:\n",
    "        raise ValueError(\"normalization_policy is not supported!\")\n",
    "    return image\n",
    "\n",
    "def plot_stereo_images(df, key1, key2):\n",
    "    print('Tone mapped left image |', 'Percentile normalized left image |', 'Percentile VPU normalized left image')\n",
    "    print('Tone mapped right image |', 'Percentile normalized right image |', 'Percentile VPU normalized right image')\n",
    "    for i, sample_df in df.iterrows():\n",
    "        data_path = os.path.join(root_dir, 'processed/images', sample_df.image_id, 'stereo_output.npz')\n",
    "        data = np.load(data_path)\n",
    "        img_left = data['left']\n",
    "        img_tonemap_left = normalize_image(img_left, sample_df.hdr_mode, 'tonemap')\n",
    "        img_pcntvpu_left = normalize_image(img_left, sample_df.hdr_mode, 'percentile_vpu')\n",
    "        img_left = normalize_image(img_left, sample_df.hdr_mode)\n",
    "        img_right = data['right']\n",
    "        img_tonemap_right = normalize_image(img_right, sample_df.hdr_mode, 'tonemap')\n",
    "        img_pcntvpu_right = normalize_image(img_right, sample_df.hdr_mode, 'percentile_vpu')\n",
    "        img_right = normalize_image(img_right, sample_df.hdr_mode)\n",
    "        \n",
    "        print(sample_df.image_id, key1, sample_df[key1], key2, sample_df[key2])\n",
    "        plt.figure(1, figsize=(34, 12))\n",
    "        plt.subplot(231)\n",
    "        plt.imshow(img_tonemap_left)\n",
    "        plt.subplot(232)\n",
    "        plt.imshow(img_left)\n",
    "        plt.subplot(233)\n",
    "        plt.imshow(img_pcntvpu_left)\n",
    "        plt.subplot(234)\n",
    "        plt.imshow(img_tonemap_right)\n",
    "        plt.subplot(235)\n",
    "        plt.imshow(img_right)\n",
    "        plt.subplot(236)\n",
    "        plt.imshow(img_pcntvpu_right)\n",
    "        plt.show()"
   ]
  },
  {
   "cell_type": "code",
   "execution_count": 3,
   "metadata": {},
   "outputs": [
    {
     "data": {
      "text/plain": "(195289, 234)"
     },
     "execution_count": 3,
     "metadata": {},
     "output_type": "execute_result"
    }
   ],
   "source": [
    "root_dir = '/data/jupiter/datasets/Jupiter_train_v4_71'\n",
    "data_dir = os.path.join(root_dir, 'images')\n",
    "df = pd.read_csv(os.path.join(root_dir, 'master_annotations.csv'), low_memory=False)\n",
    "# df = df[df.hdr_mode == True]\n",
    "df.shape"
   ]
  },
  {
   "cell_type": "code",
   "execution_count": 4,
   "metadata": {},
   "outputs": [
    {
     "name": "stdout",
     "output_type": "stream",
     "text": [
      "(195289, 11) (17846, 11)\n"
     ]
    }
   ],
   "source": [
    "# iq_csv = '/data/jupiter/li.yu/data/Jupiter_train_v4_53/v453_iq.csv'\n",
    "iq_csv = '/data/jupiter/li.yu/data/Jupiter_train_v4_71/v471_iq.csv'\n",
    "iq_df = pd.read_csv(iq_csv)\n",
    "print(iq_df.shape, iq_df[iq_df.iq != 'good'].shape)\n",
    "bad_iq_df = iq_df[iq_df.iq != 'good']\n",
    "iq_df.groupby('iq').count()"
   ]
  },
  {
   "cell_type": "code",
   "execution_count": 5,
   "metadata": {},
   "outputs": [
    {
     "data": {
      "text/html": "<div>\n<style scoped>\n    .dataframe tbody tr th:only-of-type {\n        vertical-align: middle;\n    }\n\n    .dataframe tbody tr th {\n        vertical-align: top;\n    }\n\n    .dataframe thead th {\n        text-align: right;\n    }\n</style>\n<table border=\"1\" class=\"dataframe\">\n  <thead>\n    <tr style=\"text-align: right;\">\n      <th></th>\n      <th>image_id</th>\n      <th>iq</th>\n      <th>iq_features</th>\n      <th>iq_features_total</th>\n      <th>iq_features_low</th>\n      <th>iq_features_mid</th>\n      <th>iq_features_high</th>\n      <th>iq_features_sharpness</th>\n      <th>iq_features_smudge</th>\n      <th>iq_features_smudge_reason</th>\n      <th>iq_process_time</th>\n    </tr>\n  </thead>\n  <tbody>\n    <tr>\n      <th>0</th>\n      <td>614d0eb37585e5bf211d83dc</td>\n      <td>smudge</td>\n      <td>{'confidence': 1.0, 'image_features': {'total'...</td>\n      <td>1572864</td>\n      <td>0.0</td>\n      <td>1572864.0</td>\n      <td>0.0</td>\n      <td>2140.6290</td>\n      <td>108.098389</td>\n      <td>pixel_difference_on_gray_image</td>\n      <td>0.124736</td>\n    </tr>\n    <tr>\n      <th>1</th>\n      <td>614d0eb90f7787d7ba7d1e43</td>\n      <td>good</td>\n      <td>{'confidence': 1.0, 'image_features': {'total'...</td>\n      <td>1572864</td>\n      <td>0.0</td>\n      <td>1572864.0</td>\n      <td>0.0</td>\n      <td>4105.3945</td>\n      <td>33.200928</td>\n      <td>not_smudged</td>\n      <td>0.067164</td>\n    </tr>\n  </tbody>\n</table>\n</div>",
      "text/plain": "                   image_id      iq  \\\n0  614d0eb37585e5bf211d83dc  smudge   \n1  614d0eb90f7787d7ba7d1e43    good   \n\n                                         iq_features  iq_features_total  \\\n0  {'confidence': 1.0, 'image_features': {'total'...            1572864   \n1  {'confidence': 1.0, 'image_features': {'total'...            1572864   \n\n   iq_features_low  iq_features_mid  iq_features_high  iq_features_sharpness  \\\n0              0.0        1572864.0               0.0              2140.6290   \n1              0.0        1572864.0               0.0              4105.3945   \n\n   iq_features_smudge       iq_features_smudge_reason  iq_process_time  \n0          108.098389  pixel_difference_on_gray_image         0.124736  \n1           33.200928                     not_smudged         0.067164  "
     },
     "execution_count": 5,
     "metadata": {},
     "output_type": "execute_result"
    }
   ],
   "source": [
    "iq_df.head(2)"
   ]
  },
  {
   "cell_type": "code",
   "execution_count": 6,
   "metadata": {},
   "outputs": [
    {
     "data": {
      "text/plain": "\"{'confidence': 1.0, 'image_features': {'total': 1572864, 'low': 0.0, 'mid': 1572864, 'high': 0.0, 'sharpness': 2140.629, 'smudge': 108.098388671875, 'smudge_reason': 'pixel_difference_on_gray_image'}}\""
     },
     "execution_count": 6,
     "metadata": {},
     "output_type": "execute_result"
    }
   ],
   "source": [
    "iq_df.iloc[0].iq_features"
   ]
  },
  {
   "cell_type": "code",
   "execution_count": 7,
   "metadata": {},
   "outputs": [
    {
     "data": {
      "text/plain": "\"{'confidence': 1.0, 'image_features': {'total': 1572864, 'low': 0.0, 'mid': 1572864, 'high': 0.0, 'sharpness': 4105.3945, 'smudge': 33.200927734375, 'smudge_reason': 'not_smudged'}}\""
     },
     "execution_count": 7,
     "metadata": {},
     "output_type": "execute_result"
    }
   ],
   "source": [
    "iq_df.iloc[1].iq_features"
   ]
  },
  {
   "cell_type": "code",
   "execution_count": 8,
   "metadata": {},
   "outputs": [
    {
     "name": "stdout",
     "output_type": "stream",
     "text": [
      "(11715, 11) (11948, 11)\n",
      "(3297, 11) (3489, 11)\n"
     ]
    }
   ],
   "source": [
    "print(iq_df[iq_df.iq == 'dark'].shape, iq_df[iq_df.iq_features_low > 0.6].shape)\n",
    "print(iq_df[iq_df.iq == 'bright'].shape, iq_df[iq_df.iq_features_high > 0.18].shape)"
   ]
  },
  {
   "cell_type": "code",
   "execution_count": 9,
   "metadata": {},
   "outputs": [
    {
     "data": {
      "text/html": "<div>\n<style scoped>\n    .dataframe tbody tr th:only-of-type {\n        vertical-align: middle;\n    }\n\n    .dataframe tbody tr th {\n        vertical-align: top;\n    }\n\n    .dataframe thead th {\n        text-align: right;\n    }\n</style>\n<table border=\"1\" class=\"dataframe\">\n  <thead>\n    <tr style=\"text-align: right;\">\n      <th></th>\n      <th>image_id</th>\n      <th>iq</th>\n      <th>iq_features</th>\n      <th>iq_features_total</th>\n      <th>iq_features_low</th>\n      <th>iq_features_mid</th>\n      <th>iq_features_high</th>\n      <th>iq_features_sharpness</th>\n      <th>iq_features_smudge</th>\n      <th>iq_process_time</th>\n    </tr>\n    <tr>\n      <th>iq_features_smudge_reason</th>\n      <th></th>\n      <th></th>\n      <th></th>\n      <th></th>\n      <th></th>\n      <th></th>\n      <th></th>\n      <th></th>\n      <th></th>\n      <th></th>\n    </tr>\n  </thead>\n  <tbody>\n    <tr>\n      <th>adaptive_threshold</th>\n      <td>307</td>\n      <td>307</td>\n      <td>307</td>\n      <td>307</td>\n      <td>307</td>\n      <td>307</td>\n      <td>307</td>\n      <td>307</td>\n      <td>307</td>\n      <td>307</td>\n    </tr>\n    <tr>\n      <th>blur</th>\n      <td>304</td>\n      <td>304</td>\n      <td>304</td>\n      <td>304</td>\n      <td>304</td>\n      <td>304</td>\n      <td>304</td>\n      <td>304</td>\n      <td>304</td>\n      <td>304</td>\n    </tr>\n    <tr>\n      <th>not_smudged</th>\n      <td>192455</td>\n      <td>192455</td>\n      <td>192455</td>\n      <td>192455</td>\n      <td>192455</td>\n      <td>192455</td>\n      <td>192455</td>\n      <td>192455</td>\n      <td>192455</td>\n      <td>192455</td>\n    </tr>\n    <tr>\n      <th>pixel_difference_on_binary_image</th>\n      <td>410</td>\n      <td>410</td>\n      <td>410</td>\n      <td>410</td>\n      <td>410</td>\n      <td>410</td>\n      <td>410</td>\n      <td>410</td>\n      <td>410</td>\n      <td>410</td>\n    </tr>\n    <tr>\n      <th>pixel_difference_on_gray_image</th>\n      <td>1813</td>\n      <td>1813</td>\n      <td>1813</td>\n      <td>1813</td>\n      <td>1813</td>\n      <td>1813</td>\n      <td>1813</td>\n      <td>1813</td>\n      <td>1813</td>\n      <td>1813</td>\n    </tr>\n  </tbody>\n</table>\n</div>",
      "text/plain": "                                  image_id      iq  iq_features  \\\niq_features_smudge_reason                                         \nadaptive_threshold                     307     307          307   \nblur                                   304     304          304   \nnot_smudged                         192455  192455       192455   \npixel_difference_on_binary_image       410     410          410   \npixel_difference_on_gray_image        1813    1813         1813   \n\n                                  iq_features_total  iq_features_low  \\\niq_features_smudge_reason                                              \nadaptive_threshold                              307              307   \nblur                                            304              304   \nnot_smudged                                  192455           192455   \npixel_difference_on_binary_image                410              410   \npixel_difference_on_gray_image                 1813             1813   \n\n                                  iq_features_mid  iq_features_high  \\\niq_features_smudge_reason                                             \nadaptive_threshold                            307               307   \nblur                                          304               304   \nnot_smudged                                192455            192455   \npixel_difference_on_binary_image              410               410   \npixel_difference_on_gray_image               1813              1813   \n\n                                  iq_features_sharpness  iq_features_smudge  \\\niq_features_smudge_reason                                                     \nadaptive_threshold                                  307                 307   \nblur                                                304                 304   \nnot_smudged                                      192455              192455   \npixel_difference_on_binary_image                    410                 410   \npixel_difference_on_gray_image                     1813                1813   \n\n                                  iq_process_time  \niq_features_smudge_reason                          \nadaptive_threshold                            307  \nblur                                          304  \nnot_smudged                                192455  \npixel_difference_on_binary_image              410  \npixel_difference_on_gray_image               1813  "
     },
     "execution_count": 9,
     "metadata": {},
     "output_type": "execute_result"
    }
   ],
   "source": [
    "iq_df.groupby('iq_features_smudge_reason').count()"
   ]
  },
  {
   "cell_type": "code",
   "execution_count": 10,
   "metadata": {},
   "outputs": [
    {
     "name": "stdout",
     "output_type": "stream",
     "text": [
      "(2834, 11) (2834, 11)\n",
      "(1813, 11) (1813, 11)\n",
      "(410, 11) (410, 11)\n",
      "(307, 11) (307, 11)\n",
      "(304, 11) (251, 11)\n"
     ]
    }
   ],
   "source": [
    "print(iq_df[iq_df.iq == 'smudge'].shape, iq_df[(iq_df.iq_features_smudge_reason == 'pixel_difference_on_gray_image') | (iq_df.iq_features_smudge_reason == 'pixel_difference_on_binary_image') | (iq_df.iq_features_smudge_reason == 'adaptive_threshold') | (iq_df.iq_features_smudge_reason == 'blur')].shape)\n",
    "print(iq_df[iq_df.iq_features_smudge_reason == 'pixel_difference_on_gray_image'].shape, iq_df[(iq_df.iq_features_smudge > 88) & (iq_df.iq_features_smudge_reason == 'pixel_difference_on_gray_image')].shape)\n",
    "print(iq_df[iq_df.iq_features_smudge_reason == 'pixel_difference_on_binary_image'].shape, iq_df[(iq_df.iq_features_smudge > 40) & (iq_df.iq_features_smudge_reason == 'pixel_difference_on_binary_image')].shape)\n",
    "print(iq_df[iq_df.iq_features_smudge_reason == 'adaptive_threshold'].shape, iq_df[(iq_df.iq_features_smudge > 8500) & (iq_df.iq_features_smudge < 458429) & (iq_df.iq_features_smudge_reason == 'adaptive_threshold')].shape)\n",
    "print(iq_df[iq_df.iq_features_smudge_reason == 'blur'].shape, iq_df[(iq_df.iq_features_smudge < 15) & (iq_df.iq_features_smudge_reason == 'blur')].shape)\n"
   ]
  },
  {
   "cell_type": "markdown",
   "metadata": {},
   "source": [
    "## Bright images with iq_features_high value in range [0.18, 0.2]"
   ]
  },
  {
   "cell_type": "code",
   "execution_count": 5,
   "metadata": {},
   "outputs": [
    {
     "data": {
      "text/html": "<div>\n<style scoped>\n    .dataframe tbody tr th:only-of-type {\n        vertical-align: middle;\n    }\n\n    .dataframe tbody tr th {\n        vertical-align: top;\n    }\n\n    .dataframe thead th {\n        text-align: right;\n    }\n</style>\n<table border=\"1\" class=\"dataframe\">\n  <thead>\n    <tr style=\"text-align: right;\">\n      <th></th>\n      <th>image_id</th>\n      <th>iq_features</th>\n      <th>iq_features_total</th>\n      <th>iq_features_low</th>\n      <th>iq_features_mid</th>\n      <th>iq_features_high</th>\n      <th>iq_features_sharpness</th>\n      <th>iq_features_smudge</th>\n      <th>iq_features_smudge_reason</th>\n      <th>iq_process_time</th>\n    </tr>\n    <tr>\n      <th>iq</th>\n      <th></th>\n      <th></th>\n      <th></th>\n      <th></th>\n      <th></th>\n      <th></th>\n      <th></th>\n      <th></th>\n      <th></th>\n      <th></th>\n    </tr>\n  </thead>\n  <tbody>\n    <tr>\n      <th>bright</th>\n      <td>3297</td>\n      <td>3297</td>\n      <td>3297</td>\n      <td>3297</td>\n      <td>3297</td>\n      <td>3297</td>\n      <td>3297</td>\n      <td>3297</td>\n      <td>3297</td>\n      <td>3297</td>\n    </tr>\n    <tr>\n      <th>dark</th>\n      <td>11715</td>\n      <td>11715</td>\n      <td>11715</td>\n      <td>11715</td>\n      <td>11715</td>\n      <td>11715</td>\n      <td>11715</td>\n      <td>11715</td>\n      <td>11715</td>\n      <td>11715</td>\n    </tr>\n    <tr>\n      <th>good</th>\n      <td>177443</td>\n      <td>177443</td>\n      <td>177443</td>\n      <td>177443</td>\n      <td>177443</td>\n      <td>177443</td>\n      <td>177443</td>\n      <td>177443</td>\n      <td>177443</td>\n      <td>177443</td>\n    </tr>\n    <tr>\n      <th>smudge</th>\n      <td>2834</td>\n      <td>2834</td>\n      <td>2834</td>\n      <td>2834</td>\n      <td>2834</td>\n      <td>2834</td>\n      <td>2834</td>\n      <td>2834</td>\n      <td>2834</td>\n      <td>2834</td>\n    </tr>\n  </tbody>\n</table>\n</div>",
      "text/plain": "        image_id  iq_features  iq_features_total  iq_features_low  \\\niq                                                                  \nbright      3297         3297               3297             3297   \ndark       11715        11715              11715            11715   \ngood      177443       177443             177443           177443   \nsmudge      2834         2834               2834             2834   \n\n        iq_features_mid  iq_features_high  iq_features_sharpness  \\\niq                                                                 \nbright             3297              3297                   3297   \ndark              11715             11715                  11715   \ngood             177443            177443                 177443   \nsmudge             2834              2834                   2834   \n\n        iq_features_smudge  iq_features_smudge_reason  iq_process_time  \niq                                                                      \nbright                3297                       3297             3297  \ndark                 11715                      11715            11715  \ngood                177443                     177443           177443  \nsmudge                2834                       2834             2834  "
     },
     "execution_count": 4,
     "metadata": {},
     "output_type": "execute_result"
    }
   ],
   "source": [
    "iq_df = iq_df.merge(df, on='image_id')"
   ]
  },
  {
   "cell_type": "code",
   "execution_count": 12,
   "metadata": {},
   "outputs": [
    {
     "name": "stdout",
     "output_type": "stream",
     "text": [
      "(667, 244)\n"
     ]
    }
   ],
   "source": [
    "sub_df = iq_df[(iq_df.iq_features_high > 0.18) & (iq_df.iq_features_high < 0.2)]\n",
    "print(sub_df.shape)\n",
    "plot_stereo_images(sub_df.sample(5), 'iq', 'iq_features_high')"
   ]
  },
  {
   "cell_type": "markdown",
   "metadata": {},
   "source": [
    "## Bright images with iq_features_high value bigger than 0.2"
   ]
  },
  {
   "cell_type": "code",
   "execution_count": 13,
   "metadata": {},
   "outputs": [
    {
     "name": "stdout",
     "output_type": "stream",
     "text": [
      "(2822, 244)\n"
     ]
    }
   ],
   "source": [
    "sub_df = iq_df[(iq_df.iq_features_high > 0.2)]\n",
    "print(sub_df.shape)\n",
    "plot_stereo_images(sub_df.sample(5), 'iq', 'iq_features_high')"
   ]
  },
  {
   "cell_type": "markdown",
   "metadata": {},
   "source": [
    "## Dark images with iq_features_low value in range [0.6, 0.8]"
   ]
  },
  {
   "cell_type": "code",
   "execution_count": 14,
   "metadata": {},
   "outputs": [
    {
     "name": "stdout",
     "output_type": "stream",
     "text": [
      "(3808, 244)\n"
     ]
    }
   ],
   "source": [
    "sub_df = iq_df[(iq_df.iq_features_low > 0.6) & (iq_df.iq_features_low < 0.8)]\n",
    "print(sub_df.shape)\n",
    "plot_stereo_images(sub_df.sample(5), 'iq', 'iq_features_low')"
   ]
  },
  {
   "cell_type": "markdown",
   "metadata": {},
   "source": [
    "## Dark images with iq_features_low value bigger than 0.8"
   ]
  },
  {
   "cell_type": "code",
   "execution_count": 15,
   "metadata": {},
   "outputs": [
    {
     "name": "stdout",
     "output_type": "stream",
     "text": [
      "(8140, 244)\n"
     ]
    }
   ],
   "source": [
    "sub_df = iq_df[(iq_df.iq_features_low > 0.8)]\n",
    "print(sub_df.shape)\n",
    "plot_stereo_images(sub_df.sample(5), 'iq', 'iq_features_low')"
   ]
  },
  {
   "cell_type": "markdown",
   "metadata": {},
   "source": [
    "## Smudge (on gray) value in range [88, 95]"
   ]
  },
  {
   "cell_type": "code",
   "execution_count": 20,
   "metadata": {},
   "outputs": [
    {
     "name": "stdout",
     "output_type": "stream",
     "text": [
      "(310, 244)\n"
     ]
    }
   ],
   "source": [
    "sub_df = iq_df[(iq_df.iq_features_smudge > 88) & (iq_df.iq_features_smudge < 95) & (iq_df.iq_features_smudge_reason == 'pixel_difference_on_gray_image')]\n",
    "print(sub_df.shape)\n",
    "plot_stereo_images(sub_df.sample(5), 'iq_features_smudge_reason', 'iq_features_smudge')"
   ]
  },
  {
   "cell_type": "markdown",
   "metadata": {},
   "source": [
    "## Smudge (on gray) value bigger than 95"
   ]
  },
  {
   "cell_type": "code",
   "execution_count": 21,
   "metadata": {},
   "outputs": [
    {
     "name": "stdout",
     "output_type": "stream",
     "text": [
      "(1503, 244)\n"
     ]
    }
   ],
   "source": [
    "sub_df = iq_df[(iq_df.iq_features_smudge > 95) & (iq_df.iq_features_smudge_reason == 'pixel_difference_on_gray_image')]\n",
    "print(sub_df.shape)\n",
    "plot_stereo_images(sub_df.sample(5), 'iq_features_smudge_reason', 'iq_features_smudge')"
   ]
  },
  {
   "cell_type": "markdown",
   "metadata": {},
   "source": [
    "## Smudge (on binary)"
   ]
  },
  {
   "cell_type": "code",
   "execution_count": 27,
   "metadata": {},
   "outputs": [
    {
     "name": "stdout",
     "output_type": "stream",
     "text": [
      "(410, 244)\n"
     ]
    }
   ],
   "source": [
    "sub_df = iq_df[(iq_df.iq_features_smudge > 40) & (iq_df.iq_features_smudge_reason == 'pixel_difference_on_binary_image')]\n",
    "print(sub_df.shape)\n",
    "plot_stereo_images(sub_df.sample(5), 'iq_features_smudge_reason', 'iq_features_smudge')"
   ]
  },
  {
   "cell_type": "markdown",
   "metadata": {},
   "source": [
    "## Smudge (on adaptive_threshold)"
   ]
  },
  {
   "cell_type": "code",
   "execution_count": 28,
   "metadata": {},
   "outputs": [
    {
     "name": "stdout",
     "output_type": "stream",
     "text": [
      "(307, 244)\n"
     ]
    }
   ],
   "source": [
    "sub_df = iq_df[(iq_df.iq_features_smudge > 8500) & (iq_df.iq_features_smudge < 458429) & (iq_df.iq_features_smudge_reason == 'adaptive_threshold')]\n",
    "print(sub_df.shape)\n",
    "plot_stereo_images(sub_df.sample(5), 'iq_features_smudge_reason', 'iq_features_smudge')"
   ]
  },
  {
   "cell_type": "markdown",
   "metadata": {},
   "source": [
    "## Smudge (on blur)"
   ]
  },
  {
   "cell_type": "code",
   "execution_count": 29,
   "metadata": {},
   "outputs": [
    {
     "name": "stdout",
     "output_type": "stream",
     "text": [
      "(251, 244)\n"
     ]
    }
   ],
   "source": [
    "sub_df = iq_df[(iq_df.iq_features_smudge < 15) & (iq_df.iq_features_smudge_reason == 'blur')]\n",
    "print(sub_df.shape)\n",
    "plot_stereo_images(sub_df.sample(5), 'iq_features_smudge_reason', 'iq_features_smudge')"
   ]
  },
  {
   "cell_type": "markdown",
   "metadata": {},
   "source": [
    "## Combine sub_dfs with custom thresholds"
   ]
  },
  {
   "cell_type": "code",
   "execution_count": 10,
   "metadata": {},
   "outputs": [
    {
     "name": "stdout",
     "output_type": "stream",
     "text": [
      "(2822, 244) (5426, 244) (1718, 244) (357, 244) (307, 244) (251, 244)\n",
      "(10881, 244)\n"
     ]
    },
    {
     "data": {
      "text/html": "<div>\n<style scoped>\n    .dataframe tbody tr th:only-of-type {\n        vertical-align: middle;\n    }\n\n    .dataframe tbody tr th {\n        vertical-align: top;\n    }\n\n    .dataframe thead th {\n        text-align: right;\n    }\n</style>\n<table border=\"1\" class=\"dataframe\">\n  <thead>\n    <tr style=\"text-align: right;\">\n      <th></th>\n      <th>image_id</th>\n      <th>iq</th>\n      <th>iq_features</th>\n      <th>iq_features_total</th>\n      <th>iq_features_low</th>\n      <th>iq_features_mid</th>\n      <th>iq_features_high</th>\n      <th>iq_features_sharpness</th>\n      <th>iq_features_smudge</th>\n      <th>iq_features_smudge_reason</th>\n      <th>...</th>\n      <th>label_map</th>\n      <th>label_save_path</th>\n      <th>median_depth_check</th>\n      <th>rectified_label_save_path</th>\n      <th>stereo_left_image</th>\n      <th>stereo_pipeline_npz_save_path</th>\n      <th>stereo_right_image</th>\n      <th>jupiter_interface_foxy_branch</th>\n      <th>jupiter_interface_foxy_hash</th>\n      <th>jupiter_metadata_schema</th>\n    </tr>\n    <tr>\n      <th>operation_time</th>\n      <th></th>\n      <th></th>\n      <th></th>\n      <th></th>\n      <th></th>\n      <th></th>\n      <th></th>\n      <th></th>\n      <th></th>\n      <th></th>\n      <th></th>\n      <th></th>\n      <th></th>\n      <th></th>\n      <th></th>\n      <th></th>\n      <th></th>\n      <th></th>\n      <th></th>\n      <th></th>\n      <th></th>\n    </tr>\n  </thead>\n  <tbody>\n    <tr>\n      <th>dawn_dusk</th>\n      <td>717</td>\n      <td>717</td>\n      <td>717</td>\n      <td>717</td>\n      <td>717</td>\n      <td>717</td>\n      <td>717</td>\n      <td>717</td>\n      <td>717</td>\n      <td>717</td>\n      <td>...</td>\n      <td>717</td>\n      <td>717</td>\n      <td>717</td>\n      <td>717</td>\n      <td>717</td>\n      <td>717</td>\n      <td>717</td>\n      <td>2</td>\n      <td>2</td>\n      <td>2</td>\n    </tr>\n    <tr>\n      <th>daytime</th>\n      <td>4390</td>\n      <td>4390</td>\n      <td>4390</td>\n      <td>4390</td>\n      <td>4390</td>\n      <td>4390</td>\n      <td>4390</td>\n      <td>4390</td>\n      <td>4390</td>\n      <td>4390</td>\n      <td>...</td>\n      <td>4390</td>\n      <td>4390</td>\n      <td>4390</td>\n      <td>4390</td>\n      <td>4390</td>\n      <td>4390</td>\n      <td>4390</td>\n      <td>0</td>\n      <td>0</td>\n      <td>0</td>\n    </tr>\n    <tr>\n      <th>nightime</th>\n      <td>5314</td>\n      <td>5314</td>\n      <td>5314</td>\n      <td>5314</td>\n      <td>5314</td>\n      <td>5314</td>\n      <td>5314</td>\n      <td>5314</td>\n      <td>5314</td>\n      <td>5314</td>\n      <td>...</td>\n      <td>5314</td>\n      <td>5314</td>\n      <td>5314</td>\n      <td>5314</td>\n      <td>5314</td>\n      <td>5314</td>\n      <td>5314</td>\n      <td>21</td>\n      <td>21</td>\n      <td>21</td>\n    </tr>\n    <tr>\n      <th>unknown</th>\n      <td>19</td>\n      <td>19</td>\n      <td>19</td>\n      <td>19</td>\n      <td>19</td>\n      <td>19</td>\n      <td>19</td>\n      <td>19</td>\n      <td>19</td>\n      <td>19</td>\n      <td>...</td>\n      <td>19</td>\n      <td>19</td>\n      <td>19</td>\n      <td>19</td>\n      <td>19</td>\n      <td>19</td>\n      <td>19</td>\n      <td>0</td>\n      <td>0</td>\n      <td>0</td>\n    </tr>\n  </tbody>\n</table>\n<p>4 rows × 243 columns</p>\n</div>",
      "text/plain": "                image_id    iq  iq_features  iq_features_total  \\\noperation_time                                                   \ndawn_dusk            717   717          717                717   \ndaytime             4390  4390         4390               4390   \nnightime            5314  5314         5314               5314   \nunknown               19    19           19                 19   \n\n                iq_features_low  iq_features_mid  iq_features_high  \\\noperation_time                                                       \ndawn_dusk                   717              717               717   \ndaytime                    4390             4390              4390   \nnightime                   5314             5314              5314   \nunknown                      19               19                19   \n\n                iq_features_sharpness  iq_features_smudge  \\\noperation_time                                              \ndawn_dusk                         717                 717   \ndaytime                          4390                4390   \nnightime                         5314                5314   \nunknown                            19                  19   \n\n                iq_features_smudge_reason  ...  label_map  label_save_path  \\\noperation_time                             ...                               \ndawn_dusk                             717  ...        717              717   \ndaytime                              4390  ...       4390             4390   \nnightime                             5314  ...       5314             5314   \nunknown                                19  ...         19               19   \n\n                median_depth_check  rectified_label_save_path  \\\noperation_time                                                  \ndawn_dusk                      717                        717   \ndaytime                       4390                       4390   \nnightime                      5314                       5314   \nunknown                         19                         19   \n\n                stereo_left_image  stereo_pipeline_npz_save_path  \\\noperation_time                                                     \ndawn_dusk                     717                            717   \ndaytime                      4390                           4390   \nnightime                     5314                           5314   \nunknown                        19                             19   \n\n                stereo_right_image  jupiter_interface_foxy_branch  \\\noperation_time                                                      \ndawn_dusk                      717                              2   \ndaytime                       4390                              0   \nnightime                      5314                             21   \nunknown                         19                              0   \n\n                jupiter_interface_foxy_hash  jupiter_metadata_schema  \noperation_time                                                        \ndawn_dusk                                 2                        2  \ndaytime                                   0                        0  \nnightime                                 21                       21  \nunknown                                   0                        0  \n\n[4 rows x 243 columns]"
     },
     "execution_count": 10,
     "metadata": {},
     "output_type": "execute_result"
    }
   ],
   "source": [
    "sub_df1 = iq_df[(iq_df.iq_features_high > 0.2)]\n",
    "sub_df2 = iq_df[(iq_df.iq_features_low > 0.9)]\n",
    "sub_df3 = iq_df[(iq_df.iq_features_smudge > 90) & (iq_df.iq_features_smudge_reason == 'pixel_difference_on_gray_image')]\n",
    "sub_df4 = iq_df[(iq_df.iq_features_smudge > 42) & (iq_df.iq_features_smudge_reason == 'pixel_difference_on_binary_image')]\n",
    "sub_df5 = iq_df[(iq_df.iq_features_smudge > 8500) & (iq_df.iq_features_smudge < 458429) & (iq_df.iq_features_smudge_reason == 'adaptive_threshold')]\n",
    "sub_df6 = iq_df[(iq_df.iq_features_smudge < 15) & (iq_df.iq_features_smudge_reason == 'blur')]\n",
    "print(sub_df1.shape, sub_df2.shape, sub_df3.shape, sub_df4.shape, sub_df5.shape, sub_df6.shape)\n",
    "bad_iq_df = pd.concat([sub_df1, sub_df2, sub_df3, sub_df4, sub_df5, sub_df6], ignore_index=True)\n",
    "print(bad_iq_df.shape)\n",
    "bad_iq_df.groupby(['operation_time']).count()"
   ]
  }
 ],
 "metadata": {
  "kernelspec": {
   "display_name": "Python 3.8.10 64-bit ('shank': conda)",
   "name": "python3810jvsc74a57bd0086b207c4b176459976fbd848c46aaef8d683e58303c49649f931f4f7fdf75bf"
  },
  "language_info": {
   "codemirror_mode": {
    "name": "ipython",
    "version": 3
   },
   "file_extension": ".py",
   "mimetype": "text/x-python",
   "name": "python",
   "nbconvert_exporter": "python",
   "pygments_lexer": "ipython3",
   "version": "3.8.10"
  },
  "metadata": {
   "interpreter": {
    "hash": "086b207c4b176459976fbd848c46aaef8d683e58303c49649f931f4f7fdf75bf"
   }
  },
  "orig_nbformat": 3
 },
 "nbformat": 4,
 "nbformat_minor": 2
}
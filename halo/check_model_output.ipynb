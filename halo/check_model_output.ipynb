{
 "cells": [
  {
   "cell_type": "code",
   "execution_count": 2,
   "metadata": {},
   "outputs": [],
   "source": [
    "import os\n",
    "import ast\n",
    "import sys\n",
    "import cv2\n",
    "import json\n",
    "import ndjson\n",
    "import shutil\n",
    "import random\n",
    "import pickle\n",
    "import imageio\n",
    "import numpy as np\n",
    "import pandas as pd\n",
    "from collections import defaultdict\n",
    "from tqdm import tqdm\n",
    "from pprint import pprint\n",
    "import matplotlib.pyplot as plt\n",
    "sys.path.append('../')\n",
    "from utils import normalize_image, plot_image, plot_images, get_sequences"
   ]
  },
  {
   "cell_type": "markdown",
   "metadata": {},
   "source": [
    "## Collect results from txt files"
   ]
  },
  {
   "cell_type": "code",
   "execution_count": 52,
   "metadata": {},
   "outputs": [],
   "source": [
    "def parse_results_txt(results_txt):\n",
    "    results = {}\n",
    "    with open(results_txt, \"r\") as f:\n",
    "        data = f.readlines()\n",
    "        for line in data:\n",
    "            if \": \" in line:\n",
    "                k, v = line.split(\": \")\n",
    "                if len(v) > 0 and v != 'nan':\n",
    "                    results[k] = float(v)\n",
    "    return results\n",
    "\n",
    "def collect_results(pred_root_dir, models, safety_sets, prod_sets, size_list):\n",
    "    safety_cols = sorted([v+\"_\"+size for v in list(safety_sets.values()) for size in size_list])\n",
    "    prod_cols = sorted([v+\"_\"+size for v in list(prod_sets.values()) for size in size_list])\n",
    "    columns = \\\n",
    "        [\"model\"] + \\\n",
    "        [\"safety_avg\", \"prod_avg\"] + \\\n",
    "        safety_cols + \\\n",
    "        prod_cols\n",
    "    df = pd.DataFrame(columns=columns)\n",
    "\n",
    "    df_records = []\n",
    "    for model in models:\n",
    "        row = {\"model\": model}\n",
    "        for safety_set, safety_set_shortname in safety_sets.items():\n",
    "            for size in size_list:\n",
    "                results_txt = os.path.join(pred_root_dir, model, safety_set+\"_\"+size, \"results.txt\")\n",
    "                results = parse_results_txt(results_txt)\n",
    "                row[safety_set_shortname+\"_\"+size] = results[\"recall_image\"]\n",
    "        for prod_set, prod_set_shortname in prod_sets.items():\n",
    "            for size in size_list:\n",
    "                results_txt = os.path.join(pred_root_dir, model, prod_set+\"_\"+size, \"results.txt\")\n",
    "                results = parse_results_txt(results_txt)\n",
    "                row[prod_set_shortname+\"_\"+size] = results[\"productivity_image\"]\n",
    "        row[\"safety_avg\"] = np.mean([row[safety_col] for safety_col in safety_cols])\n",
    "        row[\"prod_avg\"] = np.mean([row[prod_col] for prod_col in prod_cols])\n",
    "        df_records.append(row)\n",
    "    df = pd.DataFrame.from_dict(df_records)\n",
    "    return df[columns]"
   ]
  },
  {
   "cell_type": "code",
   "execution_count": 55,
   "metadata": {},
   "outputs": [],
   "source": [
    "pred_root_dir = \"/data/jupiter/li.yu/exps/driveable_terrain_model/\"\n",
    "models = [\n",
    "    \"rgb_baseline_sample_a_v3_2\", \n",
    "    \"sa3_rgb_8cls_1002\", \n",
    "    \"sa3_rgbnir0822_rgb_8cls_1002\", \n",
    "    \"sa3_rgbnir0822rd_rgb_8cls_1002\", \n",
    "    \"sa3_rgbnir0822rdcc_rgb_8cls_1003\",\n",
    "]\n",
    "safety_sets = {\n",
    "    \"humans_on_path_v5_2023_halo_test_set_anno_with_ocal\": \"human_v5\",\n",
    "}\n",
    "prod_sets = {\n",
    "    \"20230912_halo_rgb_productivity_day_candidate_1_cleaned_v3_no_ocal\": \"day_1\", \n",
    "    \"20230929_halo_rgb_productivity_day_candidate_4_cleaned_v2_no_ocal\": \"day_4\", \n",
    "    \"20230929_halo_rgb_productivity_day_candidate_8_cleaned_v1_with_ocal_no_drop\": \"day_8\", \n",
    "    \"20230929_halo_rgb_productivity_day_candidate_10_cleaned_v1_no_ocal\": \"day_10\", \n",
    "    \"20230929_halo_rgb_productivity_day_candidate_12_dirty_cleaned_v0_no_ocal\": \"day_12\", \n",
    "    \"20230929_halo_rgb_productivity_day_candidate_13_dirty_no_ocal\": \"day_13\", \n",
    "    \"20230912_halo_rgb_productivity_night_candidate_0_no_ocal_rgb_branch\": \"night_0\", \n",
    "    \"20230929_halo_rgb_productivity_night_candidate_4_cleaned_v1_no_ocal\": \"night_4\"\n",
    "}\n",
    "size_list = [\"640\", \"768\"]"
   ]
  },
  {
   "cell_type": "code",
   "execution_count": 60,
   "metadata": {},
   "outputs": [
    {
     "data": {
      "text/html": "<div>\n<style scoped>\n    .dataframe tbody tr th:only-of-type {\n        vertical-align: middle;\n    }\n\n    .dataframe tbody tr th {\n        vertical-align: top;\n    }\n\n    .dataframe thead th {\n        text-align: right;\n    }\n</style>\n<table border=\"1\" class=\"dataframe\">\n  <thead>\n    <tr style=\"text-align: right;\">\n      <th></th>\n      <th>model</th>\n      <th>safety_avg</th>\n      <th>prod_avg</th>\n      <th>human_v5_640</th>\n      <th>human_v5_768</th>\n      <th>day_10_640</th>\n      <th>day_10_768</th>\n      <th>day_12_640</th>\n      <th>day_12_768</th>\n      <th>day_13_640</th>\n      <th>...</th>\n      <th>day_1_640</th>\n      <th>day_1_768</th>\n      <th>day_4_640</th>\n      <th>day_4_768</th>\n      <th>day_8_640</th>\n      <th>day_8_768</th>\n      <th>night_0_640</th>\n      <th>night_0_768</th>\n      <th>night_4_640</th>\n      <th>night_4_768</th>\n    </tr>\n  </thead>\n  <tbody>\n    <tr>\n      <th>0</th>\n      <td>rgb_baseline_sample_a_v3_2</td>\n      <td>0.99755</td>\n      <td>0.98998</td>\n      <td>0.99840</td>\n      <td>0.99670</td>\n      <td>0.99727</td>\n      <td>0.99317</td>\n      <td>0.99839</td>\n      <td>0.99841</td>\n      <td>0.99758</td>\n      <td>...</td>\n      <td>1.00000</td>\n      <td>0.99787</td>\n      <td>0.99443</td>\n      <td>0.99110</td>\n      <td>0.94434</td>\n      <td>0.93008</td>\n      <td>1.0</td>\n      <td>1.0</td>\n      <td>0.99928</td>\n      <td>0.99920</td>\n    </tr>\n    <tr>\n      <th>1</th>\n      <td>sa3_rgb_8cls_1002</td>\n      <td>0.99510</td>\n      <td>0.99037</td>\n      <td>0.99681</td>\n      <td>0.99340</td>\n      <td>0.99864</td>\n      <td>0.99488</td>\n      <td>0.99901</td>\n      <td>0.99874</td>\n      <td>0.99758</td>\n      <td>...</td>\n      <td>1.00000</td>\n      <td>0.99681</td>\n      <td>0.99461</td>\n      <td>0.99165</td>\n      <td>0.94710</td>\n      <td>0.92919</td>\n      <td>1.0</td>\n      <td>1.0</td>\n      <td>0.99986</td>\n      <td>0.99967</td>\n    </tr>\n    <tr>\n      <th>2</th>\n      <td>sa3_rgbnir0822_rgb_8cls_1002</td>\n      <td>0.99673</td>\n      <td>0.98840</td>\n      <td>0.99840</td>\n      <td>0.99505</td>\n      <td>0.98636</td>\n      <td>0.98179</td>\n      <td>0.99858</td>\n      <td>0.99836</td>\n      <td>0.99677</td>\n      <td>...</td>\n      <td>1.00000</td>\n      <td>0.99362</td>\n      <td>0.99210</td>\n      <td>0.99090</td>\n      <td>0.94848</td>\n      <td>0.93804</td>\n      <td>1.0</td>\n      <td>1.0</td>\n      <td>0.99270</td>\n      <td>0.99814</td>\n    </tr>\n    <tr>\n      <th>3</th>\n      <td>sa3_rgbnir0822rd_rgb_8cls_1002</td>\n      <td>0.99755</td>\n      <td>0.98904</td>\n      <td>0.99840</td>\n      <td>0.99670</td>\n      <td>0.99045</td>\n      <td>0.98862</td>\n      <td>0.99907</td>\n      <td>0.99834</td>\n      <td>0.99597</td>\n      <td>...</td>\n      <td>0.99718</td>\n      <td>0.99362</td>\n      <td>0.99461</td>\n      <td>0.99199</td>\n      <td>0.95078</td>\n      <td>0.93698</td>\n      <td>1.0</td>\n      <td>1.0</td>\n      <td>0.99147</td>\n      <td>0.99648</td>\n    </tr>\n    <tr>\n      <th>4</th>\n      <td>sa3_rgbnir0822rdcc_rgb_8cls_1003</td>\n      <td>0.99796</td>\n      <td>0.98932</td>\n      <td>0.99840</td>\n      <td>0.99752</td>\n      <td>0.99591</td>\n      <td>0.98919</td>\n      <td>0.99716</td>\n      <td>0.99736</td>\n      <td>0.99677</td>\n      <td>...</td>\n      <td>0.99435</td>\n      <td>0.99469</td>\n      <td>0.99497</td>\n      <td>0.99220</td>\n      <td>0.95032</td>\n      <td>0.93733</td>\n      <td>1.0</td>\n      <td>1.0</td>\n      <td>0.99263</td>\n      <td>0.99745</td>\n    </tr>\n  </tbody>\n</table>\n<p>5 rows × 21 columns</p>\n</div>",
      "text/plain": "                              model  safety_avg  prod_avg  human_v5_640  \\\n0        rgb_baseline_sample_a_v3_2     0.99755   0.98998       0.99840   \n1                 sa3_rgb_8cls_1002     0.99510   0.99037       0.99681   \n2      sa3_rgbnir0822_rgb_8cls_1002     0.99673   0.98840       0.99840   \n3    sa3_rgbnir0822rd_rgb_8cls_1002     0.99755   0.98904       0.99840   \n4  sa3_rgbnir0822rdcc_rgb_8cls_1003     0.99796   0.98932       0.99840   \n\n   human_v5_768  day_10_640  day_10_768  day_12_640  day_12_768  day_13_640  \\\n0       0.99670     0.99727     0.99317     0.99839     0.99841     0.99758   \n1       0.99340     0.99864     0.99488     0.99901     0.99874     0.99758   \n2       0.99505     0.98636     0.98179     0.99858     0.99836     0.99677   \n3       0.99670     0.99045     0.98862     0.99907     0.99834     0.99597   \n4       0.99752     0.99591     0.98919     0.99716     0.99736     0.99677   \n\n   ...  day_1_640  day_1_768  day_4_640  day_4_768  day_8_640  day_8_768  \\\n0  ...    1.00000    0.99787    0.99443    0.99110    0.94434    0.93008   \n1  ...    1.00000    0.99681    0.99461    0.99165    0.94710    0.92919   \n2  ...    1.00000    0.99362    0.99210    0.99090    0.94848    0.93804   \n3  ...    0.99718    0.99362    0.99461    0.99199    0.95078    0.93698   \n4  ...    0.99435    0.99469    0.99497    0.99220    0.95032    0.93733   \n\n   night_0_640  night_0_768  night_4_640  night_4_768  \n0          1.0          1.0      0.99928      0.99920  \n1          1.0          1.0      0.99986      0.99967  \n2          1.0          1.0      0.99270      0.99814  \n3          1.0          1.0      0.99147      0.99648  \n4          1.0          1.0      0.99263      0.99745  \n\n[5 rows x 21 columns]"
     },
     "execution_count": 60,
     "metadata": {},
     "output_type": "execute_result"
    }
   ],
   "source": [
    "df = collect_results(pred_root_dir, models, safety_sets, prod_sets, size_list)\n",
    "df.round(5)"
   ]
  },
  {
   "cell_type": "markdown",
   "metadata": {},
   "source": [
    "## Evaluate performance on distance"
   ]
  },
  {
   "cell_type": "code",
   "execution_count": 11,
   "metadata": {},
   "outputs": [
    {
     "name": "stderr",
     "output_type": "stream",
     "text": [
      "/home/li.yu/anaconda3/envs/pytorchlightning/lib/python3.8/site-packages/IPython/core/interactiveshell.py:3437: DtypeWarning: Columns (23,80,91,92,93,94,95,97,98,100,101,102,103,104,105,106,107,108,118,178,179,185,187,197,198,202,203,204,205,225,230,231,232,235,237,241,252,253,286,287) have mixed types.Specify dtype option on import or set low_memory=False.\n",
      "  exec(code_obj, self.user_global_ns, self.user_ns)\n"
     ]
    },
    {
     "data": {
      "text/plain": "(15948, 326)"
     },
     "execution_count": 11,
     "metadata": {},
     "output_type": "execute_result"
    }
   ],
   "source": [
    "# root_dir = '/data/jupiter/li.yu/data'\n",
    "# root_dir = '/data/jupiter/datasets'\n",
    "root_dir = '/data2/jupiter/datasets'\n",
    "# dataset = 'Jupiter_train_v6_2'\n",
    "# dataset = 'Jupiter_halo_implement_labeled_data_test_06162023_stereo'\n",
    "# dataset = 'halo_rgb_stereo_train_v6_1'\n",
    "# dataset = 'halo_rgb_stereo_test_v6_1'\n",
    "# dataset = 'halo_rgb_stereo_train_v6_2_full_res'\n",
    "# dataset = 'vehicles_annotations_interim_halo_v6_2_mainline'\n",
    "dataset = 'halo_humans_on_path_test_v6_2_2_test_dataset'\n",
    "csv = os.path.join(root_dir, dataset, 'master_annotations.csv')\n",
    "converters = {\"label_map\": ast.literal_eval, \"label_counts\": ast.literal_eval}\n",
    "# converters = {}\n",
    "df = pd.read_csv(csv, converters=converters).drop_duplicates(subset='unique_id')\n",
    "df.shape"
   ]
  },
  {
   "cell_type": "code",
   "execution_count": 20,
   "metadata": {},
   "outputs": [
    {
     "name": "stdout",
     "output_type": "stream",
     "text": [
      "(15932, 22)\n",
      "(15932, 44)\n"
     ]
    }
   ],
   "source": [
    "# get distance df\n",
    "dist_csv = '/data/jupiter/li.yu/data/halo_rgb_stereo_train_test/test_v6_2.csv'\n",
    "dist_df = pd.read_csv(dist_csv).drop_duplicates(subset='unique_id')\n",
    "dist_df.shape\n",
    "\n",
    "# merge with dataset df\n",
    "df2 = dist_df.merge(df[['unique_id', 'stereo_pipeline_npz_save_path', 'rectified_label_save_path']], on='unique_id').drop_duplicates(subset='unique_id')\n",
    "# df2 = df_output.merge(df, on='unique_id').drop_duplicates(subset='unique_id')\n",
    "print(df2.shape)\n",
    "\n",
    "# get human and vehicle aspect ratio (width / height)\n",
    "df2['human_aspect_ratio'] = None\n",
    "df2.loc[df2['is_human_present'] == 'Yes', 'human_aspect_ratio'] = (df2['human_max_col'] - df2['human_min_col'] + 1) / (df2['human_max_row'] - df2['human_min_row'] + 1)\n",
    "df2['vehicle_aspect_ratio'] = None\n",
    "df2.loc[df2['is_vehicle_present'] == 'Yes', 'vehicle_aspect_ratio'] = (df2['vehicle_max_col'] - df2['vehicle_min_col'] + 1) / (df2['vehicle_max_row'] - df2['vehicle_min_row'] + 1)\n",
    "\n",
    "# get distance based counts\n",
    "distance_cols = []\n",
    "for d in range(0, 100, 10):\n",
    "    df2[f'human_{d}_{d+10}m'] = (df2['is_human_present'] == 'Yes') & (df2['human_90_percentile_depth'] >= d/100) & (df2['human_90_percentile_depth'] < d/100+0.1)\n",
    "    df2.loc[df2[f'human_{d}_{d+10}m'] == True, f'human_{d}_{d+10}m'] = 'Yes'\n",
    "    df2.loc[df2[f'human_{d}_{d+10}m'] == False, f'human_{d}_{d+10}m'] = None\n",
    "    df2[f'vehicle_{d}_{d+10}m'] = (df2['is_vehicle_present'] == 'Yes') & (df2['vehicle_90_percentile_depth'] >= d/100) & (df2['vehicle_90_percentile_depth'] < d/100+0.1)\n",
    "    df2.loc[df2[f'vehicle_{d}_{d+10}m'] == True, f'vehicle_{d}_{d+10}m'] = 'Yes'\n",
    "    df2.loc[df2[f'vehicle_{d}_{d+10}m'] == False, f'vehicle_{d}_{d+10}m'] = None\n",
    "    distance_cols.append(f'human_{d}_{d+10}m')\n",
    "    distance_cols.append(f'vehicle_{d}_{d+10}m')\n",
    "print(df2.shape)"
   ]
  },
  {
   "cell_type": "code",
   "execution_count": 46,
   "metadata": {},
   "outputs": [],
   "source": [
    "pred_root_dir = '/data/jupiter/li.yu/exps/driveable_terrain_model'\n",
    "models = [\n",
    "    'v62_50k_lite12_pt_0323',\n",
    "    'v62_50k_lite12_pt_cnp_0323',\n",
    "    'v62_50k_lite12_pt_cnp_ds02505_0324',\n",
    "    # 'v62_50k_lite12_pt_cnp_ds07505_0324',\n",
    "    ]\n",
    "pred_suffix = ['_RGBD_0,0_640', '_RGBD_0,0_768']\n",
    "\n",
    "def get_pred_df(pred_root_dir, model, dataset, pred_suffix):\n",
    "    dfs = [pd.read_csv(os.path.join(pred_root_dir, model, dataset+ps, 'output.csv')) for ps in pred_suffix]\n",
    "    return pd.concat(dfs, ignore_index=True)\n",
    "\n",
    "def get_safety(df):\n",
    "    tp_cnt = len(df[df.state == 'true_positive'])\n",
    "    fn_cnt = len(df[df.state == 'false_negative'])\n",
    "    safety = tp_cnt / (tp_cnt + fn_cnt + 1e-6)\n",
    "    return safety\n",
    "\n",
    "def get_distance_based_safety(pred_df):\n",
    "    safety_results = []\n",
    "    X = [f'{d}_{d+10}' for d in range(0, 100, 10)]\n",
    "    for d in range(0, 100, 10):\n",
    "        sub_df = pred_df[(pred_df[f'human_{d}_{d+10}m'] == 'Yes')]\n",
    "        safety_results.append(get_safety(sub_df))\n",
    "    return X, safety_results\n",
    "\n",
    "def get_pixel_based_safety(pred_df, pixel_bins):\n",
    "    X, safety_results = [], []\n",
    "    for i in range(len(pixel_bins)-1):\n",
    "        X.append(f'{pixel_bins[i]}_{pixel_bins[i+1]}')\n",
    "        sub_df = pred_df[(pred_df.human_pixels > pixel_bins[i]) & (pred_df.human_pixels <= pixel_bins[i+1])]\n",
    "        safety_results.append(get_safety(sub_df))\n",
    "    return X, safety_results\n",
    "\n",
    "# def get_results_from_csv(pred_root_dir, model, dataset, pred_suffix, data_dist_df):\n",
    "#     pred_df = get_pred_df(pred_root_dir, model, dataset, pred_suffix)\n",
    "\n",
    "#     pred_df2 = data_dist_df.merge(pred_df, on='unique_id').drop_duplicates(subset='unique_id')\n",
    "#     print(pred_df.shape, pred_df2.shape)\n",
    "\n",
    "#     X, Y = get_distance_based_safety(pred_df2)\n",
    "#     return X, Y\n",
    "\n",
    "def plot_bar_chart(X, Ys, models, metric_key='Distance (m)'):\n",
    "    plt.figure(1, figsize=(10, 5))\n",
    "    X_axis = np.arange(len(X))\n",
    "    for i, (model,Y) in enumerate(zip(models, Ys)):\n",
    "        plt.bar(X_axis + (i - len(Ys) // 2)*0.2, Y, 0.2, label=model)\n",
    "    plt.xticks(X_axis, X) \n",
    "    plt.xlabel(f\"Human {metric_key}\") \n",
    "    plt.ylabel(\"Human Recall\") \n",
    "    plt.title(f\"Human Recall on {metric_key}\") \n",
    "    plt.legend(loc='lower right') \n",
    "    plt.show() "
   ]
  },
  {
   "cell_type": "code",
   "execution_count": 21,
   "metadata": {},
   "outputs": [
    {
     "name": "stdout",
     "output_type": "stream",
     "text": [
      "(15948, 11)\n",
      "(15932, 54)\n"
     ]
    }
   ],
   "source": [
    "mi = 0\n",
    "pred_df = get_pred_df(pred_root_dir, models[mi], dataset, pred_suffix)\n",
    "print(pred_df.shape)\n",
    "\n",
    "pred_df2 = df2.merge(pred_df, on='unique_id').drop_duplicates(subset='unique_id')\n",
    "print(pred_df2.shape)"
   ]
  },
  {
   "cell_type": "code",
   "execution_count": 22,
   "metadata": {},
   "outputs": [
    {
     "data": {
      "text/html": "<div>\n<style scoped>\n    .dataframe tbody tr th:only-of-type {\n        vertical-align: middle;\n    }\n\n    .dataframe tbody tr th {\n        vertical-align: top;\n    }\n\n    .dataframe thead th {\n        text-align: right;\n    }\n</style>\n<table border=\"1\" class=\"dataframe\">\n  <thead>\n    <tr style=\"text-align: right;\">\n      <th></th>\n      <th>unique_id</th>\n      <th>image_size</th>\n      <th>is_human_present</th>\n      <th>human_pixels</th>\n      <th>human_min_row</th>\n      <th>human_max_row</th>\n      <th>human_min_col</th>\n      <th>human_max_col</th>\n      <th>human_median_depth</th>\n      <th>human_90_percentile_depth</th>\n      <th>...</th>\n      <th>human_50_60m</th>\n      <th>vehicle_50_60m</th>\n      <th>human_60_70m</th>\n      <th>vehicle_60_70m</th>\n      <th>human_70_80m</th>\n      <th>vehicle_70_80m</th>\n      <th>human_80_90m</th>\n      <th>vehicle_80_90m</th>\n      <th>human_90_100m</th>\n      <th>vehicle_90_100m</th>\n    </tr>\n  </thead>\n  <tbody>\n    <tr>\n      <th>0</th>\n      <td>64de6c1e3412ff7683591a9f_T01_T03</td>\n      <td>(512, 768)</td>\n      <td>NaN</td>\n      <td>NaN</td>\n      <td>NaN</td>\n      <td>NaN</td>\n      <td>NaN</td>\n      <td>NaN</td>\n      <td>NaN</td>\n      <td>NaN</td>\n      <td>...</td>\n      <td>None</td>\n      <td>None</td>\n      <td>None</td>\n      <td>None</td>\n      <td>None</td>\n      <td>None</td>\n      <td>None</td>\n      <td>None</td>\n      <td>None</td>\n      <td>None</td>\n    </tr>\n    <tr>\n      <th>1</th>\n      <td>64de71bd4faf245bf3dd3342_T01_T03</td>\n      <td>(512, 768)</td>\n      <td>Yes</td>\n      <td>2047.0</td>\n      <td>385.0</td>\n      <td>455.0</td>\n      <td>701.0</td>\n      <td>767.0</td>\n      <td>0.05184</td>\n      <td>0.054494</td>\n      <td>...</td>\n      <td>None</td>\n      <td>None</td>\n      <td>None</td>\n      <td>None</td>\n      <td>None</td>\n      <td>None</td>\n      <td>None</td>\n      <td>None</td>\n      <td>None</td>\n      <td>None</td>\n    </tr>\n  </tbody>\n</table>\n<p>2 rows × 44 columns</p>\n</div>",
      "text/plain": "                          unique_id  image_size is_human_present  \\\n0  64de6c1e3412ff7683591a9f_T01_T03  (512, 768)              NaN   \n1  64de71bd4faf245bf3dd3342_T01_T03  (512, 768)              Yes   \n\n   human_pixels  human_min_row  human_max_row  human_min_col  human_max_col  \\\n0           NaN            NaN            NaN            NaN            NaN   \n1        2047.0          385.0          455.0          701.0          767.0   \n\n   human_median_depth  human_90_percentile_depth  ...  human_50_60m  \\\n0                 NaN                        NaN  ...          None   \n1             0.05184                   0.054494  ...          None   \n\n  vehicle_50_60m  human_60_70m  vehicle_60_70m  human_70_80m  vehicle_70_80m  \\\n0           None          None            None          None            None   \n1           None          None            None          None            None   \n\n   human_80_90m  vehicle_80_90m  human_90_100m  vehicle_90_100m  \n0          None            None           None             None  \n1          None            None           None             None  \n\n[2 rows x 44 columns]"
     },
     "execution_count": 22,
     "metadata": {},
     "output_type": "execute_result"
    }
   ],
   "source": [
    "df2.head(2)"
   ]
  },
  {
   "cell_type": "code",
   "execution_count": 36,
   "metadata": {},
   "outputs": [
    {
     "data": {
      "image/png": "[encoded data removed]",
      "text/plain": "<Figure size 432x288 with 1 Axes>"
     },
     "metadata": {
      "needs_background": "light"
     },
     "output_type": "display_data"
    }
   ],
   "source": [
    "pred_df2.human_pixels.hist(bins=100)\n",
    "plt.show()"
   ]
  },
  {
   "cell_type": "code",
   "execution_count": 47,
   "metadata": {},
   "outputs": [
    {
     "name": "stdout",
     "output_type": "stream",
     "text": [
      "process v62_50k_lite12_pt_0323\n",
      "(15948, 11) (15932, 54)\n",
      "process v62_50k_lite12_pt_cnp_0323\n",
      "(15948, 11) (15932, 54)\n",
      "process v62_50k_lite12_pt_cnp_ds02505_0324\n",
      "(15948, 11) (15932, 54)\n"
     ]
    },
    {
     "data": {
      "image/png": "[encoded data removed]",
      "text/plain": "<Figure size 720x360 with 1 Axes>"
     },
     "metadata": {
      "needs_background": "light"
     },
     "output_type": "display_data"
    }
   ],
   "source": [
    "# human distance based results\n",
    "# X = [f'{d}_{d+10}' for d in range(0, 100, 10)]\n",
    "Ys = []\n",
    "for model in models:\n",
    "    print('process', model)\n",
    "    pred_df = get_pred_df(pred_root_dir, model, dataset, pred_suffix)\n",
    "    pred_df2 = df2.merge(pred_df, on='unique_id').drop_duplicates(subset='unique_id')\n",
    "    print(pred_df.shape, pred_df2.shape)\n",
    "    X, Y = get_distance_based_safety(pred_df2)\n",
    "    Ys.append(Y)\n",
    "\n",
    "plot_bar_chart(X, Ys, models, metric_key='Distance (m)')"
   ]
  },
  {
   "cell_type": "code",
   "execution_count": 48,
   "metadata": {},
   "outputs": [
    {
     "name": "stdout",
     "output_type": "stream",
     "text": [
      "process v62_50k_lite12_pt_0323\n",
      "(15948, 11) (15932, 54)\n",
      "process v62_50k_lite12_pt_cnp_0323\n",
      "(15948, 11) (15932, 54)\n",
      "process v62_50k_lite12_pt_cnp_ds02505_0324\n",
      "(15948, 11) (15932, 54)\n"
     ]
    },
    {
     "data": {
      "image/png": "[encoded data removed]",
      "text/plain": "<Figure size 720x360 with 1 Axes>"
     },
     "metadata": {
      "needs_background": "light"
     },
     "output_type": "display_data"
    }
   ],
   "source": [
    "# human pixel based results\n",
    "pixel_bins = [0, 72, 120, 500, 1000, 5000, 1000000]\n",
    "Ys = []\n",
    "for model in models:\n",
    "    print('process', model)\n",
    "    pred_df = get_pred_df(pred_root_dir, model, dataset, pred_suffix)\n",
    "    pred_df2 = df2.merge(pred_df, on='unique_id').drop_duplicates(subset='unique_id')\n",
    "    print(pred_df.shape, pred_df2.shape)\n",
    "    X, Y = get_pixel_based_safety(pred_df2, pixel_bins)\n",
    "    Ys.append(Y)\n",
    "\n",
    "plot_bar_chart(X, Ys, models, metric_key='Pixels')"
   ]
  },
  {
   "cell_type": "code",
   "execution_count": null,
   "metadata": {},
   "outputs": [],
   "source": []
  }
 ],
 "metadata": {
  "kernelspec": {
   "display_name": "Python 3.8.8 64-bit ('pytorchlightning': conda)",
   "name": "python388jvsc74a57bd01eceddbeeb55f686303d64ef8e05e300429be7c506c9f9cad24a6dfe5f27b555"
  },
  "language_info": {
   "codemirror_mode": {
    "name": "ipython",
    "version": 3
   },
   "file_extension": ".py",
   "mimetype": "text/x-python",
   "name": "python",
   "nbconvert_exporter": "python",
   "pygments_lexer": "ipython3",
   "version": "3.8.8"
  },
  "metadata": {
   "interpreter": {
    "hash": "1eceddbeeb55f686303d64ef8e05e300429be7c506c9f9cad24a6dfe5f27b555"
   }
  },
  "orig_nbformat": 2
 },
 "nbformat": 4,
 "nbformat_minor": 2
}
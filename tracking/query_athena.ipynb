{
 "cells": [
  {
   "cell_type": "code",
   "execution_count": 1,
   "id": "standard-protocol",
   "metadata": {},
   "outputs": [
    {
     "data": {
      "text/html": [
       "<style>.container { width:90% !important; }</style>"
      ],
      "text/plain": [
       "<IPython.core.display.HTML object>"
      ]
     },
     "metadata": {},
     "output_type": "display_data"
    }
   ],
   "source": [
    "from IPython.core.display import display, HTML\n",
    "display(HTML(\"<style>.container { width:90% !important; }</style>\"))"
   ]
  },
  {
   "cell_type": "code",
   "execution_count": 2,
   "id": "psychological-audit",
   "metadata": {},
   "outputs": [
    {
     "name": "stdout",
     "output_type": "stream",
     "text": [
      "7.6.1\n"
     ]
    }
   ],
   "source": [
    "import json\n",
    "import time\n",
    "from tqdm import tqdm\n",
    "from collections import Counter\n",
    "from datetime import datetime, timezone\n",
    "\n",
    "import pandas as pd\n",
    "\n",
    "import os\n",
    "# os.environ[\"BRT_ENV\"] = 'prod'\n",
    "os.environ['AWS_PROFILE'] = 'sso'\n",
    "import brtdevkit\n",
    "brtdevkit.log = 'info'\n",
    "print(brtdevkit.__version__)\n",
    "\n",
    "from brtdevkit.core.db.athena import AthenaClient, Table\n",
    "from brtdevkit.data import Image, Dataset\n",
    "\n",
    "import sys\n",
    "sys.path.append('/home/bluerivertech/li.yu/code/JupiterCVML/europa/base/src/europa')\n",
    "from aletheia_dataset_creator.dataset_tools.aletheia_dataset_helpers import imageids_to_dataset, imageids_to_dataframe, get_stereo_images_df, imageids_to_annotation_df"
   ]
  },
  {
   "cell_type": "markdown",
   "id": "sublime-excellence",
   "metadata": {},
   "source": [
    "### get dataset"
   ]
  },
  {
   "cell_type": "code",
   "execution_count": 3,
   "id": "chinese-guitar",
   "metadata": {},
   "outputs": [
    {
     "name": "stdout",
     "output_type": "stream",
     "text": [
      "(31978, 111)\n"
     ]
    },
    {
     "data": {
      "text/html": [
       "<div>\n",
       "<style scoped>\n",
       "    .dataframe tbody tr th:only-of-type {\n",
       "        vertical-align: middle;\n",
       "    }\n",
       "\n",
       "    .dataframe tbody tr th {\n",
       "        vertical-align: top;\n",
       "    }\n",
       "\n",
       "    .dataframe thead th {\n",
       "        text-align: right;\n",
       "    }\n",
       "</style>\n",
       "<table border=\"1\" class=\"dataframe\">\n",
       "  <thead>\n",
       "    <tr style=\"text-align: right;\">\n",
       "      <th></th>\n",
       "      <th>artifact_debayeredrgb_0__id</th>\n",
       "      <th>artifact_debayeredrgb_0_content_hash</th>\n",
       "      <th>artifact_debayeredrgb_0_created_at</th>\n",
       "      <th>artifact_debayeredrgb_0_data_category</th>\n",
       "      <th>artifact_debayeredrgb_0_id</th>\n",
       "      <th>artifact_debayeredrgb_0_image</th>\n",
       "      <th>artifact_debayeredrgb_0_is_archived</th>\n",
       "      <th>artifact_debayeredrgb_0_kind</th>\n",
       "      <th>artifact_debayeredrgb_0_project_name</th>\n",
       "      <th>artifact_debayeredrgb_0_s3_bucket</th>\n",
       "      <th>...</th>\n",
       "      <th>system_name</th>\n",
       "      <th>teleop_request</th>\n",
       "      <th>teleop_response</th>\n",
       "      <th>terrain_type</th>\n",
       "      <th>updated_at</th>\n",
       "      <th>vpu_position</th>\n",
       "      <th>was_compressed</th>\n",
       "      <th>water_management</th>\n",
       "      <th>weather</th>\n",
       "      <th>weather_summary</th>\n",
       "    </tr>\n",
       "  </thead>\n",
       "  <tbody>\n",
       "    <tr>\n",
       "      <th>0</th>\n",
       "      <td>6462816d000a1353b5968ce6</td>\n",
       "      <td>628a60d1e2e326fcdad9a0a0877a0726</td>\n",
       "      <td>2023-05-15T19:01:01.895000</td>\n",
       "      <td>eng</td>\n",
       "      <td>6462816d000a1353b5968ce6</td>\n",
       "      <td>6462816d000a1353b5968ce4</td>\n",
       "      <td>False</td>\n",
       "      <td>debayeredrgb</td>\n",
       "      <td>jupiter</td>\n",
       "      <td>brt-mesa-jupiter-images-eng</td>\n",
       "      <td>...</td>\n",
       "      <td>loamy_731</td>\n",
       "      <td>NaN</td>\n",
       "      <td>NaN</td>\n",
       "      <td>openfield</td>\n",
       "      <td>2023-06-28T17:06:00.651000</td>\n",
       "      <td>1</td>\n",
       "      <td>False</td>\n",
       "      <td>tile</td>\n",
       "      <td>sunny</td>\n",
       "      <td>{'datetime': '01:00:00', 'datetimeEpoch': 1683...</td>\n",
       "    </tr>\n",
       "    <tr>\n",
       "      <th>1</th>\n",
       "      <td>64628181c458bb640eaece42</td>\n",
       "      <td>9645ce704febb05f830e55166b429a9e</td>\n",
       "      <td>2023-05-15T19:01:21.622000</td>\n",
       "      <td>eng</td>\n",
       "      <td>64628181c458bb640eaece42</td>\n",
       "      <td>64628181c458bb640eaece40</td>\n",
       "      <td>False</td>\n",
       "      <td>debayeredrgb</td>\n",
       "      <td>jupiter</td>\n",
       "      <td>brt-mesa-jupiter-images-eng</td>\n",
       "      <td>...</td>\n",
       "      <td>loamy_731</td>\n",
       "      <td>NaN</td>\n",
       "      <td>NaN</td>\n",
       "      <td>openfield</td>\n",
       "      <td>2023-06-28T17:06:00.650000</td>\n",
       "      <td>1</td>\n",
       "      <td>False</td>\n",
       "      <td>tile</td>\n",
       "      <td>sunny</td>\n",
       "      <td>{'datetime': '01:00:00', 'datetimeEpoch': 1683...</td>\n",
       "    </tr>\n",
       "  </tbody>\n",
       "</table>\n",
       "<p>2 rows × 111 columns</p>\n",
       "</div>"
      ],
      "text/plain": [
       "  artifact_debayeredrgb_0__id artifact_debayeredrgb_0_content_hash  \\\n",
       "0    6462816d000a1353b5968ce6     628a60d1e2e326fcdad9a0a0877a0726   \n",
       "1    64628181c458bb640eaece42     9645ce704febb05f830e55166b429a9e   \n",
       "\n",
       "  artifact_debayeredrgb_0_created_at artifact_debayeredrgb_0_data_category  \\\n",
       "0         2023-05-15T19:01:01.895000                                   eng   \n",
       "1         2023-05-15T19:01:21.622000                                   eng   \n",
       "\n",
       "  artifact_debayeredrgb_0_id artifact_debayeredrgb_0_image  \\\n",
       "0   6462816d000a1353b5968ce6      6462816d000a1353b5968ce4   \n",
       "1   64628181c458bb640eaece42      64628181c458bb640eaece40   \n",
       "\n",
       "  artifact_debayeredrgb_0_is_archived artifact_debayeredrgb_0_kind  \\\n",
       "0                               False                 debayeredrgb   \n",
       "1                               False                 debayeredrgb   \n",
       "\n",
       "  artifact_debayeredrgb_0_project_name artifact_debayeredrgb_0_s3_bucket  ...  \\\n",
       "0                              jupiter       brt-mesa-jupiter-images-eng  ...   \n",
       "1                              jupiter       brt-mesa-jupiter-images-eng  ...   \n",
       "\n",
       "  system_name teleop_request teleop_response terrain_type  \\\n",
       "0   loamy_731            NaN             NaN    openfield   \n",
       "1   loamy_731            NaN             NaN    openfield   \n",
       "\n",
       "                   updated_at vpu_position was_compressed water_management  \\\n",
       "0  2023-06-28T17:06:00.651000            1          False             tile   \n",
       "1  2023-06-28T17:06:00.650000            1          False             tile   \n",
       "\n",
       "  weather                                    weather_summary  \n",
       "0   sunny  {'datetime': '01:00:00', 'datetimeEpoch': 1683...  \n",
       "1   sunny  {'datetime': '01:00:00', 'datetimeEpoch': 1683...  \n",
       "\n",
       "[2 rows x 111 columns]"
      ]
     },
     "execution_count": 3,
     "metadata": {},
     "output_type": "execute_result"
    }
   ],
   "source": [
    "#if the dataset is on aletheia you can retrieve it or read in the csv\n",
    "test_dataset = Dataset.retrieve(id=\"64cad86b14aabd709586690d\")\n",
    "# test_dataset = Dataset.retrieve(name=\"Jupiter_human_and_vehicle_train_dataset_v1\")\n",
    "test_df = test_dataset.to_dataframe()\n",
    "print(test_df.shape)\n",
    "test_df.head(2)"
   ]
  },
  {
   "cell_type": "code",
   "execution_count": 5,
   "id": "needed-glenn",
   "metadata": {},
   "outputs": [
    {
     "data": {
      "text/plain": [
       "(30000, 109)"
      ]
     },
     "execution_count": 5,
     "metadata": {},
     "output_type": "execute_result"
    }
   ],
   "source": [
    "test_df = test_df[test_df.camera_location.str.endswith('left')]\n",
    "# test_df = test_df[test_df.camera_location.str.startswith('front')]\n",
    "test_df.shape"
   ]
  },
  {
   "cell_type": "code",
   "execution_count": 3,
   "id": "existing-protest",
   "metadata": {},
   "outputs": [
    {
     "data": {
      "text/html": [
       "<div>\n",
       "<style scoped>\n",
       "    .dataframe tbody tr th:only-of-type {\n",
       "        vertical-align: middle;\n",
       "    }\n",
       "\n",
       "    .dataframe tbody tr th {\n",
       "        vertical-align: top;\n",
       "    }\n",
       "\n",
       "    .dataframe thead th {\n",
       "        text-align: right;\n",
       "    }\n",
       "</style>\n",
       "<table border=\"1\" class=\"dataframe\">\n",
       "  <thead>\n",
       "    <tr style=\"text-align: right;\">\n",
       "      <th></th>\n",
       "      <th>id</th>\n",
       "    </tr>\n",
       "    <tr>\n",
       "      <th>camera_location</th>\n",
       "      <th></th>\n",
       "    </tr>\n",
       "  </thead>\n",
       "  <tbody>\n",
       "    <tr>\n",
       "      <th>front-center-left</th>\n",
       "      <td>4912</td>\n",
       "    </tr>\n",
       "    <tr>\n",
       "      <th>front-left-left</th>\n",
       "      <td>4844</td>\n",
       "    </tr>\n",
       "    <tr>\n",
       "      <th>front-right-left</th>\n",
       "      <td>4862</td>\n",
       "    </tr>\n",
       "    <tr>\n",
       "      <th>rear-left</th>\n",
       "      <td>5830</td>\n",
       "    </tr>\n",
       "    <tr>\n",
       "      <th>side-left-left</th>\n",
       "      <td>5741</td>\n",
       "    </tr>\n",
       "    <tr>\n",
       "      <th>side-right-left</th>\n",
       "      <td>5789</td>\n",
       "    </tr>\n",
       "  </tbody>\n",
       "</table>\n",
       "</div>"
      ],
      "text/plain": [
       "                     id\n",
       "camera_location        \n",
       "front-center-left  4912\n",
       "front-left-left    4844\n",
       "front-right-left   4862\n",
       "rear-left          5830\n",
       "side-left-left     5741\n",
       "side-right-left    5789"
      ]
     },
     "execution_count": 3,
     "metadata": {},
     "output_type": "execute_result"
    }
   ],
   "source": [
    "test_df[['id', 'camera_location']].groupby('camera_location').count()"
   ]
  },
  {
   "cell_type": "code",
   "execution_count": 4,
   "id": "breathing-richardson",
   "metadata": {
    "scrolled": true
   },
   "outputs": [
    {
     "name": "stdout",
     "output_type": "stream",
     "text": [
      "2023-04-27T12:55 75\n",
      "2023-04-27T12:56 458\n",
      "2023-04-27T12:57 572\n",
      "2023-04-27T12:58 524\n",
      "2023-04-27T12:59 361\n",
      "2023-04-27T13:00 431\n",
      "2023-04-27T13:01 35\n",
      "2023-04-27T13:02 543\n",
      "2023-04-27T13:03 11\n",
      "2023-05-01T22:50 277\n",
      "2023-05-01T22:51 322\n",
      "2023-05-01T22:52 242\n",
      "2023-05-01T22:53 392\n",
      "2023-05-01T22:54 535\n",
      "2023-05-01T22:55 461\n",
      "2023-05-01T22:56 380\n",
      "2023-05-01T22:57 67\n",
      "2023-05-01T22:58 386\n",
      "2023-05-01T22:59 394\n",
      "2023-05-01T23:00 477\n",
      "2023-05-01T23:01 531\n",
      "2023-05-01T23:02 542\n",
      "2023-05-01T23:03 542\n",
      "2023-05-01T23:04 528\n",
      "2023-05-01T23:05 332\n",
      "2023-05-01T23:06 273\n",
      "2023-05-01T23:07 498\n",
      "2023-05-01T23:08 547\n",
      "2023-05-01T23:09 34\n",
      "2023-05-04T00:48 321\n",
      "2023-05-04T00:49 525\n",
      "2023-05-04T00:50 506\n",
      "2023-05-04T00:51 291\n",
      "2023-05-04T00:52 430\n",
      "2023-05-04T00:53 514\n",
      "2023-05-04T00:54 93\n",
      "2023-05-04T00:55 118\n",
      "2023-05-04T00:56 280\n",
      "2023-05-04T00:57 303\n",
      "2023-05-04T00:58 520\n",
      "2023-05-04T00:59 509\n",
      "2023-05-04T01:00 183\n",
      "2023-05-04T01:01 448\n",
      "2023-05-04T01:02 550\n",
      "2023-05-04T01:03 458\n",
      "2023-05-04T01:04 499\n",
      "2023-05-04T01:05 535\n",
      "2023-05-04T01:06 264\n",
      "2023-05-04T01:07 527\n",
      "2023-05-04T01:08 568\n",
      "2023-05-04T01:09 519\n",
      "2023-05-04T01:10 498\n",
      "2023-05-04T01:11 523\n",
      "2023-05-04T01:12 327\n",
      "2023-05-04T01:15 527\n",
      "2023-05-04T01:16 449\n",
      "2023-05-04T01:17 372\n",
      "2023-05-04T01:18 248\n",
      "2023-05-04T01:19 295\n",
      "2023-05-04T01:20 478\n",
      "2023-05-04T01:21 551\n",
      "2023-05-04T01:22 196\n",
      "2023-05-04T01:39 226\n",
      "2023-05-04T01:40 531\n",
      "2023-05-04T01:41 488\n",
      "2023-05-04T01:42 557\n",
      "2023-05-04T01:43 540\n",
      "2023-05-04T01:44 542\n",
      "2023-05-04T01:45 407\n",
      "2023-05-04T01:46 291\n",
      "2023-05-04T01:47 469\n",
      "2023-05-04T01:48 578\n",
      "2023-05-04T01:49 381\n",
      "2023-05-04T01:50 31\n",
      "2023-05-04T01:51 375\n",
      "2023-05-04T01:56 472\n",
      "2023-05-04T01:57 247\n",
      "2023-05-04T01:58 506\n",
      "2023-05-04T01:59 408\n",
      "2023-05-04T02:00 447\n",
      "2023-05-04T02:01 287\n"
     ]
    }
   ],
   "source": [
    "# test_df = test_df[test_df.camera_location == 'rear-left']\n",
    "test_df['datehm'] = test_df.collected_on.apply(lambda x:str(x)[:16])\n",
    "l = list(test_df['datehm'].unique())\n",
    "l.sort()\n",
    "for t in l:\n",
    "    print(t, len(test_df[test_df.datehm == t]))"
   ]
  },
  {
   "cell_type": "code",
   "execution_count": 19,
   "id": "about-gasoline",
   "metadata": {},
   "outputs": [
    {
     "data": {
      "text/plain": [
       "(23488, 95)"
      ]
     },
     "execution_count": 19,
     "metadata": {},
     "output_type": "execute_result"
    }
   ],
   "source": [
    "# test_dfs = []\n",
    "test_dfs.append(test_df)\n",
    "test_df = pd.concat(test_dfs, ignore_index=True)\n",
    "test_df.shape"
   ]
  },
  {
   "cell_type": "markdown",
   "id": "powered-strain",
   "metadata": {},
   "source": [
    "### Run query"
   ]
  },
  {
   "cell_type": "code",
   "execution_count": 8,
   "id": "stretch-bouquet",
   "metadata": {},
   "outputs": [
    {
     "name": "stdout",
     "output_type": "stream",
     "text": [
      "8.189175367355347 s\n"
     ]
    },
    {
     "data": {
      "text/plain": [
       "((0, 212), 0)"
      ]
     },
     "execution_count": 8,
     "metadata": {},
     "output_type": "execute_result"
    }
   ],
   "source": [
    "# hard_drive_name = 'JUPD-048_2022-09-27'\n",
    "# start_datetime  = datetime(2022, 9, 28, hour=1, minute=18, second=0) #, tzinfo=timezone.utc)\n",
    "# end_datetime  = datetime(2022, 9, 28, hour=2, minute=47, second=0) #, tzinfo=timezone.utc)\n",
    "# start_datetime  = datetime(2022, 9, 28, tzinfo=timezone.utc) #, hour=3, minute=33, second=33) #, tzinfo=timezone.utc)\n",
    "start_datetime  = datetime(2023, 8, 28, hour=0, minute=0)   #, tzinfo=timezone.utc)\n",
    "end_datetime    = datetime(2023, 8, 30, hour=23, minute=59)  # this is EXclusive\n",
    "\n",
    "database = \"mesa-data-catalog-prod\"\n",
    "table = \"image_jupiter\"\n",
    "\n",
    "query = \\\n",
    "f\"\"\"\n",
    "SELECT *\n",
    "FROM {table} T\n",
    "WHERE \n",
    "    T.collected_on >= cast('{start_datetime}' as timestamp)\n",
    "    AND T.collected_on < cast('{end_datetime}' as timestamp)\n",
    "    AND T.robot_name = 'loamy_06'\n",
    "\"\"\"\n",
    "\n",
    "\"\"\"\n",
    "SELECT\n",
    "        *\n",
    "    FROM annotation_jupiter\n",
    "    WHERE\n",
    "     annotation_jupiter.image IN ('642607df1620247e2285d6ac')\n",
    "\"\"\"\n",
    "\n",
    "\"\"\"\n",
    "SELECT id, camera_location, operation_time, collected_on, state, county, operating_field_name, hdr_mode, robot_name, special_notes\n",
    "T.collected_on >= cast('{start_datetime}' as timestamp)\n",
    "    AND T.collected_on < cast('{end_datetime}' as timestamp)\n",
    "    AND T.camera_location LIKE 'front-%'\n",
    "    AND T.camera_location LIKE '%-left'\n",
    "    AND T.hard_drive_name = 'JUPD-154_2023-01-14'\n",
    "    AND T.robot_name LIKE 'loamy%'\n",
    "    AND T.operation_time != 'daytime'\n",
    "    AND T.has_nearby_stop_event = true\n",
    "ORDER BY RAND()\n",
    "LIMIT 40000\n",
    "\"\"\"\n",
    "\n",
    "start = time.time()\n",
    "athena = AthenaClient()\n",
    "df = athena.get_df(query)\n",
    "end = time.time()\n",
    "print(end - start, 's')\n",
    "df.shape, len(df) // 2"
   ]
  },
  {
   "cell_type": "code",
   "execution_count": 3,
   "id": "applicable-investment",
   "metadata": {
    "scrolled": false
   },
   "outputs": [
    {
     "name": "stderr",
     "output_type": "stream",
     "text": [
      "<ipython-input-3-3a11d5402787>:1: PerformanceWarning: DataFrame is highly fragmented.  This is usually the result of calling `frame.insert` many times, which has poor performance.  Consider joining all columns at once using pd.concat(axis=1) instead.  To get a de-fragmented frame, use `newframe = frame.copy()`\n",
      "  df['datehour'] = df.collected_on.apply(lambda x:str(x)[:13])\n"
     ]
    }
   ],
   "source": [
    "df['datehour'] = df.collected_on.apply(lambda x:str(x)[:13])\n",
    "# df['datetime'] = df.collected_on.apply(datetime.fromisoformat)"
   ]
  },
  {
   "cell_type": "code",
   "execution_count": 5,
   "id": "affected-wrong",
   "metadata": {},
   "outputs": [
    {
     "data": {
      "text/html": [
       "<div>\n",
       "<style scoped>\n",
       "    .dataframe tbody tr th:only-of-type {\n",
       "        vertical-align: middle;\n",
       "    }\n",
       "\n",
       "    .dataframe tbody tr th {\n",
       "        vertical-align: top;\n",
       "    }\n",
       "\n",
       "    .dataframe thead th {\n",
       "        text-align: right;\n",
       "    }\n",
       "</style>\n",
       "<table border=\"1\" class=\"dataframe\">\n",
       "  <thead>\n",
       "    <tr style=\"text-align: right;\">\n",
       "      <th></th>\n",
       "      <th>id</th>\n",
       "      <th>collected_on</th>\n",
       "      <th>datehour</th>\n",
       "    </tr>\n",
       "  </thead>\n",
       "  <tbody>\n",
       "    <tr>\n",
       "      <th>0</th>\n",
       "      <td>627ee633ced080bd315fc03d</td>\n",
       "      <td>2022-03-30 23:27:41.731</td>\n",
       "      <td>2022-03-30 23</td>\n",
       "    </tr>\n",
       "    <tr>\n",
       "      <th>1</th>\n",
       "      <td>627ee69f68e3fb073f05a636</td>\n",
       "      <td>2022-03-30 23:14:13.278</td>\n",
       "      <td>2022-03-30 23</td>\n",
       "    </tr>\n",
       "    <tr>\n",
       "      <th>2</th>\n",
       "      <td>627ee60d23b056f3b1206f12</td>\n",
       "      <td>2022-03-30 23:23:48.548</td>\n",
       "      <td>2022-03-30 23</td>\n",
       "    </tr>\n",
       "    <tr>\n",
       "      <th>3</th>\n",
       "      <td>627edff068e3fb073f058c6b</td>\n",
       "      <td>2022-03-30 23:39:01.724</td>\n",
       "      <td>2022-03-30 23</td>\n",
       "    </tr>\n",
       "    <tr>\n",
       "      <th>4</th>\n",
       "      <td>62801ab1ec0a49ecdd35b458</td>\n",
       "      <td>2022-03-30 23:29:03.751</td>\n",
       "      <td>2022-03-30 23</td>\n",
       "    </tr>\n",
       "    <tr>\n",
       "      <th>...</th>\n",
       "      <td>...</td>\n",
       "      <td>...</td>\n",
       "      <td>...</td>\n",
       "    </tr>\n",
       "    <tr>\n",
       "      <th>27545</th>\n",
       "      <td>627edb26dc1484bdb69fde82</td>\n",
       "      <td>2022-03-30 23:40:54.394</td>\n",
       "      <td>2022-03-30 23</td>\n",
       "    </tr>\n",
       "    <tr>\n",
       "      <th>27546</th>\n",
       "      <td>627edc9b66683987acd0a61b</td>\n",
       "      <td>2022-03-30 23:40:10.556</td>\n",
       "      <td>2022-03-30 23</td>\n",
       "    </tr>\n",
       "    <tr>\n",
       "      <th>27547</th>\n",
       "      <td>62801bf0ecd98b51744077ef</td>\n",
       "      <td>2022-03-30 23:29:05.180</td>\n",
       "      <td>2022-03-30 23</td>\n",
       "    </tr>\n",
       "    <tr>\n",
       "      <th>27548</th>\n",
       "      <td>627edac8ec0a49ecdd317ad0</td>\n",
       "      <td>2022-03-30 23:40:08.295</td>\n",
       "      <td>2022-03-30 23</td>\n",
       "    </tr>\n",
       "    <tr>\n",
       "      <th>27549</th>\n",
       "      <td>627edeaf9337b37a8b683c6d</td>\n",
       "      <td>2022-03-30 23:41:13.325</td>\n",
       "      <td>2022-03-30 23</td>\n",
       "    </tr>\n",
       "  </tbody>\n",
       "</table>\n",
       "<p>27550 rows × 3 columns</p>\n",
       "</div>"
      ],
      "text/plain": [
       "                             id            collected_on       datehour\n",
       "0      627ee633ced080bd315fc03d 2022-03-30 23:27:41.731  2022-03-30 23\n",
       "1      627ee69f68e3fb073f05a636 2022-03-30 23:14:13.278  2022-03-30 23\n",
       "2      627ee60d23b056f3b1206f12 2022-03-30 23:23:48.548  2022-03-30 23\n",
       "3      627edff068e3fb073f058c6b 2022-03-30 23:39:01.724  2022-03-30 23\n",
       "4      62801ab1ec0a49ecdd35b458 2022-03-30 23:29:03.751  2022-03-30 23\n",
       "...                         ...                     ...            ...\n",
       "27545  627edb26dc1484bdb69fde82 2022-03-30 23:40:54.394  2022-03-30 23\n",
       "27546  627edc9b66683987acd0a61b 2022-03-30 23:40:10.556  2022-03-30 23\n",
       "27547  62801bf0ecd98b51744077ef 2022-03-30 23:29:05.180  2022-03-30 23\n",
       "27548  627edac8ec0a49ecdd317ad0 2022-03-30 23:40:08.295  2022-03-30 23\n",
       "27549  627edeaf9337b37a8b683c6d 2022-03-30 23:41:13.325  2022-03-30 23\n",
       "\n",
       "[27550 rows x 3 columns]"
      ]
     },
     "execution_count": 5,
     "metadata": {},
     "output_type": "execute_result"
    }
   ],
   "source": [
    "df[['id', 'collected_on', 'datehour']]"
   ]
  },
  {
   "cell_type": "code",
   "execution_count": 12,
   "id": "developed-brief",
   "metadata": {},
   "outputs": [
    {
     "name": "stdout",
     "output_type": "stream",
     "text": [
      "63cfa3b78ef9793417505084\n",
      "640f8760345d1f8f3ef77e11\n",
      "63c7606045ddf17c18f39823\n",
      "63bfa4e182220558192d9ca4\n",
      "63c748d2cbea581aac0d84ac\n"
     ]
    }
   ],
   "source": [
    "l = df.sample(5).id.to_list()\n",
    "for i in l:\n",
    "    print(i)"
   ]
  },
  {
   "cell_type": "code",
   "execution_count": 9,
   "id": "sublime-quebec",
   "metadata": {},
   "outputs": [],
   "source": [
    "# dfs = []\n",
    "dfs.append(df)"
   ]
  },
  {
   "cell_type": "code",
   "execution_count": 10,
   "id": "statistical-diamond",
   "metadata": {},
   "outputs": [
    {
     "data": {
      "text/plain": [
       "(96341, 184)"
      ]
     },
     "execution_count": 10,
     "metadata": {},
     "output_type": "execute_result"
    }
   ],
   "source": [
    "df = pd.concat(dfs, ignore_index=True)\n",
    "df.shape"
   ]
  },
  {
   "cell_type": "markdown",
   "id": "crude-elimination",
   "metadata": {},
   "source": [
    "#### Load ids from labelbox exports"
   ]
  },
  {
   "cell_type": "code",
   "execution_count": 12,
   "id": "square-latvia",
   "metadata": {},
   "outputs": [
    {
     "name": "stdout",
     "output_type": "stream",
     "text": [
      "4913\n",
      "4913\n"
     ]
    }
   ],
   "source": [
    "json_path = '/home/bluerivertech/li.yu/code/notebooks/dust_head/export-2023-08-03T08_39_11.733Z.json'\n",
    "with open(json_path, 'r') as f:\n",
    "    data = json.load(f)\n",
    "print(len(data))\n",
    "ids = [item['Labeled Data'][61:85] for item in data]\n",
    "print(len(ids))"
   ]
  },
  {
   "cell_type": "code",
   "execution_count": 16,
   "id": "educated-nothing",
   "metadata": {},
   "outputs": [
    {
     "data": {
      "text/plain": [
       "2628"
      ]
     },
     "execution_count": 16,
     "metadata": {},
     "output_type": "execute_result"
    }
   ],
   "source": [
    "csv_path = '/home/bluerivertech/li.yu/code/notebooks/datasets/train_v5.12/driveable_not_labeled.csv'\n",
    "csv_path2 = '/home/bluerivertech/li.yu/code/notebooks/datasets/train_v5.12/less_than_half_labeled.csv'\n",
    "ids = pd.read_csv(csv_path).id.to_list() + pd.read_csv(csv_path2).id.to_list()\n",
    "ids = list(set(ids))\n",
    "len(ids)"
   ]
  },
  {
   "cell_type": "markdown",
   "id": "several-container",
   "metadata": {},
   "source": [
    "### Create dataset without labels"
   ]
  },
  {
   "cell_type": "code",
   "execution_count": 6,
   "id": "configured-carrier",
   "metadata": {},
   "outputs": [
    {
     "name": "stdout",
     "output_type": "stream",
     "text": [
      "INFO: Pandarallel will run on 32 workers.\n",
      "INFO: Pandarallel will use Memory file system to transfer data between the main process and workers.\n",
      "INFO: Pandarallel will run on 32 workers.\n",
      "INFO: Pandarallel will use Memory file system to transfer data between the main process and workers.\n",
      "Size of stereo dataframe: 31978\n"
     ]
    }
   ],
   "source": [
    "# Dataset.create(\n",
    "#     name='Jupiter_2023_04_05_loamy869_dust_collection_stereo',\n",
    "#     description=\"stereo data for Jupiter_2023_04_05_loamy869_dust_collection, 27K image pairs\",\n",
    "#     kind=Dataset.KIND_IMAGE,\n",
    "#     mode='stereo',\n",
    "#     image_ids=test_df.id.to_list())\n",
    "\n",
    "imageids_to_dataset(\n",
    "    image_ids=test_df.id.to_list(),\n",
    "    dataset_name='Jupiter_2023_may_loamy731_vehicle_dust_human_stereo_part2',\n",
    "    dataset_description='second half of 3rd batch of vehicle dust collection, collected on April 27th, May 1st and 4th, 32K images',\n",
    "#     dataset_kind=Dataset.KIND_ANNOTATION,\n",
    "    dataset_kind=Dataset.KIND_IMAGE,\n",
    "    mode='stereo')"
   ]
  },
  {
   "cell_type": "markdown",
   "id": "anticipated-zimbabwe",
   "metadata": {},
   "source": [
    "### Create dataset with labels"
   ]
  },
  {
   "cell_type": "code",
   "execution_count": 6,
   "id": "former-soviet",
   "metadata": {},
   "outputs": [
    {
     "data": {
      "text/plain": [
       "((1500, 1), (400, 1), (1900, 1))"
      ]
     },
     "execution_count": 6,
     "metadata": {},
     "output_type": "execute_result"
    }
   ],
   "source": [
    "# df = pd.read_csv('/home/bluerivertech/li.yu/data/Jupiter_2023_03_10_851_dust_human/dust_for_training.csv')\n",
    "# df.shape"
   ]
  },
  {
   "cell_type": "code",
   "execution_count": 5,
   "id": "mineral-trick",
   "metadata": {
    "scrolled": true
   },
   "outputs": [
    {
     "name": "stdout",
     "output_type": "stream",
     "text": [
      "INFO: Pandarallel will run on 32 workers.\n",
      "INFO: Pandarallel will use Memory file system to transfer data between the main process and workers.\n",
      "INFO: Pandarallel will run on 32 workers.\n",
      "INFO: Pandarallel will use Memory file system to transfer data between the main process and workers.\n",
      "Filtered 31226 annotations.\n",
      "Warning 31978 images do not have a corresponding annotation.\n",
      "INFO: Pandarallel will run on 32 workers.\n",
      "INFO: Pandarallel will use Memory file system to transfer data between the main process and workers.\n"
     ]
    },
    {
     "ename": "ValueError",
     "evalue": "Number of processes must be at least 1",
     "output_type": "error",
     "traceback": [
      "\u001b[0;31m---------------------------------------------------------------------------\u001b[0m",
      "\u001b[0;31mValueError\u001b[0m                                Traceback (most recent call last)",
      "\u001b[0;32m<ipython-input-5-b92edb73dff3>\u001b[0m in \u001b[0;36m<module>\u001b[0;34m\u001b[0m\n\u001b[0;32m----> 1\u001b[0;31m imageids_to_dataset(\n\u001b[0m\u001b[1;32m      2\u001b[0m     \u001b[0mimage_ids\u001b[0m\u001b[0;34m=\u001b[0m\u001b[0mtest_df\u001b[0m\u001b[0;34m.\u001b[0m\u001b[0mid\u001b[0m\u001b[0;34m.\u001b[0m\u001b[0mto_list\u001b[0m\u001b[0;34m(\u001b[0m\u001b[0;34m)\u001b[0m\u001b[0;34m,\u001b[0m\u001b[0;34m\u001b[0m\u001b[0;34m\u001b[0m\u001b[0m\n\u001b[1;32m      3\u001b[0m     \u001b[0mdataset_name\u001b[0m\u001b[0;34m=\u001b[0m\u001b[0;34m'Jupiter_2023_may_loamy731_vehicle_dust_human_stereo_labeled_part2_v2'\u001b[0m\u001b[0;34m,\u001b[0m\u001b[0;34m\u001b[0m\u001b[0;34m\u001b[0m\u001b[0m\n\u001b[1;32m      4\u001b[0m     \u001b[0mdataset_description\u001b[0m\u001b[0;34m=\u001b[0m\u001b[0;34m'7K images partially labeled out of Jupiter_2023_may_loamy731_vehicle_dust_human_stereo_part2'\u001b[0m\u001b[0;34m,\u001b[0m\u001b[0;34m\u001b[0m\u001b[0;34m\u001b[0m\u001b[0m\n\u001b[1;32m      5\u001b[0m     \u001b[0mdataset_kind\u001b[0m\u001b[0;34m=\u001b[0m\u001b[0mDataset\u001b[0m\u001b[0;34m.\u001b[0m\u001b[0mKIND_ANNOTATION\u001b[0m\u001b[0;34m,\u001b[0m\u001b[0;34m\u001b[0m\u001b[0;34m\u001b[0m\u001b[0m\n",
      "\u001b[0;32m~/code/JupiterCVML/europa/base/src/europa/aletheia_dataset_creator/dataset_tools/aletheia_dataset_helpers.py\u001b[0m in \u001b[0;36mimageids_to_dataset\u001b[0;34m(image_ids, dataset_name, dataset_description, dataset_kind, mode, annotation_state, camera_location, production_dataset)\u001b[0m\n\u001b[1;32m    202\u001b[0m         )\n\u001b[1;32m    203\u001b[0m         \u001b[0;32mif\u001b[0m \u001b[0mmode\u001b[0m \u001b[0;34m==\u001b[0m \u001b[0;34m\"stereo\"\u001b[0m\u001b[0;34m:\u001b[0m\u001b[0;34m\u001b[0m\u001b[0;34m\u001b[0m\u001b[0m\n\u001b[0;32m--> 204\u001b[0;31m             \u001b[0mimage_stereo_df\u001b[0m \u001b[0;34m=\u001b[0m \u001b[0mget_stereo_images_df\u001b[0m\u001b[0;34m(\u001b[0m\u001b[0mannotations\u001b[0m\u001b[0;34m)\u001b[0m\u001b[0;34m\u001b[0m\u001b[0;34m\u001b[0m\u001b[0m\n\u001b[0m\u001b[1;32m    205\u001b[0m             \u001b[0mannotation_ids\u001b[0m \u001b[0;34m=\u001b[0m \u001b[0mget_annotation_image_dict\u001b[0m\u001b[0;34m(\u001b[0m\u001b[0mimage_stereo_df\u001b[0m\u001b[0;34m)\u001b[0m\u001b[0;34m\u001b[0m\u001b[0;34m\u001b[0m\u001b[0m\n\u001b[1;32m    206\u001b[0m         \u001b[0;32melse\u001b[0m\u001b[0;34m:\u001b[0m\u001b[0;34m\u001b[0m\u001b[0;34m\u001b[0m\u001b[0m\n",
      "\u001b[0;32m~/code/JupiterCVML/europa/base/src/europa/aletheia_dataset_creator/dataset_tools/aletheia_dataset_helpers.py\u001b[0m in \u001b[0;36mget_stereo_images_df\u001b[0;34m(left_df, camera_pair_df)\u001b[0m\n\u001b[1;32m    372\u001b[0m \u001b[0;34m\u001b[0m\u001b[0m\n\u001b[1;32m    373\u001b[0m     \u001b[0mleft_df\u001b[0m\u001b[0;34m.\u001b[0m\u001b[0mrename\u001b[0m\u001b[0;34m(\u001b[0m\u001b[0mcolumns\u001b[0m\u001b[0;34m=\u001b[0m\u001b[0;34m{\u001b[0m\u001b[0mdataset_config\u001b[0m\u001b[0;34m.\u001b[0m\u001b[0mAletheiaMetadata\u001b[0m\u001b[0;34m.\u001b[0m\u001b[0mID\u001b[0m\u001b[0;34m:\u001b[0m \u001b[0;34m\"id_img_left\"\u001b[0m\u001b[0;34m}\u001b[0m\u001b[0;34m,\u001b[0m \u001b[0minplace\u001b[0m\u001b[0;34m=\u001b[0m\u001b[0;32mTrue\u001b[0m\u001b[0;34m)\u001b[0m\u001b[0;34m\u001b[0m\u001b[0;34m\u001b[0m\u001b[0m\n\u001b[0;32m--> 374\u001b[0;31m     \u001b[0mleft_df\u001b[0m\u001b[0;34m[\u001b[0m\u001b[0;34m\"camera_prefix\"\u001b[0m\u001b[0;34m]\u001b[0m \u001b[0;34m=\u001b[0m \u001b[0mleft_df\u001b[0m\u001b[0;34m.\u001b[0m\u001b[0mcamera_location\u001b[0m\u001b[0;34m.\u001b[0m\u001b[0mparallel_apply\u001b[0m\u001b[0;34m(\u001b[0m\u001b[0mget_camera_prefix\u001b[0m\u001b[0;34m)\u001b[0m\u001b[0;34m\u001b[0m\u001b[0;34m\u001b[0m\u001b[0m\n\u001b[0m\u001b[1;32m    375\u001b[0m \u001b[0;34m\u001b[0m\u001b[0m\n\u001b[1;32m    376\u001b[0m     \u001b[0;32mif\u001b[0m \u001b[0mcamera_pair_df\u001b[0m \u001b[0;32mis\u001b[0m \u001b[0;32mNone\u001b[0m\u001b[0;34m:\u001b[0m\u001b[0;34m\u001b[0m\u001b[0;34m\u001b[0m\u001b[0m\n",
      "\u001b[0;32m~/anaconda3/envs/pytorchlightning/lib/python3.8/site-packages/pandarallel/core.py\u001b[0m in \u001b[0;36mclosure\u001b[0;34m(data, user_defined_function, *user_defined_function_args, **user_defined_function_kwargs)\u001b[0m\n\u001b[1;32m    292\u001b[0m             ]\n\u001b[1;32m    293\u001b[0m \u001b[0;34m\u001b[0m\u001b[0m\n\u001b[0;32m--> 294\u001b[0;31m             \u001b[0mpool\u001b[0m \u001b[0;34m=\u001b[0m \u001b[0mCONTEXT\u001b[0m\u001b[0;34m.\u001b[0m\u001b[0mPool\u001b[0m\u001b[0;34m(\u001b[0m\u001b[0mnb_workers\u001b[0m\u001b[0;34m)\u001b[0m\u001b[0;34m\u001b[0m\u001b[0;34m\u001b[0m\u001b[0m\n\u001b[0m\u001b[1;32m    295\u001b[0m             \u001b[0mpool\u001b[0m\u001b[0;34m.\u001b[0m\u001b[0mstarmap_async\u001b[0m\u001b[0;34m(\u001b[0m\u001b[0mwrapped_work_function\u001b[0m\u001b[0;34m,\u001b[0m \u001b[0mwork_args_list\u001b[0m\u001b[0;34m)\u001b[0m\u001b[0;34m\u001b[0m\u001b[0;34m\u001b[0m\u001b[0m\n\u001b[1;32m    296\u001b[0m \u001b[0;34m\u001b[0m\u001b[0m\n",
      "\u001b[0;32m~/anaconda3/envs/pytorchlightning/lib/python3.8/multiprocessing/context.py\u001b[0m in \u001b[0;36mPool\u001b[0;34m(self, processes, initializer, initargs, maxtasksperchild)\u001b[0m\n\u001b[1;32m    117\u001b[0m         \u001b[0;34m'''Returns a process pool object'''\u001b[0m\u001b[0;34m\u001b[0m\u001b[0;34m\u001b[0m\u001b[0m\n\u001b[1;32m    118\u001b[0m         \u001b[0;32mfrom\u001b[0m \u001b[0;34m.\u001b[0m\u001b[0mpool\u001b[0m \u001b[0;32mimport\u001b[0m \u001b[0mPool\u001b[0m\u001b[0;34m\u001b[0m\u001b[0;34m\u001b[0m\u001b[0m\n\u001b[0;32m--> 119\u001b[0;31m         return Pool(processes, initializer, initargs, maxtasksperchild,\n\u001b[0m\u001b[1;32m    120\u001b[0m                     context=self.get_context())\n\u001b[1;32m    121\u001b[0m \u001b[0;34m\u001b[0m\u001b[0m\n",
      "\u001b[0;32m~/anaconda3/envs/pytorchlightning/lib/python3.8/multiprocessing/pool.py\u001b[0m in \u001b[0;36m__init__\u001b[0;34m(self, processes, initializer, initargs, maxtasksperchild, context)\u001b[0m\n\u001b[1;32m    203\u001b[0m             \u001b[0mprocesses\u001b[0m \u001b[0;34m=\u001b[0m \u001b[0mos\u001b[0m\u001b[0;34m.\u001b[0m\u001b[0mcpu_count\u001b[0m\u001b[0;34m(\u001b[0m\u001b[0;34m)\u001b[0m \u001b[0;32mor\u001b[0m \u001b[0;36m1\u001b[0m\u001b[0;34m\u001b[0m\u001b[0;34m\u001b[0m\u001b[0m\n\u001b[1;32m    204\u001b[0m         \u001b[0;32mif\u001b[0m \u001b[0mprocesses\u001b[0m \u001b[0;34m<\u001b[0m \u001b[0;36m1\u001b[0m\u001b[0;34m:\u001b[0m\u001b[0;34m\u001b[0m\u001b[0;34m\u001b[0m\u001b[0m\n\u001b[0;32m--> 205\u001b[0;31m             \u001b[0;32mraise\u001b[0m \u001b[0mValueError\u001b[0m\u001b[0;34m(\u001b[0m\u001b[0;34m\"Number of processes must be at least 1\"\u001b[0m\u001b[0;34m)\u001b[0m\u001b[0;34m\u001b[0m\u001b[0;34m\u001b[0m\u001b[0m\n\u001b[0m\u001b[1;32m    206\u001b[0m \u001b[0;34m\u001b[0m\u001b[0m\n\u001b[1;32m    207\u001b[0m         \u001b[0;32mif\u001b[0m \u001b[0minitializer\u001b[0m \u001b[0;32mis\u001b[0m \u001b[0;32mnot\u001b[0m \u001b[0;32mNone\u001b[0m \u001b[0;32mand\u001b[0m \u001b[0;32mnot\u001b[0m \u001b[0mcallable\u001b[0m\u001b[0;34m(\u001b[0m\u001b[0minitializer\u001b[0m\u001b[0;34m)\u001b[0m\u001b[0;34m:\u001b[0m\u001b[0;34m\u001b[0m\u001b[0;34m\u001b[0m\u001b[0m\n",
      "\u001b[0;31mValueError\u001b[0m: Number of processes must be at least 1"
     ]
    }
   ],
   "source": [
    "imageids_to_dataset(\n",
    "    image_ids=test_df.id.to_list(),\n",
    "    dataset_name='Jupiter_2023_may_loamy731_vehicle_dust_human_stereo_labeled_part2_v2',\n",
    "    dataset_description='7K images partially labeled out of Jupiter_2023_may_loamy731_vehicle_dust_human_stereo_part2',\n",
    "    dataset_kind=Dataset.KIND_ANNOTATION,\n",
    "#     dataset_kind=Dataset.KIND_IMAGE,\n",
    "#     production_dataset=False,  # use with partial labels ?\n",
    "    mode='stereo')"
   ]
  },
  {
   "cell_type": "markdown",
   "id": "distant-diana",
   "metadata": {},
   "source": [
    "### Prune df to get all stereo pairs"
   ]
  },
  {
   "cell_type": "code",
   "execution_count": 10,
   "id": "standing-metabolism",
   "metadata": {},
   "outputs": [
    {
     "name": "stderr",
     "output_type": "stream",
     "text": [
      "  0%|          | 1/9519 [00:00<27:00,  5.87it/s]"
     ]
    },
    {
     "name": "stdout",
     "output_type": "stream",
     "text": [
      "9519\n"
     ]
    },
    {
     "name": "stderr",
     "output_type": "stream",
     "text": [
      "100%|██████████| 9519/9519 [00:06<00:00, 1361.97it/s]\n"
     ]
    },
    {
     "name": "stdout",
     "output_type": "stream",
     "text": [
      "0\n"
     ]
    },
    {
     "data": {
      "text/plain": [
       "((54808, 109), (54808, 109))"
      ]
     },
     "execution_count": 10,
     "metadata": {},
     "output_type": "execute_result"
    }
   ],
   "source": [
    "df = test_df\n",
    "g = df.groupby('group_id')\n",
    "print(len(g))\n",
    "\n",
    "unmatched_image_ids = []\n",
    "for group_id, group in tqdm(g, total=len(g)):\n",
    "    camera_locations = group.camera_location.to_list()\n",
    "    pure_cameras = set()\n",
    "    for c in camera_locations:\n",
    "        if c.endswith('left'):\n",
    "            pure_cameras.add(c[:-5])\n",
    "        else:\n",
    "            pure_cameras.add(c[:-6])\n",
    "    for c in pure_cameras:\n",
    "        cdf = group[group.camera_location.str.startswith(c)]\n",
    "        if len(cdf) % 2 != 0:\n",
    "            unmatched_image_ids += cdf.id_img_left.to_list()\n",
    "print(len(unmatched_image_ids))\n",
    "\n",
    "stereo_df = df[~df.id.isin(unmatched_image_ids)]\n",
    "stereo_df.shape, df.shape"
   ]
  },
  {
   "cell_type": "markdown",
   "id": "played-pierce",
   "metadata": {},
   "source": [
    "### Retrieve stereo pairs given left ids"
   ]
  },
  {
   "cell_type": "code",
   "execution_count": 6,
   "id": "statistical-stability",
   "metadata": {},
   "outputs": [
    {
     "name": "stdout",
     "output_type": "stream",
     "text": [
      "INFO: Pandarallel will run on 32 workers.\n",
      "INFO: Pandarallel will use Memory file system to transfer data between the main process and workers.\n",
      "INFO: Pandarallel will run on 32 workers.\n",
      "INFO: Pandarallel will use Memory file system to transfer data between the main process and workers.\n",
      "Size of stereo dataframe: 27404\n",
      "(54808, 111) (27404, 112)\n"
     ]
    }
   ],
   "source": [
    "left_df = test_df\n",
    "stereo_df = get_stereo_images_df(left_df)\n",
    "print(left_df.shape, stereo_df.shape)"
   ]
  },
  {
   "cell_type": "markdown",
   "id": "enabling-laser",
   "metadata": {},
   "source": [
    "### Retrieve stereo pairs give left ids and raw stereo df"
   ]
  },
  {
   "cell_type": "code",
   "execution_count": 90,
   "id": "clinical-details",
   "metadata": {},
   "outputs": [
    {
     "data": {
      "text/plain": [
       "(99998, 165)"
      ]
     },
     "execution_count": 90,
     "metadata": {},
     "output_type": "execute_result"
    }
   ],
   "source": [
    "df = df_sample\n",
    "df.shape"
   ]
  },
  {
   "cell_type": "code",
   "execution_count": 93,
   "id": "hired-absolute",
   "metadata": {},
   "outputs": [
    {
     "data": {
      "text/plain": [
       "(3951312, 165)"
      ]
     },
     "execution_count": 93,
     "metadata": {},
     "output_type": "execute_result"
    }
   ],
   "source": [
    "mdf = pd.concat(dfs, ignore_index=True)\n",
    "mdf.shape"
   ]
  },
  {
   "cell_type": "code",
   "execution_count": 94,
   "id": "operational-cotton",
   "metadata": {},
   "outputs": [
    {
     "name": "stdout",
     "output_type": "stream",
     "text": [
      "(99998, 166)\n",
      "(1040976, 166)\n"
     ]
    }
   ],
   "source": [
    "df['image_id'] = df['id']\n",
    "raw_stereo_df = mdf\n",
    "raw_stereo_df['image_id'] = raw_stereo_df['id']\n",
    "\n",
    "sub_df = raw_stereo_df[raw_stereo_df.image_id.isin(df.image_id)]\n",
    "print(sub_df.shape)\n",
    "sub_df = raw_stereo_df[raw_stereo_df.group_id.isin(sub_df.group_id)]\n",
    "print(sub_df.shape)"
   ]
  },
  {
   "cell_type": "code",
   "execution_count": 97,
   "id": "champion-seventh",
   "metadata": {},
   "outputs": [],
   "source": [
    "from tqdm import tqdm"
   ]
  },
  {
   "cell_type": "code",
   "execution_count": 98,
   "id": "roman-status",
   "metadata": {
    "collapsed": true
   },
   "outputs": [
    {
     "name": "stderr",
     "output_type": "stream",
     "text": [
      " 20%|███████████████████████                                                                                          | 20355/99998 [1:50:37<7:12:51,  3.07it/s]\n"
     ]
    },
    {
     "ename": "KeyboardInterrupt",
     "evalue": "",
     "output_type": "error",
     "traceback": [
      "\u001b[0;31m---------------------------------------------------------------------------\u001b[0m",
      "\u001b[0;31mKeyboardInterrupt\u001b[0m                         Traceback (most recent call last)",
      "Input \u001b[0;32mIn [98]\u001b[0m, in \u001b[0;36m<cell line: 3>\u001b[0;34m()\u001b[0m\n\u001b[1;32m      3\u001b[0m \u001b[38;5;28;01mfor\u001b[39;00m image_id \u001b[38;5;129;01min\u001b[39;00m tqdm(single_image_ids, total\u001b[38;5;241m=\u001b[39m\u001b[38;5;28mlen\u001b[39m(single_image_ids)):\n\u001b[1;32m      4\u001b[0m     camera_location \u001b[38;5;241m=\u001b[39m df[df\u001b[38;5;241m.\u001b[39mimage_id \u001b[38;5;241m==\u001b[39m image_id]\u001b[38;5;241m.\u001b[39miloc[\u001b[38;5;241m0\u001b[39m]\u001b[38;5;241m.\u001b[39mcamera_location\n\u001b[0;32m----> 5\u001b[0m     group_id \u001b[38;5;241m=\u001b[39m sub_df[\u001b[43msub_df\u001b[49m\u001b[38;5;241;43m.\u001b[39;49m\u001b[43mimage_id\u001b[49m\u001b[43m \u001b[49m\u001b[38;5;241;43m==\u001b[39;49m\u001b[43m \u001b[49m\u001b[43mimage_id\u001b[49m]\u001b[38;5;241m.\u001b[39miloc[\u001b[38;5;241m0\u001b[39m]\u001b[38;5;241m.\u001b[39mgroup_id\n\u001b[1;32m      6\u001b[0m     stereo_locations \u001b[38;5;241m=\u001b[39m sub_df[sub_df\u001b[38;5;241m.\u001b[39mgroup_id \u001b[38;5;241m==\u001b[39m group_id]\u001b[38;5;241m.\u001b[39mcamera_location\u001b[38;5;241m.\u001b[39mto_list()\n\u001b[1;32m      7\u001b[0m     other_location \u001b[38;5;241m=\u001b[39m camera_location[:\u001b[38;5;241m-\u001b[39m\u001b[38;5;241m4\u001b[39m]\u001b[38;5;241m+\u001b[39m\u001b[38;5;124m'\u001b[39m\u001b[38;5;124mright\u001b[39m\u001b[38;5;124m'\u001b[39m \u001b[38;5;28;01mif\u001b[39;00m camera_location\u001b[38;5;241m.\u001b[39mendswith(\u001b[38;5;124m'\u001b[39m\u001b[38;5;124mleft\u001b[39m\u001b[38;5;124m'\u001b[39m) \u001b[38;5;28;01melse\u001b[39;00m camera_location[:\u001b[38;5;241m-\u001b[39m\u001b[38;5;241m5\u001b[39m]\u001b[38;5;241m+\u001b[39m\u001b[38;5;124m'\u001b[39m\u001b[38;5;124mleft\u001b[39m\u001b[38;5;124m'\u001b[39m\n",
      "File \u001b[0;32m~/anaconda3/envs/shank/lib/python3.8/site-packages/pandas/core/ops/common.py:70\u001b[0m, in \u001b[0;36m_unpack_zerodim_and_defer.<locals>.new_method\u001b[0;34m(self, other)\u001b[0m\n\u001b[1;32m     66\u001b[0m             \u001b[38;5;28;01mreturn\u001b[39;00m \u001b[38;5;28mNotImplemented\u001b[39m\n\u001b[1;32m     68\u001b[0m other \u001b[38;5;241m=\u001b[39m item_from_zerodim(other)\n\u001b[0;32m---> 70\u001b[0m \u001b[38;5;28;01mreturn\u001b[39;00m \u001b[43mmethod\u001b[49m\u001b[43m(\u001b[49m\u001b[38;5;28;43mself\u001b[39;49m\u001b[43m,\u001b[49m\u001b[43m \u001b[49m\u001b[43mother\u001b[49m\u001b[43m)\u001b[49m\n",
      "File \u001b[0;32m~/anaconda3/envs/shank/lib/python3.8/site-packages/pandas/core/arraylike.py:40\u001b[0m, in \u001b[0;36mOpsMixin.__eq__\u001b[0;34m(self, other)\u001b[0m\n\u001b[1;32m     38\u001b[0m \u001b[38;5;129m@unpack_zerodim_and_defer\u001b[39m(\u001b[38;5;124m\"\u001b[39m\u001b[38;5;124m__eq__\u001b[39m\u001b[38;5;124m\"\u001b[39m)\n\u001b[1;32m     39\u001b[0m \u001b[38;5;28;01mdef\u001b[39;00m \u001b[38;5;21m__eq__\u001b[39m(\u001b[38;5;28mself\u001b[39m, other):\n\u001b[0;32m---> 40\u001b[0m     \u001b[38;5;28;01mreturn\u001b[39;00m \u001b[38;5;28;43mself\u001b[39;49m\u001b[38;5;241;43m.\u001b[39;49m\u001b[43m_cmp_method\u001b[49m\u001b[43m(\u001b[49m\u001b[43mother\u001b[49m\u001b[43m,\u001b[49m\u001b[43m \u001b[49m\u001b[43moperator\u001b[49m\u001b[38;5;241;43m.\u001b[39;49m\u001b[43meq\u001b[49m\u001b[43m)\u001b[49m\n",
      "File \u001b[0;32m~/anaconda3/envs/shank/lib/python3.8/site-packages/pandas/core/series.py:5623\u001b[0m, in \u001b[0;36mSeries._cmp_method\u001b[0;34m(self, other, op)\u001b[0m\n\u001b[1;32m   5620\u001b[0m rvalues \u001b[38;5;241m=\u001b[39m extract_array(other, extract_numpy\u001b[38;5;241m=\u001b[39m\u001b[38;5;28;01mTrue\u001b[39;00m, extract_range\u001b[38;5;241m=\u001b[39m\u001b[38;5;28;01mTrue\u001b[39;00m)\n\u001b[1;32m   5622\u001b[0m \u001b[38;5;28;01mwith\u001b[39;00m np\u001b[38;5;241m.\u001b[39merrstate(\u001b[38;5;28mall\u001b[39m\u001b[38;5;241m=\u001b[39m\u001b[38;5;124m\"\u001b[39m\u001b[38;5;124mignore\u001b[39m\u001b[38;5;124m\"\u001b[39m):\n\u001b[0;32m-> 5623\u001b[0m     res_values \u001b[38;5;241m=\u001b[39m \u001b[43mops\u001b[49m\u001b[38;5;241;43m.\u001b[39;49m\u001b[43mcomparison_op\u001b[49m\u001b[43m(\u001b[49m\u001b[43mlvalues\u001b[49m\u001b[43m,\u001b[49m\u001b[43m \u001b[49m\u001b[43mrvalues\u001b[49m\u001b[43m,\u001b[49m\u001b[43m \u001b[49m\u001b[43mop\u001b[49m\u001b[43m)\u001b[49m\n\u001b[1;32m   5625\u001b[0m \u001b[38;5;28;01mreturn\u001b[39;00m \u001b[38;5;28mself\u001b[39m\u001b[38;5;241m.\u001b[39m_construct_result(res_values, name\u001b[38;5;241m=\u001b[39mres_name)\n",
      "File \u001b[0;32m~/anaconda3/envs/shank/lib/python3.8/site-packages/pandas/core/ops/array_ops.py:283\u001b[0m, in \u001b[0;36mcomparison_op\u001b[0;34m(left, right, op)\u001b[0m\n\u001b[1;32m    280\u001b[0m     \u001b[38;5;28;01mreturn\u001b[39;00m invalid_comparison(lvalues, rvalues, op)\n\u001b[1;32m    282\u001b[0m \u001b[38;5;28;01melif\u001b[39;00m is_object_dtype(lvalues\u001b[38;5;241m.\u001b[39mdtype) \u001b[38;5;129;01mor\u001b[39;00m \u001b[38;5;28misinstance\u001b[39m(rvalues, \u001b[38;5;28mstr\u001b[39m):\n\u001b[0;32m--> 283\u001b[0m     res_values \u001b[38;5;241m=\u001b[39m \u001b[43mcomp_method_OBJECT_ARRAY\u001b[49m\u001b[43m(\u001b[49m\u001b[43mop\u001b[49m\u001b[43m,\u001b[49m\u001b[43m \u001b[49m\u001b[43mlvalues\u001b[49m\u001b[43m,\u001b[49m\u001b[43m \u001b[49m\u001b[43mrvalues\u001b[49m\u001b[43m)\u001b[49m\n\u001b[1;32m    285\u001b[0m \u001b[38;5;28;01melse\u001b[39;00m:\n\u001b[1;32m    286\u001b[0m     res_values \u001b[38;5;241m=\u001b[39m _na_arithmetic_op(lvalues, rvalues, op, is_cmp\u001b[38;5;241m=\u001b[39m\u001b[38;5;28;01mTrue\u001b[39;00m)\n",
      "File \u001b[0;32m~/anaconda3/envs/shank/lib/python3.8/site-packages/pandas/core/ops/array_ops.py:73\u001b[0m, in \u001b[0;36mcomp_method_OBJECT_ARRAY\u001b[0;34m(op, x, y)\u001b[0m\n\u001b[1;32m     71\u001b[0m     result \u001b[38;5;241m=\u001b[39m libops\u001b[38;5;241m.\u001b[39mvec_compare(x\u001b[38;5;241m.\u001b[39mravel(), y\u001b[38;5;241m.\u001b[39mravel(), op)\n\u001b[1;32m     72\u001b[0m \u001b[38;5;28;01melse\u001b[39;00m:\n\u001b[0;32m---> 73\u001b[0m     result \u001b[38;5;241m=\u001b[39m \u001b[43mlibops\u001b[49m\u001b[38;5;241;43m.\u001b[39;49m\u001b[43mscalar_compare\u001b[49m\u001b[43m(\u001b[49m\u001b[43mx\u001b[49m\u001b[38;5;241;43m.\u001b[39;49m\u001b[43mravel\u001b[49m\u001b[43m(\u001b[49m\u001b[43m)\u001b[49m\u001b[43m,\u001b[49m\u001b[43m \u001b[49m\u001b[43my\u001b[49m\u001b[43m,\u001b[49m\u001b[43m \u001b[49m\u001b[43mop\u001b[49m\u001b[43m)\u001b[49m\n\u001b[1;32m     74\u001b[0m \u001b[38;5;28;01mreturn\u001b[39;00m result\u001b[38;5;241m.\u001b[39mreshape(x\u001b[38;5;241m.\u001b[39mshape)\n",
      "\u001b[0;31mKeyboardInterrupt\u001b[0m: "
     ]
    }
   ],
   "source": [
    "single_image_ids = df.image_id.to_list()\n",
    "stereo_image_ids = single_image_ids.copy()\n",
    "for image_id in tqdm(single_image_ids, total=len(single_image_ids)):\n",
    "    camera_location = df[df.image_id == image_id].iloc[0].camera_location\n",
    "    group_id = sub_df[sub_df.image_id == image_id].iloc[0].group_id\n",
    "    stereo_locations = sub_df[sub_df.group_id == group_id].camera_location.to_list()\n",
    "    other_location = camera_location[:-4]+'right' if camera_location.endswith('left') else camera_location[:-5]+'left'\n",
    "    assert other_location in stereo_locations\n",
    "    other_image_id = sub_df[(sub_df.group_id == group_id) & (sub_df.camera_location == other_location)].iloc[0].image_id\n",
    "    stereo_image_ids.append(other_image_id)\n",
    "print(len(single_image_ids), len(set(stereo_image_ids)))"
   ]
  },
  {
   "cell_type": "markdown",
   "id": "artistic-eleven",
   "metadata": {},
   "source": [
    "## Download dataset"
   ]
  },
  {
   "cell_type": "code",
   "execution_count": 2,
   "id": "clean-cream",
   "metadata": {},
   "outputs": [
    {
     "name": "stderr",
     "output_type": "stream",
     "text": [
      "\u001b[34;1m2023-03-14 19:34:12,897 - Dataset - INFO - start downloading dataset: 640bc1e3605dc17c12a63162 into /home/bluerivertech/li.yu/data/Jupiter_2023_03_10_851_dust_human\n",
      "100%|██████████| 79990/79990 [02:16<00:00, 585.94it/s]\n",
      "\u001b[34;1m2023-03-14 19:36:45,185 - Dataset - INFO - finished downloading dataset: 640bc1e3605dc17c12a63162\n",
      "\u001b[0m"
     ]
    }
   ],
   "source": [
    "dataset_name = 'dust_metadata_labels'\n",
    "dataset_dir = os.path.join('/home/bluerivertech/li.yu/data', dataset_name)\n",
    "os.makedirs(dataset_dir, exist_ok=True)\n",
    "\n",
    "test_dataset = Dataset.retrieve(name=dataset_name)\n",
    "test_df = test_dataset.to_dataframe()\n",
    "test_dataset.download(dataset_dir, df=test_df)"
   ]
  },
  {
   "cell_type": "code",
   "execution_count": null,
   "id": "urban-shipping",
   "metadata": {},
   "outputs": [],
   "source": []
  }
 ],
 "metadata": {
  "kernelspec": {
   "display_name": "Python 3",
   "language": "python",
   "name": "python3"
  },
  "language_info": {
   "codemirror_mode": {
    "name": "ipython",
    "version": 3
   },
   "file_extension": ".py",
   "mimetype": "text/x-python",
   "name": "python",
   "nbconvert_exporter": "python",
   "pygments_lexer": "ipython3",
   "version": "3.8.8"
  }
 },
 "nbformat": 4,
 "nbformat_minor": 5
}

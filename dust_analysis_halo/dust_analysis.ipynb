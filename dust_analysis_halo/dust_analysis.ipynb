{
 "cells": [
  {
   "cell_type": "code",
   "execution_count": 1,
   "metadata": {},
   "outputs": [],
   "source": [
    "import os\n",
    "import ast\n",
    "import cv2\n",
    "import json\n",
    "import shutil\n",
    "import random\n",
    "import pickle\n",
    "import imageio\n",
    "import numpy as np\n",
    "import pandas as pd\n",
    "from collections import defaultdict\n",
    "from tqdm import tqdm\n",
    "from pprint import pprint\n",
    "from datetime import datetime, timedelta, date\n",
    "# from geopy.geocoders import Nominatim\n",
    "# from geopy.extra.rate_limiter import RateLimiter\n",
    "import matplotlib.pyplot as plt\n",
    "import sys\n",
    "sys.path.append('..')\n",
    "from utils import get_sequences"
   ]
  },
  {
   "cell_type": "code",
   "execution_count": 4,
   "metadata": {},
   "outputs": [],
   "source": [
    "data_root_dir = '/data2/jupiter/datasets'\n",
    "unlabeled_datasets = [\"halo_vehicles_in_dust_collection_march2024\"]\n",
    "labeled_datasets = [\"halo_vehicles_driving_through_dust_images_nodust_reserved_labeled\"]\n",
    "pred_root_dir = '/data/jupiter/li.yu/exps/driveable_terrain_model/'\n",
    "model = '20676_r2_rgb_bigdecay_biglr'"
   ]
  },
  {
   "cell_type": "code",
   "execution_count": 6,
   "metadata": {},
   "outputs": [
    {
     "name": "stdout",
     "output_type": "stream",
     "text": [
      "(45934, 93) (4764, 237) (4764, 11) (4764, 7)\n"
     ]
    }
   ],
   "source": [
    "di = 0\n",
    "raw_df = pd.read_csv(os.path.join(data_root_dir, unlabeled_datasets[di], 'annotations.csv'))\n",
    "stereo_df = pd.read_csv(os.path.join(data_root_dir, labeled_datasets[di], 'master_annotations.csv'))\n",
    "pred_df = pd.read_csv(os.path.join(pred_root_dir, model, labeled_datasets[di], 'output.csv'))\n",
    "dust_df = pd.read_csv(os.path.join(pred_root_dir, model, labeled_datasets[di], 'dust_ratio.csv'))\n",
    "print(raw_df.shape, stereo_df.shape, pred_df.shape, dust_df.shape)"
   ]
  },
  {
   "cell_type": "code",
   "execution_count": 18,
   "metadata": {},
   "outputs": [
    {
     "data": {
      "text/html": "<div>\n<style scoped>\n    .dataframe tbody tr th:only-of-type {\n        vertical-align: middle;\n    }\n\n    .dataframe tbody tr th {\n        vertical-align: top;\n    }\n\n    .dataframe thead th {\n        text-align: right;\n    }\n</style>\n<table border=\"1\" class=\"dataframe\">\n  <thead>\n    <tr style=\"text-align: right;\">\n      <th></th>\n      <th>unique_id</th>\n      <th>id</th>\n      <th>gt_dust_ratio</th>\n      <th>total_averaged_dust_conf</th>\n      <th>total_thresholded_dust_ratio</th>\n      <th>masked_avg_dust_conf</th>\n      <th>masked_dust_ratio</th>\n    </tr>\n  </thead>\n  <tbody>\n    <tr>\n      <th>0</th>\n      <td>65e98b4a6af3b51a246857d2_T06_T07</td>\n      <td>65e98b4a6af3b51a246857d2</td>\n      <td>0.0</td>\n      <td>0.070795</td>\n      <td>0.033789</td>\n      <td>0.011985</td>\n      <td>0.0</td>\n    </tr>\n    <tr>\n      <th>1</th>\n      <td>65e98b89cafc4e811b02178e_T06_T07</td>\n      <td>65e98b89cafc4e811b02178e</td>\n      <td>0.0</td>\n      <td>0.054587</td>\n      <td>0.029883</td>\n      <td>0.009240</td>\n      <td>0.0</td>\n    </tr>\n  </tbody>\n</table>\n</div>",
      "text/plain": "                          unique_id                        id  gt_dust_ratio  \\\n0  65e98b4a6af3b51a246857d2_T06_T07  65e98b4a6af3b51a246857d2            0.0   \n1  65e98b89cafc4e811b02178e_T06_T07  65e98b89cafc4e811b02178e            0.0   \n\n   total_averaged_dust_conf  total_thresholded_dust_ratio  \\\n0                  0.070795                      0.033789   \n1                  0.054587                      0.029883   \n\n   masked_avg_dust_conf  masked_dust_ratio  \n0              0.011985                0.0  \n1              0.009240                0.0  "
     },
     "execution_count": 18,
     "metadata": {},
     "output_type": "execute_result"
    }
   ],
   "source": [
    "dust_df.head(2)"
   ]
  },
  {
   "cell_type": "code",
   "execution_count": 7,
   "metadata": {},
   "outputs": [
    {
     "data": {
      "text/plain": "27"
     },
     "execution_count": 7,
     "metadata": {},
     "output_type": "execute_result"
    }
   ],
   "source": [
    "seq_dfs = get_sequences(stereo_df, interval=60, per_camera=False)\n",
    "print(len(seq_dfs))"
   ]
  },
  {
   "cell_type": "code",
   "execution_count": 31,
   "metadata": {},
   "outputs": [],
   "source": [
    "left_cameras = ['T01', 'T02', 'T05', 'T06', 'T09', 'T10', 'T13', 'T14', 'I01', 'I02']\n",
    "camera_pairs = [['T01', 'T02'], ['T05', 'T06'], ['T09', 'T10'], ['T13', 'T14'], ['I01', 'I02']]\n",
    "\n",
    "def read_raw_image(root_dir, dataset, row):\n",
    "    return imageio.imread(os.path.join(root_dir, dataset, row.artifact_debayeredrgb_0_save_path))\n",
    "\n",
    "def add_text(frame, raw_row, pred_df, dust_df):\n",
    "    frame = cv2.putText(frame, f'Camera {raw_row.camera_location}, collected on: {raw_row.collected_on}', \n",
    "                        (40,50), cv2.FONT_HERSHEY_SIMPLEX, 1, (255,0,0), 2, cv2.LINE_AA)\n",
    "    pred_rows = pred_df[(pred_df.id == raw_row.id)]\n",
    "    if len(pred_rows) > 1:\n",
    "        s = 'Pred state in camera pair: '\n",
    "        for i,r in pred_rows.iterrows():\n",
    "            s += f'{r.unique_id[-7:]}: {r.state} '\n",
    "        # print(raw_row.camera_location, pred_rows.unique_id.to_list())\n",
    "        frame = cv2.putText(frame, s, \n",
    "                            (40,100), cv2.FONT_HERSHEY_SIMPLEX, 1, (255,0,0), 2, cv2.LINE_AA)\n",
    "    dust_rows = dust_df[dust_df.id == raw_row.id]\n",
    "    if len(dust_rows) > 1:\n",
    "        s = 'Pred dust ratio in camera pair: '\n",
    "        for i,r in dust_rows.iterrows():\n",
    "            s += f'{r.unique_id[-7:]}: {r.total_averaged_dust_conf} '\n",
    "        # print(dust_rows.unique_id.to_list())\n",
    "        frame = cv2.putText(frame, s, \n",
    "                            (40,150), cv2.FONT_HERSHEY_SIMPLEX, 1, (255,0,0), 2, cv2.LINE_AA)\n",
    "    return frame"
   ]
  },
  {
   "cell_type": "code",
   "execution_count": 30,
   "metadata": {},
   "outputs": [
    {
     "name": "stdout",
     "output_type": "stream",
     "text": [
      "(93, 238) (483, 93)\n",
      "['T05' 'T10' 'T09'] ['T05', 'T06', 'T09', 'T10']\n",
      "[29, 29, 29, 29]\n",
      "T10 ['65e9c70e04a277ef14066ce2_T10_T11', '65e9c70e04a277ef14066ce2_T10_T12']\n",
      "['65e9c70e04a277ef14066ce2_T10_T11', '65e9c70e04a277ef14066ce2_T10_T12']\n",
      "T10 ['65e9c6795e301af12dab12a6_T10_T11', '65e9c6795e301af12dab12a6_T10_T12']\n",
      "['65e9c6795e301af12dab12a6_T10_T11', '65e9c6795e301af12dab12a6_T10_T12']\n",
      "T10 ['65e9c685d80ab4974224c3dc_T10_T11', '65e9c685d80ab4974224c3dc_T10_T12']\n",
      "['65e9c685d80ab4974224c3dc_T10_T11', '65e9c685d80ab4974224c3dc_T10_T12']\n",
      "T10 ['65e9c6c9504a4aaf5372a6a9_T10_T11', '65e9c6c9504a4aaf5372a6a9_T10_T12']\n",
      "['65e9c6c9504a4aaf5372a6a9_T10_T11', '65e9c6c9504a4aaf5372a6a9_T10_T12']\n",
      "T10 ['65e9c6d4e4305312190b1ec9_T10_T11', '65e9c6d4e4305312190b1ec9_T10_T12']\n",
      "['65e9c6d4e4305312190b1ec9_T10_T11', '65e9c6d4e4305312190b1ec9_T10_T12']\n",
      "T10 ['65e9c6e05e301af12dab13b0_T10_T11', '65e9c6e05e301af12dab13b0_T10_T12']\n",
      "['65e9c6e05e301af12dab13b0_T10_T11', '65e9c6e05e301af12dab13b0_T10_T12']\n",
      "T10 ['65e9c6eb60509af006f79628_T10_T11', '65e9c6eb60509af006f79628_T10_T12']\n",
      "['65e9c6eb60509af006f79628_T10_T11', '65e9c6eb60509af006f79628_T10_T12']\n",
      "T10 ['65e9c719042072f9d621e693_T10_T11', '65e9c719042072f9d621e693_T10_T12']\n",
      "['65e9c719042072f9d621e693_T10_T11', '65e9c719042072f9d621e693_T10_T12']\n",
      "T10 ['65e9c7305e301af12dab149f_T10_T11', '65e9c7305e301af12dab149f_T10_T12']\n",
      "['65e9c7305e301af12dab149f_T10_T11', '65e9c7305e301af12dab149f_T10_T12']\n",
      "T10 ['65e9c7463de3d70fe449573c_T10_T11', '65e9c7463de3d70fe449573c_T10_T12']\n",
      "['65e9c7463de3d70fe449573c_T10_T11', '65e9c7463de3d70fe449573c_T10_T12']\n",
      "T10 ['65e9c77e60509af006f7977e_T10_T11', '65e9c77e60509af006f7977e_T10_T12']\n",
      "['65e9c77e60509af006f7977e_T10_T11', '65e9c77e60509af006f7977e_T10_T12']\n",
      "T10 ['65e9c78acf534dcec5bfdae0_T10_T11', '65e9c78acf534dcec5bfdae0_T10_T12']\n",
      "['65e9c78acf534dcec5bfdae0_T10_T11', '65e9c78acf534dcec5bfdae0_T10_T12']\n",
      "T10 ['65e9c79606198505e2a5ae5b_T10_T11', '65e9c79606198505e2a5ae5b_T10_T12']\n",
      "['65e9c79606198505e2a5ae5b_T10_T11', '65e9c79606198505e2a5ae5b_T10_T12']\n",
      "T10 ['65e9c7a100eabc2db2438842_T10_T11', '65e9c7a100eabc2db2438842_T10_T12']\n",
      "['65e9c7a100eabc2db2438842_T10_T11', '65e9c7a100eabc2db2438842_T10_T12']\n",
      "T10 ['65e9c7b8504a4aaf5372a84a_T10_T11', '65e9c7b8504a4aaf5372a84a_T10_T12']\n",
      "['65e9c7b8504a4aaf5372a84a_T10_T11', '65e9c7b8504a4aaf5372a84a_T10_T12']\n",
      "T10 ['65e9c7c3bc620c2c14fe52f5_T10_T11', '65e9c7c3bc620c2c14fe52f5_T10_T12']\n",
      "['65e9c7c3bc620c2c14fe52f5_T10_T11', '65e9c7c3bc620c2c14fe52f5_T10_T12']\n",
      "T10 ['65e9c7cef2ce7103e717f802_T10_T11', '65e9c7cef2ce7103e717f802_T10_T12']\n",
      "['65e9c7cef2ce7103e717f802_T10_T11', '65e9c7cef2ce7103e717f802_T10_T12']\n",
      "T10 ['65e9c66e6047181dbe0e9e32_T10_T11', '65e9c66e6047181dbe0e9e32_T10_T12']\n",
      "['65e9c66e6047181dbe0e9e32_T10_T11', '65e9c66e6047181dbe0e9e32_T10_T12']\n",
      "T10 ['65e9c690f2ce7103e717f561_T10_T11', '65e9c690f2ce7103e717f561_T10_T12']\n",
      "['65e9c690f2ce7103e717f561_T10_T11', '65e9c690f2ce7103e717f561_T10_T12']\n",
      "T10 ['65e9c69bf2ce7103e717f57b_T10_T11', '65e9c69bf2ce7103e717f57b_T10_T12']\n",
      "['65e9c69bf2ce7103e717f57b_T10_T11', '65e9c69bf2ce7103e717f57b_T10_T12']\n",
      "T10 ['65e9c6a63de3d70fe44955f2_T10_T11', '65e9c6a63de3d70fe44955f2_T10_T12']\n",
      "['65e9c6a63de3d70fe44955f2_T10_T11', '65e9c6a63de3d70fe44955f2_T10_T12']\n",
      "T10 ['65e9c6bdbc620c2c14fe50ab_T10_T11', '65e9c6bdbc620c2c14fe50ab_T10_T12']\n",
      "['65e9c6bdbc620c2c14fe50ab_T10_T11', '65e9c6bdbc620c2c14fe50ab_T10_T12']\n",
      "T10 ['65e9c6f70df0ecefda541d8d_T10_T11', '65e9c6f70df0ecefda541d8d_T10_T12']\n",
      "['65e9c6f70df0ecefda541d8d_T10_T11', '65e9c6f70df0ecefda541d8d_T10_T12']\n",
      "T10 ['65e9c70235577d260b638e01_T10_T11', '65e9c70235577d260b638e01_T10_T12']\n",
      "['65e9c70235577d260b638e01_T10_T11', '65e9c70235577d260b638e01_T10_T12']\n",
      "T10 ['65e9c72460509af006f796dd_T10_T11', '65e9c72460509af006f796dd_T10_T12']\n",
      "['65e9c72460509af006f796dd_T10_T11', '65e9c72460509af006f796dd_T10_T12']\n",
      "T10 ['65e9c75135577d260b638edd_T10_T11', '65e9c75135577d260b638edd_T10_T12']\n",
      "['65e9c75135577d260b638edd_T10_T11', '65e9c75135577d260b638edd_T10_T12']\n",
      "T10 ['65e9c75d24345913862b18db_T10_T11', '65e9c75d24345913862b18db_T10_T12']\n",
      "['65e9c75d24345913862b18db_T10_T11', '65e9c75d24345913862b18db_T10_T12']\n"
     ]
    }
   ],
   "source": [
    "si = 4\n",
    "seq_df = seq_dfs[si]\n",
    "\n",
    "# get raw sequence\n",
    "start, end = seq_df.iloc[0].collected_on, seq_df.iloc[-1].collected_on\n",
    "seq_raw_df = raw_df[(raw_df.collected_on >= start) & (raw_df.collected_on <= end)]\n",
    "print(seq_df.shape, seq_raw_df.shape)\n",
    "\n",
    "# get pair-wise cameras\n",
    "cameras = seq_df.camera_location.unique()\n",
    "cameras_full = set()\n",
    "for c in cameras:\n",
    "    for cp in camera_pairs:\n",
    "        if c in cp:\n",
    "            cameras_full.add(cp[0])\n",
    "            cameras_full.add(cp[1])\n",
    "cameras_full = list(cameras_full)\n",
    "cameras_full.sort()\n",
    "print(cameras, cameras_full)\n",
    "\n",
    "# get per-camera dfs and truncate to same length\n",
    "camera_dfs = [seq_raw_df[seq_raw_df.camera_location == c] for c in cameras_full]\n",
    "min_len = min(len(cdf) for cdf in camera_dfs)\n",
    "camera_dfs = [cdf.iloc[:min_len] for cdf in camera_dfs]\n",
    "print([len(cdf) for cdf in camera_dfs])\n",
    "\n",
    "# create video\n",
    "video_dir = os.path.join(pred_root_dir, model, labeled_datasets[di], 'videos')\n",
    "os.makedirs(video_dir, exist_ok=True)\n",
    "video_name = os.path.join(video_dir, f'{start}_{\"_\".join(cameras_full)}_{si}.mp4')\n",
    "frame = read_raw_image(data_root_dir, unlabeled_datasets[di], seq_df.iloc[5])\n",
    "height, width, layers = frame.shape\n",
    "\n",
    "video = cv2.VideoWriter(video_name, cv2.VideoWriter_fourcc(*'MP4V'), 3, (width*2,height*len(camera_dfs)//2), isColor=True)\n",
    "for fi in range(min_len):\n",
    "    frames = []\n",
    "    for pair_i in range(len(camera_dfs)//2):\n",
    "        pair_frame = []\n",
    "        for _fi in range(2):\n",
    "            frame = read_raw_image(data_root_dir, unlabeled_datasets[di], camera_dfs[pair_i*2+_fi].iloc[fi])\n",
    "            frame = add_text(frame, camera_dfs[pair_i*2+_fi].iloc[fi], pred_df, dust_df)\n",
    "            pair_frame.append(frame)\n",
    "        pair_frame = np.concatenate(pair_frame, axis=1)\n",
    "        frames.append(pair_frame)\n",
    "    frame = np.concatenate(frames, axis=0)\n",
    "    frame = cv2.cvtColor(frame, cv2.COLOR_RGB2BGR)\n",
    "    video.write(frame)\n",
    "# cv2.destroyAllWindows()\n",
    "video.release()"
   ]
  }
 ],
 "metadata": {
  "kernelspec": {
   "display_name": "Python 3.9.18 64-bit ('brtdevkit': conda)",
   "name": "python3918jvsc74a57bd0c8cced58dbff2798e473c5ca6eca1100bfa72eead58bcdfb1b17e02c86ac111a"
  },
  "language_info": {
   "name": "python",
   "version": ""
  },
  "metadata": {
   "interpreter": {
    "hash": "c8cced58dbff2798e473c5ca6eca1100bfa72eead58bcdfb1b17e02c86ac111a"
   }
  },
  "orig_nbformat": 2
 },
 "nbformat": 4,
 "nbformat_minor": 2
}
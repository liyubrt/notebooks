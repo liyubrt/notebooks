{
 "cells": [
  {
   "cell_type": "code",
   "execution_count": 1,
   "metadata": {},
   "outputs": [],
   "source": [
    "import os\n",
    "import sys\n",
    "import ast\n",
    "import cv2\n",
    "import json\n",
    "import math\n",
    "import shutil\n",
    "import random\n",
    "import pickle\n",
    "import imageio\n",
    "import numpy as np\n",
    "import pandas as pd\n",
    "from collections import defaultdict\n",
    "from tqdm import tqdm\n",
    "from pprint import pprint\n",
    "import matplotlib.pyplot as plt\n",
    "sys.path.append('./')\n",
    "from utils import normalize_image, plot_image, plot_images"
   ]
  },
  {
   "cell_type": "code",
   "execution_count": 3,
   "metadata": {},
   "outputs": [
    {
     "name": "stdout",
     "output_type": "stream",
     "text": [
      "(122882, 3)\n"
     ]
    },
    {
     "data": {
      "text/html": "<div>\n<style scoped>\n    .dataframe tbody tr th:only-of-type {\n        vertical-align: middle;\n    }\n\n    .dataframe tbody tr th {\n        vertical-align: top;\n    }\n\n    .dataframe thead th {\n        text-align: right;\n    }\n</style>\n<table border=\"1\" class=\"dataframe\">\n  <thead>\n    <tr style=\"text-align: right;\">\n      <th></th>\n      <th>id</th>\n      <th>image</th>\n      <th>properties__json</th>\n    </tr>\n  </thead>\n  <tbody>\n    <tr>\n      <th>0</th>\n      <td>65c1834cbad271dacf97e0e7</td>\n      <td>5f81f1d7bf0c3674c05778c4</td>\n      <td>[{'featureId': 'cls9tzeqs000a356l9v59fjwt', 'v...</td>\n    </tr>\n    <tr>\n      <th>1</th>\n      <td>65c18282ba421ac96fb33c79</td>\n      <td>60679aa31e3d26cab0c8c694</td>\n      <td>[{'featureId': 'clsa1ufc10006356ns6mt2ud2', 'v...</td>\n    </tr>\n  </tbody>\n</table>\n</div>",
      "text/plain": "                         id                     image  \\\n0  65c1834cbad271dacf97e0e7  5f81f1d7bf0c3674c05778c4   \n1  65c18282ba421ac96fb33c79  60679aa31e3d26cab0c8c694   \n\n                                    properties__json  \n0  [{'featureId': 'cls9tzeqs000a356l9v59fjwt', 'v...  \n1  [{'featureId': 'clsa1ufc10006356ns6mt2ud2', 'v...  "
     },
     "execution_count": 3,
     "metadata": {},
     "output_type": "execute_result"
    }
   ],
   "source": [
    "# load human pose info\n",
    "human_pose_csv = '/data/jupiter/li.yu/data/halo_rgb_stereo_train_test/all_human_pose.csv'\n",
    "hp_df = pd.read_csv(human_pose_csv, converters={\"properties__json\": ast.literal_eval})\n",
    "print(hp_df.shape)\n",
    "hp_df.head(2)"
   ]
  },
  {
   "cell_type": "code",
   "execution_count": 2,
   "metadata": {},
   "outputs": [
    {
     "name": "stderr",
     "output_type": "stream",
     "text": [
      "/home/li.yu/anaconda3/envs/pytorchlightning/lib/python3.8/site-packages/IPython/core/interactiveshell.py:3437: DtypeWarning: Columns (2,3,24,26,82,93,94,95,96,97,99,100,102,103,104,105,106,107,108,109,110,120,151,153,157,158,163,172,175,178,181,182,184,188,190,200,201,203,204,205,206,211,228,233,234,235,236,238,240,241,242,253,254,256,259,260,261,262,263,264,265,266,267,268,269,270,271,272,273,274,275,277,282,283,284,287,288,289,291) have mixed types.Specify dtype option on import or set low_memory=False.\n",
      "  exec(code_obj, self.user_global_ns, self.user_ns)\n"
     ]
    },
    {
     "data": {
      "text/plain": "(280564, 348)"
     },
     "execution_count": 2,
     "metadata": {},
     "output_type": "execute_result"
    }
   ],
   "source": [
    "# root_dir = '/data/jupiter/datasets/'\n",
    "root_dir = '/data2/jupiter/datasets/'\n",
    "# dataset = 'Jupiter_train_v6_2'\n",
    "dataset = 'halo_rgb_stereo_train_v6_2'\n",
    "# dataset = 'halo_rgb_stereo_test_v6_1'\n",
    "csv = os.path.join(root_dir, dataset, 'master_annotations_dedup.csv')\n",
    "converters = {\"label_map\": ast.literal_eval, \"label_counts\": ast.literal_eval}\n",
    "df = pd.read_csv(csv, converters=converters)\n",
    "df.shape"
   ]
  },
  {
   "cell_type": "code",
   "execution_count": null,
   "metadata": {},
   "outputs": [],
   "source": []
  }
 ],
 "metadata": {
  "kernelspec": {
   "display_name": "Python 3.8.8 64-bit",
   "name": "python388jvsc74a57bd01eceddbeeb55f686303d64ef8e05e300429be7c506c9f9cad24a6dfe5f27b555"
  },
  "language_info": {
   "codemirror_mode": {
    "name": "ipython",
    "version": 3
   },
   "file_extension": ".py",
   "mimetype": "text/x-python",
   "name": "python",
   "nbconvert_exporter": "python",
   "pygments_lexer": "ipython3",
   "version": "3.8.8"
  },
  "metadata": {
   "interpreter": {
    "hash": "1eceddbeeb55f686303d64ef8e05e300429be7c506c9f9cad24a6dfe5f27b555"
   }
  },
  "orig_nbformat": 2
 },
 "nbformat": 4,
 "nbformat_minor": 2
}
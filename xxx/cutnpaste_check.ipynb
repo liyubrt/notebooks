{
 "cells": [
  {
   "cell_type": "code",
   "execution_count": 1,
   "metadata": {},
   "outputs": [
    {
     "name": "stderr",
     "output_type": "stream",
     "text": [
      "Internal AWS credentials have been removed from brt-devkit.\n",
      "To setup AWS credentials, Please follow instructions at : https://boto3.amazonaws.com/v1/documentation/api/latest/guide/credentials.html\n"
     ]
    }
   ],
   "source": [
    "import os\n",
    "import sys\n",
    "import numpy as np\n",
    "import pandas as pd\n",
    "import logging\n",
    "import matplotlib.pyplot as plt\n",
    "sys.path.append('../')\n",
    "from utils import normalize_image, plot_image, plot_images\n",
    "sys.path.append('/home/li.yu/code/JupiterCVML/europa/base/src/europa')\n",
    "from dl.config.label_map_helper import LabelConversion, LabelMapHelper\n",
    "from dl.dataset.farm_field import DriveableTerrainDataset, get_driveable_terrain_dataset\n",
    "from dl.utils.helpers import load_master_csv"
   ]
  },
  {
   "cell_type": "code",
   "execution_count": 2,
   "metadata": {},
   "outputs": [],
   "source": [
    "data_dir = '/data2/jupiter/datasets/Jupiter_train_v6_2'\n",
    "csv_path = '/data2/jupiter/datasets/Jupiter_train_v6_2/master_annotations.csv'\n",
    "label_map_file = '/home/li.yu/code/JupiterCVML/europa/base/src/europa/dl/config/label_maps/seven_class_train.csv'\n",
    "# dataset_df = load_master_csv(csv_path)\n",
    "label_map_helper = LabelMapHelper(label_map_file)\n",
    "split = 'train'\n",
    "kwargs = {\n",
    "    'seed': 304,\n",
    "    'dataset_name': 'Jupiter_train_v6_2',\n",
    "    'input_size': [512, 1024],\n",
    "    'input_mode': 'RGBD',\n",
    "    'label_map_helper': label_map_helper,\n",
    "    'val_set_ratio': 0.12,\n",
    "    'val_csv': '/data2/jupiter/general/v6_2_overlap_with_test_geohash_bag_vat_ids.csv',\n",
    "    'ignore_label': 255,\n",
    "    'num_workers' : 16,\n",
    "    'batch_size': 64,\n",
    "    'epochs': 60,\n",
    "    'run_productivity_metrics': False,\n",
    "    'ignore_dust_with_stop_class': False,\n",
    "    'n_images_to_sample': 300,\n",
    "    'night_model': {'use': False},\n",
    "    'color_jitter': {\"use\": False, \"brightness\":0.1,\"contrast\":0,\"saturation\":0.2,\"hue\":0.3},\n",
    "    'use_albumentation_transform': False,\n",
    "    'adj_img_gamma': {'use': False},\n",
    "    'adj_color_temp': {'use': False},\n",
    "    'trivial_augment': {'use': False},\n",
    "    'test_time_augmentation': False,\n",
    "    'normalization_params': {\"policy\": \"tonemap\", \"alpha\": 0.25, \"beta\": 0.9, \"gamma\": 0.9, \"eps\": 1e-6},\n",
    "    'weighted_sampling': {\"birds\": 1.0,\n",
    "                        \"mis_labeled_driveable\": 0.0, \"mis_labeled_driveable_pixels\": 10000,\n",
    "                        \"tiny_humans\": 0.0, \"tiny_human_pixels\": 30,\n",
    "                        \"tiny_vehicles\": 0.0, \"tiny_vehicle_pixels\": 100,\n",
    "                        \"humans\": 1.0, \"human_pixels\": [100, 5000],\n",
    "                        \"occluded_humans\": 3.5, \"occluded_human_pixels\": [100, 2000],\n",
    "                        \"reverse_humans\": 3.5, \"reverse_human_pixels\": [50, 2000],\n",
    "                        \"triangle_humans\": 3.5, \"triangle_human_pixels\": [50, 2000],\n",
    "                        \"day_front_vehicles\": 1.0, \"day_front_vehicle_pixels\": [3000, 100000],\n",
    "                        \"day_rear_vehicles\": 1.0, \"day_rear_vehicle_pixels\": [3000, 100000],\n",
    "                        \"night_front_vehicles\": 2.0, \"night_front_vehicle_pixels\": [3000, 100000],\n",
    "                        \"night_rear_vehicles\": 2.0, \"night_rear_vehicle_pixels\": [3000, 100000],\n",
    "                        \"airborne_debris\": 3.0, \"airborne_debris_pixels\": [100, 100000]},\n",
    "    'cutnpaste_augmentations': {\"Humans\": {\"sample_ratio\": 0.3, \"human_non_standing_aspect_ratio_threshold\": 0.5,\n",
    "                                           \"same_operation_time\": False, \"same_brightness\": True, \"brightness_range\": 0.05,\n",
    "                                           \"use_standing_human\": True, \"standing_min_pixels\": 20, \"standing_max_pixels\": 20000,\n",
    "                                           \"use_laying_down_human\": True, \"laying_down_min_pixels\": 50, \"laying_down_max_pixels\": 15000,\n",
    "                                           \"use_multi_human\": True, \"only_non_occluded\": True, \"blend_mode\": \"vanilla\",\n",
    "                                           \"rotate_object\": True, \"rotate_degree\": 30, \"jitter_object\": False, \"jitter_range\": 0.15,\n",
    "                                           \"depth_aware\": False, \"cutout_rate\": 0.20, \"max_cutout\": 0.6},\n",
    "                                \"Tractors or Vehicles\": {\"sample_ratio\": 0.0,\n",
    "                                           \"same_operation_time\": False, \"same_brightness\": True, \"brightness_range\": 0.05,\n",
    "                                           \"min_pixels\": 3000, \"max_pixels\": 100000, \"blend_mode\": \"gaussianblur\",\n",
    "                                           \"rotate_object\": False, \"rotate_degree\": 30, \"jitter_object\": False, \"jitter_range\": 0.15,\n",
    "                                           \"depth_aware\": False, \"cutout_rate\": 0.0, \"max_cutout\": 0.6}},\n",
    "    'dust_augmentation_imgaug': {'use': False},\n",
    "}"
   ]
  },
  {
   "cell_type": "code",
   "execution_count": 3,
   "metadata": {},
   "outputs": [
    {
     "name": "stderr",
     "output_type": "stream",
     "text": [
      "/home/li.yu/code/JupiterCVML/europa/base/src/europa/dl/dataset/farm_field.py:465: DtypeWarning: Columns (6,7,39,58,59,60,61,63,64,65,66,67,68,69,70,71,72,73,75,76,77,78,80,81,82,83,84,85,86,87,88,89,90,109,110,111,112,114,115,116,117,118,119,120,121,122,123,124,143,144,145,146,148,149,150,151,152,153,154,155,156,157,158,160,161,162,163,165,166,167,168,169,170,171,172,173,174,175,177,178,179,180,182,183,184,185,186,187,188,189,190,191,192,223,225,227,230,247,251,254,255,261,262,263,267,308,319,324,327,337,338,346,354,370,371,373,374,376,377) have mixed types.Specify dtype option on import or set low_memory=False.\n",
      "  cur_df = load_master_csv(csv_path)\n",
      "ERROR:root:Could not parse json for column label_counts in /data2/jupiter/datasets/Jupiter_train_v6_2/master_annotations.csv, it may have been saved on the wrong branch. Dropping it now, it should be regenerated correctly by the cutnpaste_preparer.py step.\n",
      "/home/li.yu/anaconda3/envs/pytorchlightning/lib/python3.8/site-packages/pandas/core/indexing.py:1667: PerformanceWarning: DataFrame is highly fragmented.  This is usually the result of calling `frame.insert` many times, which has poor performance.  Consider joining all columns at once using pd.concat(axis=1) instead.  To get a de-fragmented frame, use `newframe = frame.copy()`\n",
      "  self.obj[key] = value\n"
     ]
    }
   ],
   "source": [
    "train_ds, val_ds = get_driveable_terrain_dataset(data_dir, split, csv_path, **kwargs)"
   ]
  },
  {
   "cell_type": "code",
   "execution_count": 4,
   "metadata": {},
   "outputs": [],
   "source": [
    "data_sample = train_ds[0]"
   ]
  },
  {
   "cell_type": "code",
   "execution_count": 5,
   "metadata": {},
   "outputs": [
    {
     "data": {
      "text/plain": "id                                                   5f6a93e822ff3085e422c43b\nis_multi_human                                                           True\nlabel_counts                      {'Untilled field': 188011, 'Trees': 336277}\nhumans_cutnpaste_samples    [5f6a75b22f51f8c6c157fba9, 5fe46d297ed99967705...\nName: 0, dtype: object"
     },
     "execution_count": 5,
     "metadata": {},
     "output_type": "execute_result"
    }
   ],
   "source": [
    "sample_df = train_ds.dataframe.iloc[0]\n",
    "sample_df[['id', 'is_multi_human', 'label_counts', 'humans_cutnpaste_samples']]"
   ]
  },
  {
   "cell_type": "code",
   "execution_count": 6,
   "metadata": {},
   "outputs": [
    {
     "data": {
      "text/html": "<div>\n<style scoped>\n    .dataframe tbody tr th:only-of-type {\n        vertical-align: middle;\n    }\n\n    .dataframe tbody tr th {\n        vertical-align: top;\n    }\n\n    .dataframe thead th {\n        text-align: right;\n    }\n</style>\n<table border=\"1\" class=\"dataframe\">\n  <thead>\n    <tr style=\"text-align: right;\">\n      <th></th>\n      <th>id</th>\n      <th>is_multi_human</th>\n      <th>label_counts</th>\n      <th>humans_cutnpaste_samples</th>\n    </tr>\n  </thead>\n  <tbody>\n    <tr>\n      <th>34381</th>\n      <td>5f6a75b22f51f8c6c157fba9</td>\n      <td>True</td>\n      <td>{'Untilled field': 388089, 'Ignore': 136199}</td>\n      <td>[5fa4fc10d7c91d86d358c6dd, 5fa0275ecaba9d64166...</td>\n    </tr>\n  </tbody>\n</table>\n</div>",
      "text/plain": "                             id  is_multi_human  \\\n34381  5f6a75b22f51f8c6c157fba9            True   \n\n                                       label_counts  \\\n34381  {'Untilled field': 388089, 'Ignore': 136199}   \n\n                                humans_cutnpaste_samples  \n34381  [5fa4fc10d7c91d86d358c6dd, 5fa0275ecaba9d64166...  "
     },
     "execution_count": 6,
     "metadata": {},
     "output_type": "execute_result"
    }
   ],
   "source": [
    "df = train_ds.dataframe\n",
    "sample_df = df[df.id == '5f6a75b22f51f8c6c157fba9']\n",
    "sample_df[['id', 'is_multi_human', 'label_counts', 'humans_cutnpaste_samples']]"
   ]
  },
  {
   "cell_type": "code",
   "execution_count": 2,
   "metadata": {},
   "outputs": [
    {
     "name": "stderr",
     "output_type": "stream",
     "text": [
      "/home/li.yu/anaconda3/envs/pytorchlightning/lib/python3.8/site-packages/IPython/core/interactiveshell.py:3437: DtypeWarning: Columns (6,7,39,223,225,227,230,247,251,254,255,263,267,308,324,327,337,338,346,354,370,371,373,376,377) have mixed types.Specify dtype option on import or set low_memory=False.\n",
      "  exec(code_obj, self.user_global_ns, self.user_ns)\n"
     ]
    },
    {
     "name": "stdout",
     "output_type": "stream",
     "text": [
      "(320715, 434)\n"
     ]
    }
   ],
   "source": [
    "data_dir2 = '/data2/jupiter/datasets/Jupiter_train_v6_1_v2'\n",
    "df2 = pd.read_csv('/data2/jupiter/datasets/Jupiter_train_v6_1_v2/master_annotations.csv')\n",
    "# df2 = pd.read_csv('/data/jupiter/li.yu/data/Jupiter_train_v6_1/epoch0_5_30_focal05_master_annotations.csv')\n",
    "# df2si = pd.read_csv('/data2/jupiter/datasets/Jupiter_train_v6_1_v2/cache/cutnpaste_presampling_4053766482.csv')\n",
    "# df2 = df2.merge(df2si, on='unique_id')\n",
    "print(df2.shape)"
   ]
  },
  {
   "cell_type": "code",
   "execution_count": 4,
   "metadata": {},
   "outputs": [
    {
     "data": {
      "text/html": "<div>\n<style scoped>\n    .dataframe tbody tr th:only-of-type {\n        vertical-align: middle;\n    }\n\n    .dataframe tbody tr th {\n        vertical-align: top;\n    }\n\n    .dataframe thead th {\n        text-align: right;\n    }\n</style>\n<table border=\"1\" class=\"dataframe\">\n  <thead>\n    <tr style=\"text-align: right;\">\n      <th></th>\n      <th>id</th>\n      <th>is_multi_human</th>\n      <th>label_counts</th>\n    </tr>\n  </thead>\n  <tbody>\n    <tr>\n      <th>2</th>\n      <td>5f6a93e822ff3085e422c43b</td>\n      <td>NaN</td>\n      <td>{\"Untilled field\": 188011, \"Trees\": 336277}</td>\n    </tr>\n  </tbody>\n</table>\n</div>",
      "text/plain": "                         id is_multi_human  \\\n2  5f6a93e822ff3085e422c43b            NaN   \n\n                                  label_counts  \n2  {\"Untilled field\": 188011, \"Trees\": 336277}  "
     },
     "execution_count": 4,
     "metadata": {},
     "output_type": "execute_result"
    }
   ],
   "source": [
    "sample_df2 = df2[df2.unique_id == '5f6a93e822ff3085e422c43b']\n",
    "sample_df2[['id', 'is_multi_human', 'label_counts', 'humans_cutnpaste_samples']]"
   ]
  },
  {
   "cell_type": "code",
   "execution_count": 35,
   "metadata": {},
   "outputs": [
    {
     "name": "stdout",
     "output_type": "stream",
     "text": [
      "5f6a93e822ff3085e422c43b daytime 2020-09-15T20:23:19.322000\n",
      "5f6a93e822ff3085e422c43b {'Untilled field': 188011, 'Trees': 336277} ['Untilled field', 'Trees'] [2 6] [188011 336277]\n"
     ]
    }
   ],
   "source": [
    "show_image, show_label = True, True\n",
    "if show_image:\n",
    "    data_path = os.path.join(data_dir, sample_df.stereo_pipeline_npz_save_path)\n",
    "    stereo_data = np.load(data_path)\n",
    "    img = stereo_data['left']\n",
    "    img_norm = normalize_image(img, sample_df.hdr_mode)\n",
    "    print(sample_df.image_id, sample_df.operation_time, sample_df.collected_on)\n",
    "    plot_image(img_norm)\n",
    "\n",
    "if show_label and 'rectified_label_save_path' in sample_df and isinstance(sample_df.rectified_label_save_path, str):\n",
    "    label_path = os.path.join(data_dir, sample_df.rectified_label_save_path)\n",
    "    lbl = np.load(label_path)['left']\n",
    "    labels, counts = np.unique(lbl, return_counts=True)\n",
    "    label_map = sample_df.label_map\n",
    "    label_strs = [label_map[str(i)] for i in labels if i != 0]\n",
    "    print(sample_df.unique_id, sample_df.label_counts, label_strs, labels, counts)\n",
    "    plot_image(lbl)\n",
    "\n"
   ]
  }
 ],
 "metadata": {
  "kernelspec": {
   "display_name": "Python 3.8.8 64-bit ('pytorchlightning': conda)",
   "name": "python388jvsc74a57bd01eceddbeeb55f686303d64ef8e05e300429be7c506c9f9cad24a6dfe5f27b555"
  },
  "language_info": {
   "codemirror_mode": {
    "name": "ipython",
    "version": 3
   },
   "file_extension": ".py",
   "mimetype": "text/x-python",
   "name": "python",
   "nbconvert_exporter": "python",
   "pygments_lexer": "ipython3",
   "version": "3.8.8"
  },
  "metadata": {
   "interpreter": {
    "hash": "1eceddbeeb55f686303d64ef8e05e300429be7c506c9f9cad24a6dfe5f27b555"
   }
  },
  "orig_nbformat": 2
 },
 "nbformat": 4,
 "nbformat_minor": 2
}
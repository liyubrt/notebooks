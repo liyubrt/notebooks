{
 "cells": [
  {
   "cell_type": "code",
   "execution_count": 3,
   "metadata": {},
   "outputs": [],
   "source": [
    "import os\n",
    "import imageio\n",
    "import pandas as pd\n",
    "import matplotlib.pyplot as plt"
   ]
  },
  {
   "cell_type": "code",
   "execution_count": 20,
   "metadata": {},
   "outputs": [],
   "source": [
    "def display_imgs(df, pred_dir, display_rear=True):\n",
    "    if display_rear:\n",
    "        df = df[(df.state == 'false_positive') & (~df.camera_location.str.startswith('front'))]\n",
    "    else:\n",
    "        df = df[(df.state == 'false_positive')]\n",
    "    for i,row in df.iterrows():\n",
    "        img_path = os.path.join(pred_dir, 'output_visualization', row.id+'.jpg')\n",
    "        print(row.id, row.camera_location)\n",
    "        img = imageio.imread(img_path)\n",
    "        plt.figure(1, figsize=(12, 6))\n",
    "        plt.xticks([])\n",
    "        plt.yticks([])\n",
    "        plt.imshow(img)\n",
    "        plt.show()"
   ]
  },
  {
   "cell_type": "code",
   "execution_count": 12,
   "metadata": {},
   "outputs": [],
   "source": [
    "root_dir = '/data/jupiter/li.yu/exps/driveable_terrain_model'"
   ]
  },
  {
   "cell_type": "markdown",
   "metadata": {},
   "source": [
    "## Display FPs of v471_2cls_base_dusthead2_0731"
   ]
  },
  {
   "cell_type": "code",
   "execution_count": 18,
   "metadata": {},
   "outputs": [],
   "source": [
    "exp = 'v471_2cls_base_dusthead2_0731'\n",
    "pred_dir = os.path.join(root_dir, exp, '2022_productivity_ts_v2_hdr')\n",
    "df = pd.read_csv(os.path.join(pred_dir, 'output.csv.percentile_vpu'))\n",
    "display_imgs(df, pred_dir)"
   ]
  },
  {
   "cell_type": "markdown",
   "metadata": {},
   "source": [
    "## Display FPs of v471_2cls_base_dusthead2_0801"
   ]
  },
  {
   "cell_type": "code",
   "execution_count": null,
   "metadata": {},
   "outputs": [],
   "source": [
    "exp = 'v471_2cls_base_dusthead2_0801'\n",
    "pred_dir = os.path.join(root_dir, exp, '2022_productivity_ts_v2_hdr')\n",
    "df = pd.read_csv(os.path.join(pred_dir, 'output.csv.percentile_vpu'))\n",
    "display_imgs(df, pred_dir)"
   ]
  },
  {
   "cell_type": "markdown",
   "metadata": {},
   "source": [
    "## Display FPs of human_detector_2C_v471_rear_dustHead_percentile_brightness_20220809-1"
   ]
  },
  {
   "cell_type": "code",
   "execution_count": null,
   "metadata": {},
   "outputs": [],
   "source": [
    "exp = 'human_detector_2C_v471_rear_dustHead_percentile_brightness_20220809-1'\n",
    "pred_dir = os.path.join(root_dir, exp, '2022_productivity_ts_v2_hdr')\n",
    "df = pd.read_csv(os.path.join(pred_dir, 'output.csv.percentile_vpu'))\n",
    "display_imgs(df, pred_dir)"
   ]
  },
  {
   "cell_type": "markdown",
   "metadata": {},
   "source": [
    "## Display FPs of human_detector_2C_v471_rear_dustHead_percentile_vpu_brightness_labelCorrection_20220818-1"
   ]
  },
  {
   "cell_type": "code",
   "execution_count": 22,
   "metadata": {},
   "outputs": [],
   "source": [
    "exp = 'human_detector_2C_v471_rear_dustHead_percentile_vpu_brightness_labelCorrection_20220818-1'\n",
    "pred_dir = os.path.join(root_dir, exp, '2022_productivity_ts_v2_hdr')\n",
    "df = pd.read_csv(os.path.join(pred_dir, 'output.csv.percentile_vpu'))\n",
    "display_imgs(df, pred_dir)"
   ]
  },
  {
   "cell_type": "markdown",
   "metadata": {},
   "source": [
    "## Display FPs of v471_6cls_base_dusthead_0812"
   ]
  },
  {
   "cell_type": "code",
   "execution_count": null,
   "metadata": {},
   "outputs": [],
   "source": [
    "exp = 'v471_6cls_base_dusthead_0812'\n",
    "pred_dir = os.path.join(root_dir, exp, '2022_productivity_ts_v2_hdr')\n",
    "df = pd.read_csv(os.path.join(pred_dir, 'output.csv.percentile_vpu'))\n",
    "display_imgs(df, pred_dir, False)"
   ]
  },
  {
   "cell_type": "markdown",
   "metadata": {},
   "source": [
    "## Display FPs of 471_local_v58_hard_all_cutout25_w10_s35_dusthead_0816"
   ]
  },
  {
   "cell_type": "code",
   "execution_count": null,
   "metadata": {},
   "outputs": [],
   "source": [
    "exp = '471_local_v58_hard_all_cutout25_w10_s35_dusthead_0816'\n",
    "pred_dir = os.path.join(root_dir, exp, '2022_productivity_ts_v2_hdr')\n",
    "df = pd.read_csv(os.path.join(pred_dir, 'output.csv.percentile_vpu'))\n",
    "display_imgs(df, pred_dir, False)"
   ]
  }
 ],
 "metadata": {
  "kernelspec": {
   "display_name": "Python 3.8.10 64-bit ('shank': conda)",
   "name": "python3810jvsc74a57bd0086b207c4b176459976fbd848c46aaef8d683e58303c49649f931f4f7fdf75bf"
  },
  "language_info": {
   "codemirror_mode": {
    "name": "ipython",
    "version": 3
   },
   "file_extension": ".py",
   "mimetype": "text/x-python",
   "name": "python",
   "nbconvert_exporter": "python",
   "pygments_lexer": "ipython3",
   "version": "3.8.10"
  },
  "metadata": {
   "interpreter": {
    "hash": "086b207c4b176459976fbd848c46aaef8d683e58303c49649f931f4f7fdf75bf"
   }
  },
  "orig_nbformat": 2
 },
 "nbformat": 4,
 "nbformat_minor": 2
}
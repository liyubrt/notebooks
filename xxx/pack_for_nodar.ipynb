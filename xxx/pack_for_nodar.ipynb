{
 "cells": [
  {
   "cell_type": "code",
   "execution_count": 1,
   "id": "21e784ae-0614-48ff-b64b-7e40d7f226e2",
   "metadata": {},
   "outputs": [],
   "source": [
    "import os\n",
    "import ast\n",
    "import sys\n",
    "import cv2\n",
    "import json\n",
    "import shutil\n",
    "import random\n",
    "import pickle\n",
    "import imageio\n",
    "import numpy as np\n",
    "import pandas as pd\n",
    "from PIL import Image\n",
    "from collections import defaultdict\n",
    "from tqdm import tqdm\n",
    "from pprint import pprint\n",
    "import matplotlib.pyplot as plt\n",
    "# sys.path.append('./')\n",
    "# from utils import normalize_image, plot_image, plot_images, get_sequences"
   ]
  },
  {
   "cell_type": "code",
   "execution_count": 22,
   "id": "52d6099f-475d-45d5-811a-969e739bd78e",
   "metadata": {},
   "outputs": [
    {
     "name": "stdout",
     "output_type": "stream",
     "text": [
      "21 ['sequence_day_no_dust_driving', 'sequence_night_medium_dust_driving', 'sequence_day_low_dust_driving', 'sequence_dawn_dusk_low_dust_stationary', 'sequence_day_low_dust_stationary', 'sequence_night_heavy_dust_stationary', 'sequence_dawn_dusk_heavy_dust_stationary', 'sequence_dawn_dusk_medium_dust_stationary', 'sequence_night_heavy_dust_driving', 'sequence_night_low_dust_driving', 'sequence_dawn_dusk_no_dust_stationary', 'sequence_day_heavy_dust_stationary', 'sequence_day_heavy_dust_driving', 'sequence_night_low_dust_stationary', 'sequence_night_medium_dust_stationary', 'sequence_day_medium_dust_driving', 'sequence_dawn_dusk_heavy_dust_driving', 'sequence_day_medium_dust_stationary', 'sequence_day_no_dust_stationary', 'sequence_dawn_dusk_medium_dust_driving', 'sequence_dawn_dusk_low_dust_driving']\n"
     ]
    }
   ],
   "source": [
    "data_dir = '/data3/jupiter/datasets/nodar_datasets'\n",
    "to_share_dir = os.path.join(data_dir, 'packed_data')\n",
    "os.makedirs(to_share_dir, exist_ok=True)\n",
    "pred_dir = '/data/jupiter/li.yu/exps/driveable_terrain_model/11_3_rev1_train_human_test_dean_multires_ignore_trees_1p25_u_p5_h_p2_v_ft_from_rev1_22kdust_ft_p15dust_h_fresh_dust11/nodar_datasets'\n",
    "datasets = os.listdir(data_dir)\n",
    "datasets = [d for d in datasets if d != 'to_share']\n",
    "print(len(datasets), datasets)"
   ]
  },
  {
   "cell_type": "code",
   "execution_count": 28,
   "id": "abbe6a8b-fb72-445e-bdde-30b49766497d",
   "metadata": {},
   "outputs": [
    {
     "name": "stdout",
     "output_type": "stream",
     "text": [
      "sequence_day_no_dust_driving (1488, 116)\n",
      "sequence_night_medium_dust_driving (584, 106)\n",
      "sequence_day_low_dust_driving (559, 95)\n",
      "sequence_dawn_dusk_low_dust_stationary (1488, 112)\n",
      "sequence_day_low_dust_stationary (872, 112)\n",
      "sequence_night_heavy_dust_stationary (1472, 115)\n",
      "sequence_dawn_dusk_heavy_dust_stationary (1488, 106)\n",
      "sequence_dawn_dusk_medium_dust_stationary (1470, 112)\n",
      "sequence_night_heavy_dust_driving (1488, 106)\n",
      "sequence_night_low_dust_driving (1498, 106)\n",
      "sequence_dawn_dusk_no_dust_stationary (1472, 112)\n",
      "sequence_day_heavy_dust_stationary (1176, 112)\n",
      "sequence_day_heavy_dust_driving (1488, 115)\n",
      "sequence_night_low_dust_stationary (1440, 115)\n",
      "sequence_night_medium_dust_stationary (1488, 112)\n",
      "sequence_day_medium_dust_driving (1200, 95)\n",
      "sequence_dawn_dusk_heavy_dust_driving (812, 106)\n",
      "sequence_day_medium_dust_stationary (1485, 112)\n",
      "sequence_day_no_dust_stationary (1261, 95)\n",
      "sequence_dawn_dusk_medium_dust_driving (1456, 106)\n",
      "sequence_dawn_dusk_low_dust_driving (1116, 106)\n"
     ]
    }
   ],
   "source": [
    "# read in master csv and select fields\n",
    "converters = {\"calibration_data\": ast.literal_eval}\n",
    "s = ''\n",
    "for dataset in datasets:\n",
    "    csv = os.path.join(data_dir, dataset, 'annotations.csv')\n",
    "    df = pd.read_csv(csv, converters=converters)\n",
    "    print(dataset, df.shape)\n",
    "    # get intrinsics and select key columns\n",
    "    df['camera_intrinsics'] = df['calibration_data'].apply(lambda d: d.get('intrinsics'))\n",
    "    df2 = df[['id', 'frame_id', 'camera_location', 'camera_intrinsics']]\n",
    "    # save csv\n",
    "    dataset_dir = os.path.join(to_share_dir, dataset)\n",
    "    os.makedirs(dataset_dir, exist_ok=True)\n",
    "    df2.to_csv(os.path.join(dataset_dir, 'metadata.csv'), index=False)\n",
    "    # save seg outputs\n",
    "    if not os.path.isdir(os.path.join(dataset_dir, 'segmentation_prediction')):\n",
    "        os.symlink(os.path.join(pred_dir, dataset, 'output_visualization'), os.path.join(dataset_dir, 'segmentation_prediction'), target_is_directory=True)\n",
    "    # save raw tiff files\n",
    "    if not os.path.isdir(os.path.join(dataset_dir, 'images')):\n",
    "        os.symlink(os.path.join(data_dir, dataset, 'images'), os.path.join(dataset_dir, 'images'), target_is_directory=True)\n",
    "    s += f'tar hcf {dataset}.tar {dataset}\\n'\n",
    "    # break\n",
    "with open(os.path.join(to_share_dir, 'tar_files.sh'), 'w') as f:\n",
    "    f.write(s)"
   ]
  },
  {
   "cell_type": "code",
   "execution_count": 11,
   "id": "03c41dd6-71c9-4557-b692-53ae37ddbd19",
   "metadata": {},
   "outputs": [
    {
     "data": {
      "text/plain": [
       "True"
      ]
     },
     "execution_count": 11,
     "metadata": {},
     "output_type": "execute_result"
    }
   ],
   "source": [
    "'frame_id' in df"
   ]
  },
  {
   "cell_type": "code",
   "execution_count": 9,
   "id": "fa6541bf-eb22-4a8a-9bf2-5cc2484a7271",
   "metadata": {
    "scrolled": true
   },
   "outputs": [
    {
     "data": {
      "text/plain": [
       "{'cal_height': 1204,\n",
       " 'cal_width': 1944,\n",
       " 'camera_idx': 7,\n",
       " 'camera_location': 'T08',\n",
       " 'extrinsics': {'r_rodrigues': '{\"x\": -0.3124042749404907, \"y\": 0.7538045048713684, \"z\": -0.5334541201591492, \"w\": -0.22273094952106476}',\n",
       "  't': '{\"x\": -1.989351511001587, \"y\": 1.9224333763122559, \"z\": 1.1346606016159058}'},\n",
       " 'gain': {'analog_gain': 1.0, 'digital_gain': 1.0},\n",
       " 'intrinsics': {'d': [-0.29101812839508,\n",
       "   0.13981582224369002,\n",
       "   0.000166796438861,\n",
       "   -5.3002084314357496e-05,\n",
       "   -0.045897834002971004,\n",
       "   0.0,\n",
       "   0.0,\n",
       "   0.0],\n",
       "  'distortion_normalization': '{\"normalization\": 1459.33544921875, \"center\": {\"x\": 954.0071411132812, \"y\": 596.6936645507812}}',\n",
       "  'k': [1460.3131103515625,\n",
       "   0.0,\n",
       "   954.0071411132812,\n",
       "   0.0,\n",
       "   1460.3131103515625,\n",
       "   596.6936645507812,\n",
       "   0.0,\n",
       "   0.0,\n",
       "   1.0]},\n",
       " 'lighting_mode': None,\n",
       " 'mode': None,\n",
       " 'sensor_type': 'VD6763',\n",
       " 'serial_number': 'PCE7T1B012313',\n",
       " 'vpu_idx': 0}"
      ]
     },
     "execution_count": 9,
     "metadata": {},
     "output_type": "execute_result"
    }
   ],
   "source": [
    "df.iloc[0].calibration_data"
   ]
  },
  {
   "cell_type": "code",
   "execution_count": 17,
   "id": "e217baa4-9db5-4e7f-b010-ea18df1b95b5",
   "metadata": {},
   "outputs": [
    {
     "data": {
      "text/html": [
       "<div>\n",
       "<style scoped>\n",
       "    .dataframe tbody tr th:only-of-type {\n",
       "        vertical-align: middle;\n",
       "    }\n",
       "\n",
       "    .dataframe tbody tr th {\n",
       "        vertical-align: top;\n",
       "    }\n",
       "\n",
       "    .dataframe thead th {\n",
       "        text-align: right;\n",
       "    }\n",
       "</style>\n",
       "<table border=\"1\" class=\"dataframe\">\n",
       "  <thead>\n",
       "    <tr style=\"text-align: right;\">\n",
       "      <th></th>\n",
       "      <th>id</th>\n",
       "      <th>frame_id</th>\n",
       "      <th>camera_location</th>\n",
       "      <th>camera_intrinsics</th>\n",
       "    </tr>\n",
       "  </thead>\n",
       "  <tbody>\n",
       "    <tr>\n",
       "      <th>0</th>\n",
       "      <td>672577b7123c6e5347e5b7dd</td>\n",
       "      <td>3647</td>\n",
       "      <td>T08</td>\n",
       "      <td>{'d': [-0.29101812839508, 0.13981582224369002,...</td>\n",
       "    </tr>\n",
       "    <tr>\n",
       "      <th>1</th>\n",
       "      <td>672577b8f13de5f8ea3caf16</td>\n",
       "      <td>3647</td>\n",
       "      <td>T14</td>\n",
       "      <td>{'d': [-0.29000362753868103, 0.139604687690734...</td>\n",
       "    </tr>\n",
       "  </tbody>\n",
       "</table>\n",
       "</div>"
      ],
      "text/plain": [
       "                         id  frame_id camera_location  \\\n",
       "0  672577b7123c6e5347e5b7dd      3647             T08   \n",
       "1  672577b8f13de5f8ea3caf16      3647             T14   \n",
       "\n",
       "                                   camera_intrinsics  \n",
       "0  {'d': [-0.29101812839508, 0.13981582224369002,...  \n",
       "1  {'d': [-0.29000362753868103, 0.139604687690734...  "
      ]
     },
     "execution_count": 17,
     "metadata": {},
     "output_type": "execute_result"
    }
   ],
   "source": [
    "df2.head(2)"
   ]
  },
  {
   "cell_type": "code",
   "execution_count": 15,
   "id": "347195fa-deef-4fe4-97f7-8a4286d0b5fb",
   "metadata": {},
   "outputs": [
    {
     "data": {
      "text/plain": [
       "frame_id\n",
       "3623    16\n",
       "3624    16\n",
       "3625    16\n",
       "3626    16\n",
       "3627    16\n",
       "        ..\n",
       "3711    16\n",
       "3712    16\n",
       "3713    16\n",
       "3714    16\n",
       "3715    16\n",
       "Length: 93, dtype: int64"
      ]
     },
     "execution_count": 15,
     "metadata": {},
     "output_type": "execute_result"
    }
   ],
   "source": [
    "df2.groupby('frame_id').size()"
   ]
  },
  {
   "cell_type": "code",
   "execution_count": null,
   "id": "9c21def2-f42b-436f-871d-89431f42c4bf",
   "metadata": {},
   "outputs": [],
   "source": []
  }
 ],
 "metadata": {
  "kernelspec": {
   "display_name": "Python [conda env:query] *",
   "language": "python",
   "name": "conda-env-query-py"
  },
  "language_info": {
   "codemirror_mode": {
    "name": "ipython",
    "version": 3
   },
   "file_extension": ".py",
   "mimetype": "text/x-python",
   "name": "python",
   "nbconvert_exporter": "python",
   "pygments_lexer": "ipython3",
   "version": "3.10.15"
  }
 },
 "nbformat": 4,
 "nbformat_minor": 5
}

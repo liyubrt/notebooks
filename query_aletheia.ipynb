{
 "cells": [
  {
   "cell_type": "code",
   "execution_count": 1,
   "metadata": {},
   "outputs": [
    {
     "name": "stderr",
     "output_type": "stream",
     "text": [
      "Internal AWS credentials have been removed from brt-devkit.\n",
      "To setup AWS credentials, Please follow instructions at : https://boto3.amazonaws.com/v1/documentation/api/latest/guide/credentials.html\n"
     ]
    },
    {
     "name": "stdout",
     "output_type": "stream",
     "text": [
      "7.4.3\n"
     ]
    }
   ],
   "source": [
    "# need to use updated master JupiterCVML code\n",
    "import sys\n",
    "sys.path.append('/home/li.yu/code/JupiterCVML/europa/base/src/europa')\n",
    "\n",
    "import os\n",
    "os.environ[\"BRT_ENV\"] = 'prod'\n",
    "import json\n",
    "import ndjson\n",
    "import random\n",
    "import brtdevkit\n",
    "print(brtdevkit.__version__)\n",
    "brtdevkit.log = 'info'\n",
    "import os\n",
    "os.environ['AWS_PROFILE'] = 'default'\n",
    "\n",
    "import time\n",
    "import numpy as np\n",
    "import pandas as pd\n",
    "from datetime import datetime, timezone\n",
    "\n",
    "from brtdevkit.core.db.athena import AthenaClient, Table\n",
    "from brtdevkit.data import Image, Dataset\n",
    "\n",
    "from aletheia_dataset_creator.dataset_tools.aletheia_dataset_helpers import *\n",
    "from aletheia_dataset_creator.config.dataset_config import *\n",
    "\n",
    "pd.set_option('display.max_columns', None)\n",
    "\n",
    "%matplotlib inline\n",
    "%load_ext autoreload\n",
    "%autoreload 2"
   ]
  },
  {
   "cell_type": "code",
   "execution_count": 2,
   "metadata": {},
   "outputs": [
    {
     "name": "stdout",
     "output_type": "stream",
     "text": [
      "['front-center-left', 'front-left-left', 'front-right-left', 'side-left-left', 'side-right-left', 'rear-left', 'T01', 'T02', 'T05', 'T06', 'T09', 'T10', 'T13', 'T14', 'I01', 'I02']\n",
      "[{'front-center-left': 'front-center-right', 'front-left-left': 'front-left-right', 'front-right-left': 'front-right-right', 'side-left-left': 'side-left-right', 'side-right-left': 'side-right-right', 'rear-left': 'rear-right', 'front-center-right': 'front-center-left', 'front-left-right': 'front-left-left', 'front-right-right': 'front-right-left', 'side-left-right': 'side-left-left', 'side-right-right': 'side-right-left', 'rear-right': 'rear-left'}, {'T01': 'T03', 'T02': 'T04', 'T05': 'T07', 'T06': 'T08', 'T09': 'T11', 'T10': 'T12', 'T13': 'T15', 'T14': 'T16', 'I01': 'I03', 'I02': 'I04'}, {'T02': 'T03', 'T06': 'T07', 'T10': 'T11', 'T14': 'T15', 'I02': 'I03'}]\n"
     ]
    }
   ],
   "source": [
    "print(LEFT_CAMERAS)\n",
    "print(ALL_CAMERA_PAIRS_LIST)"
   ]
  },
  {
   "cell_type": "code",
   "execution_count": 3,
   "metadata": {},
   "outputs": [
    {
     "name": "stdout",
     "output_type": "stream",
     "text": [
      "64fa00ea7b198e7e8de6596d\n"
     ]
    }
   ],
   "source": [
    "# test_dataset = Dataset.retrieve(id='64ed2657926aefcd654e8269')\n",
    "test_dataset = Dataset.retrieve(name='dynamic_manny_in_dust_raw')\n",
    "print(test_dataset.id)\n",
    "test_df = test_dataset.to_dataframe()\n",
    "test_df.shape"
   ]
  },
  {
   "cell_type": "code",
   "execution_count": 4,
   "metadata": {},
   "outputs": [
    {
     "data": {
      "text/plain": "(151412, 111)"
     },
     "execution_count": 3,
     "metadata": {},
     "output_type": "execute_result"
    },
    {
     "data": {
      "text/html": "<div>\n<style scoped>\n    .dataframe tbody tr th:only-of-type {\n        vertical-align: middle;\n    }\n\n    .dataframe tbody tr th {\n        vertical-align: top;\n    }\n\n    .dataframe thead th {\n        text-align: right;\n    }\n</style>\n<table border=\"1\" class=\"dataframe\">\n  <thead>\n    <tr style=\"text-align: right;\">\n      <th></th>\n      <th>id</th>\n    </tr>\n    <tr>\n      <th>camera_location</th>\n      <th></th>\n    </tr>\n  </thead>\n  <tbody>\n    <tr>\n      <th>front-center-left</th>\n      <td>13502</td>\n    </tr>\n    <tr>\n      <th>front-center-right</th>\n      <td>13502</td>\n    </tr>\n    <tr>\n      <th>front-left-left</th>\n      <td>12790</td>\n    </tr>\n    <tr>\n      <th>front-left-right</th>\n      <td>12790</td>\n    </tr>\n    <tr>\n      <th>front-right-left</th>\n      <td>13624</td>\n    </tr>\n    <tr>\n      <th>front-right-right</th>\n      <td>13624</td>\n    </tr>\n    <tr>\n      <th>rear-left</th>\n      <td>11472</td>\n    </tr>\n    <tr>\n      <th>rear-right</th>\n      <td>11472</td>\n    </tr>\n    <tr>\n      <th>side-left-left</th>\n      <td>12181</td>\n    </tr>\n    <tr>\n      <th>side-left-right</th>\n      <td>12181</td>\n    </tr>\n    <tr>\n      <th>side-right-left</th>\n      <td>12137</td>\n    </tr>\n    <tr>\n      <th>side-right-right</th>\n      <td>12137</td>\n    </tr>\n  </tbody>\n</table>\n</div>",
      "text/plain": "                       id\ncamera_location          \nfront-center-left   13502\nfront-center-right  13502\nfront-left-left     12790\nfront-left-right    12790\nfront-right-left    13624\nfront-right-right   13624\nrear-left           11472\nrear-right          11472\nside-left-left      12181\nside-left-right     12181\nside-right-left     12137\nside-right-right    12137"
     },
     "execution_count": 4,
     "metadata": {},
     "output_type": "execute_result"
    }
   ],
   "source": [
    "test_df[['id', 'camera_location']].groupby('camera_location').count()"
   ]
  },
  {
   "cell_type": "code",
   "execution_count": 2,
   "metadata": {},
   "outputs": [
    {
     "name": "stdout",
     "output_type": "stream",
     "text": [
      "20240119_halo_rgb_left_day_less_night_al_to_label (7457, 146)\n",
      "20240119_halo_rgb_diversity_left_daytime (4128, 146)\n",
      "20231219_halo_rgb_al_to_label (7552, 147)\n",
      "20231219_halo_rgb_diversity_to_label (1375, 144)\n",
      "20231206_halo_rgb_diversity_train_to_label_pt1 (4955, 157)\n",
      "20231206_halo_rgb_al_train_to_label_pt1 (17049, 157)\n",
      "20231206_halo_rgb_stereo_fps_dedup (15319, 158)\n",
      "20231219_halo_rgb_stereo_fps_dedup (5584, 147)\n"
     ]
    }
   ],
   "source": [
    "datasets = [\n",
    "    '20240119_halo_rgb_left_day_less_night_al_to_label',\n",
    "    '20240119_halo_rgb_diversity_left_daytime',\n",
    "    '20231219_halo_rgb_al_to_label',\n",
    "    '20231219_halo_rgb_diversity_to_label',\n",
    "    '20231206_halo_rgb_diversity_train_to_label_pt1',\n",
    "    '20231206_halo_rgb_al_train_to_label_pt1',\n",
    "    '20231206_halo_rgb_stereo_fps_dedup',\n",
    "    '20231219_halo_rgb_stereo_fps_dedup',\n",
    "]\n",
    "test_dfs = []\n",
    "for dataset in datasets:\n",
    "    test_dataset = Dataset.retrieve(name=dataset)\n",
    "    test_df = test_dataset.to_dataframe()\n",
    "    print(dataset, test_df.shape)\n",
    "    test_dfs.append(test_df)\n",
    "pd.concat(test_dfs, ignore_index=True).to_csv('/data/jupiter/li.yu/data/halo_hard_cases/20231206_20231219_sent_for_labeling.csv', index=False)"
   ]
  },
  {
   "cell_type": "markdown",
   "metadata": {},
   "source": [
    "## Run query"
   ]
  },
  {
   "cell_type": "code",
   "execution_count": 9,
   "metadata": {},
   "outputs": [
    {
     "name": "stdout",
     "output_type": "stream",
     "text": [
      "9.540740966796875 s\n"
     ]
    },
    {
     "data": {
      "text/plain": "((122882, 3), 61441)"
     },
     "execution_count": 9,
     "metadata": {},
     "output_type": "execute_result"
    }
   ],
   "source": [
    "# hard_drive_name = 'JUPD-048_2022-09-27'\n",
    "start_datetime  = datetime(2021, 12, 16, hour=22, minute=14, second=0) #, tzinfo=timezone.utc)\n",
    "end_datetime  = datetime(2021, 12, 16, hour=22, minute=14, second=35) #, tzinfo=timezone.utc)\n",
    "# start_datetime  = datetime(2022, 9, 28, tzinfo=timezone.utc) #, hour=3, minute=33, second=33) #, tzinfo=timezone.utc)\n",
    "# start_datetime  = datetime(2023, 8, 28, hour=0, minute=0)   #, tzinfo=timezone.utc)\n",
    "# end_datetime    = datetime(2023, 8, 30, hour=23, minute=59)  # this is EXclusive\n",
    "\n",
    "database = \"mesa-data-catalog-prod\"\n",
    "table = \"image_jupiter\"\n",
    "\n",
    "# query = \\\n",
    "# f\"\"\"\n",
    "# SELECT *\n",
    "# FROM {table} T\n",
    "# WHERE \n",
    "#     T.collected_on >= cast('{start_datetime}' as timestamp)\n",
    "#     AND T.collected_on < cast('{end_datetime}' as timestamp)\n",
    "#     AND T.robot_name = 'loamy_733'\n",
    "# \"\"\"\n",
    "\n",
    "query = \"\"\"\n",
    "SELECT id, image, properties__json FROM annotation_jupiter\n",
    "WHERE style = 'categorical'\n",
    "AND created_at > date('2024-01-01')\n",
    "AND state in ('review', 'ok')\n",
    "AND properties__json LIKE '%\"title\": \"Pose\"%' \n",
    "AND kind = 'labelbox'\n",
    "\"\"\"\n",
    "\n",
    "\"\"\"\n",
    "SELECT\n",
    "        *\n",
    "    FROM annotation_jupiter\n",
    "    WHERE\n",
    "     annotation_jupiter.image IN ('642607df1620247e2285d6ac')\n",
    "\"\"\"\n",
    "\n",
    "\"\"\"\n",
    "SELECT id, camera_location, operation_time, collected_on, state, county, operating_field_name, hdr_mode, robot_name, special_notes\n",
    "T.collected_on >= cast('{start_datetime}' as timestamp)\n",
    "    AND T.collected_on < cast('{end_datetime}' as timestamp)\n",
    "    AND T.camera_location LIKE 'front-%'\n",
    "    AND T.camera_location LIKE '%-left'\n",
    "    AND T.hard_drive_name = 'JUPD-154_2023-01-14'\n",
    "    AND T.robot_name LIKE 'loamy%'\n",
    "    AND T.operation_time != 'daytime'\n",
    "    AND T.has_nearby_stop_event = true\n",
    "ORDER BY RAND()\n",
    "LIMIT 40000\n",
    "\"\"\"\n",
    "\n",
    "start = time.time()\n",
    "athena = AthenaClient()\n",
    "df = athena.get_df(query)\n",
    "end = time.time()\n",
    "print(end - start, 's')\n",
    "df.shape, len(df) // 2"
   ]
  },
  {
   "cell_type": "code",
   "execution_count": 10,
   "metadata": {},
   "outputs": [
    {
     "data": {
      "text/html": "<div>\n<style scoped>\n    .dataframe tbody tr th:only-of-type {\n        vertical-align: middle;\n    }\n\n    .dataframe tbody tr th {\n        vertical-align: top;\n    }\n\n    .dataframe thead th {\n        text-align: right;\n    }\n</style>\n<table border=\"1\" class=\"dataframe\">\n  <thead>\n    <tr style=\"text-align: right;\">\n      <th></th>\n      <th>id</th>\n      <th>image</th>\n      <th>properties__json</th>\n    </tr>\n  </thead>\n  <tbody>\n    <tr>\n      <th>0</th>\n      <td>65c1834cbad271dacf97e0e7</td>\n      <td>5f81f1d7bf0c3674c05778c4</td>\n      <td>[{\"featureId\": \"cls9tzeqs000a356l9v59fjwt\", \"v...</td>\n    </tr>\n    <tr>\n      <th>1</th>\n      <td>65c18282ba421ac96fb33c79</td>\n      <td>60679aa31e3d26cab0c8c694</td>\n      <td>[{\"featureId\": \"clsa1ufc10006356ns6mt2ud2\", \"v...</td>\n    </tr>\n    <tr>\n      <th>2</th>\n      <td>65c1827cba421ac96fb338ce</td>\n      <td>60418162c4cec603cdeb7342</td>\n      <td>[{\"featureId\": \"clsa1gnjs000h356ngrfqgh2d\", \"v...</td>\n    </tr>\n    <tr>\n      <th>3</th>\n      <td>65c1825eba421ac96fb32638</td>\n      <td>5df92c0680a73f861b0c9893</td>\n      <td>[{\"featureId\": \"clsa1dak10014356nbxbm60n0\", \"v...</td>\n    </tr>\n    <tr>\n      <th>4</th>\n      <td>65c181517f183b14fcee0d43</td>\n      <td>6359f3e9d43b44f71072ee9e</td>\n      <td>[{\"featureId\": \"cls9uwzj5000e356nmlpgj5kv\", \"v...</td>\n    </tr>\n  </tbody>\n</table>\n</div>",
      "text/plain": "                         id                     image  \\\n0  65c1834cbad271dacf97e0e7  5f81f1d7bf0c3674c05778c4   \n1  65c18282ba421ac96fb33c79  60679aa31e3d26cab0c8c694   \n2  65c1827cba421ac96fb338ce  60418162c4cec603cdeb7342   \n3  65c1825eba421ac96fb32638  5df92c0680a73f861b0c9893   \n4  65c181517f183b14fcee0d43  6359f3e9d43b44f71072ee9e   \n\n                                    properties__json  \n0  [{\"featureId\": \"cls9tzeqs000a356l9v59fjwt\", \"v...  \n1  [{\"featureId\": \"clsa1ufc10006356ns6mt2ud2\", \"v...  \n2  [{\"featureId\": \"clsa1gnjs000h356ngrfqgh2d\", \"v...  \n3  [{\"featureId\": \"clsa1dak10014356nbxbm60n0\", \"v...  \n4  [{\"featureId\": \"cls9uwzj5000e356nmlpgj5kv\", \"v...  "
     },
     "execution_count": 10,
     "metadata": {},
     "output_type": "execute_result"
    }
   ],
   "source": [
    "df.head()"
   ]
  },
  {
   "cell_type": "code",
   "execution_count": 13,
   "metadata": {},
   "outputs": [],
   "source": [
    "df.to_csv('/data/jupiter/li.yu/data/halo_rgb_stereo_train_test/all_human_pose.csv', index=False)"
   ]
  },
  {
   "cell_type": "code",
   "execution_count": 41,
   "metadata": {},
   "outputs": [
    {
     "name": "stdout",
     "output_type": "stream",
     "text": [
      "(1, 253)\n",
      "(142, 253)\n",
      "61c40f6d645b3a75242fb494 index 51 out of 71 images\n",
      "61c41049e5100b0f858cc85b\n",
      "61c40fc732160727091887d5\n",
      "61c41029ae6321c259440152\n",
      "61c40f6d645b3a75242fb494\n",
      "61c40f7e6b0c478c85db4282\n",
      "61c41059ec85fdd36b953ac2\n",
      "61c40ff840a09b978c74a5ac\n"
     ]
    }
   ],
   "source": [
    "id = '61c40f6d645b3a75242fb494'\n",
    "print(df[df.id == id].shape)\n",
    "sub_df = df[df.camera_location.str.startswith('rear')]\n",
    "print(sub_df.shape)\n",
    "ids = sub_df[sub_df.camera_location == 'rear-left'].sort_values('collected_on').id.to_list()\n",
    "i = ids.index(id)\n",
    "print(f'{id} index {i} out of {len(ids)} images')\n",
    "for j in range(max(0, i-3), min(i+4, len(ids))):\n",
    "    print(ids[j])"
   ]
  },
  {
   "cell_type": "code",
   "execution_count": 45,
   "metadata": {},
   "outputs": [
    {
     "data": {
      "text/html": "<div>\n<style scoped>\n    .dataframe tbody tr th:only-of-type {\n        vertical-align: middle;\n    }\n\n    .dataframe tbody tr th {\n        vertical-align: top;\n    }\n\n    .dataframe thead th {\n        text-align: right;\n    }\n</style>\n<table border=\"1\" class=\"dataframe\">\n  <thead>\n    <tr style=\"text-align: right;\">\n      <th></th>\n      <th>id</th>\n    </tr>\n    <tr>\n      <th>camera_location</th>\n      <th></th>\n    </tr>\n  </thead>\n  <tbody>\n    <tr>\n      <th>front-right-left</th>\n      <td>49</td>\n    </tr>\n    <tr>\n      <th>front-right-right</th>\n      <td>49</td>\n    </tr>\n    <tr>\n      <th>rear-left</th>\n      <td>71</td>\n    </tr>\n    <tr>\n      <th>rear-right</th>\n      <td>71</td>\n    </tr>\n    <tr>\n      <th>side-right-left</th>\n      <td>88</td>\n    </tr>\n    <tr>\n      <th>side-right-right</th>\n      <td>88</td>\n    </tr>\n  </tbody>\n</table>\n</div>",
      "text/plain": "                   id\ncamera_location      \nfront-right-left   49\nfront-right-right  49\nrear-left          71\nrear-right         71\nside-right-left    88\nside-right-right   88"
     },
     "execution_count": 45,
     "metadata": {},
     "output_type": "execute_result"
    }
   ],
   "source": [
    "df[['id', 'camera_location']].groupby('camera_location').count()"
   ]
  },
  {
   "cell_type": "code",
   "execution_count": 43,
   "metadata": {},
   "outputs": [
    {
     "name": "stdout",
     "output_type": "stream",
     "text": [
      "3\n"
     ]
    }
   ],
   "source": [
    "# dfs = []\n",
    "dfs.append(sub_df)\n",
    "print(len(dfs))"
   ]
  },
  {
   "cell_type": "code",
   "execution_count": 44,
   "metadata": {},
   "outputs": [
    {
     "data": {
      "text/plain": "(416, 253)"
     },
     "execution_count": 44,
     "metadata": {},
     "output_type": "execute_result"
    }
   ],
   "source": [
    "df = pd.concat(dfs, ignore_index=True)\n",
    "df.shape"
   ]
  },
  {
   "cell_type": "markdown",
   "metadata": {},
   "source": [
    "## Create a dataset"
   ]
  },
  {
   "cell_type": "code",
   "execution_count": 3,
   "metadata": {},
   "outputs": [
    {
     "name": "stdout",
     "output_type": "stream",
     "text": [
      "(5903, 159) True False\n"
     ]
    },
    {
     "name": "stderr",
     "output_type": "stream",
     "text": [
      "/home/li.yu/anaconda3/envs/pytorchlightning/lib/python3.8/site-packages/IPython/core/interactiveshell.py:3437: DtypeWarning: Columns (29,56,116,117,118,119,120,121,122,123,124,125,126,127,128,129,130,131) have mixed types.Specify dtype option on import or set low_memory=False.\n",
      "  exec(code_obj, self.user_global_ns, self.user_ns)\n"
     ]
    }
   ],
   "source": [
    "# df = pd.read_csv('./dust_threshold/human_vehicle_in_dust_for_train_total.csv')\n",
    "# df = pd.read_csv('./dust_threshold/dust_productivity.csv')\n",
    "# df = pd.read_csv('/data/jupiter/datasets/Jupiter_train_v5_11/driveable_not_labeled.csv')\n",
    "# df = pd.read_csv('/data/jupiter/datasets/Jupiter_train_v5_11/less_than_half_labeled.csv')\n",
    "# df = pd.read_csv('/data/jupiter/datasets/Jupiter_train_v5_11/less_than_half_or_driveable_not_labeled_for_relabeling.csv')\n",
    "# df = pd.read_csv('/data/jupiter/li.yu/exps/driveable_terrain_model/rgb_baseline_sample_a_v3_2/20230925_halo_rgb_stereo_train_v3_epoch0/pruned_ids.csv')\n",
    "# df = pd.read_csv('/data/jupiter/li.yu/data/Jupiter_train_v6_2/train_v6_2_categorical_count.csv')\n",
    "df = pd.read_csv('/data/jupiter/li.yu/data/halo_hard_cases/20231219_20240119_halo_rgb_left_airborne.csv')\n",
    "print(df.shape, 'id' in df, 'unique_id' in df)"
   ]
  },
  {
   "cell_type": "code",
   "execution_count": 10,
   "metadata": {},
   "outputs": [
    {
     "data": {
      "text/plain": "(1540, 159)"
     },
     "execution_count": 10,
     "metadata": {},
     "output_type": "execute_result"
    }
   ],
   "source": [
    "df2 = df[(df.bag_date == '01_08_2024') | (df.bag_date == '01_09_2024')]\n",
    "df2.shape"
   ]
  },
  {
   "cell_type": "code",
   "execution_count": 12,
   "metadata": {},
   "outputs": [
    {
     "data": {
      "text/plain": "{}"
     },
     "execution_count": 12,
     "metadata": {},
     "output_type": "execute_result"
    }
   ],
   "source": [
    "# unlabeled dataset\n",
    "Dataset.create(\n",
    "    name=\"20240119_halo_rgb_snow\",\n",
    "    description=\"1540 snow images selected from 20240119_halo_rgb_stereo\",\n",
    "    kind='image',  # annotation or image\n",
    "    image_ids=df2.id.to_list())"
   ]
  },
  {
   "cell_type": "code",
   "execution_count": 26,
   "metadata": {},
   "outputs": [
    {
     "name": "stdout",
     "output_type": "stream",
     "text": [
      "INFO: Pandarallel will run on 32 workers.\n",
      "INFO: Pandarallel will use Memory file system to transfer data between the main process and workers.\n",
      "INFO: Pandarallel will run on 32 workers.\n",
      "INFO: Pandarallel will use Memory file system to transfer data between the main process and workers.\n",
      "Filtered 308 annotations.\n",
      "Sending 12166 annotated_ids for creating dataset\n",
      "Time taken to prepare data for dataset creation job: 2.07 mins\n",
      "INFO: Pandarallel will run on 32 workers.\n",
      "INFO: Pandarallel will use Memory file system to transfer data between the main process and workers.\n",
      "INFO: Pandarallel will run on 32 workers.\n",
      "INFO: Pandarallel will use Memory file system to transfer data between the main process and workers.\n",
      "Filtered 0 annotations.\n",
      "Sending 12166 annotated_ids for creating dataset\n",
      "Time taken to prepare data for dataset creation job: 2.15 mins\n"
     ]
    }
   ],
   "source": [
    "# imageids_to_dataset(\n",
    "#     image_ids=test_df[test_df.camera_location.str.endswith('left')].id.to_list(),\n",
    "#     dataset_name=\"20230823_labeled_right_images_12k_left_images_labels\",\n",
    "#     dataset_description=\"left images and labels of 20230823_labeled_right_images_12k\",\n",
    "#     dataset_kind='annotation',  # annotation or image\n",
    "#     mode='mono',  # stereo or mono\n",
    "#     camera_location=CORE_LEFT_CAMERAS,  # CORE_LEFT_CAMERAS or CORE_RIGHT_CAMERAS or ALL_CORE_CAMERAS\n",
    "# )\n",
    "# imageids_to_dataset(\n",
    "#     image_ids=test_df[test_df.camera_location.str.endswith('right')].id.to_list(),\n",
    "#     dataset_name=\"20230823_labeled_right_images_12k_right_images_labels\",\n",
    "#     dataset_description=\"right images and labels of 20230823_labeled_right_images_12k\",\n",
    "#     dataset_kind='annotation',  # annotation or image\n",
    "#     mode='mono',  # stereo or mono\n",
    "#     camera_location=CORE_RIGHT_CAMERAS,  # CORE_LEFT_CAMERAS or CORE_RIGHT_CAMERAS or ALL_CORE_CAMERAS\n",
    "# )"
   ]
  },
  {
   "cell_type": "code",
   "execution_count": 7,
   "metadata": {},
   "outputs": [
    {
     "name": "stdout",
     "output_type": "stream",
     "text": [
      "Total annotations retrieved from athena 2978\n",
      "Removed annotations in state SKIP, 2978 left\n",
      "Filtered 2978 annotations with non-production label map.\n",
      "Removed annotations if the label map is not the stanadard production one, 0 left\n",
      "Removed duplicate annotations for the same image (choosing latest), 0 left\n",
      "Warning 5903 images do not have a corresponding annotation.\n"
     ]
    },
    {
     "ename": "ValueError",
     "evalue": "No objects to concatenate",
     "output_type": "error",
     "traceback": [
      "\u001b[0;31m---------------------------------------------------------------------------\u001b[0m",
      "\u001b[0;31mValueError\u001b[0m                                Traceback (most recent call last)",
      "\u001b[0;32m<ipython-input-7-03ad2d61959d>\u001b[0m in \u001b[0;36m<module>\u001b[0;34m\u001b[0m\n\u001b[1;32m      4\u001b[0m \u001b[0;31m# )\u001b[0m\u001b[0;34m\u001b[0m\u001b[0;34m\u001b[0m\u001b[0;34m\u001b[0m\u001b[0m\n\u001b[1;32m      5\u001b[0m \u001b[0;34m\u001b[0m\u001b[0m\n\u001b[0;32m----> 6\u001b[0;31m imageids_to_dataset(\n\u001b[0m\u001b[1;32m      7\u001b[0m     \u001b[0mimage_ids\u001b[0m\u001b[0;34m=\u001b[0m\u001b[0mdf\u001b[0m\u001b[0;34m.\u001b[0m\u001b[0mid\u001b[0m\u001b[0;34m.\u001b[0m\u001b[0mto_list\u001b[0m\u001b[0;34m(\u001b[0m\u001b[0;34m)\u001b[0m\u001b[0;34m,\u001b[0m\u001b[0;34m\u001b[0m\u001b[0;34m\u001b[0m\u001b[0m\n\u001b[1;32m      8\u001b[0m     \u001b[0mdataset_name\u001b[0m\u001b[0;34m=\u001b[0m\u001b[0;34m\"20231219_20240119_halo_rgb_airborne\"\u001b[0m\u001b[0;34m,\u001b[0m\u001b[0;34m\u001b[0m\u001b[0;34m\u001b[0m\u001b[0m\n",
      "\u001b[0;32m~/code/JupiterCVML/europa/base/src/europa/aletheia_dataset_creator/dataset_tools/aletheia_dataset_helpers.py\u001b[0m in \u001b[0;36mimageids_to_dataset\u001b[0;34m(image_ids, dataset_name, dataset_description, dataset_kind, mode, annotation_state, camera_location, production_dataset, camera_pairs_list)\u001b[0m\n\u001b[1;32m    306\u001b[0m         )\n\u001b[1;32m    307\u001b[0m         \u001b[0;32mif\u001b[0m \u001b[0mmode\u001b[0m \u001b[0;34m==\u001b[0m \u001b[0;34m\"stereo\"\u001b[0m\u001b[0;34m:\u001b[0m\u001b[0;34m\u001b[0m\u001b[0;34m\u001b[0m\u001b[0m\n\u001b[0;32m--> 308\u001b[0;31m             image_stereo_df = get_all_stereo_images_df(\n\u001b[0m\u001b[1;32m    309\u001b[0m                 \u001b[0mannotations\u001b[0m\u001b[0;34m,\u001b[0m \u001b[0mcamera_pairs_list\u001b[0m\u001b[0;34m=\u001b[0m\u001b[0mcamera_pairs_list\u001b[0m\u001b[0;34m\u001b[0m\u001b[0;34m\u001b[0m\u001b[0m\n\u001b[1;32m    310\u001b[0m             )\n",
      "\u001b[0;32m~/code/JupiterCVML/europa/base/src/europa/aletheia_dataset_creator/dataset_tools/aletheia_dataset_helpers.py\u001b[0m in \u001b[0;36mget_all_stereo_images_df\u001b[0;34m(df, camera_pair_df, camera_pairs_list)\u001b[0m\n\u001b[1;32m    166\u001b[0m             \u001b[0;32mcontinue\u001b[0m\u001b[0;34m\u001b[0m\u001b[0;34m\u001b[0m\u001b[0m\n\u001b[1;32m    167\u001b[0m         \u001b[0mdf_all\u001b[0m\u001b[0;34m.\u001b[0m\u001b[0mappend\u001b[0m\u001b[0;34m(\u001b[0m\u001b[0mget_stereo_images_df\u001b[0m\u001b[0;34m(\u001b[0m\u001b[0mleft_df\u001b[0m\u001b[0;34m,\u001b[0m \u001b[0mcamera_pair_df\u001b[0m\u001b[0;34m,\u001b[0m \u001b[0mcamera_pairs_dict\u001b[0m\u001b[0;34m)\u001b[0m\u001b[0;34m)\u001b[0m\u001b[0;34m\u001b[0m\u001b[0;34m\u001b[0m\u001b[0m\n\u001b[0;32m--> 168\u001b[0;31m     \u001b[0mdf\u001b[0m \u001b[0;34m=\u001b[0m \u001b[0mpd\u001b[0m\u001b[0;34m.\u001b[0m\u001b[0mconcat\u001b[0m\u001b[0;34m(\u001b[0m\u001b[0mdf_all\u001b[0m\u001b[0;34m)\u001b[0m\u001b[0;34m\u001b[0m\u001b[0;34m\u001b[0m\u001b[0m\n\u001b[0m\u001b[1;32m    169\u001b[0m     \u001b[0;32mreturn\u001b[0m \u001b[0mdf\u001b[0m\u001b[0;34m\u001b[0m\u001b[0;34m\u001b[0m\u001b[0m\n\u001b[1;32m    170\u001b[0m \u001b[0;34m\u001b[0m\u001b[0m\n",
      "\u001b[0;32m~/anaconda3/envs/pytorchlightning/lib/python3.8/site-packages/pandas/util/_decorators.py\u001b[0m in \u001b[0;36mwrapper\u001b[0;34m(*args, **kwargs)\u001b[0m\n\u001b[1;32m    309\u001b[0m                     \u001b[0mstacklevel\u001b[0m\u001b[0;34m=\u001b[0m\u001b[0mstacklevel\u001b[0m\u001b[0;34m,\u001b[0m\u001b[0;34m\u001b[0m\u001b[0;34m\u001b[0m\u001b[0m\n\u001b[1;32m    310\u001b[0m                 )\n\u001b[0;32m--> 311\u001b[0;31m             \u001b[0;32mreturn\u001b[0m \u001b[0mfunc\u001b[0m\u001b[0;34m(\u001b[0m\u001b[0;34m*\u001b[0m\u001b[0margs\u001b[0m\u001b[0;34m,\u001b[0m \u001b[0;34m**\u001b[0m\u001b[0mkwargs\u001b[0m\u001b[0;34m)\u001b[0m\u001b[0;34m\u001b[0m\u001b[0;34m\u001b[0m\u001b[0m\n\u001b[0m\u001b[1;32m    312\u001b[0m \u001b[0;34m\u001b[0m\u001b[0m\n\u001b[1;32m    313\u001b[0m         \u001b[0;32mreturn\u001b[0m \u001b[0mwrapper\u001b[0m\u001b[0;34m\u001b[0m\u001b[0;34m\u001b[0m\u001b[0m\n",
      "\u001b[0;32m~/anaconda3/envs/pytorchlightning/lib/python3.8/site-packages/pandas/core/reshape/concat.py\u001b[0m in \u001b[0;36mconcat\u001b[0;34m(objs, axis, join, ignore_index, keys, levels, names, verify_integrity, sort, copy)\u001b[0m\n\u001b[1;32m    292\u001b[0m     \u001b[0mValueError\u001b[0m\u001b[0;34m:\u001b[0m \u001b[0mIndexes\u001b[0m \u001b[0mhave\u001b[0m \u001b[0moverlapping\u001b[0m \u001b[0mvalues\u001b[0m\u001b[0;34m:\u001b[0m \u001b[0;34m[\u001b[0m\u001b[0;34m'a'\u001b[0m\u001b[0;34m]\u001b[0m\u001b[0;34m\u001b[0m\u001b[0;34m\u001b[0m\u001b[0m\n\u001b[1;32m    293\u001b[0m     \"\"\"\n\u001b[0;32m--> 294\u001b[0;31m     op = _Concatenator(\n\u001b[0m\u001b[1;32m    295\u001b[0m         \u001b[0mobjs\u001b[0m\u001b[0;34m,\u001b[0m\u001b[0;34m\u001b[0m\u001b[0;34m\u001b[0m\u001b[0m\n\u001b[1;32m    296\u001b[0m         \u001b[0maxis\u001b[0m\u001b[0;34m=\u001b[0m\u001b[0maxis\u001b[0m\u001b[0;34m,\u001b[0m\u001b[0;34m\u001b[0m\u001b[0;34m\u001b[0m\u001b[0m\n",
      "\u001b[0;32m~/anaconda3/envs/pytorchlightning/lib/python3.8/site-packages/pandas/core/reshape/concat.py\u001b[0m in \u001b[0;36m__init__\u001b[0;34m(self, objs, axis, join, keys, levels, names, ignore_index, verify_integrity, copy, sort)\u001b[0m\n\u001b[1;32m    349\u001b[0m \u001b[0;34m\u001b[0m\u001b[0m\n\u001b[1;32m    350\u001b[0m         \u001b[0;32mif\u001b[0m \u001b[0mlen\u001b[0m\u001b[0;34m(\u001b[0m\u001b[0mobjs\u001b[0m\u001b[0;34m)\u001b[0m \u001b[0;34m==\u001b[0m \u001b[0;36m0\u001b[0m\u001b[0;34m:\u001b[0m\u001b[0;34m\u001b[0m\u001b[0;34m\u001b[0m\u001b[0m\n\u001b[0;32m--> 351\u001b[0;31m             \u001b[0;32mraise\u001b[0m \u001b[0mValueError\u001b[0m\u001b[0;34m(\u001b[0m\u001b[0;34m\"No objects to concatenate\"\u001b[0m\u001b[0;34m)\u001b[0m\u001b[0;34m\u001b[0m\u001b[0;34m\u001b[0m\u001b[0m\n\u001b[0m\u001b[1;32m    352\u001b[0m \u001b[0;34m\u001b[0m\u001b[0m\n\u001b[1;32m    353\u001b[0m         \u001b[0;32mif\u001b[0m \u001b[0mkeys\u001b[0m \u001b[0;32mis\u001b[0m \u001b[0;32mNone\u001b[0m\u001b[0;34m:\u001b[0m\u001b[0;34m\u001b[0m\u001b[0;34m\u001b[0m\u001b[0m\n",
      "\u001b[0;31mValueError\u001b[0m: No objects to concatenate"
     ]
    }
   ],
   "source": [
    "# # in master branch halo datasets\n",
    "# annotations = imageids_to_annotation_df(\n",
    "#     image_ids=df.id.to_list(),\n",
    "# )\n",
    "\n",
    "imageids_to_dataset(\n",
    "    image_ids=df.id.to_list(),\n",
    "    dataset_name=\"20231219_20240119_halo_rgb_airborne\",\n",
    "    dataset_description=\"labeled images of 20231219_20240119_halo_rgb_left_airborne\",\n",
    "    dataset_kind='annotation',  # annotation or image\n",
    "    mode='stereo',  # stereo or mono\n",
    ")\n",
    "# Dataset.create(\n",
    "#     name=\"20230925_halo_rgb_stereo_train_v3_pruned\",\n",
    "#     description=\"180 images with >0.5 focal loss from dataset 20230925_halo_rgb_stereo_train_v3\",\n",
    "#     kind=Dataset.KIND_ANNOTATION,\n",
    "#     image_ids=df.id.to_list())"
   ]
  },
  {
   "cell_type": "markdown",
   "metadata": {},
   "source": [
    "## Download a dataset"
   ]
  },
  {
   "cell_type": "code",
   "execution_count": 8,
   "metadata": {},
   "outputs": [
    {
     "name": "stderr",
     "output_type": "stream",
     "text": [
      "\u001b[34;1m2024-01-23 10:50:10,973 - Dataset - INFO - start downloading dataset: 65affafee23871d5ea8201b2 into /data/jupiter/li.yu/data/Jupiter_train_v6_2_birds_airborne_debris\n",
      "\u001b[0mINFO:Dataset:start downloading dataset: 65affafee23871d5ea8201b2 into /data/jupiter/li.yu/data/Jupiter_train_v6_2_birds_airborne_debris\n",
      "100%|██████████| 107708/107708 [03:25<00:00, 525.14it/s]\n",
      "\u001b[34;1m2024-01-23 10:54:29,007 - Dataset - INFO - finished downloading dataset: 65affafee23871d5ea8201b2\n",
      "\u001b[0mINFO:Dataset:finished downloading dataset: 65affafee23871d5ea8201b2\n"
     ]
    }
   ],
   "source": [
    "dataset_name = 'Jupiter_train_v6_2_birds_airborne_debris'\n",
    "# dataset_dir = os.path.join('/data/jupiter/datasets', dataset_name)\n",
    "dataset_dir = os.path.join('/data/jupiter/li.yu/data', dataset_name)\n",
    "os.makedirs(dataset_dir, exist_ok=True)\n",
    "\n",
    "test_dataset = Dataset.retrieve(name=dataset_name)\n",
    "test_df = test_dataset.to_dataframe()\n",
    "test_dataset.download(dataset_dir, df=test_df)"
   ]
  }
 ],
 "metadata": {
  "kernelspec": {
   "display_name": "Python 3.8.18 64-bit",
   "name": "python388jvsc74a57bd01eceddbeeb55f686303d64ef8e05e300429be7c506c9f9cad24a6dfe5f27b555"
  },
  "language_info": {
   "codemirror_mode": {
    "name": "ipython",
    "version": 3
   },
   "file_extension": ".py",
   "mimetype": "text/x-python",
   "name": "python",
   "nbconvert_exporter": "python",
   "pygments_lexer": "ipython3",
   "version": "3.8.8"
  },
  "metadata": {
   "interpreter": {
    "hash": "1eceddbeeb55f686303d64ef8e05e300429be7c506c9f9cad24a6dfe5f27b555"
   }
  },
  "orig_nbformat": 3
 },
 "nbformat": 4,
 "nbformat_minor": 2
}
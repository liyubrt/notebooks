{
 "cells": [
  {
   "cell_type": "code",
   "execution_count": 1,
   "metadata": {},
   "outputs": [
    {
     "name": "stdout",
     "output_type": "stream",
     "text": [
      "7.16.2\n"
     ]
    },
    {
     "name": "stderr",
     "output_type": "stream",
     "text": [
      "/home/li.yu/anaconda3/envs/brtdevkit/lib/python3.9/site-packages/tqdm/auto.py:21: TqdmWarning: IProgress not found. Please update jupyter and ipywidgets. See https://ipywidgets.readthedocs.io/en/stable/user_install.html\n",
      "  from .autonotebook import tqdm as notebook_tqdm\n"
     ]
    }
   ],
   "source": [
    "# need to use updated master JupiterCVML code\n",
    "import sys\n",
    "# sys.path.append('/home/li.yu/code/JupiterCVML/europa/base/src/europa')\n",
    "\n",
    "import os\n",
    "os.environ[\"BRT_ENV\"] = 'prod'\n",
    "import json\n",
    "import random\n",
    "import brtdevkit\n",
    "print(brtdevkit.__version__)\n",
    "brtdevkit.log = 'info'\n",
    "import os\n",
    "os.environ['AWS_PROFILE'] = 'default'\n",
    "USERNAME = 'li.yu'\n",
    "\n",
    "import time\n",
    "import numpy as np\n",
    "import pandas as pd\n",
    "from datetime import datetime, timezone\n",
    "\n",
    "from brtdevkit.core.db.athena import AthenaClient, Table\n",
    "from brtdevkit.data import Image, Dataset\n",
    "\n",
    "# from aletheia_dataset_creator.dataset_tools.aletheia_dataset_helpers import *\n",
    "# from aletheia_dataset_creator.config.dataset_config import *\n",
    "\n",
    "from jupiterdata.config.dataset_config import *\n",
    "from jupiterdata.utils.dataset import *\n",
    "\n",
    "pd.set_option('display.max_columns', None)\n",
    "\n",
    "# %matplotlib inline\n",
    "%load_ext autoreload\n",
    "%autoreload 2"
   ]
  },
  {
   "cell_type": "code",
   "execution_count": 2,
   "metadata": {},
   "outputs": [
    {
     "name": "stdout",
     "output_type": "stream",
     "text": [
      "<module 'brtdevkit.data.core.dataset' from '/home/li.yu/anaconda3/envs/brtdevkit/lib/python3.9/site-packages/brtdevkit/data/core/dataset.py'>\n",
      "['front-center-left', 'front-left-left', 'front-right-left', 'side-left-left', 'side-right-left', 'rear-left', 'T01', 'T02', 'T05', 'T06', 'T09', 'T10', 'T13', 'T14', 'I01', 'I02']\n",
      "[{'front-center-left': 'front-center-right', 'front-left-left': 'front-left-right', 'front-right-left': 'front-right-right', 'side-left-left': 'side-left-right', 'side-right-left': 'side-right-right', 'rear-left': 'rear-right', 'front-center-right': 'front-center-left', 'front-left-right': 'front-left-left', 'front-right-right': 'front-right-left', 'side-left-right': 'side-left-left', 'side-right-right': 'side-right-left', 'rear-right': 'rear-left'}, {'T01': 'T03', 'T02': 'T04', 'T05': 'T07', 'T06': 'T08', 'T09': 'T11', 'T10': 'T12', 'T13': 'T15', 'T14': 'T16', 'I01': 'I03', 'I02': 'I04'}, {'T02': 'T03', 'T06': 'T07', 'T10': 'T11', 'T14': 'T15', 'I02': 'I03'}]\n"
     ]
    }
   ],
   "source": [
    "\"\"\" # run this on cmd: \n",
    "eval \"$(/home/li.yu/anaconda3/bin/conda shell.bash hook)\"\n",
    "conda activate brtdevkit\n",
    "brt-devkit-auth\n",
    "aws sso login --profile jupiter_prod_engineer-425642425116\n",
    "\"\"\"\n",
    "import inspect\n",
    "print(inspect.getmodule(Dataset))\n",
    "print(LEFT_CAMERAS)\n",
    "print(ALL_CAMERA_PAIRS_LIST)"
   ]
  },
  {
   "cell_type": "code",
   "execution_count": 2,
   "metadata": {},
   "outputs": [
    {
     "name": "stdout",
     "output_type": "stream",
     "text": [
      "6668a51ba11727e13fe9b622\n"
     ]
    },
    {
     "name": "stderr",
     "output_type": "stream",
     "text": [
      "\u001b[31;1m2024-06-12 12:20:45,390 - APIRequestor - ERROR - API error received | error_code : 403, error_message : {'message': 'Role token_exchange is required to make this API call', 'extra': {'role_name': 'token_exchange'}}\n",
      "\u001b[0mWARNING:root:Temporary failure in refreshing AWS Credentials: Using local credentials for now,but this could lead to failed AWS calls. This warning will only be logged once.\n"
     ]
    },
    {
     "data": {
      "text/plain": [
       "(39034, 104)"
      ]
     },
     "execution_count": 2,
     "metadata": {},
     "output_type": "execute_result"
    }
   ],
   "source": [
    "# test_dataset = Dataset.retrieve(id='64ed2657926aefcd654e8269')\n",
    "test_dataset = Dataset.retrieve(name='halo_vehicles_in_dust_collection_june07')\n",
    "print(test_dataset.id)\n",
    "test_df = test_dataset.to_dataframe()\n",
    "test_df.shape"
   ]
  },
  {
   "cell_type": "code",
   "execution_count": null,
   "metadata": {},
   "outputs": [],
   "source": [
    "test_dfs = []\n",
    "test_dfs.append(test_df)"
   ]
  },
  {
   "cell_type": "code",
   "execution_count": 8,
   "metadata": {},
   "outputs": [
    {
     "data": {
      "text/plain": [
       "camera_location\n",
       "T01    7690\n",
       "T02    7696\n",
       "T03    7693\n",
       "T04    7696\n",
       "T05    7695\n",
       "T06    7697\n",
       "T07    7689\n",
       "T08    7696\n",
       "T09    8249\n",
       "T10    8252\n",
       "T11    8250\n",
       "T12    8254\n",
       "T13    8251\n",
       "T14    8252\n",
       "T15    8254\n",
       "T16    8254\n",
       "dtype: int64"
      ]
     },
     "execution_count": 8,
     "metadata": {},
     "output_type": "execute_result"
    }
   ],
   "source": [
    "test_df[['id', 'camera_location']].groupby('camera_location').size()"
   ]
  },
  {
   "cell_type": "markdown",
   "metadata": {
    "jp-MarkdownHeadingCollapsed": true
   },
   "source": [
    "## Run Databricks Query"
   ]
  },
  {
   "cell_type": "code",
   "execution_count": 9,
   "metadata": {},
   "outputs": [
    {
     "name": "stdout",
     "output_type": "stream",
     "text": [
      "2024-06-05 21:24:03.099000+00:00 2024-06-08 01:19:17.355000+00:00\n",
      "(86521, 7) 43260\n"
     ]
    }
   ],
   "source": [
    "# from jupiterdata.db import databricks_connector\n",
    "# databricks = databricks_connector.Databricks()\n",
    "# # note on json extraction https://docs.databricks.com/en/sql/language-manual/sql-ref-json-path-expression.html\n",
    "# df = databricks.execute(query)\n",
    "# print(df.shape, len(df)//2)\n",
    "\n",
    "query = f\"\"\"\n",
    "SELECT\n",
    "  IMJ.id,\n",
    "  IMJ.operation_time,\n",
    "  IMJ.camera_location,\n",
    "  IMJ.robot_name,\n",
    "  IMJ.collected_on,\n",
    "  IMJ.special_notes,\n",
    "  IMJ.hard_drive_name\n",
    "FROM\n",
    "  mesa_prod.mesa_lake_prod.image_jupiter AS IMJ\n",
    "WHERE\n",
    "  IMJ.robot_name = 'bedrock_411'\n",
    "  AND IMJ.hard_drive_name = 'JUPD-0611_2024-6-5'\n",
    "\"\"\"\n",
    "\n",
    "  # IMJ.has_human_annotation,\n",
    "  # IMJ.has_nearby_stop_event,\n",
    "  # IMJ.operating_field_name,\n",
    "  # IMJ.farm,\n",
    "  # IMJ.bag_name,\n",
    "  # IMJ.closest_object_info__json,\n",
    "  # IMJ.created_at,\n",
    "  # IMJ.hard_drive_name,\n",
    "  # IMJ.state,\n",
    "  # IMJ.hdr_mode,\n",
    "  # IMJ.group_id,\n",
    "  # IMJ.jdb_s3_path,\n",
    "  # IMJ.ros_s3_path,\n",
    "  # IMJ.bundle,\n",
    "  # IMJ.gps_can_data__json,\n",
    "  # IMJ.implement_angle_data__json,\n",
    "  # IMJ.autonomy_state__json,\n",
    "  # IMJ.sensor_type,\n",
    "  # IMJ.geohash,\n",
    "  # IMJ.calibration_data__json,\n",
    "  # IMJ.tractor_type\n",
    "#   IMJ.robot_name = 'bedrock_411'\n",
    "#   AND IMJ.collected_on > date('2024-04-22')\n",
    "#   AND IMJ.collected_on <= date('2024-04-24')\n",
    "\n",
    "# hard_drive_name = 'JUPD-0306_2024-2-28'  # first dust collection\n",
    "# hard_drive_name = 'JUPD-0325_2024-3-19'  # vehicle collection, not necessarily dust\n",
    "# https://bluerivertechnology.slack.com/archives/C04UNEQ190W/p1711143867529459?thread_ts=1711142618.986079&cid=C04UNEQ190W\n",
    "# https://bluerivertechnology.slack.com/archives/C06MB47MWUE/p1711145579254259\n",
    "\n",
    "# query = \"\"\"\n",
    "# SELECT id, image, properties__json FROM annotation_jupiter\n",
    "# WHERE style = 'categorical'\n",
    "# AND created_at > date('2024-01-01')\n",
    "# AND state in ('review', 'ok')\n",
    "# AND properties__json LIKE '%\"title\": \"human\\_pose\"%'\n",
    "# AND kind = 'labelbox'\n",
    "# \"\"\"\n",
    "\n",
    "# # query for categorical labels\n",
    "# query = f\"\"\"\n",
    "# SELECT image AS id, properties__json, created_at FROM annotation_jupiter\n",
    "# WHERE style = 'categorical'\n",
    "# AND state in ('review', 'ok')\n",
    "# AND label_map_full = '66343128ce27e38fac43fc3e'\n",
    "# AND kind = 'labelbox'\n",
    "# AND annotation_jupiter.vendor_metadata__json LIKE '%vendor_project_id\": \"clvzvij3v02w1070x7p0hdc55%'\n",
    "# \"\"\"\n",
    "\n",
    "# query = f\"\"\"\n",
    "# SELECT ANJ.id as id, ANJ.image as image, ANJ.properties__json as properties__json, ANJ.created_at as created_at\n",
    "# FROM mesa_prod.mesa_lake_prod.annotation_jupiter as ANJ\n",
    "# WHERE ANJ.style = 'categorical'\n",
    "# AND ANJ.created_at > date('2024-01-01')\n",
    "# AND ANJ.state in ('review', 'ok')\n",
    "# AND (properties__json LIKE '%\"title\": \"Pose\"%' OR properties__json LIKE '%\"title\": \"Human Clothing\"%' OR properties__json LIKE '%\"title\": \"Human Occlusion\"%') \n",
    "# AND (properties__json LIKE '%\"title\": \"human_pose\"%' OR properties__json LIKE '%\"title\": \"human_clothing\"%' OR properties__json LIKE '%\"title\": \"human_occlusion\"%') \n",
    "# AND ANJ.kind = 'labelbox'\n",
    "#   hard_drive_name = 'JUPD-0325_2024-3-19'\n",
    "#   AND gps_can_data__json IS NOT NULL\n",
    "#   AND special_notes IS NOT NULL\n",
    "#   AND SUBSTRING(IMJ.geohash, 1, 6) IN {tuple(geohash6_test_list)}\n",
    "#   AND IMJ.sensor_type = 'VD6763'\n",
    "#   AND (IMJ.jdb_s3_path like '%.mcap' OR IMJ.calibration_data__json:serial_number LIKE 'PCE7T_B%')\n",
    "# \"\"\"\n",
    "\n",
    "# query = f\"\"\"\n",
    "#   SELECT img.id, img.collected_on\n",
    "#   FROM mesa_prod.mesa_lake_prod.image_jupiter as img\n",
    "#   JOIN mesa_prod.mesa_lake_prod.image_artifact_jupiter AS A\n",
    "#       ON A.image = img.id\n",
    "#   WHERE img.teleop_request__json IS NOT NULL\n",
    "#   AND img.teleop_request__json:original_roi IS NOT NULL\n",
    "#   AND NOT EXISTS(\n",
    "#           SELECT * from mesa_prod.mesa_lake_prod.annotation_jupiter as ann WHERE ann.image = img.id\n",
    "#           AND ann._cls = 'Annotation.CategoricalAnnotation'\n",
    "#           AND ann.is_active_version = true\n",
    "#       )\n",
    "#   LIMIT 10\n",
    "#   ;\"\"\"\n",
    "\n",
    "\n",
    "from jupiterdata.utils.dataset import query_db\n",
    "df = query_db(query)\n",
    "df = df.sort_values('collected_on')\n",
    "print(df.iloc[0].collected_on, df.iloc[-1].collected_on)\n",
    "print(df.shape, len(df)//2)"
   ]
  },
  {
   "cell_type": "code",
   "execution_count": 10,
   "metadata": {},
   "outputs": [
    {
     "data": {
      "text/plain": [
       "array([None, 'JF106', 'JF-89', 'JF-106'], dtype=object)"
      ]
     },
     "execution_count": 10,
     "metadata": {},
     "output_type": "execute_result"
    }
   ],
   "source": [
    "df.special_notes.unique()"
   ]
  },
  {
   "cell_type": "code",
   "execution_count": 11,
   "metadata": {},
   "outputs": [
    {
     "data": {
      "text/plain": [
       "(39034, 7)"
      ]
     },
     "execution_count": 11,
     "metadata": {},
     "output_type": "execute_result"
    }
   ],
   "source": [
    "df2 = df[df.special_notes.isin(['JF106', 'JF-106'])]\n",
    "# df2 = df[(df.camera_location.isin(['T09', 'T10', 'T11', 'T12'])) & (df.special_notes != 'test') ]\n",
    "df2.shape"
   ]
  },
  {
   "cell_type": "code",
   "execution_count": 12,
   "metadata": {},
   "outputs": [
    {
     "name": "stdout",
     "output_type": "stream",
     "text": [
      "2024-06-06 01:52:41.707000+00:00 2024-06-07 03:10:21.833000+00:00\n"
     ]
    }
   ],
   "source": [
    "df2 = df2.sort_values('collected_on')\n",
    "print(df2.iloc[0].collected_on, df2.iloc[-1].collected_on)"
   ]
  },
  {
   "cell_type": "code",
   "execution_count": 15,
   "metadata": {},
   "outputs": [
    {
     "data": {
      "text/plain": [
       "(5838, 6)"
      ]
     },
     "execution_count": 15,
     "metadata": {},
     "output_type": "execute_result"
    }
   ],
   "source": [
    "df3 = df2[df2.camera_location.isin(['T09', 'T10'])]\n",
    "df3.shape"
   ]
  },
  {
   "cell_type": "code",
   "execution_count": 10,
   "metadata": {},
   "outputs": [
    {
     "data": {
      "text/plain": [
       "camera_location\n",
       "T01    6849\n",
       "T02    6848\n",
       "T03    6850\n",
       "T04    6851\n",
       "T05    6851\n",
       "T06    6851\n",
       "T07    6852\n",
       "T08    6851\n",
       "T09    6848\n",
       "T10    6849\n",
       "T11    6846\n",
       "T12    6848\n",
       "T13    6851\n",
       "T14    6851\n",
       "T15    6849\n",
       "T16    6852\n",
       "dtype: int64"
      ]
     },
     "execution_count": 10,
     "metadata": {},
     "output_type": "execute_result"
    }
   ],
   "source": [
    "df.groupby('camera_location').size()"
   ]
  },
  {
   "cell_type": "code",
   "execution_count": 5,
   "metadata": {},
   "outputs": [
    {
     "data": {
      "text/plain": [
       "array(['T03', 'T02', 'T07', 'T08', 'T05', 'T06', 'T04', 'T01', 'T12',\n",
       "       'T14', 'T13', 'T15', 'T09', 'T16', 'T11', 'T10'], dtype=object)"
      ]
     },
     "execution_count": 5,
     "metadata": {},
     "output_type": "execute_result"
    }
   ],
   "source": [
    "df.camera_location.unique()"
   ]
  },
  {
   "cell_type": "code",
   "execution_count": 8,
   "metadata": {},
   "outputs": [],
   "source": [
    "df.to_csv('/data/jupiter/li.yu/data/halo_rgb_stereo_train_test/all_human_pose_0513_v6_new_metadata_for_1934_images.csv', index=False)"
   ]
  },
  {
   "cell_type": "code",
   "execution_count": 36,
   "metadata": {},
   "outputs": [
    {
     "name": "stdout",
     "output_type": "stream",
     "text": [
      "(355193, 27) [None 'dusty' 'dusty headlands' 'FOLD TOWER-FILIP REESE'\n",
      " 'FOLD TOWER-AUSTIN EIDE' '12.112 Low Sunlight']\n",
      "2024-04-23 14:15:07.315000+00:00 2024-04-23 23:59:16.571000+00:00\n"
     ]
    }
   ],
   "source": [
    "df3 = df[df.collected_on >= '2024-04-23']\n",
    "df3 = df3.sort_values('collected_on')\n",
    "print(df3.shape, df3.special_notes.unique())\n",
    "print(df3.iloc[0].collected_on, df3.iloc[-1].collected_on)"
   ]
  },
  {
   "cell_type": "markdown",
   "metadata": {},
   "source": [
    "### Search around birds / airborne debris images"
   ]
  },
  {
   "cell_type": "code",
   "execution_count": 55,
   "metadata": {},
   "outputs": [
    {
     "data": {
      "text/plain": [
       "(array(['PCE7T1B', 'PCE7T1A'], dtype=object),\n",
       " array(['9z1pg7', '9z1pgk', '9q9d4w', '9ufs6w', '9z1pgj', '9z1pgh',\n",
       "        '9ufs6y', '9ufs6v', '9z1pg5', '9vg20v', '9ufs6x', '9ufs6z',\n",
       "        '9ufs6t', '9zmt8e', '7zzzzz', '9zmt8d', '9q9d4z', '9ufsdg',\n",
       "        '9ufsd7', '9ufsd8', '9q9d4x', '9q9d4y', '9ufsd2', '9ze3m3',\n",
       "        '9ze3m7', '9ze3m9', '9ze3me', '9ze3m6', '9ze3md', '9ze3mk',\n",
       "        '9ze3ms', '9zmt8s', '9z1pyy', '9z1pzm', '9z1pzn', '9z1ptw',\n",
       "        '9z1pzq', '9z1pzj', '9ze3m2', '9yyzmd', '9yyzm8', '9yyzjr',\n",
       "        '9yyzm9', '9ufsd3', '9ufsd1', '9ufsd6'], dtype=object))"
      ]
     },
     "execution_count": 55,
     "metadata": {},
     "output_type": "execute_result"
    }
   ],
   "source": [
    "df['serial_number'] = df.calibration_data__json.apply(lambda x: json.loads(x).get('serial_number', np.nan))\n",
    "df['sn7'] = df['serial_number'].apply(lambda s: s[:7])\n",
    "df['geohash6'] = df['geohash'].apply(lambda s: s[:6])\n",
    "df['sn7'].unique(), df['geohash6'].unique()"
   ]
  },
  {
   "cell_type": "code",
   "execution_count": 57,
   "metadata": {},
   "outputs": [
    {
     "data": {
      "text/plain": [
       "(9020603, 30)"
      ]
     },
     "execution_count": 57,
     "metadata": {},
     "output_type": "execute_result"
    }
   ],
   "source": [
    "sbdf = df[df.sn7 == 'PCE7T1B']\n",
    "sbdf.shape"
   ]
  },
  {
   "cell_type": "code",
   "execution_count": 56,
   "metadata": {},
   "outputs": [],
   "source": [
    "df.to_csv('/data/jupiter/li.yu/data/halo_hard_cases/all_mcap_data_till_0418.csv', index=False)\n",
    "# df.to_csv('/data/jupiter/li.yu/data/halo_rgb_stereo_train_test/all_human_pose_0326_v4.csv', index=False)"
   ]
  },
  {
   "cell_type": "code",
   "execution_count": null,
   "metadata": {},
   "outputs": [],
   "source": [
    "# read in geohash table\n",
    "geohash_table = '/data/jupiter/li.yu/data/halo_hard_cases/20240328_geohash_table_v8_1_rc.csv'\n",
    "geohash_df = pd.read_csv(geohash_table)\n",
    "geohash6_train_list = geohash_df[geohash_df.bucket == 'train'].geohash6.to_list()\n",
    "geohash6_test_list = geohash_df[geohash_df.bucket == 'test'].geohash6.to_list()\n",
    "print(geohash_df.shape, len(geohash6_train_list), len(geohash6_test_list))"
   ]
  },
  {
   "cell_type": "code",
   "execution_count": 5,
   "metadata": {},
   "outputs": [
    {
     "name": "stdout",
     "output_type": "stream",
     "text": [
      "(1362, 361) 9xjg9cde9btm\n"
     ]
    },
    {
     "name": "stderr",
     "output_type": "stream",
     "text": [
      "/tmp/ipykernel_103657/3024971100.py:18: SettingWithCopyWarning: \n",
      "A value is trying to be set on a copy of a slice from a DataFrame.\n",
      "Try using .loc[row_indexer,col_indexer] = value instead\n",
      "\n",
      "See the caveats in the documentation: https://pandas.pydata.org/pandas-docs/stable/user_guide/indexing.html#returning-a-view-versus-a-copy\n",
      "  bird_df[\"geohash_6\"] = bird_df[\"geohash\"].apply(lambda x: x[:6])\n"
     ]
    }
   ],
   "source": [
    "import ast\n",
    "root_dir = '/data2/jupiter/datasets/'\n",
    "# dataset = 'halo_rgb_stereo_train_v6_2'\n",
    "dataset = 'halo_rgb_stereo_train_v8_1'\n",
    "csv = os.path.join(root_dir, dataset, 'master_annotations.csv')\n",
    "converters = {\"label_map\": ast.literal_eval, \"label_counts\": ast.literal_eval}\n",
    "# converters = {}\n",
    "df = pd.read_csv(csv, converters=converters)\n",
    "\n",
    "# ab_df = df[df.has_airborne == True]\n",
    "# print(ab_df.shape, ab_df.iloc[0].geohash)\n",
    "# ab_df[\"geohash_6\"] = ab_df[\"geohash\"].apply(lambda x: x[:6])\n",
    "\n",
    "df['Birds'] = df['label_counts'].apply(lambda d: d.get('Birds', 0))\n",
    "df['has_birds'] = df['Birds'] > 0\n",
    "bird_df = df[df.has_birds == True]\n",
    "print(bird_df.shape, bird_df.iloc[0].geohash)\n",
    "bird_df[\"geohash_6\"] = bird_df[\"geohash\"].apply(lambda x: x[:6])\n",
    "\n",
    "from jupiterdata.utils.dataset import query_db"
   ]
  },
  {
   "cell_type": "code",
   "execution_count": 7,
   "metadata": {},
   "outputs": [
    {
     "name": "stdout",
     "output_type": "stream",
     "text": [
      "9xjg9c 2023-08-04 13 57\n",
      "9v5ks7 2023-08-02 153 50\n",
      "9v5kwy 2023-08-05 2 375\n",
      "9v5kxj 2023-08-07 20 50\n",
      "9v5kse 2023-08-02 67 50\n",
      "9xjg3z 2023-08-05 4 187\n",
      "9v5kss 2023-08-02 32 50\n",
      "dp03h5 2023-09-08 3 250\n",
      "9v5ksk 2023-08-02 22 50\n",
      "9xjgd0 2023-08-04 4 187\n",
      "9xjgd0 2023-08-05 1 500\n",
      "9xjgy5 2023-08-15 8 93\n",
      "9v5kwu 2023-08-05 9 83\n",
      "dp03ht 2023-09-09 1 500\n",
      "9xjg9b 2023-08-04 5 150\n",
      "9xjg9b 2023-08-05 2 375\n",
      "9xjg92 2023-07-28 8 93\n",
      "9xjepp 2023-08-09 2 375\n",
      "dju21r 2023-08-18 2 375\n",
      "9v5kxn 2023-08-07 7 107\n",
      "9xjg3f 2023-08-07 5 150\n",
      "9xjgy7 2023-08-15 2 375\n",
      "9xjg8b 2023-08-17 4 187\n",
      "dju21p 2023-08-18 4 187\n",
      "9xjg98 2023-07-28 2 375\n",
      "dp03k9 2023-09-13 3 250\n",
      "9xjg64 2023-08-07 1 500\n",
      "9xjg3d 2023-08-07 2 375\n",
      "9xjgvu 2023-08-15 3 31\n",
      "9v5kws 2023-08-07 2 375\n",
      "9v5kwv 2023-08-05 19 50\n",
      "9xjg9m 2023-08-16 5 150\n",
      "dp03hx 2023-09-12 4 187\n",
      "9xjg3r 2023-08-04 1 500\n",
      "9xjg3r 2023-08-16 1 500\n",
      "9v5ksd 2023-08-02 5 150\n",
      "9xjer0 2023-08-09 1 500\n",
      "dp03k0 2023-09-11 3 250\n",
      "9v5ks6 2023-08-01 2 375\n",
      "9v5ks6 2023-08-02 18 50\n",
      "9xjg6p 2023-08-05 1 500\n",
      "9xjg3g 2023-08-07 1 500\n",
      "9xjg5j 2023-08-11 1 500\n",
      "dp03k3 2023-09-13 4 187\n",
      "dju21n 2023-08-18 9 83\n",
      "9v5kw7 2023-08-03 3 250\n",
      "9v5kw7 2023-08-04 1 500\n",
      "9xjg93 2023-08-03 4 187\n",
      "9xjg68 2023-08-14 1 500\n",
      "dp03hr 2023-09-11 2 375\n",
      "dp03hr 2023-09-12 2 375\n",
      "dp03hm 2023-09-09 2 375\n",
      "9xjeqb 2023-08-09 1 500\n",
      "9xjg3x 2023-07-27 1 500\n",
      "dju21q 2023-08-18 3 250\n",
      "9xjg4x 2023-08-14 1 500\n",
      "9v6tnw 2023-09-28 1 500\n",
      "dp4urh 2023-10-02 1 500\n",
      "dp08s0 2023-10-09 2 375\n",
      "dp03h7 2023-09-10 2 375\n",
      "dp0d9x 2023-09-28 5 150\n",
      "9v5kw5 2023-08-04 2 375\n",
      "9v5kxh 2023-08-07 3 250\n",
      "dp4uqu 2023-10-02 1 500\n",
      "9v5kx5 2023-08-07 1 500\n",
      "dp0dud 2023-10-08 1 500\n",
      "dp06zm 2023-10-03 2 375\n",
      "dp0dug 2023-10-07 1 500\n",
      "dp0dug 2023-10-05 1 500\n",
      "dp0dgk 2023-10-09 2 375\n",
      "dp03hp 2023-09-11 8 93\n",
      "9v6tx1 2023-09-26 2 375\n",
      "9v5kwg 2023-08-05 2 375\n",
      "dp035z 2023-09-11 5 150\n",
      "dp0duf 2023-10-08 3 250\n",
      "dp06zs 2023-09-28 3 250\n",
      "dp0dus 2023-10-07 1 500\n",
      "dp0dgs 2023-10-09 2 375\n",
      "dp03k2 2023-09-12 1 500\n",
      "dp03k2 2023-09-11 2 375\n",
      "dp03k8 2023-09-12 1 500\n",
      "dp03k1 2023-09-14 1 500\n",
      "dp03k1 2023-09-19 2 375\n",
      "dp0dgm 2023-10-09 3 250\n",
      "dp06zk 2023-09-28 1 500\n",
      "dp03h3 2023-09-10 1 500\n",
      "dp0dgt 2023-10-09 3 250\n",
      "dp0dut 2023-10-07 2 375\n",
      "dp0dcb 2023-09-28 1 500\n",
      "dp03h2 2023-09-10 1 500\n",
      "9xjgd1 2023-08-04 1 500\n",
      "9xjgyk 2023-08-14 2 375\n",
      "9v5kw6 2023-08-03 2 375\n",
      "dp08tt 2023-10-09 2 375\n",
      "9v6t5g 2023-09-29 1 500\n",
      "dp03k6 2023-09-13 1 500\n",
      "dp03k6 2023-09-14 2 375\n",
      "9v6tjz 2023-09-26 1 500\n",
      "dp0due 2023-10-07 1 500\n",
      "9zkxqd 2023-10-20 2 375\n",
      "cbhw1z 2023-10-30 1 500\n",
      "9zsxqq 2023-10-31 25 50\n",
      "9zkzt5 2023-10-23 1 500\n",
      "9zkzt5 2023-10-22 1 500\n",
      "dp5hdu 2023-10-27 1 500\n",
      "9zkxkw 2023-10-21 1 500\n",
      "9zsxqn 2023-10-31 20 50\n",
      "9xjgc6 2023-08-16 1 500\n",
      "9zmt8e 2023-10-20 2 375\n",
      "9xjg5r 2023-08-12 1 500\n",
      "dp5he3 2023-10-31 1 500\n",
      "9zsxqr 2023-10-31 1 500\n",
      "9zkxqg 2023-10-20 1 500\n",
      "9zsxp4 2023-11-11 2 375\n",
      "cbhw6w 2023-10-06 1 500\n",
      "9zswyn 2023-11-09 1 500\n",
      "9zpuuk 2023-11-06 1 500\n",
      "9zsxp5 2023-11-11 1 500\n",
      "9zsxqk 2023-10-19 4 187\n",
      "9zsxqj 2023-10-20 2 375\n",
      "9zv2se 2023-10-23 1 500\n",
      "9zsxst 2023-11-13 1 500\n",
      "9zv2m9 2023-11-06 1 500\n",
      "9zpuuv 2023-11-04 2 375\n",
      "9zqsmj 2023-11-09 2 375\n",
      "9zscv7 2023-11-08 1 500\n",
      "9zqu01 2023-11-14 1 500\n",
      "9zpuuu 2023-11-18 1 500\n",
      "9zpuuu 2023-11-03 2 375\n",
      "dp5hen 2023-10-27 1 500\n",
      "9zswyp 2023-11-11 1 500\n",
      "9zpuug 2023-11-07 2 375\n",
      "9zmjnp 2023-11-28 4 187\n",
      "9zmn7g 2023-11-16 1 500\n",
      "9zmjtb 2023-12-02 1 500\n",
      "dp72dv 2023-11-13 1 500\n",
      "9zpuuf 2023-11-07 1 500\n",
      "9zkzkj 2023-11-01 2 375\n",
      "9zkz36 2023-11-14 3 250\n",
      "9zpt0n 2023-11-02 2 375\n",
      "9zptue 2023-10-24 1 500\n",
      "9zqskv 2023-11-09 1 500\n",
      "9zscv6 2023-11-08 2 375\n",
      "dnd25z 2023-12-13 1 500\n",
      "dp4uqt 2023-10-02 1 500\n",
      "9v6tee 2023-09-21 2 375\n",
      "9zn2nb 2023-12-20 1 500\n",
      "9ufs6w 2024-02-07 105 50\n",
      "9ufs6y 2024-02-07 60 50\n",
      "9ufs6x 2024-02-07 33 50\n",
      "9ufs6v 2024-02-08 43 50\n",
      "9z1pgk 2024-03-13 232 50\n",
      "9z1pg7 2024-03-13 113 50\n",
      "9z1pgh 2024-03-13 22 50\n",
      "9q9d4z 2024-02-07 2 375\n",
      "9ufs6t 2024-02-08 49 50\n",
      "9zn2n3 2023-12-18 1 500\n",
      "9ufs6z 2024-02-07 1 500\n",
      "dp0378 2023-09-22 1 500\n",
      "9z1pgj 2024-03-12 2 375\n",
      "9z1pg5 2024-03-13 2 375\n",
      "dp08ts 2023-10-01 3 250\n",
      "9q9d4w 2024-02-14 1 500\n",
      "dp087z 2023-10-10 1 500\n",
      "9v6tmb 2023-09-26 2 375\n",
      "dp08gt 2023-10-12 1 500\n",
      "9zmjjb 2023-12-04 2 375\n",
      "9zpx3b 2023-09-24 1 500\n",
      "dp4ux8 2023-10-11 1 500\n",
      "9zv83h 2023-11-14 1 500\n"
     ]
    },
    {
     "data": {
      "text/plain": [
       "60573"
      ]
     },
     "execution_count": 7,
     "metadata": {},
     "output_type": "execute_result"
    }
   ],
   "source": [
    "LEFT_CAMERAS = ('T01', 'T02', 'T05', 'T06', 'T09', 'T10', 'T13', 'T14', 'I01', 'I02')\n",
    "geohash_6_limit = 500\n",
    "geohash_6_expand = 1.5\n",
    "surround_ids = []\n",
    "for geohash_6 in bird_df.geohash_6.unique():\n",
    "    collected_on_days = bird_df[(bird_df.geohash_6 == geohash_6)].collected_on_day.unique()\n",
    "    for collected_on_day in collected_on_days:\n",
    "        current = len(bird_df[(bird_df.geohash_6 == geohash_6) & (bird_df.collected_on_day == collected_on_day)].unique_id.unique())\n",
    "        expand = int(geohash_6_limit / current * geohash_6_expand)\n",
    "        if expand < 50:\n",
    "            expand = 50\n",
    "        elif expand > 500:\n",
    "            expand = 500\n",
    "\n",
    "        query = f\"\"\"\n",
    "        SELECT\n",
    "          IMJ.id AS id,\n",
    "          IMJ.robot_name AS robot_name,\n",
    "          IMJ.camera_location AS camera_location,\n",
    "          IMJ.operating_field_name AS operating_field_name,\n",
    "          IMJ.bag_name AS bag_name,\n",
    "          IMJ.collected_on AS collected_on,\n",
    "          IMJ.hard_drive_name AS hard_drive_name,\n",
    "          IMJ.geohash AS geohash\n",
    "        FROM\n",
    "          mesa_prod.mesa_lake_prod.image_jupiter AS IMJ\n",
    "        WHERE\n",
    "          collected_on LIKE '{collected_on_day[:10]}%'\n",
    "          AND geohash LIKE '{geohash_6}%'\n",
    "          AND camera_location IN {LEFT_CAMERAS}\n",
    "        LIMIT {expand};\n",
    "        \"\"\"\n",
    "        df = query_db(query)\n",
    "        surround_ids += df.id.to_list()\n",
    "        print(geohash_6, collected_on_day, current, len(df))\n",
    "    #     break\n",
    "    # break\n",
    "    # print('queried geohash_6', geohash_6)\n",
    "\n",
    "len(surround_ids)"
   ]
  },
  {
   "cell_type": "code",
   "execution_count": 8,
   "metadata": {},
   "outputs": [
    {
     "name": "stdout",
     "output_type": "stream",
     "text": [
      "60073\n"
     ]
    },
    {
     "data": {
      "text/plain": [
       "'654658b46c228e535a897327'"
      ]
     },
     "execution_count": 8,
     "metadata": {},
     "output_type": "execute_result"
    }
   ],
   "source": [
    "remain_ids = list(set(surround_ids) - set(df.id.to_list()))\n",
    "print(len(remain_ids))\n",
    "remain_ids[0]"
   ]
  },
  {
   "cell_type": "markdown",
   "metadata": {},
   "source": [
    "### Search around a time"
   ]
  },
  {
   "cell_type": "code",
   "execution_count": 3,
   "metadata": {},
   "outputs": [],
   "source": [
    "from datetime import datetime, timedelta\n",
    "from jupiterdata.utils.dataset import query_db"
   ]
  },
  {
   "cell_type": "code",
   "execution_count": 36,
   "metadata": {},
   "outputs": [
    {
     "name": "stdout",
     "output_type": "stream",
     "text": [
      "(15, 5)\n"
     ]
    },
    {
     "data": {
      "text/html": [
       "<div>\n",
       "<style scoped>\n",
       "    .dataframe tbody tr th:only-of-type {\n",
       "        vertical-align: middle;\n",
       "    }\n",
       "\n",
       "    .dataframe tbody tr th {\n",
       "        vertical-align: top;\n",
       "    }\n",
       "\n",
       "    .dataframe thead th {\n",
       "        text-align: right;\n",
       "    }\n",
       "</style>\n",
       "<table border=\"1\" class=\"dataframe\">\n",
       "  <thead>\n",
       "    <tr style=\"text-align: right;\">\n",
       "      <th></th>\n",
       "      <th>id</th>\n",
       "      <th>collected_on</th>\n",
       "      <th>bag_name</th>\n",
       "      <th>terrain</th>\n",
       "      <th>datetime</th>\n",
       "    </tr>\n",
       "  </thead>\n",
       "  <tbody>\n",
       "    <tr>\n",
       "      <th>0</th>\n",
       "      <td>65eb4802738e53d66c8f346a</td>\n",
       "      <td>2024-02-08T19:22:19.435000</td>\n",
       "      <td>02_08_2024-19_22_27</td>\n",
       "      <td>open_field</td>\n",
       "      <td>2024-02-08 19:22:19.435</td>\n",
       "    </tr>\n",
       "    <tr>\n",
       "      <th>1</th>\n",
       "      <td>65fb4c39ae44446ff5d3fc19</td>\n",
       "      <td>2024-02-23T21:18:43.051000</td>\n",
       "      <td>02_23_2024-21_18_45</td>\n",
       "      <td>in_farm</td>\n",
       "      <td>2024-02-23 21:18:43.051</td>\n",
       "    </tr>\n",
       "  </tbody>\n",
       "</table>\n",
       "</div>"
      ],
      "text/plain": [
       "                         id                collected_on             bag_name  \\\n",
       "0  65eb4802738e53d66c8f346a  2024-02-08T19:22:19.435000  02_08_2024-19_22_27   \n",
       "1  65fb4c39ae44446ff5d3fc19  2024-02-23T21:18:43.051000  02_23_2024-21_18_45   \n",
       "\n",
       "      terrain                datetime  \n",
       "0  open_field 2024-02-08 19:22:19.435  \n",
       "1     in_farm 2024-02-23 21:18:43.051  "
      ]
     },
     "execution_count": 36,
     "metadata": {},
     "output_type": "execute_result"
    }
   ],
   "source": [
    "terrain_csv = '/data/jupiter/li.yu/data/dune_simulation/representative_terrains.csv'\n",
    "terrain_df = pd.read_csv(terrain_csv)\n",
    "terrain_df['datetime'] = terrain_df.collected_on.apply(datetime.fromisoformat)\n",
    "delta = timedelta(seconds=2)\n",
    "print(terrain_df.shape)\n",
    "terrain_df.head(2)"
   ]
  },
  {
   "cell_type": "code",
   "execution_count": 40,
   "metadata": {},
   "outputs": [
    {
     "data": {
      "text/plain": [
       "('2023-10-02 17:39:21.561000', '2023-10-02 17:39:23')"
      ]
     },
     "execution_count": 40,
     "metadata": {},
     "output_type": "execute_result"
    }
   ],
   "source": [
    "str(terrain_df.iloc[-1].datetime), str(terrain_df.iloc[-1].datetime + delta)[:19]"
   ]
  },
  {
   "cell_type": "code",
   "execution_count": 37,
   "metadata": {},
   "outputs": [
    {
     "name": "stdout",
     "output_type": "stream",
     "text": [
      "65eb4802738e53d66c8f346a open_field 88\n",
      "65fb4c39ae44446ff5d3fc19 in_farm 192\n",
      "65eb1913abb27b5979bb2c49 trees 96\n",
      "65fb5e03fbbd37ea5e01a225 pole_by_road 191\n",
      "65fb3f89c7d378dbc65eb080 birds 192\n",
      "6516a9ee59d4a80830b8f3f2 head_lands 32\n",
      "64e5d2fd7d3e736bc96a7e64 tall_weeds 80\n",
      "653b8ab65516ee030864597f irrigation 32\n",
      "650420e64f21186e0f2bda70 road_side 44\n",
      "655b1dfb1ec667f4ad177ea1 tall_weeds2 32\n",
      "65fb3235e9fc675f8fee1f38 dust 192\n",
      "654d7f53443a59d899337355 flooded_area 60\n",
      "651f4ca5397e2827e807f262 head_lands2 18\n",
      "6531b6fa44af03aa185c2c36 head_lands3 48\n",
      "651f586e7747a76b7ba779a8 open_field2 32\n"
     ]
    }
   ],
   "source": [
    "dfs = []\n",
    "for i,row in terrain_df.iterrows():\n",
    "\n",
    "    query = f\"\"\"\n",
    "    SELECT\n",
    "        IMJ.id AS id,\n",
    "        IMJ.robot_name AS robot_name,\n",
    "        IMJ.camera_location AS camera_location,\n",
    "        IMJ.operating_field_name AS operating_field_name,\n",
    "        IMJ.bag_name AS bag_name,\n",
    "        IMJ.collected_on AS collected_on,\n",
    "        IMJ.hard_drive_name AS hard_drive_name,\n",
    "        IMJ.geohash AS geohash\n",
    "    FROM\n",
    "        mesa_prod.mesa_lake_prod.image_jupiter AS IMJ\n",
    "    WHERE\n",
    "        bag_name = '{row.bag_name}'\n",
    "        AND collected_on > '{str(row.datetime - delta)[:19]}'\n",
    "        AND collected_on <= '{str(row.datetime + delta)[:19]}'\n",
    "    \"\"\"\n",
    "\n",
    "    df = query_db(query)\n",
    "    print(row.id, row.terrain, len(df))\n",
    "    dfs.append(df)\n",
    "    # break"
   ]
  },
  {
   "cell_type": "code",
   "execution_count": 38,
   "metadata": {},
   "outputs": [
    {
     "data": {
      "text/html": [
       "<div>\n",
       "<style scoped>\n",
       "    .dataframe tbody tr th:only-of-type {\n",
       "        vertical-align: middle;\n",
       "    }\n",
       "\n",
       "    .dataframe tbody tr th {\n",
       "        vertical-align: top;\n",
       "    }\n",
       "\n",
       "    .dataframe thead th {\n",
       "        text-align: right;\n",
       "    }\n",
       "</style>\n",
       "<table border=\"1\" class=\"dataframe\">\n",
       "  <thead>\n",
       "    <tr style=\"text-align: right;\">\n",
       "      <th></th>\n",
       "      <th>id</th>\n",
       "      <th>collected_on</th>\n",
       "    </tr>\n",
       "  </thead>\n",
       "  <tbody>\n",
       "    <tr>\n",
       "      <th>11</th>\n",
       "      <td>651f53a5d2dd50c6782fc604</td>\n",
       "      <td>2023-10-02 17:39:19.451000+00:00</td>\n",
       "    </tr>\n",
       "    <tr>\n",
       "      <th>20</th>\n",
       "      <td>651f53a8d7bd74435539150e</td>\n",
       "      <td>2023-10-02 17:39:19.487000+00:00</td>\n",
       "    </tr>\n",
       "    <tr>\n",
       "      <th>4</th>\n",
       "      <td>651f53a6f5298a1f9837649e</td>\n",
       "      <td>2023-10-02 17:39:19.513000+00:00</td>\n",
       "    </tr>\n",
       "    <tr>\n",
       "      <th>30</th>\n",
       "      <td>651f53aa4393288ab0595044</td>\n",
       "      <td>2023-10-02 17:39:19.523000+00:00</td>\n",
       "    </tr>\n",
       "    <tr>\n",
       "      <th>7</th>\n",
       "      <td>651f53ad1fc961b2c883145a</td>\n",
       "      <td>2023-10-02 17:39:19.528000+00:00</td>\n",
       "    </tr>\n",
       "    <tr>\n",
       "      <th>31</th>\n",
       "      <td>651f53b188a7ef1b7c505df2</td>\n",
       "      <td>2023-10-02 17:39:19.538000+00:00</td>\n",
       "    </tr>\n",
       "    <tr>\n",
       "      <th>18</th>\n",
       "      <td>651f53af24484d263bf73813</td>\n",
       "      <td>2023-10-02 17:39:19.545000+00:00</td>\n",
       "    </tr>\n",
       "    <tr>\n",
       "      <th>12</th>\n",
       "      <td>651f53ab66fd3736ba6d439d</td>\n",
       "      <td>2023-10-02 17:39:19.554000+00:00</td>\n",
       "    </tr>\n",
       "    <tr>\n",
       "      <th>5</th>\n",
       "      <td>651f57e52945e575a12a2c3a</td>\n",
       "      <td>2023-10-02 17:39:20.470000+00:00</td>\n",
       "    </tr>\n",
       "    <tr>\n",
       "      <th>24</th>\n",
       "      <td>651f57ec234278694e6702c2</td>\n",
       "      <td>2023-10-02 17:39:20.503000+00:00</td>\n",
       "    </tr>\n",
       "    <tr>\n",
       "      <th>26</th>\n",
       "      <td>651f57e7259d72ee93558b54</td>\n",
       "      <td>2023-10-02 17:39:20.511000+00:00</td>\n",
       "    </tr>\n",
       "    <tr>\n",
       "      <th>2</th>\n",
       "      <td>651f57edb3253740d19e5457</td>\n",
       "      <td>2023-10-02 17:39:20.516000+00:00</td>\n",
       "    </tr>\n",
       "    <tr>\n",
       "      <th>27</th>\n",
       "      <td>651f57e8e006006b9c55386b</td>\n",
       "      <td>2023-10-02 17:39:20.521000+00:00</td>\n",
       "    </tr>\n",
       "    <tr>\n",
       "      <th>16</th>\n",
       "      <td>651f57effdfa8067355e1f21</td>\n",
       "      <td>2023-10-02 17:39:20.527000+00:00</td>\n",
       "    </tr>\n",
       "    <tr>\n",
       "      <th>13</th>\n",
       "      <td>651f57e4ba89d03100626354</td>\n",
       "      <td>2023-10-02 17:39:20.535000+00:00</td>\n",
       "    </tr>\n",
       "    <tr>\n",
       "      <th>25</th>\n",
       "      <td>651f57eab3253740d19e5448</td>\n",
       "      <td>2023-10-02 17:39:20.544000+00:00</td>\n",
       "    </tr>\n",
       "    <tr>\n",
       "      <th>14</th>\n",
       "      <td>651f58623b3720fb634e274b</td>\n",
       "      <td>2023-10-02 17:39:21.502000+00:00</td>\n",
       "    </tr>\n",
       "    <tr>\n",
       "      <th>23</th>\n",
       "      <td>651f586cba89d0310062647e</td>\n",
       "      <td>2023-10-02 17:39:21.511000+00:00</td>\n",
       "    </tr>\n",
       "    <tr>\n",
       "      <th>29</th>\n",
       "      <td>651f5869bf9e3572a82b21c0</td>\n",
       "      <td>2023-10-02 17:39:21.517000+00:00</td>\n",
       "    </tr>\n",
       "    <tr>\n",
       "      <th>3</th>\n",
       "      <td>651f58644c033f8a07ff443c</td>\n",
       "      <td>2023-10-02 17:39:21.537000+00:00</td>\n",
       "    </tr>\n",
       "    <tr>\n",
       "      <th>8</th>\n",
       "      <td>651f586b38080f0a6c81762e</td>\n",
       "      <td>2023-10-02 17:39:21.546000+00:00</td>\n",
       "    </tr>\n",
       "    <tr>\n",
       "      <th>28</th>\n",
       "      <td>651f5867d04f830f53413481</td>\n",
       "      <td>2023-10-02 17:39:21.551000+00:00</td>\n",
       "    </tr>\n",
       "    <tr>\n",
       "      <th>22</th>\n",
       "      <td>651f58666559cb7785fe3878</td>\n",
       "      <td>2023-10-02 17:39:21.556000+00:00</td>\n",
       "    </tr>\n",
       "    <tr>\n",
       "      <th>19</th>\n",
       "      <td>651f586e7747a76b7ba779a8</td>\n",
       "      <td>2023-10-02 17:39:21.561000+00:00</td>\n",
       "    </tr>\n",
       "    <tr>\n",
       "      <th>17</th>\n",
       "      <td>651f555517bc8a571f189775</td>\n",
       "      <td>2023-10-02 17:39:22.477000+00:00</td>\n",
       "    </tr>\n",
       "    <tr>\n",
       "      <th>0</th>\n",
       "      <td>651f554cb39b6e2fe85522a4</td>\n",
       "      <td>2023-10-02 17:39:22.504000+00:00</td>\n",
       "    </tr>\n",
       "    <tr>\n",
       "      <th>10</th>\n",
       "      <td>651f55524dfe8a5e7a6bfa19</td>\n",
       "      <td>2023-10-02 17:39:22.510000+00:00</td>\n",
       "    </tr>\n",
       "    <tr>\n",
       "      <th>15</th>\n",
       "      <td>651f5554241ab5e3c0c5f023</td>\n",
       "      <td>2023-10-02 17:39:22.515000+00:00</td>\n",
       "    </tr>\n",
       "    <tr>\n",
       "      <th>21</th>\n",
       "      <td>651f554a5b9b7bb6b435505b</td>\n",
       "      <td>2023-10-02 17:39:22.534000+00:00</td>\n",
       "    </tr>\n",
       "    <tr>\n",
       "      <th>1</th>\n",
       "      <td>651f555776c1f97fdb367301</td>\n",
       "      <td>2023-10-02 17:39:22.540000+00:00</td>\n",
       "    </tr>\n",
       "    <tr>\n",
       "      <th>6</th>\n",
       "      <td>651f554ea442aba780cee453</td>\n",
       "      <td>2023-10-02 17:39:22.546000+00:00</td>\n",
       "    </tr>\n",
       "    <tr>\n",
       "      <th>9</th>\n",
       "      <td>651f554f47fd9f7ee5bf58db</td>\n",
       "      <td>2023-10-02 17:39:22.555000+00:00</td>\n",
       "    </tr>\n",
       "  </tbody>\n",
       "</table>\n",
       "</div>"
      ],
      "text/plain": [
       "                          id                     collected_on\n",
       "11  651f53a5d2dd50c6782fc604 2023-10-02 17:39:19.451000+00:00\n",
       "20  651f53a8d7bd74435539150e 2023-10-02 17:39:19.487000+00:00\n",
       "4   651f53a6f5298a1f9837649e 2023-10-02 17:39:19.513000+00:00\n",
       "30  651f53aa4393288ab0595044 2023-10-02 17:39:19.523000+00:00\n",
       "7   651f53ad1fc961b2c883145a 2023-10-02 17:39:19.528000+00:00\n",
       "31  651f53b188a7ef1b7c505df2 2023-10-02 17:39:19.538000+00:00\n",
       "18  651f53af24484d263bf73813 2023-10-02 17:39:19.545000+00:00\n",
       "12  651f53ab66fd3736ba6d439d 2023-10-02 17:39:19.554000+00:00\n",
       "5   651f57e52945e575a12a2c3a 2023-10-02 17:39:20.470000+00:00\n",
       "24  651f57ec234278694e6702c2 2023-10-02 17:39:20.503000+00:00\n",
       "26  651f57e7259d72ee93558b54 2023-10-02 17:39:20.511000+00:00\n",
       "2   651f57edb3253740d19e5457 2023-10-02 17:39:20.516000+00:00\n",
       "27  651f57e8e006006b9c55386b 2023-10-02 17:39:20.521000+00:00\n",
       "16  651f57effdfa8067355e1f21 2023-10-02 17:39:20.527000+00:00\n",
       "13  651f57e4ba89d03100626354 2023-10-02 17:39:20.535000+00:00\n",
       "25  651f57eab3253740d19e5448 2023-10-02 17:39:20.544000+00:00\n",
       "14  651f58623b3720fb634e274b 2023-10-02 17:39:21.502000+00:00\n",
       "23  651f586cba89d0310062647e 2023-10-02 17:39:21.511000+00:00\n",
       "29  651f5869bf9e3572a82b21c0 2023-10-02 17:39:21.517000+00:00\n",
       "3   651f58644c033f8a07ff443c 2023-10-02 17:39:21.537000+00:00\n",
       "8   651f586b38080f0a6c81762e 2023-10-02 17:39:21.546000+00:00\n",
       "28  651f5867d04f830f53413481 2023-10-02 17:39:21.551000+00:00\n",
       "22  651f58666559cb7785fe3878 2023-10-02 17:39:21.556000+00:00\n",
       "19  651f586e7747a76b7ba779a8 2023-10-02 17:39:21.561000+00:00\n",
       "17  651f555517bc8a571f189775 2023-10-02 17:39:22.477000+00:00\n",
       "0   651f554cb39b6e2fe85522a4 2023-10-02 17:39:22.504000+00:00\n",
       "10  651f55524dfe8a5e7a6bfa19 2023-10-02 17:39:22.510000+00:00\n",
       "15  651f5554241ab5e3c0c5f023 2023-10-02 17:39:22.515000+00:00\n",
       "21  651f554a5b9b7bb6b435505b 2023-10-02 17:39:22.534000+00:00\n",
       "1   651f555776c1f97fdb367301 2023-10-02 17:39:22.540000+00:00\n",
       "6   651f554ea442aba780cee453 2023-10-02 17:39:22.546000+00:00\n",
       "9   651f554f47fd9f7ee5bf58db 2023-10-02 17:39:22.555000+00:00"
      ]
     },
     "execution_count": 38,
     "metadata": {},
     "output_type": "execute_result"
    }
   ],
   "source": [
    "df = df.sort_values('collected_on')\n",
    "df[['id', 'collected_on']]"
   ]
  },
  {
   "cell_type": "code",
   "execution_count": 41,
   "metadata": {},
   "outputs": [
    {
     "name": "stdout",
     "output_type": "stream",
     "text": [
      "(1329, 8)\n"
     ]
    }
   ],
   "source": [
    "df = pd.concat(dfs, ignore_index=True)\n",
    "print(df.shape)"
   ]
  },
  {
   "cell_type": "markdown",
   "metadata": {},
   "source": [
    "### Search around geohash and time"
   ]
  },
  {
   "cell_type": "code",
   "execution_count": 7,
   "metadata": {},
   "outputs": [],
   "source": [
    "import ast\n",
    "from datetime import datetime, timedelta\n",
    "from jupiterdata.utils.dataset import query_db\n",
    "\n",
    "def get_fn_geohash6_bag_name(root_dir, pred_dir, model, dataset):\n",
    "    # load dataset df\n",
    "    csv = os.path.join(root_dir, dataset, 'master_annotations.csv')\n",
    "    converters = {\"label_map\": ast.literal_eval, \"label_counts\": ast.literal_eval}\n",
    "    df = pd.read_csv(csv, converters=converters)\n",
    "    df['geohash6'] = df['geohash'].apply(lambda g: g[:6])\n",
    "    print(df.shape)\n",
    "\n",
    "    # load pred fns\n",
    "    sum_pred_dir = os.path.join(pred_dir, model, dataset, 'false_negative_sum5')\n",
    "    fn_ids = os.listdir(sum_pred_dir)\n",
    "    unique_ids = [f[:-4] for f in fn_ids]\n",
    "\n",
    "    # get fn df\n",
    "    fn_df = df[df.unique_id.isin(unique_ids)]\n",
    "    return fn_df"
   ]
  },
  {
   "cell_type": "code",
   "execution_count": 25,
   "metadata": {},
   "outputs": [
    {
     "name": "stdout",
     "output_type": "stream",
     "text": [
      "(2101, 2) 1672 371\n"
     ]
    }
   ],
   "source": [
    "# read in geohash table\n",
    "geohash_table = '/data/jupiter/li.yu/data/halo_hard_cases/20240328_geohash_table_v8_1_rc.csv'\n",
    "geohash_df = pd.read_csv(geohash_table)\n",
    "geohash6_train_list = geohash_df[geohash_df.bucket == 'train'].geohash6.to_list()\n",
    "geohash6_test_list = geohash_df[geohash_df.bucket == 'test'].geohash6.to_list()\n",
    "print(geohash_df.shape, len(geohash6_train_list), len(geohash6_test_list))"
   ]
  },
  {
   "cell_type": "code",
   "execution_count": 8,
   "metadata": {},
   "outputs": [
    {
     "name": "stdout",
     "output_type": "stream",
     "text": [
      "(326871, 359)\n"
     ]
    },
    {
     "name": "stderr",
     "output_type": "stream",
     "text": [
      "/tmp/ipykernel_121511/3595870924.py:9: DtypeWarning: Columns (23,37,132,150,168,184,188,196,218,219) have mixed types. Specify dtype option on import or set low_memory=False.\n",
      "  df = pd.read_csv(csv, converters=converters)\n"
     ]
    },
    {
     "name": "stdout",
     "output_type": "stream",
     "text": [
      "(4251, 332)\n",
      "(2260, 332)\n",
      "(651, 333)\n",
      "187 23\n"
     ]
    },
    {
     "name": "stderr",
     "output_type": "stream",
     "text": [
      "/tmp/ipykernel_121511/3595870924.py:9: DtypeWarning: Columns (164,165,172,174,184,213,218,219,222,224,239,273,274) have mixed types. Specify dtype option on import or set low_memory=False.\n",
      "  df = pd.read_csv(csv, converters=converters)\n"
     ]
    }
   ],
   "source": [
    "mcsv = '/data2/jupiter/datasets/halo_rgb_stereo_train_v8_1/master_annotations.csv'\n",
    "mdf = pd.read_csv(mcsv)\n",
    "print(mdf.shape)\n",
    "\n",
    "root_dir = '/data/jupiter/datasets/safety_datasets/'\n",
    "pred_dir = '/data/jupiter/li.yu/exps/driveable_terrain_model'\n",
    "model = 'v81_nextvitsmall_dust_only_kore_dean_0406'\n",
    "datasets = [\n",
    "    \"humans/on_path_forward/on_path_forward_humans_night_2024_rev2_v10\", \n",
    "    \"humans/on_path_aft/on_path_aft_humans_night_2024_rev2_v10\",\n",
    "]\n",
    "fn_dfs = [get_fn_geohash6_bag_name(root_dir, pred_dir, model, dataset) for dataset in datasets]\n",
    "fn_df = pd.concat(fn_dfs, ignore_index=True)\n",
    "print(fn_df.shape)\n",
    "print(len(fn_df.bag_name.unique()), len(fn_df.geohash6.unique()))"
   ]
  },
  {
   "cell_type": "code",
   "execution_count": 9,
   "metadata": {},
   "outputs": [
    {
     "data": {
      "text/plain": [
       "[[('9v6tpg', '02_14_2024-00_50_50'), 27],\n",
       " [('9zpund', '10_21_2023-00_44_44'), 17],\n",
       " [('9v6tps', '02_21_2024-01_24_00'), 16],\n",
       " [('9zsx7q', '11_06_2023-23_46_58'), 15],\n",
       " [('9v6tpg', '02_17_2024-01_35_37'), 14]]"
      ]
     },
     "execution_count": 9,
     "metadata": {},
     "output_type": "execute_result"
    }
   ],
   "source": [
    "g = fn_df.groupby(['geohash6', 'bag_name']).size()\n",
    "keys = g.index\n",
    "d = [[k, g[k]] for k in keys]\n",
    "d = sorted(d, key=lambda k: k[1], reverse=True)\n",
    "d[:5]"
   ]
  },
  {
   "cell_type": "code",
   "execution_count": 14,
   "metadata": {},
   "outputs": [],
   "source": [
    "# get collection time of fn images in a bag\n",
    "def get_start_end_time_of_bag(fn_df, bag_name):\n",
    "    # bag_name = '02_21_2024-01_24_00'\n",
    "    bag_df = fn_df[fn_df.bag_name == bag_name]\n",
    "    bag_df = bag_df.sort_values('collected_on')\n",
    "    bag_df['datetime'] = bag_df.collected_on.apply(datetime.fromisoformat)\n",
    "    delta = timedelta(seconds=60*30)\n",
    "    # print(bag_df.shape)\n",
    "    # print(bag_df.iloc[0].datetime, bag_df.iloc[-1].datetime)\n",
    "    # print(bag_df.iloc[0].datetime - delta, bag_df.iloc[-1].datetime + delta)\n",
    "    return bag_df.iloc[0].datetime - delta, bag_df.iloc[-1].datetime + delta"
   ]
  },
  {
   "cell_type": "code",
   "execution_count": 19,
   "metadata": {},
   "outputs": [
    {
     "name": "stdout",
     "output_type": "stream",
     "text": [
      "9v6tpg 02_14_2024-00_50_50 2024-02-14 00:21:43.138000 2024-02-14 01:22:19.165000 2078\n",
      "9zpund 10_21_2023-00_44_44 2023-10-21 00:15:52.182000 2023-10-21 01:16:38.163000 921\n",
      "9v6tps 02_21_2024-01_24_00 2024-02-21 00:54:22.037000 2024-02-21 01:54:43.033000 3377\n",
      "9zsx7q 11_06_2023-23_46_58 2023-11-06 23:17:33.235000 2023-11-07 00:18:47.270000 1048\n",
      "9v6tpg 02_17_2024-01_35_37 2024-02-17 01:06:00.170000 2024-02-17 02:07:00.095000 1616\n",
      "9v6tpg 02_21_2024-01_02_22 2024-02-21 00:33:58.630000 2024-02-21 01:34:45.661000 2062\n",
      "9v6tpg 02_24_2024-00_54_03 2024-02-24 00:24:42.477000 2024-02-24 01:25:06.534000 1459\n",
      "9zmjkf 11_18_2023-02_58_58 2023-11-18 02:30:22.710000 2023-11-18 03:30:47.680000 960\n",
      "9zmjkf 11_17_2023-23_45_45 2023-11-17 23:16:29.858000 2023-11-18 00:17:37.874000 921\n",
      "9v6tpg 02_25_2024-01_27_28 2024-02-25 00:58:04.455000 2024-02-25 01:58:22.454000 959\n",
      "9v6tpg 02_14_2024-00_52_52 2024-02-14 00:23:13.958000 2024-02-14 01:23:32.119000 1182\n",
      "9v6tpg 02_14_2024-03_00_10 2024-02-14 02:30:58.970000 2024-02-14 03:31:18.145000 1973\n",
      "9v6tpg 02_15_2024-01_38_47 2024-02-15 01:10:12.893000 2024-02-15 02:10:22.959000 3260\n",
      "9v6tpg 02_09_2024-01_26_16 2024-02-09 00:56:38.487000 2024-02-09 01:56:53.466000 2023\n",
      "9v6tpg 02_14_2024-01_22_12 2024-02-14 00:54:17.139000 2024-02-14 01:54:33.168000 2064\n",
      "9v6tpg 02_17_2024-01_44_58 2024-02-17 01:15:16.134000 2024-02-17 02:16:45.241000 2016\n",
      "9v6tpg 02_24_2024-01_24_17 2024-02-24 00:54:37.480000 2024-02-24 01:54:45.475000 2084\n",
      "9zmjkf 11_18_2023-02_59_00 2023-11-18 02:29:10.835000 2023-11-18 03:30:00.820000 930\n",
      "9v6tpg 01_30_2024-01_51_21 2024-01-30 01:21:35.399000 2024-01-30 02:21:49.375000 2054\n",
      "9v6tpg 02_09_2024-02_55_10 2024-02-09 02:25:34.476000 2024-02-09 03:25:37.458000 2922\n",
      "9v6tpg 02_14_2024-01_17_30 2024-02-14 00:48:03.158000 2024-02-14 01:48:24.159000 3812\n",
      "9v6tpg 02_21_2024-02_16_54 2024-02-21 01:47:34.072000 2024-02-21 02:47:40.048000 1488\n",
      "9v6tpg 02_21_2024-02_16_56 2024-02-21 01:47:39.663000 2024-02-21 02:47:53.650000 1461\n",
      "9zmjhz 11_19_2023-01_12_20 2023-11-19 00:42:19.543000 2023-11-19 01:42:27.550000 220\n",
      "9zmjhz 11_19_2023-01_16_40 2023-11-19 00:46:40.529000 2023-11-19 01:46:48.534000 220\n",
      "9zmjkf 11_17_2023-23_47_45 2023-11-17 23:17:41.826000 2023-11-18 00:18:13.858000 592\n",
      "9v6tpg 02_14_2024-02_02_43 2024-02-14 01:33:48.952000 2024-02-14 02:34:00.127000 2496\n",
      "9v6tpg 02_15_2024-01_26_21 2024-02-15 00:56:52.897000 2024-02-15 01:56:59.904000 2072\n",
      "9v6tpg 02_15_2024-02_55_31 2024-02-15 02:26:42.512000 2024-02-15 03:26:50.351000 2468\n",
      "9v6tpg 02_24_2024-01_59_37 2024-02-24 01:30:28.607000 2024-02-24 02:30:33.591000 2079\n",
      "9v6tpg 02_27_2024-02_23_38 2024-02-27 01:54:44.772000 2024-02-27 02:55:00.781000 2022\n",
      "9zmjhz 11_19_2023-01_09_00 2023-11-19 00:38:59.518000 2023-11-19 01:39:07.529000 220\n",
      "9zmjhz 11_19_2023-01_13_40 2023-11-19 00:43:40.526000 2023-11-19 01:43:47.533000 220\n",
      "9zmjhz 11_19_2023-01_15_40 2023-11-19 00:45:40.516000 2023-11-19 01:45:48.515000 220\n",
      "9zmjhz 11_19_2023-01_16_20 2023-11-19 00:46:21.481000 2023-11-19 01:46:27.514000 220\n",
      "9zmjkf 11_18_2023-02_09_14 2023-11-18 01:39:17.027000 2023-11-18 02:39:49.813000 928\n",
      "9zpvje 10_22_2023-23_42_29 2023-10-22 23:13:45.060000 2023-10-23 00:13:52.985000 928\n",
      "9v6tpf 02_21_2024-02_35_41 2024-02-21 02:06:29.069000 2024-02-21 03:06:43.621000 1221\n",
      "9v6tpg 02_15_2024-01_44_34 2024-02-15 01:16:19.904000 2024-02-15 02:16:26.360000 3399\n",
      "9v6tpg 02_20_2024-01_22_55 2024-02-20 00:53:13.557000 2024-02-20 01:53:44.539000 3664\n",
      "9zmjhz 11_19_2023-01_14_40 2023-11-19 00:44:39.536000 2023-11-19 01:44:45.485000 220\n",
      "9zmjhz 11_19_2023-01_15_00 2023-11-19 00:44:59.547000 2023-11-19 01:45:08.597000 220\n",
      "9zmjhz 11_19_2023-01_15_20 2023-11-19 00:45:20.526000 2023-11-19 01:45:28.499000 220\n",
      "9zmjhz 11_19_2023-01_16_00 2023-11-19 00:46:02.533000 2023-11-19 01:46:07.523000 220\n",
      "9zmjkf 11_17_2023-23_45_43 2023-11-17 23:16:44.670000 2023-11-18 00:16:54.670000 960\n",
      "9zptgc 11_15_2023-02_11_22 2023-11-15 01:41:24.027000 2023-11-15 02:41:29.945000 177\n",
      "9v6tpf 01_30_2024-02_52_08 2024-01-30 02:22:31.627000 2024-01-30 03:22:37.358000 1026\n",
      "9v6tpg 01_30_2024-03_03_20 2024-01-30 02:33:43.379000 2024-01-30 03:34:07.355000 2044\n",
      "9v6tpg 02_14_2024-01_33_00 2024-02-14 01:03:37.960000 2024-02-14 02:03:40.125000 1437\n",
      "9v6tpg 02_15_2024-01_46_34 2024-02-15 01:16:30.349000 2024-02-15 02:16:53.497000 156\n",
      "9v6tpg 02_17_2024-02_04_56 2024-02-17 01:35:51.674000 2024-02-17 02:36:49.718000 2064\n",
      "9v6tpg 02_20_2024-01_20_52 2024-02-20 00:51:57.537000 2024-02-20 01:52:52.604000 1277\n",
      "9v6tpg 02_21_2024-01_04_47 2024-02-21 00:35:11.013000 2024-02-21 01:35:18.669000 2063\n",
      "9v6tpg 02_25_2024-01_17_28 2024-02-25 00:48:09.481000 2024-02-25 01:48:17.462000 944\n",
      "9zmjkf 11_18_2023-02_57_00 2023-11-18 02:28:21.854000 2023-11-18 03:28:50.865000 920\n",
      "9zpund 10_21_2023-00_48_39 2023-10-21 00:19:05.158000 2023-10-21 01:19:28.211000 929\n",
      "9v6tpe 02_08_2024-03_05_30 2024-02-08 02:36:19.922000 2024-02-08 03:36:22.913000 2084\n",
      "9v6tpf 01_30_2024-00_40_13 2024-01-30 00:10:54.620000 2024-01-30 01:11:04.345000 1527\n",
      "9v6tpf 02_14_2024-00_41_34 2024-02-14 00:12:22.140000 2024-02-14 01:12:25.137000 774\n",
      "9v6tpf 02_14_2024-00_41_35 2024-02-14 00:12:06.990000 2024-02-14 01:12:09.965000 629\n",
      "9v6tpg 01_30_2024-01_47_58 2024-01-30 01:19:17.910000 2024-01-30 02:19:19.377000 2046\n",
      "9v6tpg 02_07_2024-02_32_43 2024-02-07 02:03:52.057000 2024-02-07 03:03:53.067000 2434\n",
      "9v6tpg 02_09_2024-01_34_45 2024-02-09 01:05:20.251000 2024-02-09 02:05:22.203000 2091\n",
      "9v6tpg 02_09_2024-02_38_00 2024-02-09 02:08:37.189000 2024-02-09 03:08:53.251000 2117\n",
      "9v6tpg 02_15_2024-02_43_42 2024-02-15 02:15:22.363000 2024-02-15 03:15:30.330000 3675\n",
      "9v6tpg 02_17_2024-02_06_55 2024-02-17 01:37:32.124000 2024-02-17 02:37:39.131000 471\n",
      "9v6tpg 02_20_2024-00_47_34 2024-02-20 00:19:40.991000 2024-02-20 01:19:43.995000 3823\n",
      "9v6tpg 02_25_2024-02_05_00 2024-02-25 01:35:37.461000 2024-02-25 02:35:40.463000 896\n",
      "9zmjhz 11_19_2023-00_40_00 2023-11-19 00:10:05.549000 2023-11-19 01:10:07.529000 220\n",
      "9zmjhz 11_19_2023-00_42_20 2023-11-19 00:12:20.568000 2023-11-19 01:12:26.546000 220\n",
      "9zmjhz 11_19_2023-00_45_20 2023-11-19 00:15:21.532000 2023-11-19 01:15:25.529000 220\n",
      "9zmjhz 11_19_2023-01_12_00 2023-11-19 00:42:01.522000 2023-11-19 01:42:05.552000 220\n",
      "9zmjhz 11_19_2023-01_12_40 2023-11-19 00:42:42.534000 2023-11-19 01:42:44.555000 220\n",
      "9zmjhz 11_19_2023-01_14_00 2023-11-19 00:44:00.544000 2023-11-19 01:44:04.538000 220\n",
      "9zmjhz 11_19_2023-01_14_20 2023-11-19 00:44:20.533000 2023-11-19 01:44:28.562000 220\n",
      "9zmjhz 11_19_2023-01_17_00 2023-11-19 00:47:01.552000 2023-11-19 01:47:04.522000 220\n",
      "9zmjhz 11_19_2023-01_25_40 2023-11-19 00:55:40.511000 2023-11-19 01:55:46.511000 220\n",
      "9zmjkf 11_18_2023-02_07_18 2023-11-18 01:38:54.825000 2023-11-18 02:38:59.848000 928\n",
      "9zmjkg 11_18_2023-00_33_21 2023-11-18 00:04:11.830000 2023-11-18 01:04:54.816000 920\n",
      "9zmjkg 11_18_2023-00_35_21 2023-11-18 00:05:26.910000 2023-11-18 01:05:45.824000 768\n",
      "9zmjkg 11_18_2023-01_19_27 2023-11-18 00:50:14.836000 2023-11-18 01:50:21.833000 928\n",
      "9zmjkg 11_18_2023-02_15_06 2023-11-18 01:45:06.627000 2023-11-18 02:45:07.645000 220\n",
      "9zptgb 11_15_2023-01_41_43 2023-11-15 01:12:28.941000 2023-11-15 02:12:30.954000 927\n",
      "9zpupe 10_20_2023-23_41_29 2023-10-20 23:11:35.256000 2023-10-21 00:11:40.177000 1194\n",
      "9v6tpf 01_30_2024-02_05_50 2024-01-30 01:36:13.623000 2024-01-30 02:36:44.610000 1706\n",
      "9v6tpg 01_30_2024-01_53_24 2024-01-30 01:23:54.606000 2024-01-30 02:23:56.387000 1269\n",
      "9v6tpg 01_30_2024-02_52_08 2024-01-30 02:22:31.627000 2024-01-30 03:22:37.358000 1026\n",
      "9v6tpg 01_30_2024-02_56_47 2024-01-30 02:27:11.391000 2024-01-30 03:27:32.681000 1381\n",
      "9v6tpg 01_30_2024-02_58_49 2024-01-30 02:29:21.377000 2024-01-30 03:29:27.374000 1394\n",
      "9v6tpg 01_30_2024-03_05_22 2024-01-30 02:35:47.929000 2024-01-30 03:35:50.366000 727\n",
      "9v6tpg 02_09_2024-01_27_57 2024-02-09 00:59:32.430000 2024-02-09 01:59:36.250000 1728\n",
      "9v6tpg 02_09_2024-01_28_37 2024-02-09 01:00:25.450000 2024-02-09 02:00:28.468000 1885\n",
      "9v6tpg 02_14_2024-02_50_25 2024-02-14 02:21:34.166000 2024-02-14 03:21:41.164000 652\n",
      "9v6tpg 02_15_2024-01_49_31 2024-02-15 01:20:37.363000 2024-02-15 02:20:37.363000 2071\n",
      "9v6tpg 02_15_2024-01_51_33 2024-02-15 01:22:53.899000 2024-02-15 02:22:54.880000 2935\n",
      "9v6tpg 02_15_2024-01_57_16 2024-02-15 01:28:20.328000 2024-02-15 02:28:20.328000 593\n",
      "9v6tpg 02_22_2024-02_10_27 2024-02-22 01:41:05.641000 2024-02-22 02:41:07.841000 1590\n",
      "9v6tpg 02_23_2024-01_30_37 2024-02-23 01:01:00.026000 2024-02-23 02:01:07.046000 478\n",
      "9v6tpg 02_25_2024-02_14_10 2024-02-25 01:44:44.431000 2024-02-25 02:45:39.458000 904\n",
      "9v6tpg 02_27_2024-01_17_39 2024-02-27 00:48:28.416000 2024-02-27 01:48:29.425000 1903\n",
      "9v6tpg 02_27_2024-01_26_02 2024-02-27 00:56:48.751000 2024-02-27 01:56:54.748000 1776\n",
      "9v6tpg 02_27_2024-02_25_43 2024-02-27 01:56:26.771000 2024-02-27 02:56:49.765000 3468\n",
      "9v6tps 02_21_2024-01_21_56 2024-02-21 00:52:54.065000 2024-02-21 01:53:19.028000 2081\n",
      "9v6tpu 02_08_2024-03_18_34 2024-02-08 02:49:44.210000 2024-02-08 03:49:47.964000 2468\n",
      "9v6tpu 02_08_2024-03_25_49 2024-02-08 02:57:34.759000 2024-02-08 03:57:36.748000 2058\n",
      "9zmjhv 11_21_2023-00_54_31 2023-11-21 00:24:39.075000 2023-11-21 01:25:51.076000 920\n",
      "9zmjhz 11_19_2023-00_40_20 2023-11-19 00:10:21.553000 2023-11-19 01:10:23.538000 220\n",
      "9zmjhz 11_19_2023-00_44_40 2023-11-19 00:14:44.564000 2023-11-19 01:14:47.542000 220\n",
      "9zmjhz 11_19_2023-01_07_00 2023-11-19 00:37:05.502000 2023-11-19 01:37:06.502000 220\n",
      "9zmjhz 11_19_2023-01_11_40 2023-11-19 00:41:46.506000 2023-11-19 01:41:48.567000 220\n",
      "9zmjhz 11_19_2023-01_13_00 2023-11-19 00:43:01.543000 2023-11-19 01:43:05.537000 221\n",
      "9zmjhz 11_19_2023-01_19_00 2023-11-19 00:49:01.523000 2023-11-19 01:49:06.538000 220\n",
      "9zmjhz 11_19_2023-01_22_00 2023-11-19 00:52:04.530000 2023-11-19 01:52:05.465000 220\n",
      "9zmjhz 11_19_2023-01_29_40 2023-11-19 00:59:42.496000 2023-11-19 01:59:46.510000 220\n",
      "9zmjhz 11_19_2023-01_30_00 2023-11-19 01:00:00.502000 2023-11-19 02:00:04.514000 220\n",
      "9zmjhz 11_19_2023-01_32_40 2023-11-19 01:02:39.513000 2023-11-19 02:02:40.517000 220\n",
      "9zmjkg 11_18_2023-03_37_41 2023-11-18 03:08:29.840000 2023-11-18 04:09:05.853000 920\n",
      "9zptgb 11_15_2023-01_39_43 2023-11-15 01:10:29.946000 2023-11-15 02:10:37.949000 928\n",
      "9zptgc 11_15_2023-02_08_42 2023-11-15 01:38:49.911000 2023-11-15 02:38:49.911000 177\n",
      "9zptgc 11_15_2023-02_11_02 2023-11-15 01:41:01.954000 2023-11-15 02:41:10.926000 177\n",
      "9zptgc 11_15_2023-02_14_22 2023-11-15 01:44:28.934000 2023-11-15 02:44:29.925000 177\n",
      "9zpvj4 11_01_2023-23_58_33 2023-11-01 23:29:39.770000 2023-11-02 00:30:02.781000 929\n",
      "9zpvj4 11_02_2023-00_00_29 2023-11-01 23:30:47.750000 2023-11-02 00:30:54.789000 926\n",
      "9zpvj7 11_02_2023-01_03_23 2023-11-02 00:34:52.764000 2023-11-02 01:35:11.739000 928\n",
      "9zpvj7 11_02_2023-01_05_17 2023-11-02 00:35:38.758000 2023-11-02 01:35:50.782000 488\n",
      "9v6tpf 01_30_2024-00_36_30 2024-01-30 00:07:03.404000 2024-01-30 01:07:03.404000 1152\n",
      "9v6tpf 01_30_2024-00_49_08 2024-01-30 00:19:30.622000 2024-01-30 01:19:30.622000 257\n",
      "9v6tpf 01_30_2024-01_03_48 2024-01-30 00:34:27.386000 2024-01-30 01:34:27.386000 846\n",
      "9v6tpf 01_30_2024-02_50_07 2024-01-30 02:21:18.394000 2024-01-30 03:21:18.394000 2060\n",
      "9v6tpf 02_21_2024-02_26_46 2024-02-21 01:57:43.059000 2024-02-21 02:57:43.059000 2477\n",
      "9v6tpf 02_21_2024-03_38_54 2024-02-21 03:09:52.039000 2024-02-21 04:09:52.039000 2080\n",
      "9v6tpg 01_30_2024-01_43_08 2024-01-30 01:14:14.386000 2024-01-30 02:14:14.386000 2061\n",
      "9v6tpg 02_07_2024-01_21_07 2024-02-07 00:51:57.565000 2024-02-07 01:51:57.565000 1703\n",
      "9v6tpg 02_08_2024-00_45_10 2024-02-08 00:16:01.905000 2024-02-08 01:16:01.905000 2053\n",
      "9v6tpg 02_08_2024-02_47_43 2024-02-08 02:18:31.899000 2024-02-08 03:18:31.899000 2041\n",
      "9v6tpg 02_09_2024-01_05_36 2024-02-09 00:37:02.480000 2024-02-09 01:37:02.480000 1296\n",
      "9v6tpg 02_09_2024-01_54_29 2024-02-09 01:25:05.249000 2024-02-09 02:25:05.249000 1919\n",
      "9v6tpg 02_14_2024-01_00_15 2024-02-14 00:30:45.137000 2024-02-14 01:30:45.137000 614\n",
      "9v6tpg 02_14_2024-02_48_22 2024-02-14 02:19:22.143000 2024-02-14 03:19:22.143000 2055\n",
      "9v6tpg 02_14_2024-02_55_36 2024-02-14 02:26:42.154000 2024-02-14 03:26:42.154000 2268\n",
      "9v6tpg 02_15_2024-01_49_29 2024-02-15 01:20:02.899000 2024-02-15 02:20:02.899000 2120\n",
      "9v6tpg 02_15_2024-01_55_11 2024-02-15 01:25:43.883000 2024-02-15 02:25:43.883000 1347\n",
      "9v6tpg 02_15_2024-02_37_28 2024-02-15 02:08:59.332000 2024-02-15 03:08:59.332000 3203\n",
      "9v6tpg 02_17_2024-01_49_19 2024-02-17 01:19:35.718000 2024-02-17 02:19:35.718000 2070\n",
      "9v6tpg 02_20_2024-01_26_54 2024-02-20 00:58:16.975000 2024-02-20 01:58:16.975000 2074\n",
      "9v6tpg 02_22_2024-02_46_17 2024-02-22 02:17:46.647000 2024-02-22 03:17:46.647000 2087\n",
      "9v6tpg 02_23_2024-02_07_56 2024-02-23 01:38:29.048000 2024-02-23 02:38:29.048000 1646\n",
      "9v6tpg 02_24_2024-00_49_14 2024-02-24 00:19:51.458000 2024-02-24 01:19:51.458000 1743\n",
      "9v6tpg 02_24_2024-00_56_08 2024-02-24 00:26:59.478000 2024-02-24 01:26:59.478000 654\n",
      "9v6tpg 02_24_2024-01_59_35 2024-02-24 01:30:08.484000 2024-02-24 02:30:08.484000 2098\n",
      "9v6tpg 02_24_2024-02_19_06 2024-02-24 01:50:09.604000 2024-02-24 02:50:09.604000 440\n",
      "9v6tpg 02_24_2024-02_24_41 2024-02-24 01:55:24.464000 2024-02-24 02:55:24.464000 2092\n",
      "9v6tpg 02_25_2024-02_06_59 2024-02-25 01:38:48.452000 2024-02-25 02:38:48.452000 904\n",
      "9v6tpg 02_27_2024-02_38_40 2024-02-27 02:09:59.402000 2024-02-27 03:09:59.402000 1951\n",
      "9v6tpg 02_27_2024-02_57_18 2024-02-27 02:27:54.413000 2024-02-27 03:27:54.413000 1168\n",
      "9v6tps 02_21_2024-01_27_54 2024-02-21 00:59:43.663000 2024-02-21 01:59:43.663000 1645\n",
      "9zkxgh 10_22_2023-03_01_35 2023-10-22 02:33:12.883000 2023-10-22 03:33:12.883000 960\n",
      "9zmjht 11_30_2023-01_27_15 2023-11-30 00:58:28.715000 2023-11-30 01:58:28.715000 920\n",
      "9zmjhw 11_30_2023-00_04_57 2023-11-29 23:35:11.645000 2023-11-30 00:35:11.645000 928\n",
      "9zmjhz 11_19_2023-00_29_20 2023-11-18 23:59:26.511000 2023-11-19 00:59:26.511000 220\n",
      "9zmjhz 11_19_2023-00_41_40 2023-11-19 00:11:44.530000 2023-11-19 01:11:44.530000 220\n",
      "9zmjhz 11_19_2023-01_02_20 2023-11-19 00:32:27.506000 2023-11-19 01:32:27.506000 220\n",
      "9zmjhz 11_19_2023-01_07_20 2023-11-19 00:37:26.542000 2023-11-19 01:37:26.542000 220\n",
      "9zmjhz 11_19_2023-01_09_20 2023-11-19 00:39:21.522000 2023-11-19 01:39:21.522000 220\n",
      "9zmjhz 11_19_2023-01_10_20 2023-11-19 00:40:20.495000 2023-11-19 01:40:20.495000 220\n",
      "9zmjhz 11_19_2023-01_10_40 2023-11-19 00:40:44.543000 2023-11-19 01:40:44.543000 220\n",
      "9zmjhz 11_19_2023-01_11_00 2023-11-19 00:41:01.527000 2023-11-19 01:41:01.527000 220\n",
      "9zmjhz 11_19_2023-01_11_20 2023-11-19 00:41:24.528000 2023-11-19 01:41:24.528000 220\n",
      "9zmjhz 11_19_2023-01_17_20 2023-11-19 00:47:23.509000 2023-11-19 01:47:23.509000 220\n",
      "9zmjhz 11_19_2023-01_19_20 2023-11-19 00:49:26.537000 2023-11-19 01:49:26.537000 220\n",
      "9zmjhz 11_19_2023-01_21_00 2023-11-19 00:50:59.530000 2023-11-19 01:50:59.530000 220\n",
      "9zmjhz 11_19_2023-01_30_40 2023-11-19 01:00:40.517000 2023-11-19 02:00:40.517000 220\n",
      "9zmjhz 11_20_2023-00_06_25 2023-11-19 23:38:02.673000 2023-11-20 00:38:02.673000 911\n",
      "9zmjkf 11_18_2023-02_05_18 2023-11-18 01:36:02.878000 2023-11-18 02:36:02.878000 927\n",
      "9zmjkf 11_18_2023-02_07_16 2023-11-18 01:37:23.684000 2023-11-18 02:37:23.684000 960\n",
      "9zptgb 11_15_2023-01_45_42 2023-11-15 01:15:42.941000 2023-11-15 02:15:42.941000 178\n",
      "9zptgb 11_15_2023-01_48_02 2023-11-15 01:18:06.941000 2023-11-15 02:18:06.941000 177\n",
      "9zpund 10_21_2023-00_46_44 2023-10-21 00:16:51.202000 2023-10-21 01:16:51.202000 928\n",
      "9zpups 10_18_2023-23_51_41 2023-10-18 23:22:35.330000 2023-10-19 00:22:35.330000 930\n",
      "9zpups 10_18_2023-23_53_39 2023-10-18 23:25:21.337000 2023-10-19 00:25:21.337000 959\n",
      "9zpvj7 10_23_2023-23_47_12 2023-10-23 23:17:17.183000 2023-10-24 00:17:17.183000 176\n",
      "9zpvj7 10_23_2023-23_48_32 2023-10-23 23:18:40.207000 2023-10-24 00:18:40.207000 176\n",
      "9zpvj7 10_23_2023-23_50_12 2023-10-23 23:20:13.214000 2023-10-24 00:20:13.214000 176\n",
      "9zpvj7 10_23_2023-23_50_52 2023-10-23 23:20:52.153000 2023-10-24 00:20:52.153000 220\n",
      "9zpvj7 10_23_2023-23_52_32 2023-10-23 23:22:36.239000 2023-10-24 00:22:36.239000 220\n",
      "9zpvj7 10_23_2023-23_52_52 2023-10-23 23:22:56.224000 2023-10-24 00:22:56.224000 220\n",
      "9zsx7k 11_06_2023-23_36_54 2023-11-06 23:07:02.307000 2023-11-07 00:07:02.307000 221\n",
      "cbht0v 10_27_2023-00_11_34 2023-10-26 23:41:38.638000 2023-10-27 00:41:38.638000 220\n"
     ]
    }
   ],
   "source": [
    "dfs = {}\n",
    "for (geohash6, bag_name), N in d:\n",
    "    t1, t2 = get_start_end_time_of_bag(fn_df, bag_name)\n",
    "\n",
    "    query = f\"\"\"\n",
    "    SELECT\n",
    "        IMJ.id AS id,\n",
    "        IMJ.robot_name AS robot_name,\n",
    "        IMJ.camera_location AS camera_location,\n",
    "        IMJ.operating_field_name AS operating_field_name,\n",
    "        IMJ.bag_name AS bag_name,\n",
    "        IMJ.collected_on AS collected_on,\n",
    "        IMJ.hard_drive_name AS hard_drive_name,\n",
    "        IMJ.geohash AS geohash\n",
    "    FROM\n",
    "        mesa_prod.mesa_lake_prod.image_jupiter AS IMJ\n",
    "    WHERE\n",
    "        bag_name = '{bag_name}'\n",
    "        AND collected_on > '{str(t1)[:19]}'\n",
    "        AND collected_on <= '{str(t2)[:19]}'\n",
    "    \"\"\"\n",
    "\n",
    "    df = query_db(query)\n",
    "    print(geohash6, bag_name, t1, t2, len(df))\n",
    "    dfs[(geohash6, bag_name)] = df\n",
    "    # break"
   ]
  },
  {
   "cell_type": "code",
   "execution_count": 40,
   "metadata": {},
   "outputs": [
    {
     "name": "stdout",
     "output_type": "stream",
     "text": [
      "9v6tpg 02_14_2024-00_50_50 (554, 9)\n",
      "['65ea454263edec78ede83128', '65ea42b9936e32acd000c032', '65ea4a7c000669bb859209b4', '65ea482b71e1684babf8f77f', '65ea462bbf9244df1b4d852e']\n",
      "9v6tps 02_21_2024-01_24_00 (904, 9)\n",
      "['65e9cdab3de3d70fe449654b', '65ea0b36000669bb8591757d', '65e9d226e879f487a282a835', '65e9d004cafc4e811b02af3d', '65e9d12bf2f15c5f2ceaa879']\n",
      "9zsx7q 11_06_2023-23_46_58 (88, 9)\n",
      "['654bdc741094059fbafd8f00', '654bdc6334b229e20d4375a9', '654bdc2200210142b9092ba1', '654bdbd9fa83693bde13c334', '654bdc32f99b22029bd77dbb']\n",
      "9v6tpg 02_17_2024-01_35_37 (445, 9)\n",
      "['65e9c01ebc620c2c14fe4026', '65e9c0945e301af12dab0518', '65e9c12a2bbbdbae66cedae3', '65e9bdb5f04f29f44a32c6ab', '65e9c0784875033da61a0078']\n",
      "9v6tpg 02_21_2024-01_02_22 (539, 9)\n",
      "['65ea06aedb75a515c2d7ad48', '65e9ffc6459275487d44b70b', '65ea00ca6592f96a05175cee', '65ea01c0d80ab49742253a49', '65ea06f706198505e2a64568']\n",
      "9v6tpg 02_24_2024-00_54_03 (396, 9)\n",
      "['65e7c3694875033da61782fb', '65e7c80ddc04dc9d140eb419', '65e7c5a94875033da617875b', '65e7c7ac21cd0a5f1022f6c1', '65e7c2f0c96c13d74bf1f472']\n",
      "9v6tpg 02_14_2024-00_52_52 (308, 9)\n",
      "['65e966befe7fdadbc26994b5', '65ea2873000669bb8591bb67', '65ea286a69089b57777d5f43', '65ea2796000669bb8591b909', '65ea26c0ee613fefa46226c9']\n",
      "9v6tpg 02_14_2024-03_00_10 (526, 9)\n",
      "['65ea03d0d80ab49742253e85', '65e9c45024345913862b12af', '65e9c290f66412769e1387a9', '65ea050260509af006f828aa', '65ea05ee2083963a4221c8c3']\n",
      "9v6tpg 02_15_2024-01_38_47 (854, 9)\n",
      "['65e9e93382b58517836786e5', '65e9b20be4305312190aef43', '65e9b5bdf04f29f44a32b4cf', '65e9ee13dd97b5fc420ad9bc', '65e9e7a536695db78fa4b21f']\n",
      "9v6tpg 02_09_2024-01_26_16 (525, 9)\n",
      "['65e2aae86d317c62b9236dda', '65e2a8258b93472463562ed9', '65e2aca641b1bbb820ef2adf', '65e2aa421eaa4b19334fa6d9', '65e2ab87f3bc400ed0a00fb4']\n",
      "9v6tpg 02_14_2024-01_22_12 (547, 9)\n",
      "['65ea5d7f6fed96576d13b202', '65ea620c3208c055b2e44d5b', '65ea5f35985349c4034a0f91', '65ea58e1575836bb5d7f77ea', '65ea5c46baade4e3b0decf63']\n",
      "9v6tpg 02_17_2024-01_44_58 (550, 9)\n",
      "['65e9e998e4305312190b6f32', '65e9eb4e042072f9d6223154', '65e9eab9e4305312190b71f0', '65e9e92cd80ab497422507e3', '65e9ed546af3b51a24691eb6']\n",
      "9v6tpg 02_24_2024-01_24_17 (572, 9)\n",
      "['65e79ace3ca6d48dac9bc0ee', '65e79437c69b4ce2d0bc2d64', '65e79a1e4875033da6172f23', '65e79b237faadfbf63ee0a1b', '65e79765d0b0e739437f8556']\n",
      "9v6tpg 02_09_2024-02_55_10 (771, 9)\n",
      "['65e1b5d5a9a20b2699001fe2', '65e17e00699d83405aacd4c6', '65e1807dfd9e66d33edcf56e', '65e1b66ae40a57319e7d7283', '65e18176ea4b8677d4fc9e1a']\n",
      "9v6tpg 02_14_2024-01_17_30 (1014, 9)\n",
      "['65e9b5fe60509af006f76beb', '65ea3a76e66b6530cfc6c463', '65ea38bab3643d9960968775', '65e9bc1182b585178367288c', '65ea3ad03208c055b2e3f2d7']\n",
      "9v6tpg 02_21_2024-02_16_54 (403, 9)\n",
      "['65e97afff04f29f44a323a79', '65e97a7660509af006f6da4c', '65e97778bc620c2c14fd9430', '65e9780a6af3b51a246830ed', '65e978860c9c6f1989713435']\n",
      "9v6tpg 02_21_2024-02_16_56 (389, 9)\n",
      "['65e9e2ffbc620c2c14fe9641', '65e9e0b92bbbdbae66cf1e81', '65e9e5dd06198505e2a5f6d8', '65e9e289bc620c2c14fe9543', '65e9e50fe4305312190b63e0']\n",
      "9v6tpg 02_14_2024-02_02_43 (667, 9)\n",
      "['65ea1b440651a085a0863c0b', '65e9993c5e301af12daab30e', '65ea1fdbe66b6530cfc68b4e', '65e9961bbc620c2c14fdddc4', '65ea1b90575836bb5d7eeb57']\n",
      "9v6tpg 02_15_2024-01_26_21 (572, 9)\n",
      "['65e991a5504a4aaf53723af2', '65e98bafabb427a44f79a7e7', '65e98e8a5e301af12daa99ed', '65e993d6c2cfffbe01ce39f8', '65e98bca2bbbdbae66ce6bbc']\n",
      "9v6tpg 02_15_2024-02_55_31 (664, 9)\n",
      "['65ea1362efa33b23355d23bc', '65ea10d5985349c403495845', '65ea1360efa33b23355d23b4', '65ea11ee3326b21f62632b40', '65ea133110a66fee3c5ae19b']\n",
      "9v6tpg 02_24_2024-01_59_37 (554, 9)\n",
      "['65e9421f9e7c6bc3b14312a6', '65e93c74ede373e8e1fd6913', '65e9433dbc620c2c14fd1c1c', '65e94251042072f9d620d026', '65e940ba6047181dbe0d78cf']\n",
      "9v6tpg 02_27_2024-02_23_38 (539, 9)\n",
      "['65e90dd66c6dff7895e46c65', '65e9098e4875033da61875c5', '65e90953db75a515c2d58505', '65e90c325e301af12da9837f', '65e907fb4875033da618728b']\n",
      "9zpvje 10_22_2023-23_42_29 (8, 9)\n",
      "['653b823130b36c902655b993', '653b822e0c56289575ed3b70', '653b8226840abb6ae5300be2', '653b82275d7de481a2692ebe', '653b82293cc79d0f91b1055e']\n",
      "9v6tpf 02_21_2024-02_35_41 (324, 9)\n",
      "['65e9b3b7b68617345db8aada', '65e9b44bcafc4e811b0272eb', '65e9b463e4305312190af400', '65e9b3f26047181dbe0e7671', '65e9e449f66412769e13d4ab']\n",
      "9v6tpg 02_15_2024-01_44_34 (920, 9)\n",
      "['65ea295a69089b57777d61dc', '65ea2d99dd875f55e0630b79', '65ea2b01d4b8464e3adc8891', '65ea2e9aaad95da62e704299', '65e99445abb427a44f79bc32']\n",
      "9v6tpg 02_20_2024-01_22_55 (1008, 9)\n",
      "['65e9f8b4cafc4e811b03050a', '65e9fd85cafc4e811b030ee4', '65e9fedccafc4e811b0311fa', '65e9fc5af2ce7103e71874e2', '65e9c0468a58df24970cd6d8']\n",
      "9v6tpg 02_14_2024-01_33_00 (380, 9)\n",
      "['65e9c915e4305312190b2315', '65e9e74995ccbedd96f553c9', '65e9e76306198505e2a5fa00', '65e9e6ac82b5851783678175', '65e9c9df82b5851783674561']\n",
      "9v6tpg 02_15_2024-01_46_34 (36, 9)\n",
      "['65e9cb742bbbdbae66ceefae', '65e9cb2c504a4aaf5372aeb1', '65e9cb4e04a277ef14067497', '65e9cb702bbbdbae66ceef9e', '65e9cbab60509af006f79fad']\n",
      "9v6tpg 02_17_2024-02_04_56 (545, 9)\n",
      "['65ea3ebafe3de6bc86f983b6', '65ea3e43ddf8e9985efad203', '65ea3ba0eac6d8484afb2136', '65ea40b8575836bb5d7f4115', '65ea3fc5575836bb5d7f3f08']\n",
      "9v6tpg 02_20_2024-01_20_52 (345, 9)\n",
      "['65e9cf875e301af12dab259d', '65e9ce3dcafc4e811b02ab12', '65e9d0a906198505e2a5c379', '65e9d4836047181dbe0ebb59', '65e9d3c62bbbdbae66cf01fa']\n",
      "9v6tpg 02_21_2024-01_04_47 (540, 9)\n",
      "['65ea399dd73d0e0c36964e11', '65ea3ab7baade4e3b0de8906', '65ea3aa4d43191677380a91b', '65ea36bb000669bb8591ddd0', '65ea366cd73d0e0c369646a3']\n",
      "9v6tpe 02_08_2024-03_05_30 (554, 9)\n",
      "['65e1b5c6fd9e66d33edd5537', '65e1b6fc2ef0530f04db0e2a', '65e1b4acabcb4cbc256d4f76', '65e1b72fee8750cdc708ab24', '65e1b643dd7c4edf8059299d']\n",
      "9v6tpf 01_30_2024-00_40_13 (1, 9)\n",
      "['65c144fca5f4a2cfd45a5a49']\n",
      "9v6tpf 02_14_2024-00_41_34 (200, 9)\n",
      "['65ea28b5254f55da5c4813a3', '65ea275bee613fefa46227ea', '65ea27ec0651a085a0865b76', '65ea293969089b57777d6155', '65ea2600edbbfe28b758ca5b']\n",
      "9v6tpf 02_14_2024-00_41_35 (169, 9)\n",
      "['65e98f5b4875033da6199675', '65e98edcc2cfffbe01ce2c73', '65e98d32042072f9d6216d0a', '65e98eed0702dacc584bf1af', '65e98dc8e4305312190a95ae']\n",
      "9v6tpg 02_07_2024-02_32_43 (651, 9)\n",
      "['65e2c5c4901626ed12df5118', '65e2a8f8d127c1e3c4ebfb36', '65e2c189901626ed12df4744', '65e2a8ee50bb075f5b30ed2d', '65e2c60250bb075f5b3128be']\n",
      "9v6tpg 02_09_2024-01_34_45 (569, 9)\n",
      "['65e13a7f318cc276aff0c87f', '65e13ac3bdd853dd7ea91297', '65e13abfce35f8a05382d11b', '65e14230c20767850b147b1f', '65e142544128c7b72e229c12']\n",
      "9v6tpg 02_09_2024-02_38_00 (593, 9)\n",
      "['65e1c9d59a069b4f038dcbce', '65e1cded9a069b4f038dd442', '65e1cb489a069b4f038dce9d', '65e1cb5a9ade31b2bc1958a0', '65e1d147fd9e66d33edd898d']\n",
      "9v6tpg 02_15_2024-02_43_42 (992, 9)\n",
      "['65e97a5fd80ab497422422c6', '65ea4198c513b8fff9859971', '65ea403e8df89415b79ebcf8', '65e974654875033da6195d46', '65ea3e7a3326b21f6263851f']\n",
      "9v6tpg 02_17_2024-02_06_55 (131, 9)\n",
      "['65e987970c9c6f19897157e7', '65e986a8042072f9d6215ed2', '65e987de829154bde37358ab', '65e9871e33d93c835bfc694e', '65e98729d80ab49742243eb4']\n",
      "9v6tpg 02_20_2024-00_47_34 (1018, 9)\n",
      "['65ea46e9505f6daa7c331e47', '65ea4672936e32acd000c65c', '65ea433024c034625d32ea4c', '65ea487963edec78ede83846', '65ea4686ceb95c88520f3cd6']\n",
      "9zptgb 11_15_2023-01_41_43 (8, 9)\n",
      "['655d277275fa07d701eedc1c', '655d27782d24277335e5e990', '655d276fd37f20c62478fe49', '655d27734587c60eabd2ea77', '655d276d6d496b6635715eaa']\n",
      "9zpupe 10_20_2023-23_41_29 (266, 9)\n",
      "['653da4f7b19f6eeb2dfe414e', '6557d5574d401de24af2d25b', '6558286b1cc49392a017129d', '653da51cc577f1bb777d6e21', '6558282d113f10bb08b73fd0']\n",
      "9v6tpg 01_30_2024-01_53_24 (1, 9)\n",
      "['65c14766d96528e37ff05602']\n",
      "9v6tpg 01_30_2024-02_58_49 (1, 9)\n",
      "['65c143a13db1361e0aa0085f']\n",
      "9v6tpg 01_30_2024-03_05_22 (9, 9)\n",
      "['65c1467c84aaa31861f94c7b', '65c14676d96528e37ff05428', '65c14678a2629a50140f6c4b', '65c1467b3cd8df662a10367d', '65c14670bd14ee2b1f23849a']\n",
      "9v6tpg 02_09_2024-01_27_57 (452, 9)\n",
      "['65e1d5173d866249f9a9bbbe', '65e1d425502a9a2623c05da3', '65e1d0d2d20320f695d21682', '65e1cf51d4d258b1680431dc', '65e1d39a39d6edd9862477f2']\n",
      "9v6tpg 02_09_2024-01_28_37 (492, 9)\n",
      "['65e25c52669b1b9f061e9d36', '65e2638450bb075f5b3061c3', '65e2607a1eaa4b19334f124b', '65e25c7761b3e48c452dd570', '65e26466901626ed12de6c9d']\n",
      "9v6tpg 02_14_2024-02_50_25 (160, 9)\n",
      "['65e9d490042072f9d622040c', '65e9d544e4305312190b3fa6', '65e9d43460509af006f7b38b', '65e9d419dd97b5fc420aa471', '65e95654bc620c2c14fd4905']\n",
      "9v6tpg 02_15_2024-01_49_31 (550, 9)\n",
      "['65ea1a41ceb95c88520ed5e2', '65ea189aceb95c88520ed0e7', '65ea1ea3fc81d7127f107513', '65ea2109d73d0e0c369618fd', '65ea1b4e771061281fdc638c']\n",
      "9v6tpg 02_15_2024-01_51_33 (789, 9)\n",
      "['65e9a0e56047181dbe0e4e48', '65e9a3a711f6518fcad44e57', '65e9a2d7c2cfffbe01ce5e19', '65ea276a69089b57777d5cdb', '65e9a3632bbbdbae66ce9d9b']\n",
      "9v6tpg 02_15_2024-01_57_16 (138, 9)\n",
      "['65e992c9d80ab4974224570a', '65e9b6e2f04f29f44a32b813', '65e9b5aa2bbbdbae66cec429', '65e9b5890c9c6f198971c3bd', '65e9b6a7e879f487a2827004']\n",
      "9v6tpg 02_22_2024-02_10_27 (445, 9)\n",
      "['65e77a78288d0ecfd50091c1', '65e77db12886ece456c264fb', '65e77aa9e36b905e0901cbcb', '65e77d77e36b905e0901d320', '65e77c69cb11a70c8342d1d4']\n",
      "9v6tpg 02_23_2024-01_30_37 (127, 9)\n",
      "['65e79195777723207ddf4509', '65e78fcdcb11a70c8342f826', '65e7901cdd97b5fc420787d4', '65e790d74875033da6171d85', '65e79194e43053121907ef79']\n",
      "9v6tpg 02_27_2024-01_17_39 (508, 9)\n",
      "['65e90c4f5e301af12da983c8', '65e90debe879f487a2811389', '65e7a7e921cd0a5f1022b6ed', '65e90c522bbbdbae66cd68fd', '65e7a9ecb9fc4ef4d5be6112']\n",
      "9v6tpg 02_27_2024-01_26_02 (464, 9)\n",
      "['65e9328dfbca28453105f111', '65e7a1f2288d0ecfd500e3d3', '65e9340c60509af006f62fb8', '65e7a3e5596174dd9cdef61b', '65e7a0fb0b1bfbb341fb0e51']\n",
      "9v6tpg 02_27_2024-02_25_43 (946, 9)\n",
      "['65e923906af3b51a24677996', '65e7b6afe430531219084083', '65e7b857596174dd9cdf1bdc', '65e7b9a0c96c13d74bf1e504', '65e7b59159345e97a129732c']\n",
      "9v6tps 02_21_2024-01_21_56 (578, 9)\n",
      "['65e99c46d80ab49742246b4d', '65e998b111f6518fcad437b6', '65e996322083963a4220e791', '65e996e217659d330ffc1b3c', '65e998cc2bbbdbae66ce8914']\n",
      "9v6tpu 02_08_2024-03_18_34 (640, 9)\n",
      "['65e183b1569bafda06cb52aa', '65e2086c020e74537ebbc68d', '65e20a3e94c03ec7386c7909', '65e20aace40a57319e7e46a4', '65e20842020e74537ebbc65e']\n",
      "9v6tpu 02_08_2024-03_25_49 (553, 9)\n",
      "['65e2777db26ec4333241b914', '65e277dc357ab1e1b772d9dd', '65e2769d1eaa4b19334f3f43', '65e27c0feb7bfd65b8ed22ed', '65e274b25ec53d9ff6851f7f']\n",
      "9v6tpf 02_21_2024-02_26_46 (676, 9)\n",
      "['65ea3dcf575836bb5d7f3b52', '65ea3e2dee613fefa4625753', '65ea3b678df89415b79eb414', '65ea3daf2e9b49e8c763119b', '65ea3b44848ad2676ca54454']\n",
      "9v6tpf 02_21_2024-03_38_54 (597, 9)\n",
      "['65e9c0a9f66412769e138294', '65e9bf08e4305312190b0a47', '65e9c2c9db75a515c2d71ec4', '65e9c1dc82b58517836735d5', '65e9c32ef2ce7103e717ede6']\n",
      "9v6tpg 02_07_2024-01_21_07 (444, 9)\n",
      "['65e1ddfeea4b8677d4fd4c24', '65e1de3b200059f77dee5fe2', '65e29a2932fe66423b3655c9', '65e1e05ee0e5ca57a7d10e94', '65e1dde7ee8750cdc70901e5']\n",
      "9v6tpg 02_08_2024-00_45_10 (539, 9)\n",
      "['65e214ebee8750cdc70980bb', '65e21438fd9e66d33ede098a', '65e210b782580b0d0ae903b2', '65e213b8ed5cf175c5edf7e3', '65e212b3dd7c4edf8059e2ed']\n",
      "9v6tpg 02_08_2024-02_47_43 (540, 9)\n",
      "['65e21e11e40a57319e7e78cb', '65e221318456e1f854574578', '65e21cd5873f71daf69dd5ea', '65e21f9dabcb4cbc256e23d1', '65e22276a9a20b269901139c']\n",
      "9v6tpg 02_09_2024-01_05_36 (338, 9)\n",
      "['65e16926e40a57319e7caeb9', '65e16a0ce40a57319e7cb18c', '65e1684a2ef0530f04da8778', '65e1693a0a0c52c37ecf81b6', '65e16b38650937b7a9f94e2e']\n",
      "9v6tpg 02_09_2024-01_54_29 (526, 9)\n",
      "['65e1f214d41e6dd75f26713c', '65e1ef3edd5989a002426026', '65e1f4c19a069b4f038e1e17', '65e1ecb1abcb4cbc256dbdd3', '65e1ef42ee8750cdc7092cb4']\n",
      "9v6tpg 02_14_2024-01_00_15 (157, 9)\n",
      "['65e9ebb84875033da61a5a9e', '65e9eb8e0c9c6f198972424d', '65e9eb3182b5851783678b2b', '65e9eb35e879f487a282d905', '65e9eb8f8cbdd5c9072a8b28']\n",
      "9v6tpg 02_14_2024-02_48_22 (550, 9)\n",
      "['65ea4d9aedb672103e861c78', '65ea522faad95da62e70875d', '65ea52fac513b8fff985bc16', '65ea4be7575836bb5d7f5aa1', '65ea4f1d505f6daa7c332eca']\n",
      "9v6tpg 02_14_2024-02_55_36 (609, 9)\n",
      "['65e9c322db75a515c2d71f81', '65e9fabbe879f487a282f7c6', '65e9bf442083963a42213b06', '65e9fcbfa8c0977fdf1d0812', '65e9c07a042072f9d621d879']\n",
      "9v6tpg 02_15_2024-01_49_29 (596, 9)\n",
      "['65e9aba1cafc4e811b026057', '65e9a6e90c9c6f198971a0d3', '65e9a9cef04f29f44a329cbc', '65e9a43f6047181dbe0e543a', '65e9a42aabb427a44f79e09e']\n",
      "9v6tpg 02_15_2024-01_55_11 (353, 9)\n",
      "['65e9a8afe879f487a2825321', '65e9a97c2083963a42210e6e', '65e9a706db75a515c2d6dd80', '65e9a679f04f29f44a32946b', '65e9a655e879f487a2824d91']\n",
      "9v6tpg 02_15_2024-02_37_28 (858, 9)\n",
      "['65ea0ee8ee613fefa461f65d', '65e9d6cc28a4771c5b353cb6', '65ea0f9a2ef513d1e3046f88', '65e9d97bbc620c2c14fe803a', '65ea1081aad95da62e7004b4']\n",
      "9v6tpg 02_17_2024-01_49_19 (553, 9)\n",
      "['65ea49c5985349c40349de67', '65ea428be66b6530cfc6d55f', '65ea49d6505f6daa7c33246a', '65ea438fceebf815487cdcee', '65ea4366aad95da62e706c37']\n",
      "9v6tpg 02_20_2024-01_26_54 (550, 9)\n",
      "['65ea2990c513b8fff985692d', '65ea2ad1091506816f5cf788', '65ea2cc9575836bb5d7f1408', '65ea2e685796e7919155aaba', '65ea3093985349c40349a3a7']\n",
      "9v6tpg 02_22_2024-02_46_17 (554, 9)\n",
      "['65e77fa8d4fc22e21eca09ce', '65e78342dd97b5fc42076ec9', '65e7838f219f668254b42f5b', '65e77b4987c0cdc0d290f3c3', '65e77fcf21cd0a5f1022666a']\n",
      "9v6tpg 02_23_2024-02_07_56 (444, 9)\n",
      "['65e7b81541f0d8120a8ea3b5', '65e7bbd8e430531219084c9e', '65e7bbdf7faadfbf63ee4d0b', '65e7bce428a57bdb698b0c27', '65e7bed341f0d8120a8eb0f5']\n",
      "9v6tpg 02_24_2024-00_49_14 (456, 9)\n",
      "['65e93de13de3d70fe447ff0a', '65e7bb3f7faadfbf63ee4bd6', '65e7ba573de3d70fe446666f', '65e7bcb3027fee3d2af4e30e', '65e7bca259345e97a129824c']\n",
      "9v6tpg 02_24_2024-00_56_08 (159, 9)\n",
      "['65e7be8bc96c13d74bf1ed0b', '65e7be9d288d0ecfd50125ed', '65e7be7555c09503c152c069', '65e93581fbca28453105f8d3', '65e9355d2966e54cfee41893']\n",
      "9v6tpg 02_24_2024-01_59_35 (574, 9)\n",
      "['65e7a669288d0ecfd500ed3d', '65e7a57b77f0f8403935ec16', '65e7a153777723207ddf630d', '65e7a0e355c09503c1527e87', '65e7a463596174dd9cdef7b2']\n",
      "9v6tpg 02_24_2024-02_19_06 (98, 9)\n",
      "['65e8f1cbf22da29c55acbd49', '65e8f1cd363c68befdaaf51c', '65e8f19b16ecdb7e534c3b29', '65e7c4e7c6cd7b2e1d8d3eef', '65e7c59b2f84df00a0436f51']\n",
      "9v6tpg 02_24_2024-02_24_41 (583, 9)\n",
      "['65e78cd3760dedab64a5dae2', '65e78ff2e43053121907ebe0', '65e78f1a55c09503c1525354', '65e791783d8522eb33c50679', '65e794c7b9fc4ef4d5be3612']\n",
      "9v6tpg 02_27_2024-02_38_40 (540, 9)\n",
      "['65e7cbf8dc04dc9d140ebdb2', '65e7d390cb11a70c83437f41', '65e7d032c6cd7b2e1d8d5845', '65e7d000b9fc4ef4d5beaced', '65e7cd25c6cd7b2e1d8d522e']\n",
      "9v6tpg 02_27_2024-02_57_18 (300, 9)\n",
      "['65e91e0660509af006f5fb95', '65e91f1b6047181dbe0d2db8', '65e91e64cafc4e811b01278d', '65e92090e430531219098c38', '65e91f8add97b5fc42091ac8']\n",
      "9v6tps 02_21_2024-01_27_54 (432, 9)\n",
      "['65ea35e0b3643d9960968184', '65ea3544aad95da62e704fc9', '65ea3531000669bb8591d936', '65ea354b3326b21f626370f0', '65ea30455796e7919155ada9']\n",
      "9zptgb 11_15_2023-01_45_42 (8, 9)\n",
      "['655de707c444093a8dc5d060', '655de6fde27134fee71a0481', '655de6fafd55dc6ae7d8c019', '655de6f92b9726b6979df9b9', '655de6f72b9726b6979df9b5']\n",
      "9zptgb 11_15_2023-01_48_02 (8, 9)\n",
      "['655d3393830b5b022149e438', '655d3390803e0eeb45ef5b2a', '655d3392c444093a8dc46ef7', '655d338c8b2b027b703411bc', '655d3389830b5b022149e419']\n",
      "40534\n"
     ]
    }
   ],
   "source": [
    "total = 0\n",
    "use_df = None\n",
    "for (geohash6, bag_name), df in dfs.items():\n",
    "    df['geohash6'] = df['geohash'].apply(lambda g: g[:6])\n",
    "    # _df = df[(df.geohash6 != '7zzzzz') & (~df.geohash6.isin(geohash6_test_list))]\n",
    "    _df = df[(~df.geohash6.isin(geohash6_test_list))]\n",
    "    if len(_df) > 0:\n",
    "        use_df = _df if len(_df) > 200 else use_df\n",
    "        total += len(_df)\n",
    "        print(geohash6, bag_name, _df.shape)\n",
    "        print(_df.sample(min(5, len(_df))).id.to_list())\n",
    "        # if len(_df[_df.id == '654bdc10851dd6051c9a2d4b']) > 0:\n",
    "        #     print(_df[_df.id == '654bdc10851dd6051c9a2d4b'].geohash.to_list())\n",
    "print(total)"
   ]
  },
  {
   "cell_type": "code",
   "execution_count": 41,
   "metadata": {},
   "outputs": [
    {
     "data": {
      "text/plain": [
       "array(['7zzzzz'], dtype=object)"
      ]
     },
     "execution_count": 41,
     "metadata": {},
     "output_type": "execute_result"
    }
   ],
   "source": [
    "use_df.geohash6.unique()"
   ]
  },
  {
   "cell_type": "markdown",
   "metadata": {},
   "source": [
    "## Create a dataset"
   ]
  },
  {
   "cell_type": "code",
   "execution_count": 24,
   "metadata": {},
   "outputs": [
    {
     "name": "stdout",
     "output_type": "stream",
     "text": [
      "(126399, 3) True False\n"
     ]
    }
   ],
   "source": [
    "# df = pd.read_csv('/data/jupiter/li.yu/data/Jupiter_train_v6_2/train_v6_2_categorical_count.csv')\n",
    "# df = pd.read_csv('/data/jupiter/li.yu/data/halo_hard_cases/20231219_20240119_halo_rgb_left_airborne.csv')\n",
    "# df = pd.read_csv('/data/jupiter/li.yu/data/halo_hard_cases/human_behind_implement_0613.csv')\n",
    "df = pd.read_csv('/data/jupiter/li.yu/data/halo_hard_cases/halo_human_in_dust_daynightsplit_for_july01.csv')\n",
    "# df = pd.read_csv('/data/jupiter/li.yu/data/halo_hard_cases/halo_vehicle_in_dust_daynightsplit_for_july01.csv')\n",
    "# df = pd.read_csv('/data/jupiter/li.yu/data/halo_hard_cases/halo_vehicle_in_dust_daynightsplit_excludebadnight_for_july01.csv')\n",
    "# df = pd.read_csv('/data/jupiter/li.yu/data/halo_rgb_stereo_train_test/rev1_test_missing_human_pose.csv')\n",
    "# df = pd.read_csv('/data/jupiter/li.yu/data/halo_rgb_stereo_train_test/rev1_test_missing_human_clothing.csv')\n",
    "# df = pd.read_csv('/data/jupiter/li.yu/data/halo_rgb_stereo_train_test/rev1_test_humanv15_day_front_standing_ids.csv')\n",
    "# df = pd.read_csv('/data/jupiter/li.yu/data/halo_rgb_stereo_train_test/train_v8_0_miss_human_pose.csv')\n",
    "# df = pd.read_csv('/data/jupiter/li.yu/data/halo_rgb_stereo_train_test/test_v8_0_miss_human_pose.csv')\n",
    "# df = pd.read_csv('/data/jupiter/li.yu/data/halo_rgb_stereo_train_test/train_v8_1_potential_airborne_birds.csv')\n",
    "# df = pd.read_csv('/data/jupiter/li.yu/data/halo_rgb_stereo_train_test/rev1_test_humanv15_to_fully_label.csv')\n",
    "# df = pd.read_csv('/data/jupiter/li.yu/data/halo_rgb_stereo_train_test/test_v12_miss_human_pose.csv')\n",
    "# df = pd.read_csv('/data/jupiter/datasets/halo_failure_case_of_box_in_dust/selected_for_label.csv')\n",
    "# df = pd.read_csv('/data/jupiter/datasets/halo_vehicles_in_dust_collection_march2024/selected_for_missing_label.csv')\n",
    "# df = pd.read_csv('/data/jupiter/datasets/halo_human_in_dust_day_collection_may29/selected_for_label.csv')\n",
    "# df = pd.read_csv('/data/jupiter/datasets/halo_human_in_dust_night_collection_june03_2/selected_for_label.csv')\n",
    "# df = pd.read_csv('/data/jupiter/datasets/halo_human_in_dust_dusk_collection_front_june07/selected_for_label.csv')\n",
    "# df = pd.read_csv('/data/jupiter/datasets/halo_vehicles_in_dust_collection_june06/selected_for_label.csv')\n",
    "# df = pd.read_csv('/data/jupiter/datasets/halo_vehicles_in_dust_collection_june07/selected_for_label.csv')\n",
    "print(df.shape, 'id' in df, 'unique_id' in df)"
   ]
  },
  {
   "cell_type": "code",
   "execution_count": 25,
   "metadata": {},
   "outputs": [
    {
     "data": {
      "text/plain": [
       "array(['day', 'dawn_dusk', 'night'], dtype=object)"
      ]
     },
     "execution_count": 25,
     "metadata": {},
     "output_type": "execute_result"
    }
   ],
   "source": [
    "df.day_night_split.unique()"
   ]
  },
  {
   "cell_type": "code",
   "execution_count": 35,
   "metadata": {},
   "outputs": [
    {
     "name": "stdout",
     "output_type": "stream",
     "text": [
      "(13217, 3)\n"
     ]
    }
   ],
   "source": [
    "df2 = df[df.day_night_split == 'night']\n",
    "print(df2.shape)"
   ]
  },
  {
   "cell_type": "code",
   "execution_count": 19,
   "metadata": {},
   "outputs": [
    {
     "data": {
      "text/plain": [
       "{}"
      ]
     },
     "execution_count": 19,
     "metadata": {},
     "output_type": "execute_result"
    }
   ],
   "source": [
    "# unlabeled dataset\n",
    "Dataset.create(\n",
    "    name=\"halo_vehicles_in_dust_collection_june07_for_partial_vehicle_label_2\",\n",
    "    description=\"14354 out of 39034 images collected for vehicle in dust and selected for vehicle labeling, at June 06-07, for dusk / night time\",\n",
    "    kind='image',  # annotation or image\n",
    "    image_ids=df.id.to_list())"
   ]
  },
  {
   "cell_type": "code",
   "execution_count": 36,
   "metadata": {},
   "outputs": [
    {
     "name": "stdout",
     "output_type": "stream",
     "text": [
      "Warning 9988 images do not have a corresponding annotation.\n",
      "Preparing stereo dataframe for {'T01': 'T03', 'T02': 'T04', 'T05': 'T07', 'T06': 'T08', 'T09': 'T11', 'T10': 'T12', 'T13': 'T15', 'T14': 'T16', 'I01': 'I03', 'I02': 'I04'}...\n",
      "Size of left dataframe: 3229\n",
      "Size of stereo dataframe: 3220\n",
      "Preparing stereo dataframe for {'T02': 'T03', 'T06': 'T07', 'T10': 'T11', 'T14': 'T15', 'I02': 'I03'}...\n",
      "Size of left dataframe: 2251\n",
      "Size of stereo dataframe: 2250\n",
      "Sending 3228 annotated_ids for creating dataset\n",
      "Time taken to prepare data for dataset creation job: 0.62 mins\n"
     ]
    }
   ],
   "source": [
    "# labeled, stereo dataset\n",
    "imageids_to_dataset(\n",
    "    image_ids=df2.id.to_list(),\n",
    "    dataset_name=\"halo_human_in_dust_night_for_july01\",\n",
    "    dataset_description=\"human in dust images night time, out of 13217 images\",\n",
    "    dataset_kind='pixelwise_annotation',  # image or categorical_annotation or pixelwise_annotation\n",
    "    mode='stereo',  # stereo or mono\n",
    "    production_dataset=False,\n",
    ")"
   ]
  },
  {
   "cell_type": "code",
   "execution_count": 7,
   "metadata": {},
   "outputs": [],
   "source": [
    "# imageids_to_dataset(\n",
    "#     image_ids=test_df[test_df.camera_location.str.endswith('left')].id.to_list(),\n",
    "#     dataset_name=\"20230823_labeled_right_images_12k_left_images_labels\",\n",
    "#     dataset_description=\"left images and labels of 20230823_labeled_right_images_12k\",\n",
    "#     dataset_kind='annotation',  # annotation or image\n",
    "#     mode='mono',  # stereo or mono\n",
    "#     camera_location=CORE_LEFT_CAMERAS,  # CORE_LEFT_CAMERAS or CORE_RIGHT_CAMERAS or ALL_CORE_CAMERAS\n",
    "# )\n",
    "# imageids_to_dataset(\n",
    "#     image_ids=test_df[test_df.camera_location.str.endswith('right')].id.to_list(),\n",
    "#     dataset_name=\"20230823_labeled_right_images_12k_right_images_labels\",\n",
    "#     dataset_description=\"right images and labels of 20230823_labeled_right_images_12k\",\n",
    "#     dataset_kind='annotation',  # annotation or image\n",
    "#     mode='mono',  # stereo or mono\n",
    "#     camera_location=CORE_RIGHT_CAMERAS,  # CORE_LEFT_CAMERAS or CORE_RIGHT_CAMERAS or ALL_CORE_CAMERAS\n",
    "# )"
   ]
  },
  {
   "cell_type": "markdown",
   "metadata": {},
   "source": [
    "## Download a dataset"
   ]
  },
  {
   "cell_type": "code",
   "execution_count": 45,
   "metadata": {},
   "outputs": [],
   "source": [
    "# to download large image dataset and save in jpg format, change the following files\n",
    "# note original files are ending with .bk, and changed files are ending with .save_jpg\n",
    "# /home/li.yu/anaconda3/envs/pytorchlightning/lib/python3.8/site-packages/brtdevkit/data/core/dataset.py\n",
    "# /home/li.yu/anaconda3/envs/pytorchlightning/lib/python3.8/site-packages/brtdevkit/util/aws/s3.py\n",
    "# /home/li.yu/anaconda3/envs/brtdevkit/lib/python3.9/site-packages/brtdevkit/data/core/dataset.py  # save only one png file"
   ]
  },
  {
   "cell_type": "code",
   "execution_count": 3,
   "metadata": {
    "scrolled": true
   },
   "outputs": [],
   "source": [
    "dataset_name = 'halo_human_in_dust_day_collection_may29'\n",
    "dataset_dir = os.path.join('/data/jupiter/datasets', dataset_name)\n",
    "# dataset_dir = os.path.join('/data2/jupiter/datasets', dataset_name)\n",
    "# dataset_dir = os.path.join('/data/jupiter/li.yu/data', dataset_name)\n",
    "# dataset_dir = os.path.join('/data/jupiter/datasets/image_quality_datasets', dataset_name)\n",
    "os.makedirs(dataset_dir, exist_ok=True)\n",
    "\n",
    "test_dataset = Dataset.retrieve(name=dataset_name)\n",
    "test_df = test_dataset.to_dataframe()\n",
    "test_dataset.download(dataset_dir, df=test_df)"
   ]
  },
  {
   "cell_type": "code",
   "execution_count": 6,
   "metadata": {},
   "outputs": [
    {
     "data": {
      "text/plain": [
       "['T13', 'T14', 'T15', 'T16']"
      ]
     },
     "execution_count": 6,
     "metadata": {},
     "output_type": "execute_result"
    }
   ],
   "source": [
    "[f'T{str(i+1).zfill(2)}' for i in range(16)][12:16]"
   ]
  },
  {
   "cell_type": "code",
   "execution_count": null,
   "metadata": {},
   "outputs": [],
   "source": []
  }
 ],
 "metadata": {
  "kernelspec": {
   "display_name": "Python 3.9.18 64-bit ('brtdevkit': conda)",
   "language": "python",
   "name": "python3918jvsc74a57bd0c8cced58dbff2798e473c5ca6eca1100bfa72eead58bcdfb1b17e02c86ac111a"
  },
  "language_info": {
   "codemirror_mode": {
    "name": "ipython",
    "version": 3
   },
   "file_extension": ".py",
   "mimetype": "text/x-python",
   "name": "python",
   "nbconvert_exporter": "python",
   "pygments_lexer": "ipython3",
   "version": "3.9.18"
  },
  "metadata": {
   "interpreter": {
    "hash": "1eceddbeeb55f686303d64ef8e05e300429be7c506c9f9cad24a6dfe5f27b555"
   }
  }
 },
 "nbformat": 4,
 "nbformat_minor": 4
}

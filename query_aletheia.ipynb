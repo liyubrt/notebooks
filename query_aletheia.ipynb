{
 "cells": [
  {
   "cell_type": "code",
   "execution_count": 3,
   "metadata": {},
   "outputs": [
    {
     "name": "stdout",
     "output_type": "stream",
     "text": [
      "7.4.3\n",
      "The autoreload extension is already loaded. To reload it, use:\n",
      "  %reload_ext autoreload\n"
     ]
    }
   ],
   "source": [
    "# need to use updated master JupiterCVML code\n",
    "import sys\n",
    "sys.path.append('/home/li.yu/code/JupiterCVML/europa/base/src/europa')\n",
    "\n",
    "import os\n",
    "os.environ[\"BRT_ENV\"] = 'prod'\n",
    "import json\n",
    "import ndjson\n",
    "import random\n",
    "import brtdevkit\n",
    "print(brtdevkit.__version__)\n",
    "brtdevkit.log = 'info'\n",
    "import os\n",
    "os.environ['AWS_PROFILE'] = 'default'\n",
    "\n",
    "import time\n",
    "import numpy as np\n",
    "import pandas as pd\n",
    "from datetime import datetime, timezone\n",
    "\n",
    "from brtdevkit.core.db.athena import AthenaClient, Table\n",
    "from brtdevkit.data import Image, Dataset\n",
    "\n",
    "from aletheia_dataset_creator.dataset_tools.aletheia_dataset_helpers import *\n",
    "from aletheia_dataset_creator.config.dataset_config import *\n",
    "\n",
    "pd.set_option('display.max_columns', None)\n",
    "\n",
    "%matplotlib inline\n",
    "%load_ext autoreload\n",
    "%autoreload 2"
   ]
  },
  {
   "cell_type": "code",
   "execution_count": 2,
   "metadata": {},
   "outputs": [
    {
     "name": "stdout",
     "output_type": "stream",
     "text": [
      "['front-center-left', 'front-left-left', 'front-right-left', 'side-left-left', 'side-right-left', 'rear-left', 'T01', 'T02', 'T05', 'T06', 'T09', 'T10', 'T13', 'T14', 'I01', 'I03', 'I05', 'I07']\n",
      "[{'front-center-left': 'front-center-right', 'front-left-left': 'front-left-right', 'front-right-left': 'front-right-right', 'side-left-left': 'side-left-right', 'side-right-left': 'side-right-right', 'rear-left': 'rear-right', 'front-center-right': 'front-center-left', 'front-left-right': 'front-left-left', 'front-right-right': 'front-right-left', 'side-left-right': 'side-left-left', 'side-right-right': 'side-right-left', 'rear-right': 'rear-left'}, {'T01': 'T03', 'T02': 'T04', 'T05': 'T07', 'T06': 'T08', 'T09': 'T11', 'T10': 'T12', 'T13': 'T15', 'T14': 'T16'}, {'T02': 'T03', 'T06': 'T07', 'T10': 'T11', 'T14': 'T15'}, {'I01': 'I02', 'I03': 'I04', 'I05': 'I06', 'I07': 'I08'}]\n"
     ]
    }
   ],
   "source": [
    "print(LEFT_CAMERAS)\n",
    "print(ALL_CAMERA_PAIRS_LIST)"
   ]
  },
  {
   "cell_type": "code",
   "execution_count": 3,
   "metadata": {},
   "outputs": [
    {
     "name": "stdout",
     "output_type": "stream",
     "text": [
      "64fa00ea7b198e7e8de6596d\n"
     ]
    }
   ],
   "source": [
    "# test_dataset = Dataset.retrieve(id='64ed2657926aefcd654e8269')\n",
    "test_dataset = Dataset.retrieve(name='dynamic_manny_in_dust_raw')\n",
    "print(test_dataset.id)\n",
    "test_df = test_dataset.to_dataframe()\n",
    "test_df.shape"
   ]
  },
  {
   "cell_type": "code",
   "execution_count": 4,
   "metadata": {},
   "outputs": [
    {
     "data": {
      "text/plain": "(151412, 111)"
     },
     "execution_count": 3,
     "metadata": {},
     "output_type": "execute_result"
    },
    {
     "data": {
      "text/html": "<div>\n<style scoped>\n    .dataframe tbody tr th:only-of-type {\n        vertical-align: middle;\n    }\n\n    .dataframe tbody tr th {\n        vertical-align: top;\n    }\n\n    .dataframe thead th {\n        text-align: right;\n    }\n</style>\n<table border=\"1\" class=\"dataframe\">\n  <thead>\n    <tr style=\"text-align: right;\">\n      <th></th>\n      <th>id</th>\n    </tr>\n    <tr>\n      <th>camera_location</th>\n      <th></th>\n    </tr>\n  </thead>\n  <tbody>\n    <tr>\n      <th>front-center-left</th>\n      <td>13502</td>\n    </tr>\n    <tr>\n      <th>front-center-right</th>\n      <td>13502</td>\n    </tr>\n    <tr>\n      <th>front-left-left</th>\n      <td>12790</td>\n    </tr>\n    <tr>\n      <th>front-left-right</th>\n      <td>12790</td>\n    </tr>\n    <tr>\n      <th>front-right-left</th>\n      <td>13624</td>\n    </tr>\n    <tr>\n      <th>front-right-right</th>\n      <td>13624</td>\n    </tr>\n    <tr>\n      <th>rear-left</th>\n      <td>11472</td>\n    </tr>\n    <tr>\n      <th>rear-right</th>\n      <td>11472</td>\n    </tr>\n    <tr>\n      <th>side-left-left</th>\n      <td>12181</td>\n    </tr>\n    <tr>\n      <th>side-left-right</th>\n      <td>12181</td>\n    </tr>\n    <tr>\n      <th>side-right-left</th>\n      <td>12137</td>\n    </tr>\n    <tr>\n      <th>side-right-right</th>\n      <td>12137</td>\n    </tr>\n  </tbody>\n</table>\n</div>",
      "text/plain": "                       id\ncamera_location          \nfront-center-left   13502\nfront-center-right  13502\nfront-left-left     12790\nfront-left-right    12790\nfront-right-left    13624\nfront-right-right   13624\nrear-left           11472\nrear-right          11472\nside-left-left      12181\nside-left-right     12181\nside-right-left     12137\nside-right-right    12137"
     },
     "execution_count": 4,
     "metadata": {},
     "output_type": "execute_result"
    }
   ],
   "source": [
    "test_df[['id', 'camera_location']].groupby('camera_location').count()"
   ]
  },
  {
   "cell_type": "markdown",
   "metadata": {},
   "source": [
    "## Run query"
   ]
  },
  {
   "cell_type": "code",
   "execution_count": 40,
   "metadata": {},
   "outputs": [
    {
     "name": "stdout",
     "output_type": "stream",
     "text": [
      "28.501166105270386 s\n"
     ]
    },
    {
     "data": {
      "text/plain": "((840, 253), 420)"
     },
     "execution_count": 40,
     "metadata": {},
     "output_type": "execute_result"
    }
   ],
   "source": [
    "# hard_drive_name = 'JUPD-048_2022-09-27'\n",
    "start_datetime  = datetime(2021, 12, 16, hour=22, minute=14, second=0) #, tzinfo=timezone.utc)\n",
    "end_datetime  = datetime(2021, 12, 16, hour=22, minute=14, second=35) #, tzinfo=timezone.utc)\n",
    "# start_datetime  = datetime(2022, 9, 28, tzinfo=timezone.utc) #, hour=3, minute=33, second=33) #, tzinfo=timezone.utc)\n",
    "# start_datetime  = datetime(2023, 8, 28, hour=0, minute=0)   #, tzinfo=timezone.utc)\n",
    "# end_datetime    = datetime(2023, 8, 30, hour=23, minute=59)  # this is EXclusive\n",
    "\n",
    "database = \"mesa-data-catalog-prod\"\n",
    "table = \"image_jupiter\"\n",
    "\n",
    "query = \\\n",
    "f\"\"\"\n",
    "SELECT *\n",
    "FROM {table} T\n",
    "WHERE \n",
    "    T.collected_on >= cast('{start_datetime}' as timestamp)\n",
    "    AND T.collected_on < cast('{end_datetime}' as timestamp)\n",
    "    AND T.robot_name = 'loamy_733'\n",
    "\"\"\"\n",
    "\n",
    "\"\"\"\n",
    "SELECT\n",
    "        *\n",
    "    FROM annotation_jupiter\n",
    "    WHERE\n",
    "     annotation_jupiter.image IN ('642607df1620247e2285d6ac')\n",
    "\"\"\"\n",
    "\n",
    "\"\"\"\n",
    "SELECT id, camera_location, operation_time, collected_on, state, county, operating_field_name, hdr_mode, robot_name, special_notes\n",
    "T.collected_on >= cast('{start_datetime}' as timestamp)\n",
    "    AND T.collected_on < cast('{end_datetime}' as timestamp)\n",
    "    AND T.camera_location LIKE 'front-%'\n",
    "    AND T.camera_location LIKE '%-left'\n",
    "    AND T.hard_drive_name = 'JUPD-154_2023-01-14'\n",
    "    AND T.robot_name LIKE 'loamy%'\n",
    "    AND T.operation_time != 'daytime'\n",
    "    AND T.has_nearby_stop_event = true\n",
    "ORDER BY RAND()\n",
    "LIMIT 40000\n",
    "\"\"\"\n",
    "\n",
    "start = time.time()\n",
    "athena = AthenaClient()\n",
    "df = athena.get_df(query)\n",
    "end = time.time()\n",
    "print(end - start, 's')\n",
    "df.shape, len(df) // 2"
   ]
  },
  {
   "cell_type": "code",
   "execution_count": 41,
   "metadata": {},
   "outputs": [
    {
     "name": "stdout",
     "output_type": "stream",
     "text": [
      "(1, 253)\n",
      "(142, 253)\n",
      "61c40f6d645b3a75242fb494 index 51 out of 71 images\n",
      "61c41049e5100b0f858cc85b\n",
      "61c40fc732160727091887d5\n",
      "61c41029ae6321c259440152\n",
      "61c40f6d645b3a75242fb494\n",
      "61c40f7e6b0c478c85db4282\n",
      "61c41059ec85fdd36b953ac2\n",
      "61c40ff840a09b978c74a5ac\n"
     ]
    }
   ],
   "source": [
    "id = '61c40f6d645b3a75242fb494'\n",
    "print(df[df.id == id].shape)\n",
    "sub_df = df[df.camera_location.str.startswith('rear')]\n",
    "print(sub_df.shape)\n",
    "ids = sub_df[sub_df.camera_location == 'rear-left'].sort_values('collected_on').id.to_list()\n",
    "i = ids.index(id)\n",
    "print(f'{id} index {i} out of {len(ids)} images')\n",
    "for j in range(max(0, i-3), min(i+4, len(ids))):\n",
    "    print(ids[j])"
   ]
  },
  {
   "cell_type": "code",
   "execution_count": 45,
   "metadata": {},
   "outputs": [
    {
     "data": {
      "text/html": "<div>\n<style scoped>\n    .dataframe tbody tr th:only-of-type {\n        vertical-align: middle;\n    }\n\n    .dataframe tbody tr th {\n        vertical-align: top;\n    }\n\n    .dataframe thead th {\n        text-align: right;\n    }\n</style>\n<table border=\"1\" class=\"dataframe\">\n  <thead>\n    <tr style=\"text-align: right;\">\n      <th></th>\n      <th>id</th>\n    </tr>\n    <tr>\n      <th>camera_location</th>\n      <th></th>\n    </tr>\n  </thead>\n  <tbody>\n    <tr>\n      <th>front-right-left</th>\n      <td>49</td>\n    </tr>\n    <tr>\n      <th>front-right-right</th>\n      <td>49</td>\n    </tr>\n    <tr>\n      <th>rear-left</th>\n      <td>71</td>\n    </tr>\n    <tr>\n      <th>rear-right</th>\n      <td>71</td>\n    </tr>\n    <tr>\n      <th>side-right-left</th>\n      <td>88</td>\n    </tr>\n    <tr>\n      <th>side-right-right</th>\n      <td>88</td>\n    </tr>\n  </tbody>\n</table>\n</div>",
      "text/plain": "                   id\ncamera_location      \nfront-right-left   49\nfront-right-right  49\nrear-left          71\nrear-right         71\nside-right-left    88\nside-right-right   88"
     },
     "execution_count": 45,
     "metadata": {},
     "output_type": "execute_result"
    }
   ],
   "source": [
    "df[['id', 'camera_location']].groupby('camera_location').count()"
   ]
  },
  {
   "cell_type": "code",
   "execution_count": 43,
   "metadata": {},
   "outputs": [
    {
     "name": "stdout",
     "output_type": "stream",
     "text": [
      "3\n"
     ]
    }
   ],
   "source": [
    "# dfs = []\n",
    "dfs.append(sub_df)\n",
    "print(len(dfs))"
   ]
  },
  {
   "cell_type": "code",
   "execution_count": 44,
   "metadata": {},
   "outputs": [
    {
     "data": {
      "text/plain": "(416, 253)"
     },
     "execution_count": 44,
     "metadata": {},
     "output_type": "execute_result"
    }
   ],
   "source": [
    "df = pd.concat(dfs, ignore_index=True)\n",
    "df.shape"
   ]
  },
  {
   "cell_type": "markdown",
   "metadata": {},
   "source": [
    "## Create a dataset"
   ]
  },
  {
   "cell_type": "code",
   "execution_count": 3,
   "metadata": {},
   "outputs": [
    {
     "data": {
      "text/plain": "(180, 2)"
     },
     "execution_count": 3,
     "metadata": {},
     "output_type": "execute_result"
    }
   ],
   "source": [
    "# df = pd.read_csv('./dust_threshold/human_vehicle_in_dust_for_train_total.csv')\n",
    "# df = pd.read_csv('./dust_threshold/dust_productivity.csv')\n",
    "# df = pd.read_csv('/data/jupiter/datasets/Jupiter_train_v5_11/driveable_not_labeled.csv')\n",
    "# df = pd.read_csv('/data/jupiter/datasets/Jupiter_train_v5_11/less_than_half_labeled.csv')\n",
    "# df = pd.read_csv('/data/jupiter/datasets/Jupiter_train_v5_11/less_than_half_or_driveable_not_labeled_for_relabeling.csv')\n",
    "df = pd.read_csv('/data/jupiter/li.yu/exps/driveable_terrain_model/rgb_baseline_sample_a_v3_2/20230925_halo_rgb_stereo_train_v3_epoch0/pruned_ids.csv')\n",
    "df.shape"
   ]
  },
  {
   "cell_type": "code",
   "execution_count": 46,
   "metadata": {},
   "outputs": [
    {
     "data": {
      "text/plain": "{}"
     },
     "execution_count": 46,
     "metadata": {},
     "output_type": "execute_result"
    }
   ],
   "source": [
    "# unlabeled dataset\n",
    "Dataset.create(\n",
    "    name=\"Jupiter_human_on_path_3_fn_sequence\",\n",
    "    description=\"3 sequences containing 3 common FNs in human on path test set\",\n",
    "    kind='image',\n",
    "    image_ids=df.id.to_list())"
   ]
  },
  {
   "cell_type": "code",
   "execution_count": 26,
   "metadata": {},
   "outputs": [
    {
     "name": "stdout",
     "output_type": "stream",
     "text": [
      "INFO: Pandarallel will run on 32 workers.\n",
      "INFO: Pandarallel will use Memory file system to transfer data between the main process and workers.\n",
      "INFO: Pandarallel will run on 32 workers.\n",
      "INFO: Pandarallel will use Memory file system to transfer data between the main process and workers.\n",
      "Filtered 308 annotations.\n",
      "Sending 12166 annotated_ids for creating dataset\n",
      "Time taken to prepare data for dataset creation job: 2.07 mins\n",
      "INFO: Pandarallel will run on 32 workers.\n",
      "INFO: Pandarallel will use Memory file system to transfer data between the main process and workers.\n",
      "INFO: Pandarallel will run on 32 workers.\n",
      "INFO: Pandarallel will use Memory file system to transfer data between the main process and workers.\n",
      "Filtered 0 annotations.\n",
      "Sending 12166 annotated_ids for creating dataset\n",
      "Time taken to prepare data for dataset creation job: 2.15 mins\n"
     ]
    }
   ],
   "source": [
    "imageids_to_dataset(\n",
    "    image_ids=test_df[test_df.camera_location.str.endswith('left')].id.to_list(),\n",
    "    dataset_name=\"20230823_labeled_right_images_12k_left_images_labels\",\n",
    "    dataset_description=\"left images and labels of 20230823_labeled_right_images_12k\",\n",
    "    dataset_kind='annotation',  # annotation or image\n",
    "    mode='mono',  # stereo or mono\n",
    "    camera_location=CORE_LEFT_CAMERAS,  # CORE_LEFT_CAMERAS or CORE_RIGHT_CAMERAS or ALL_CORE_CAMERAS\n",
    ")\n",
    "imageids_to_dataset(\n",
    "    image_ids=test_df[test_df.camera_location.str.endswith('right')].id.to_list(),\n",
    "    dataset_name=\"20230823_labeled_right_images_12k_right_images_labels\",\n",
    "    dataset_description=\"right images and labels of 20230823_labeled_right_images_12k\",\n",
    "    dataset_kind='annotation',  # annotation or image\n",
    "    mode='mono',  # stereo or mono\n",
    "    camera_location=CORE_RIGHT_CAMERAS,  # CORE_LEFT_CAMERAS or CORE_RIGHT_CAMERAS or ALL_CORE_CAMERAS\n",
    ")"
   ]
  },
  {
   "cell_type": "code",
   "execution_count": 4,
   "metadata": {},
   "outputs": [
    {
     "name": "stdout",
     "output_type": "stream",
     "text": [
      "INFO: Pandarallel will run on 32 workers.\n",
      "INFO: Pandarallel will use Memory file system to transfer data between the main process and workers.\n",
      "INFO: Pandarallel will run on 32 workers.\n",
      "INFO: Pandarallel will use Memory file system to transfer data between the main process and workers.\n",
      "Filtered 4 annotations.\n",
      "Warning 38 images do not have a corresponding annotation.\n",
      "Preparing stereo dataframe...\n",
      "Size of left dataframe: 129\n",
      "INFO: Pandarallel will run on 32 workers.\n",
      "INFO: Pandarallel will use Memory file system to transfer data between the main process and workers.\n",
      "INFO: Pandarallel will run on 32 workers.\n",
      "INFO: Pandarallel will use Memory file system to transfer data between the main process and workers.\n",
      "Size of stereo dataframe: 129\n",
      "Preparing stereo dataframe...\n",
      "Size of left dataframe: 90\n",
      "INFO: Pandarallel will run on 32 workers.\n",
      "INFO: Pandarallel will use Memory file system to transfer data between the main process and workers.\n",
      "INFO: Pandarallel will run on 32 workers.\n",
      "INFO: Pandarallel will use Memory file system to transfer data between the main process and workers.\n",
      "Size of stereo dataframe: 90\n",
      "Preparing stereo dataframe...\n",
      "Size of left dataframe: 13\n",
      "INFO: Pandarallel will run on 32 workers.\n",
      "INFO: Pandarallel will use Memory file system to transfer data between the main process and workers.\n",
      "INFO: Pandarallel will run on 32 workers.\n",
      "INFO: Pandarallel will use Memory file system to transfer data between the main process and workers.\n",
      "Size of stereo dataframe: 13\n",
      "Sending 142 annotated_ids for creating dataset\n",
      "Time taken to prepare data for dataset creation job: 2.46 mins\n"
     ]
    }
   ],
   "source": [
    "# # in master branch halo datasets\n",
    "# annotations = imageids_to_annotation_df(\n",
    "#     image_ids=df.id.to_list(),\n",
    "# )\n",
    "\n",
    "imageids_to_dataset(\n",
    "    image_ids=df.id.to_list(),\n",
    "    dataset_name=\"20230925_halo_rgb_stereo_train_v3_high_focal_loss\",\n",
    "    dataset_description=\"180 images with >0.5 focal loss from dataset 20230925_halo_rgb_stereo_train_v3\",\n",
    "    dataset_kind='annotation',  # annotation or image\n",
    "    mode='stereo',  # stereo or mono\n",
    ")\n",
    "# Dataset.create(\n",
    "#     name=\"20230925_halo_rgb_stereo_train_v3_pruned\",\n",
    "#     description=\"180 images with >0.5 focal loss from dataset 20230925_halo_rgb_stereo_train_v3\",\n",
    "#     kind=Dataset.KIND_ANNOTATION,\n",
    "#     image_ids=df.id.to_list())"
   ]
  },
  {
   "cell_type": "markdown",
   "metadata": {},
   "source": [
    "## Download a dataset"
   ]
  },
  {
   "cell_type": "code",
   "execution_count": 21,
   "metadata": {},
   "outputs": [
    {
     "name": "stderr",
     "output_type": "stream",
     "text": [
      "\u001b[34;1m2023-08-30 20:15:24,701 - Dataset - INFO - start downloading dataset: 64f004ac766c28f156388ddc into /data/jupiter/li.yu/data/left_and_right_labels_samples_only_right\n",
      "100%|██████████| 70/70 [00:01<00:00, 60.76it/s] \n",
      "\u001b[34;1m2023-08-30 20:15:42,680 - Dataset - INFO - finished downloading dataset: 64f004ac766c28f156388ddc\n",
      "\u001b[0m"
     ]
    }
   ],
   "source": [
    "dataset_name = 'left_and_right_labels_samples_only_right'\n",
    "# dataset_dir = os.path.join('/data/jupiter/datasets', dataset_name)\n",
    "dataset_dir = os.path.join('/data/jupiter/li.yu/data', dataset_name)\n",
    "os.makedirs(dataset_dir, exist_ok=True)\n",
    "\n",
    "test_dataset = Dataset.retrieve(name=dataset_name)\n",
    "test_df = test_dataset.to_dataframe()\n",
    "test_dataset.download(dataset_dir, df=test_df)"
   ]
  },
  {
   "cell_type": "code",
   "execution_count": null,
   "metadata": {},
   "outputs": [],
   "source": []
  }
 ],
 "metadata": {
  "kernelspec": {
   "display_name": "Python 3.8.8 64-bit ('pytorchlightning': conda)",
   "name": "python388jvsc74a57bd01eceddbeeb55f686303d64ef8e05e300429be7c506c9f9cad24a6dfe5f27b555"
  },
  "language_info": {
   "codemirror_mode": {
    "name": "ipython",
    "version": 3
   },
   "file_extension": ".py",
   "mimetype": "text/x-python",
   "name": "python",
   "nbconvert_exporter": "python",
   "pygments_lexer": "ipython3",
   "version": "3.8.8"
  },
  "metadata": {
   "interpreter": {
    "hash": "1eceddbeeb55f686303d64ef8e05e300429be7c506c9f9cad24a6dfe5f27b555"
   }
  },
  "orig_nbformat": 3
 },
 "nbformat": 4,
 "nbformat_minor": 2
}
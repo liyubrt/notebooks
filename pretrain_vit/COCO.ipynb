{
 "cells": [
  {
   "cell_type": "code",
   "execution_count": 1,
   "metadata": {},
   "outputs": [],
   "source": [
    "import os\n",
    "import sys\n",
    "import ast\n",
    "import cv2\n",
    "import json\n",
    "import math\n",
    "import shutil\n",
    "import random\n",
    "import pickle\n",
    "import imageio\n",
    "import numpy as np\n",
    "import pandas as pd\n",
    "from collections import defaultdict\n",
    "from tqdm import tqdm\n",
    "from pprint import pprint\n",
    "from pandarallel import pandarallel\n",
    "import matplotlib.pyplot as plt\n",
    "sys.path.append('../')\n",
    "from utils import normalize_image, plot_image, plot_images"
   ]
  },
  {
   "cell_type": "code",
   "execution_count": 2,
   "metadata": {},
   "outputs": [],
   "source": [
    "root_dir = '/data2/jupiter/datasets/coco-2017'"
   ]
  }
 ],
 "metadata": {
  "kernelspec": {
   "display_name": "Python 3.9.18 64-bit ('brtdevkit': conda)",
   "language": "python",
   "name": "python3918jvsc74a57bd0c8cced58dbff2798e473c5ca6eca1100bfa72eead58bcdfb1b17e02c86ac111a"
  },
  "language_info": {
   "codemirror_mode": {
    "name": "ipython",
    "version": 3
   },
   "file_extension": ".py",
   "mimetype": "text/x-python",
   "name": "python",
   "nbconvert_exporter": "python",
   "pygments_lexer": "ipython3",
   "version": "3.9.18"
  },
  "metadata": {
   "interpreter": {
    "hash": "1eceddbeeb55f686303d64ef8e05e300429be7c506c9f9cad24a6dfe5f27b555"
   }
  }
 },
 "nbformat": 4,
 "nbformat_minor": 4
}
